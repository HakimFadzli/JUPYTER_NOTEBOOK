{
 "cells": [
  {
   "cell_type": "markdown",
   "metadata": {},
   "source": [
    "<h1>16 - Python If ... Else</h1>\n",
    "\n",
    "<hr>\n",
    "\n",
    "<h2>Python Conditions and If statements</h2>\n",
    "<p>Python supports the usual logical conditions from mathematics:</p>\n",
    "<ul>\n",
    "<li>Equals: <span class=\"w3-codespan\">a == b</span></li>\n",
    "<li>Not Equals: <span class=\"w3-codespan\">a != b</span></li>\n",
    "<li>Less than: <span class=\"w3-codespan\">a &lt; b</span></li>\n",
    "<li>Less than or equal to: <span class=\"w3-codespan\">a &lt;= b</span></li>\n",
    "<li>Greater than: <span class=\"w3-codespan\">a &gt; b</span></li>\n",
    "<li>Greater than or equal to: <span class=\"w3-codespan\">a &gt;= b</span></li>\n",
    "</ul>\n",
    "<p>These conditions can be used in several ways, most commonly in \"if statements\" and loops.</p>\n",
    "\n",
    "<p>An \"if statement\" is written by using the <span class=\"w3-codespan\">if</span> keyword.</p>\n",
    "\n",
    "\n",
    "<h3>Example</h3>\n",
    "<p>If statement:</p>\n",
    "<div class=\"w3-code notranslate pythonHigh\">\n",
    "a = 33<br>\n",
    "b = 200<br>\n",
    "if b &gt; a:<br>&nbsp; print(\"b is greater than a\")\n",
    "</div>"
   ]
  },
  {
   "cell_type": "code",
   "execution_count": 46,
   "metadata": {},
   "outputs": [],
   "source": [
    "a = 3300\n",
    "b = 200\n",
    "if b > a:\n",
    "    print(\"b is greater than a\")\n",
    "    print(\"this will always be printed\")"
   ]
  },
  {
   "cell_type": "markdown",
   "metadata": {},
   "source": [
    "<p>In this example we use two variables, <span class=\"w3-codespan\">a</span> and <span class=\"w3-codespan\">b</span>,\n",
    "which are used as part of the if statement to test whether <span class=\"w3-codespan\">b</span> is greater than <span class=\"w3-codespan\">a</span>.\n",
    "As <span class=\"w3-codespan\">a</span> is <span class=\"w3-codespan\">33</span>, and <span class=\"w3-codespan\">b</span> is <span class=\"w3-codespan\">200</span>,\n",
    "we know that 200 is greater than 33, and so we print to screen that \"b is greater than a\".</p>\n",
    "\n",
    "<h2>Indentation</h2>\n",
    "\n",
    "<p>Python relies on indentation (whitespace at the beginning of a line) to define scope in the code. Other programming languages often use curly-brackets for this purpose.\n",
    "\n",
    "<div class=\"w3-example w3-pale-red\">\n",
    "<h3>Example</h3>\n",
    "<p>If statement, without indentation (will raise an error):</p>\n",
    "<div class=\"w3-code notranslate pythonHigh w3-border-red\">\n",
    "a = 33<br>\n",
    "b = 200<br>\n",
    "if b > a:<br>\n",
    "print(\"b is greater than a\")\n",
    "# you will get an error\n",
    "</div>"
   ]
  },
  {
   "cell_type": "code",
   "execution_count": 48,
   "metadata": {},
   "outputs": [
    {
     "name": "stdout",
     "output_type": "stream",
     "text": [
      "b is greater than a\n"
     ]
    }
   ],
   "source": [
    "a = 33\n",
    "b = 200\n",
    "if b > a:\n",
    "    print(\"b is greater than a\") # you will get an error"
   ]
  },
  {
   "cell_type": "markdown",
   "metadata": {},
   "source": [
    "<hr>\n",
    "<h2>Elif</h2>\n",
    "<p>The <span class=\"w3-codespan\">elif</span> keyword is pythons way of saying \"if the previous conditions were not true, then \n",
    "try this condition\".</p>\n",
    "\n",
    "\n",
    "<h3>Example</h3>\n",
    "<div class=\"w3-code notranslate pythonHigh\">\n",
    "a = 33<br>\n",
    "b = 33<br>\n",
    "if b > a:<br>\n",
    "\t&nbsp;\n",
    "\tprint(\"b is greater than a\")<br>\n",
    "elif a == b:<br>\n",
    "\t&nbsp;\n",
    "\tprint(\"a and b are equal\")<br>\n",
    "</div>"
   ]
  },
  {
   "cell_type": "code",
   "execution_count": 53,
   "metadata": {},
   "outputs": [
    {
     "name": "stdout",
     "output_type": "stream",
     "text": [
      "a is greater than b\n"
     ]
    }
   ],
   "source": [
    "a = 35\n",
    "b = 33\n",
    "if b == a:\n",
    "  print(\"b is equal to a\")\n",
    "if a >= b:\n",
    "  print(\"a is greater than b\")"
   ]
  },
  {
   "cell_type": "markdown",
   "metadata": {},
   "source": [
    "<p>In this example <span class=\"w3-codespan\">a</span> is equal to <span class=\"w3-codespan\">b</span>, so the first condition is not true, but the <span class=\"w3-codespan\">elif</span> condition is true, so we print to screen that \"a and b are equal\".</p>\n",
    "<hr>\n",
    "<h2>Else</h2>\n",
    "<p>The <span class=\"w3-codespan\">else</span> keyword catches anything which isn't caught by the preceding conditions.</p>\n",
    "\n",
    "\n",
    "<h3>Example</h3>\n",
    "<div class=\"w3-code notranslate pythonHigh\">\n",
    "a = 200<br>\n",
    "b = 33<br>\n",
    "if b > a:<br>\n",
    "\t&nbsp;\n",
    "\tprint(\"b is greater than a\")<br>\n",
    "elif a == b:<br>\n",
    "\t&nbsp;\n",
    "\tprint(\"a and b are equal\")<br>\n",
    "  else:<br>\n",
    "\t&nbsp;\n",
    "\tprint(\"a is greater than b\")<br>\n",
    "</div>"
   ]
  },
  {
   "cell_type": "code",
   "execution_count": 57,
   "metadata": {},
   "outputs": [
    {
     "name": "stdout",
     "output_type": "stream",
     "text": [
      "a is greater than b\n"
     ]
    }
   ],
   "source": [
    "a = 2000\n",
    "b = 200\n",
    "if b > a:\n",
    "  print(\"b is greater than a\")\n",
    "elif a == b:\n",
    "  print(\"a and b are equal\")\n",
    "else:\n",
    "  print(\"a is greater than b\")"
   ]
  },
  {
   "cell_type": "markdown",
   "metadata": {},
   "source": [
    "<p>In this example <span class=\"w3-codespan\">a</span> is greater than <span class=\"w3-codespan\">b</span>,\n",
    "so the first condition is not true, also the <span class=\"w3-codespan\">elif</span> condition is not true,\n",
    "so we go to the <span class=\"w3-codespan\">else</span> condition and print to screen that \"a is greater than b\".</p>\n",
    "\n",
    "<p>You can also have an <code class=\"w3-codespan\">else</code> without the\n",
    "<code class=\"w3-codespan\">elif</code>:</p>\n",
    "\n",
    "\n",
    "<h3>Example</h3>\n",
    "<div class=\"w3-code notranslate pythonHigh\">\n",
    "a = 200<br>\n",
    "b = 33<br>\n",
    "if b > a:<br>\n",
    "\t&nbsp;\n",
    "\tprint(\"b is greater than a\")<br>\n",
    "  else:<br>\n",
    "\t&nbsp;\n",
    "\tprint(\"b is not greater than a\")<br>\n",
    "</div>"
   ]
  },
  {
   "cell_type": "code",
   "execution_count": 58,
   "metadata": {},
   "outputs": [
    {
     "name": "stdout",
     "output_type": "stream",
     "text": [
      "b is not greater than a\n"
     ]
    }
   ],
   "source": [
    "a = 200\n",
    "b = 33\n",
    "if b > a:\n",
    "  print(\"b is greater than a\")\n",
    "else:\n",
    "  print(\"b is not greater than a\")"
   ]
  },
  {
   "cell_type": "markdown",
   "metadata": {},
   "source": [
    "<hr>\n",
    "<h2>Short Hand If</h2>\n",
    "\n",
    "<p>If you have only one statement to execute, you can put it on the same line as the if statement.</p>\n",
    "\n",
    "\n",
    "<h3>Example</h3>\n",
    "<p>One line if statement:</p>\n",
    "<div class=\"w3-code notranslate pythonHigh\">\n",
    "  if a &gt; b: print(&quot;a is greater than b&quot;)\n",
    "</div>"
   ]
  },
  {
   "cell_type": "code",
   "execution_count": 59,
   "metadata": {},
   "outputs": [
    {
     "name": "stdout",
     "output_type": "stream",
     "text": [
      "a is greater than b\n"
     ]
    }
   ],
   "source": [
    "if a > b: print(\"a is greater than b\")"
   ]
  },
  {
   "cell_type": "markdown",
   "metadata": {},
   "source": [
    "<hr>\n",
    "\n",
    "<h2>Short Hand If ... Else</h2>\n",
    "\n",
    "<p>If you have only one statement to execute, one for if, and one for else, you can put it \n",
    "all on the same line:</p>\n",
    "\n",
    "\n",
    "<h3>Example</h3>\n",
    "<p>One line if else statement:</p>\n",
    "<div class=\"w3-code notranslate pythonHigh\">\n",
    "  a = 2<br>b = 330<br>print(&quot;A&quot;) if a &gt; b else print(&quot;B&quot;)</div>"
   ]
  },
  {
   "cell_type": "code",
   "execution_count": 61,
   "metadata": {},
   "outputs": [
    {
     "name": "stdout",
     "output_type": "stream",
     "text": [
      "B\n"
     ]
    }
   ],
   "source": [
    "a = 400\n",
    "b = 444\n",
    "print(\"A\") if a > b else print(\"B\")"
   ]
  },
  {
   "cell_type": "markdown",
   "metadata": {},
   "source": [
    "<div class=\"w3-panel w3-note\">\n",
    "  <p>This technique is known as <strong>Ternary Operators</strong>, or <strong>Conditional \n",
    "  Expressions</strong>.</p>\n",
    "</div>\n",
    "\n",
    "\n",
    "<p>You can also have multiple else statements on the same line:</p>\n",
    "\n",
    "\n",
    "<h3>Example</h3>\n",
    "<p>One line if else statement, with 3 conditions:</p>\n",
    "<div class=\"w3-code notranslate pythonHigh\">\n",
    "  a = 330<br>b = 330<br>print(&quot;A&quot;) if a &gt; b else print(&quot;=&quot;) if a == b else print(&quot;B&quot;)</div>"
   ]
  },
  {
   "cell_type": "code",
   "execution_count": 64,
   "metadata": {},
   "outputs": [
    {
     "name": "stdout",
     "output_type": "stream",
     "text": [
      "A\n"
     ]
    }
   ],
   "source": [
    "a = 33\n",
    "b = 3\n",
    "print(\"A\") if a > b else print(\"=\") if a == b else print(\"B\")"
   ]
  },
  {
   "cell_type": "markdown",
   "metadata": {},
   "source": [
    "<hr>\n",
    "\n",
    "<h2>And</h2>\n",
    "<p>The <span class=\"w3-codespan\">and</span> keyword is a logical operator, and \n",
    "is used to combine conditional statements:</p>\n",
    "\n",
    "\n",
    "<h3>Example</h3>\n",
    "  <p>Test if <code class=\"w3-codespan\">a</code> is greater than\n",
    "  <code class=\"w3-codespan\">b</code>, AND if <code class=\"w3-codespan\">c</code> \n",
    "  is greater than <code class=\"w3-codespan\">a</code>:</p>\n",
    "<div class=\"w3-code notranslate pythonHigh\">\n",
    "  a = 200<br>b = 33<br>c = 500<br>if a > b and c &gt; a:<br>\n",
    "\t&nbsp;\n",
    "\tprint(\"Both conditions are True\")<br>\n",
    "</div>"
   ]
  },
  {
   "cell_type": "code",
   "execution_count": 66,
   "metadata": {},
   "outputs": [
    {
     "name": "stdout",
     "output_type": "stream",
     "text": [
      "Both conditions are True\n"
     ]
    }
   ],
   "source": [
    "a = 200\n",
    "b = 33\n",
    "c = 400\n",
    "if a > b and c > a:\n",
    "    print(\"Both conditions are True\")"
   ]
  },
  {
   "cell_type": "markdown",
   "metadata": {},
   "source": [
    "<hr>\n",
    "\n",
    "<h2>Or</h2>\n",
    "<p>The <code class=\"w3-codespan\">or</code> keyword is a logical operator, and \n",
    "is used to combine conditional statements:</p>\n",
    "\n",
    "\n",
    "<h3>Example</h3>\n",
    "  <p>Test if <code class=\"w3-codespan\">a</code> is greater than\n",
    "  <code class=\"w3-codespan\">b</code>, OR if <code class=\"w3-codespan\">a</code> \n",
    "  is greater than <code class=\"w3-codespan\">c</code>:</p>\n",
    "<div class=\"w3-code notranslate pythonHigh\">\n",
    "  a = 200<br>b = 33<br>c = 500<br>if a > b or a &gt; c:<br>\n",
    "\t&nbsp;\n",
    "\tprint(\"At least one of the conditions is True\")<br>\n",
    "</div>"
   ]
  },
  {
   "cell_type": "code",
   "execution_count": 69,
   "metadata": {},
   "outputs": [
    {
     "name": "stdout",
     "output_type": "stream",
     "text": [
      "At least one of the conditions is True\n"
     ]
    }
   ],
   "source": [
    "a = 500\n",
    "b = 33\n",
    "c = 100\n",
    "if a > b or a > c:\n",
    "    print(\"At least one of the conditions is True\")"
   ]
  },
  {
   "cell_type": "markdown",
   "metadata": {},
   "source": [
    "<hr>\n",
    "\n",
    "<h2>Nested If</h2>\n",
    "<p>You can have <code class=\"w3-codespan\">if</code> statements inside \n",
    "<code class=\"w3-codespan\">if</code> statements, this is called <em>nested</em>\n",
    "<code class=\"w3-codespan\">if</code> statements.</p>\n",
    "\n",
    "\n",
    "<h3>Example</h3>\n",
    "<div class=\"w3-code notranslate pythonHigh\">\n",
    "  x = 41<br><br>if x > 10:<br>\n",
    "\t&nbsp;\n",
    "\tprint(\"Above ten,\")<br>&nbsp; if x &gt; 20:<br>&nbsp;&nbsp;&nbsp; print(&quot;and \n",
    "  also above 20!&quot;)<br>&nbsp; else:<br>&nbsp;&nbsp;&nbsp; print(&quot;but not \n",
    "  above 20.&quot;)</div>"
   ]
  },
  {
   "cell_type": "code",
   "execution_count": 72,
   "metadata": {},
   "outputs": [],
   "source": [
    "x = 8\n",
    "if x > 10:\n",
    "    print(\"Above ten,\")\n",
    "    if x > 20:\n",
    "        print(\"and also above 20!\")\n",
    "    else:\n",
    "        print(\"but not above 20.\")"
   ]
  },
  {
   "cell_type": "markdown",
   "metadata": {},
   "source": [
    "<h2>The pass Statement</h2>\n",
    "<p><code class=\"w3-codespan\">if</code> statements cannot be empty, but if you \n",
    "for some reason have an <code class=\"w3-codespan\">if</code> statement with no content, put in the <code class=\"w3-codespan\">pass</code> statement to avoid getting an error.</p>\n",
    "\n",
    "\n",
    "<h3>Example</h3>\n",
    "<div class=\"w3-code notranslate pythonHigh\">\n",
    "  a = 33<br>b = 200<br><br>if b &gt; a:<br>&nbsp; pass</div>"
   ]
  },
  {
   "cell_type": "code",
   "execution_count": 73,
   "metadata": {},
   "outputs": [],
   "source": [
    "if b > a:\n",
    "    print(\"b is greater than a\")\n",
    "else:\n",
    "    pass"
   ]
  },
  {
   "cell_type": "markdown",
   "metadata": {},
   "source": [
    "<hr>\n",
    "\n",
    "<h2>Test Yourself With Exercises</h2>\n",
    "\n",
    "<h2>Exercise:</h2>\n",
    "<p>Print \"Hello World if <code class=\"w3-codespan\">a</code> is greater than <code class=\"w3-codespan\">b</code>.</p>\n",
    "<div class=\"exerciseprecontainer\">\n",
    "<pre>\n",
    "a = 50\n",
    "b = 10\n",
    "<input name=\"ex1\" maxlength=\"2\" style=\"width: 22px;\"> a <input name=\"ex2\" maxlength=\"1\" style=\"width: 11px;\"> b<input name=\"ex3\" maxlength=\"1\" style=\"width: 11px;\">\n",
    "  print(\"Hello World\")\n",
    "</pre>\n",
    "</div>\n",
    "\n"
   ]
  },
  {
   "cell_type": "code",
   "execution_count": 74,
   "metadata": {},
   "outputs": [
    {
     "name": "stdout",
     "output_type": "stream",
     "text": [
      "Hello World\n"
     ]
    }
   ],
   "source": [
    "a = 50\n",
    "b = 10\n",
    "if a >b:\n",
    "     print(\"Hello World\")"
   ]
  },
  {
   "cell_type": "code",
   "execution_count": null,
   "metadata": {},
   "outputs": [],
   "source": []
  }
 ],
 "metadata": {
  "kernelspec": {
   "display_name": "Python 3 (ipykernel)",
   "language": "python",
   "name": "python3"
  },
  "language_info": {
   "codemirror_mode": {
    "name": "ipython",
    "version": 3
   },
   "file_extension": ".py",
   "mimetype": "text/x-python",
   "name": "python",
   "nbconvert_exporter": "python",
   "pygments_lexer": "ipython3",
   "version": "3.7.11"
  }
 },
 "nbformat": 4,
 "nbformat_minor": 2
}
