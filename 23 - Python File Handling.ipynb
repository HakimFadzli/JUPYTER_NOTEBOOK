{
 "cells": [
  {
   "cell_type": "markdown",
   "metadata": {},
   "source": [
    "<h1>23 - Python File Handling</span></h1>\n",
    "<hr>\n",
    "\n",
    "<p class=\"intro\">File handling is an important part of any web application.</p>\n",
    "<p class=\"intro\">Python has several functions for creating, reading, updating, and \n",
    "deleting files.</p>\n",
    "<hr>\n",
    "<h2>File Handling</h2>\n",
    "<p>The key function for working with files in Python is the\n",
    "<code class=\"w3-codespan\">open()</code> function.</p>\n",
    "<p>The <code class=\"w3-codespan\">open()</code> function takes two parameters;\n",
    "<em>filename</em>, and <em>mode</em>.</p>\n",
    "<p>There are four different methods (modes) for opening a file:</p>\n",
    "\n",
    "<div class=\"w3-example\">\n",
    "<p><code class=\"w3-codespan\">\"r&quot;</code> - Read - Default value. Opens a \n",
    "file for reading, error if the file does not exist</p>\n",
    "<p><code class=\"w3-codespan\">\"a\"</code> - Append - Opens a file for \n",
    "appending, creates the file if it does not exist</p>\n",
    "<p><code class=\"w3-codespan\">\"w\"</code> - Write - Opens a file for writing, \n",
    "creates the file if it does not exist</p>\n",
    "<p><code class=\"w3-codespan\">\"x&quot;</code> - Create - Creates the specified file, returns \n",
    "an error if the file exists</p>\n",
    "</div>\n",
    "\n",
    "<p>In addition you can specify if the file should be handled as binary or text mode</p>\n",
    "\n",
    "<div class=\"w3-example\">\n",
    "  <p><code class=\"w3-codespan\">\"t&quot;</code> - Text - Default value. Text mode</p>\n",
    "  <p><code class=\"w3-codespan\">\"b&quot;</code> - Binary - Binary mode (e.g. \n",
    "  images)</p>\n",
    "</div>\n",
    "\n",
    "<hr>\n",
    "\n",
    "<h2>Syntax</h2>\n",
    "\n",
    "<p>To open a file for reading it is enough to specify the name of the file:</p>\n",
    "\n",
    "<div class=\"w3-example\">\n",
    "<div class=\"w3-code notranslate pythonHigh\">\n",
    "f = open(&quot;demofile.txt&quot;)\n",
    "</div>\n",
    "</div>\n",
    "\n",
    "<p>The code above is the same as:</p>\n",
    "\n",
    "<div class=\"w3-example\">\n",
    "<div class=\"w3-code notranslate pythonHigh\">\n",
    "f = open(&quot;demofile.txt&quot;, \"rt\")\n",
    "</div>\n",
    "</div>\n",
    "\n",
    "<p>Because <code class=\"w3-codespan\">\"r\"</code> for read, and \n",
    "<code class=\"w3-codespan\">\"t\"</code> for text are the default values, you do not need to specify them.</p>\n",
    "\n",
    "<div class=\"w3-panel w3-note\">\n",
    "  <p><strong>Note:</strong> Make sure the file exists, or else you will get an error.</p>\n",
    "</div>\n",
    "\n"
   ]
  },
  {
   "cell_type": "code",
   "execution_count": 1,
   "metadata": {},
   "outputs": [],
   "source": [
    "f = open(\"demofile.txt\")"
   ]
  },
  {
   "cell_type": "markdown",
   "metadata": {},
   "source": [
    "<h1>Reading Files</h1>\n",
    "\n",
    "<hr>\n",
    "\n",
    "<h2>Open a File on the Server</h2>\n",
    "\n",
    "<p>Assume we have the following file, located in the same folder as Python:</p>\n",
    "\n",
    "<div class=\"w3-example\">\n",
    "<p>demofile.txt</p>\n",
    "<div class=\"w3-code notranslate\">\n",
    "  Hello! Welcome to demofile.txt<br>This file is for testing purposes.<br>Good \n",
    "  Luck!</div>\n",
    "</div>\n",
    "\n",
    "<p>To open the file, use the built-in <code class=\"w3-codespan\">open()</code> function.</p>\n",
    "<p>The <code class=\"w3-codespan\">open()</code> function returns a file object, which has a \n",
    "<code class=\"w3-codespan\">read()</code> method for reading the content of the file:</p>\n",
    "\n",
    "<div class=\"w3-example\">\n",
    "<h3>Example</h3>\n",
    "<div class=\"w3-code notranslate pythonHigh\">\n",
    "  f = open(&quot;demofile.txt&quot;, &quot;r&quot;)<br>print(f.read())</div>\n",
    "</div>\n",
    "\n",
    "<p>If the file is located in a different location, you will have to specify the file path, \n",
    "like this:</p>"
   ]
  },
  {
   "cell_type": "code",
   "execution_count": 3,
   "metadata": {},
   "outputs": [
    {
     "name": "stdout",
     "output_type": "stream",
     "text": [
      "original content of demofile\n",
      "\n"
     ]
    }
   ],
   "source": [
    "f = open(\"demofile.txt\", \"r\")\n",
    "print(f.read())"
   ]
  },
  {
   "cell_type": "markdown",
   "metadata": {},
   "source": [
    "<p>Python has a set of methods available for the file object.</p>\n",
    "\n",
    "<table align=\"left\">\n",
    "<tr>\n",
    "<th>Method</th>\n",
    "<th>Description</th>\n",
    "</tr>\n",
    "  <tr>\n",
    "    <td><a href=\"ref_file_close.asp\">close()</a></td><td>Closes the file</td>\n",
    "  </tr>\n",
    "  <tr>\n",
    "    <td>detach()</td><td>Returns the separated \n",
    "    raw stream from the buffer</td>\n",
    "  </tr>\n",
    "  <tr>\n",
    "    <td><a href=\"ref_file_fileno.asp\">fileno()</a></td><td>Returns a number that \n",
    "    represents the stream, from the operating system's perspective</td>\n",
    "  </tr>\n",
    "  <tr>\n",
    "    <td><a href=\"ref_file_flush.asp\">flush()</a></td><td>Flushes the internal \n",
    "    buffer</td>\n",
    "  </tr>\n",
    "  <tr>\n",
    "    <td><a href=\"ref_file_isatty.asp\">isatty()</a></td><td>Returns whether the \n",
    "    file stream is interactive or not</td>\n",
    "  </tr>\n",
    "  <tr>\n",
    "    <td><a href=\"ref_file_read.asp\">read()</a></td><td>Returns the file content</td>\n",
    "  </tr>\n",
    "  <tr>\n",
    "    <td><a href=\"ref_file_readable.asp\">readable()</a></td><td>Returns whether \n",
    "    the file stream can be read or not</td>\n",
    "  </tr>\n",
    "  <tr>\n",
    "    <td><a href=\"ref_file_readline.asp\">readline()</a></td><td>Returns one line \n",
    "    from the file</td>\n",
    "  </tr>\n",
    "  <tr>\n",
    "    <td><a href=\"ref_file_readlines.asp\">readlines()</a></td><td>Returns a list \n",
    "    of lines from the file</td>\n",
    "  </tr>\n",
    "  <tr>\n",
    "    <td><a href=\"ref_file_seek.asp\">seek()</a></td><td>Change the file position</td>\n",
    "  </tr>\n",
    "  <tr>\n",
    "    <td><a href=\"ref_file_seekable.asp\">seekable()</a></td><td>Returns whether \n",
    "    the file allows us to change the file position</td>\n",
    "  </tr>\n",
    "  <tr>\n",
    "    <td><a href=\"ref_file_tell.asp\">tell()</a></td><td>Returns the current file \n",
    "    position</td>\n",
    "  </tr>\n",
    "  <tr>\n",
    "    <td><a href=\"ref_file_truncate.asp\">truncate()</a></td><td>Resizes the file \n",
    "    to a specified size</td>\n",
    "  </tr>\n",
    "  <tr>\n",
    "    <td><a href=\"ref_file_writable.asp\">writable()</a></td><td>Returns whether \n",
    "    the file can be written to or not</td>\n",
    "  </tr>\n",
    "  <tr>\n",
    "    <td><a href=\"ref_file_write.asp\">write()</a></td><td>Writes the specified \n",
    "    string to the file</td>\n",
    "  </tr>\n",
    "  <tr>\n",
    "    <td><a href=\"ref_file_writelines.asp\">writelines()</a></td><td>Writes a list \n",
    "    of strings to the file</td>\n",
    "  </tr>\n",
    "</table>"
   ]
  },
  {
   "cell_type": "markdown",
   "metadata": {},
   "source": [
    "<div class=\"w3-example\">\n",
    "<h3>Example</h3>\n",
    "  <p>Open a file on a different location:</p>\n",
    "<div class=\"w3-code notranslate pythonHigh\">\n",
    "  f = open(&quot;D:\\\\myfiles\\welcome.txt&quot;, &quot;r&quot;)<br>print(f.read())</div>\n",
    "</div>"
   ]
  },
  {
   "cell_type": "code",
   "execution_count": 4,
   "metadata": {},
   "outputs": [
    {
     "name": "stdout",
     "output_type": "stream",
     "text": [
      "Hello! Welcome to demofile.txt\n",
      "This file is for testing purposes.\n",
      "Good Luck!\n"
     ]
    }
   ],
   "source": [
    "x = open(\"C:\\\\test\\demofile.txt\", \"r\")\n",
    "print(x.read())"
   ]
  },
  {
   "cell_type": "markdown",
   "metadata": {},
   "source": [
    "<h2>Read Only Parts of the File</h2>\n",
    "\n",
    "<p>By default the <code class=\"w3-codespan\">read()</code> method returns the whole text, but you can also specify how many characters you want to return:</p>\n",
    "\n",
    "<div class=\"w3-example\">\n",
    "<h3>Example</h3>\n",
    "<p>Return the 5 first characters of the file:</p>\n",
    "<div class=\"w3-code notranslate pythonHigh\">\n",
    "  f = open(&quot;demofile.txt&quot;, &quot;r&quot;)<br>print(f.read(<strong>5</strong>))</div>\n",
    "</div>"
   ]
  },
  {
   "cell_type": "code",
   "execution_count": 5,
   "metadata": {},
   "outputs": [
    {
     "name": "stdout",
     "output_type": "stream",
     "text": [
      "origi\n"
     ]
    }
   ],
   "source": [
    "f = open(\"demofile.txt\", \"r\")\n",
    "print(f.read(5))"
   ]
  },
  {
   "cell_type": "markdown",
   "metadata": {},
   "source": [
    "<h2>Read Lines</h2>\n",
    "\n",
    "\n",
    "<p>You can return one line by using the <code class=\"w3-codespan\">readline()</code> method:</p>\n",
    "\n",
    "<div class=\"w3-example\">\n",
    "<h3>Example</h3>\n",
    "<p>Read one line of the file:</p>\n",
    "<div class=\"w3-code notranslate pythonHigh\">\n",
    "  f = open(&quot;demofile.txt&quot;, &quot;r&quot;)<br>print(f.readline())</div>\n",
    "</div>\n"
   ]
  },
  {
   "cell_type": "code",
   "execution_count": 27,
   "metadata": {},
   "outputs": [
    {
     "name": "stdout",
     "output_type": "stream",
     "text": [
      "Hello! Welcome to demofile.txt\n",
      "\n",
      "This file is for testing purposes.\n",
      "\n",
      "Good Luck!\n"
     ]
    }
   ],
   "source": [
    "x = open(\"C:\\\\test\\demofile.txt\", \"r\")\n",
    "for y in x:\n",
    "    print(y)\n"
   ]
  },
  {
   "cell_type": "code",
   "execution_count": 15,
   "metadata": {},
   "outputs": [
    {
     "name": "stdout",
     "output_type": "stream",
     "text": [
      "[{'text': '23311,Nurul Arifin,Female,1.63,45', 'bmi': 16.937031879257784}, {'text': '23390,Farid Ridzuan,Male,1.68,51', 'bmi': 18.069727891156464}, {'text': '23317,Hassan Ismail,Male,1.71,72', 'bmi': 24.622960911049557}, {'text': '23377,Kamilia Kamran,Female,1.52,57', 'bmi': 24.67105263157895}, {'text': '23345,Ahmad  Abu,Male,1.68,84', 'bmi': 29.761904761904766}]\n",
      "\n",
      "{'text': '23311,Nurul Arifin,Female,1.63,45', 'bmi': 16.937031879257784}\n",
      "{'text': '23390,Farid Ridzuan,Male,1.68,51', 'bmi': 18.069727891156464}\n",
      "{'text': '23317,Hassan Ismail,Male,1.71,72', 'bmi': 24.622960911049557}\n",
      "{'text': '23377,Kamilia Kamran,Female,1.52,57', 'bmi': 24.67105263157895}\n",
      "{'text': '23345,Ahmad  Abu,Male,1.68,84', 'bmi': 29.761904761904766}\n"
     ]
    }
   ],
   "source": [
    "\n",
    "f = open(\"a-student.csv\", \"r\")\n",
    "list_new = []\n",
    "for x in f:\n",
    "    if list_new is []:\n",
    "        string_read = f.readline()    \n",
    "        list_new.append(string_read)\n",
    "        continue\n",
    "    string_read = f.readline()\n",
    "    split_s = string_read.split(\",\")\n",
    "    BMI = float(split_s[4])/float(split_s[3])**2\n",
    "    #tring_read+=\",\"+str(BMI)\n",
    "    string_read=string_read.replace(\"\\n\",\"\")\n",
    "    list_new.append({\"text\":string_read,\"bmi\":BMI})\n",
    "    \n",
    "def get_bmi(student):\n",
    "    return student.get('bmi')\n",
    "\n",
    "# sort by name (Ascending order)\n",
    "list_new.sort(key=get_bmi)\n",
    "print(list_new, end='\\n\\n')\n",
    "\n",
    "for y in list_new:\n",
    "    print (y)\n",
    "    \n"
   ]
  },
  {
   "cell_type": "code",
   "execution_count": 17,
   "metadata": {},
   "outputs": [
    {
     "name": "stdout",
     "output_type": "stream",
     "text": [
      "{'Name': 'Alan Turing', 'age': 25, 'salary': 10000}\n",
      "{'Name': 'Sharon Lin', 'age': 30, 'salary': 8000}\n",
      "{'Name': 'John Hopkins', 'age': 18, 'salary': 1000}\n",
      "{'Name': 'Mikhail Tal', 'age': 40, 'salary': 15000}\n",
      "[{'Name': 'Alan Turing', 'age': 25, 'salary': 10000}, {'Name': 'John Hopkins', 'age': 18, 'salary': 1000}, {'Name': 'Mikhail Tal', 'age': 40, 'salary': 15000}, {'Name': 'Sharon Lin', 'age': 30, 'salary': 8000}]\n",
      "\n",
      "[{'Name': 'John Hopkins', 'age': 18, 'salary': 1000}, {'Name': 'Alan Turing', 'age': 25, 'salary': 10000}, {'Name': 'Sharon Lin', 'age': 30, 'salary': 8000}, {'Name': 'Mikhail Tal', 'age': 40, 'salary': 15000}]\n",
      "\n",
      "[{'Name': 'Mikhail Tal', 'age': 40, 'salary': 15000}, {'Name': 'Alan Turing', 'age': 25, 'salary': 10000}, {'Name': 'Sharon Lin', 'age': 30, 'salary': 8000}, {'Name': 'John Hopkins', 'age': 18, 'salary': 1000}]\n",
      "\n"
     ]
    }
   ],
   "source": [
    "# sorting using custom key\n",
    "employees = [\n",
    "    {'Name': 'Alan Turing', 'age': 25, 'salary': 10000},\n",
    "    {'Name': 'Sharon Lin', 'age': 30, 'salary': 8000},\n",
    "    {'Name': 'John Hopkins', 'age': 18, 'salary': 1000},\n",
    "    {'Name': 'Mikhail Tal', 'age': 40, 'salary': 15000},\n",
    "]\n",
    "for m in employees:\n",
    "    print(m)\n",
    "\n",
    "# custom functions to get employee info\n",
    "def get_name(employee):\n",
    "    return employee.get('Name')\n",
    "\n",
    "\n",
    "def get_age(employee):\n",
    "    return employee.get('age')\n",
    "\n",
    "\n",
    "def get_salary(employee):\n",
    "    return employee.get('salary')\n",
    "\n",
    "\n",
    "# sort by name (Ascending order)\n",
    "employees.sort(key=get_name)\n",
    "print(employees, end='\\n\\n')\n",
    "\n",
    "# sort by Age (Ascending order)\n",
    "employees.sort(key=get_age)\n",
    "print(employees, end='\\n\\n')\n",
    "\n",
    "# sort by salary (Descending order)\n",
    "employees.sort(key=get_salary, reverse=True)\n",
    "print(employees, end='\\n\\n')"
   ]
  },
  {
   "cell_type": "markdown",
   "metadata": {},
   "source": [
    "<p>By calling <code class=\"w3-codespan\">readline()</code> two times, you can read the \n",
    "two first lines:</p>\n",
    "\n",
    "<div class=\"w3-example\">\n",
    "<h3>Example</h3>\n",
    "<p>Read two lines of the file:</p>\n",
    "<div class=\"w3-code notranslate pythonHigh\">\n",
    "  f = open(&quot;demofile.txt&quot;, &quot;r&quot;)<br>print(f.readline())<br>print(f.readline())</div>\n",
    "</div>\n",
    "\n"
   ]
  },
  {
   "cell_type": "code",
   "execution_count": 18,
   "metadata": {},
   "outputs": [
    {
     "name": "stdout",
     "output_type": "stream",
     "text": [
      "original content of demofile\n",
      "\n"
     ]
    }
   ],
   "source": [
    "f = open(\"demofile.txt\", \"r\")\n",
    "print(f.readline())\n"
   ]
  },
  {
   "cell_type": "markdown",
   "metadata": {},
   "source": [
    "<p>By looping through the lines of the file, you can read the whole file, line by line:</p>\n",
    "\n",
    "<div class=\"w3-example\">\n",
    "<h3>Example</h3>\n",
    "<p>Loop through the file line by line:</p>\n",
    "<div class=\"w3-code notranslate pythonHigh\">\n",
    "  f = open(&quot;demofile.txt&quot;, &quot;r&quot;)<br>for x in f:<br>&nbsp; print(x)</div>\n",
    "</div>"
   ]
  },
  {
   "cell_type": "code",
   "execution_count": 24,
   "metadata": {},
   "outputs": [
    {
     "name": "stdout",
     "output_type": "stream",
     "text": [
      "original content of demofile\n",
      "\n",
      "newline 1\n",
      "\n",
      "newline 2\n",
      "\n"
     ]
    }
   ],
   "source": [
    "f = open(\"demofile.txt\", \"r\")\n",
    "for x in f:\n",
    "  print(x)"
   ]
  },
  {
   "cell_type": "markdown",
   "metadata": {},
   "source": [
    "<h2>Close Files</h2>\n",
    "\n",
    "<p>It is a good practice to always close the file when you are done with it.</p>\n",
    "\n",
    "<div class=\"w3-example\">\n",
    "<h3>Example</h3>\n",
    "<p>Close the file when you are finish with it:</p>\n",
    "<div class=\"w3-code notranslate pythonHigh\">\n",
    "  f = open(&quot;demofile.txt&quot;, &quot;r&quot;)<br>print(f.readline())<br>\n",
    "  f.close()</div>\n",
    "</div>\n",
    "\n",
    "<div class=\"w3-panel w3-note\">\n",
    "  <p><strong>Note:</strong> You should always close your files, in some cases, due to buffering, changes made to a file may not show until you close the file.</p>\n",
    "</div>"
   ]
  },
  {
   "cell_type": "code",
   "execution_count": 28,
   "metadata": {},
   "outputs": [
    {
     "name": "stdout",
     "output_type": "stream",
     "text": [
      "original content of demofile\n",
      "\n"
     ]
    }
   ],
   "source": [
    "f = open(\"demofile.txt\", \"r\")\n",
    "print(f.readline())\n",
    "f.close()"
   ]
  },
  {
   "cell_type": "markdown",
   "metadata": {},
   "source": [
    "<h1>Python File Write</h1>\n",
    "<hr>\n",
    "<h2>Write to an Existing File</h2>\n",
    "\n",
    "<p>To write to an existing file, you must add a parameter to the\n",
    "<code class=\"w3-codespan\">open()</code> function:</p>\n",
    "<p><code class=\"w3-codespan\">\"a\"</code> - Append - will append to the end of the file</p>\n",
    "<p><code class=\"w3-codespan\">\"w\"</code> - Write - will overwrite any existing content</p>\n",
    "\n",
    "<div class=\"w3-example\">\n",
    "<h3>Example</h3>\n",
    "<p>Open the file \"demofile2.txt\" and append content to the file:</p>\n",
    "<div class=\"w3-code notranslate pythonHigh\">\n",
    "  f = open(&quot;demofile2.txt&quot;, &quot;a&quot;)<br>f.write(&quot;Now the file has more content!&quot;)<br>\n",
    "  f.close()<br><br>#open and read the file after the appending:<br>f = \n",
    "  open(&quot;demofile2.txt&quot;, &quot;r&quot;)<br>print(f.read())</div>\n",
    "</div>\n"
   ]
  },
  {
   "cell_type": "code",
   "execution_count": 34,
   "metadata": {
    "scrolled": true
   },
   "outputs": [
    {
     "name": "stdout",
     "output_type": "stream",
     "text": [
      "new line\n",
      "Now the file has more content! this new content\n"
     ]
    }
   ],
   "source": [
    "f = open(\"demofile.txt\", \"a\")\n",
    "f.write(\"\\nNow the file has more content! this new content\")\n",
    "f.close()\n",
    "\n",
    "#open and read the file after the appending:\n",
    "f = open(\"demofile.txt\", \"r\")\n",
    "print(f.read())"
   ]
  },
  {
   "cell_type": "markdown",
   "metadata": {},
   "source": [
    "\n",
    "<div class=\"w3-example\">\n",
    "<h3>Example</h3>\n",
    "<p>Open the file \"demofile3.txt\" and overwrite the content:</p>\n",
    "<div class=\"w3-code notranslate pythonHigh\">\n",
    "  f = open(&quot;demofile3.txt&quot;, &quot;w&quot;)<br>\n",
    "  f.write(&quot;Woops! I have deleted the content!&quot;)<br>f.close()<br><br>\n",
    "  #open and read the file after the appending:<br>f = open(&quot;demofile3.txt&quot;, &quot;r&quot;)<br>\n",
    "  print(f.read())</div>\n",
    "</div>\n",
    "\n",
    "<div class=\"w3-panel w3-note\">\n",
    "  <p><strong>Note:</strong> the \"w\" method will overwrite the entire file.</p>\n",
    "</div>\n",
    "\n"
   ]
  },
  {
   "cell_type": "code",
   "execution_count": 33,
   "metadata": {
    "scrolled": true
   },
   "outputs": [
    {
     "name": "stdout",
     "output_type": "stream",
     "text": [
      "new line\n"
     ]
    }
   ],
   "source": [
    "f = open(\"demofile.txt\", \"w\")\n",
    "f.write(\"new line\")\n",
    "f.close()\n",
    "\n",
    "#open and read the file after the appending:\n",
    "f = open(\"demofile.txt\", \"r\")\n",
    "print(f.read())"
   ]
  },
  {
   "cell_type": "markdown",
   "metadata": {},
   "source": [
    "<h2>Create a New File</h2>\n",
    "\n",
    "<p>To create a new file in Python, use the <code class=\"w3-codespan\">open()</code> method, \n",
    "with one of the following parameters:</p>\n",
    "<p><code class=\"w3-codespan\">\"x&quot;</code> - Create - will create a file, returns \n",
    "an error if the file exist</p>\n",
    "<p><code class=\"w3-codespan\">\"a\"</code> - Append - will create a file if the \n",
    "specified file does not exist</p>\n",
    "<p><code class=\"w3-codespan\">\"w\"</code> - Write - will create a file if the \n",
    "specified file does not exist</p>\n",
    "<div class=\"w3-example\">\n",
    "  <h3>Example</h3>\n",
    "<p>Create a file called \"myfile.txt\":</p>\n",
    "<div class=\"w3-code notranslate pythonHigh\">\n",
    "  f = open(&quot;myfile.txt&quot;, &quot;x&quot;)\n",
    "</div>\n",
    "</div>\n",
    "\n",
    "<p>Result: a new empty file is created!</p>\n"
   ]
  },
  {
   "cell_type": "code",
   "execution_count": 37,
   "metadata": {},
   "outputs": [],
   "source": [
    "f = open(\"demofilek.txt\", \"x\")"
   ]
  },
  {
   "cell_type": "markdown",
   "metadata": {},
   "source": [
    "\n",
    "<div class=\"w3-example\">\n",
    "  <h3>Example</h3>\n",
    "<p>Create a new file if it does not exist:</p>\n",
    "<div class=\"w3-code notranslate pythonHigh\">\n",
    "  f = open(&quot;myfile.txt&quot;, &quot;w&quot;)\n",
    "</div>\n",
    "</div>"
   ]
  },
  {
   "cell_type": "code",
   "execution_count": 42,
   "metadata": {},
   "outputs": [],
   "source": [
    "f = open(\"demofile.txt\", \"w\")\n",
    "f.close()"
   ]
  },
  {
   "cell_type": "markdown",
   "metadata": {},
   "source": [
    "<h1>Delete File</h1>\n",
    "\n",
    "<hr>\n",
    "\n",
    "<h2>Delete a File</h2>\n",
    "\n",
    "<p>To delete a file, you must import the OS module, and run its\n",
    "<code class=\"w3-codespan\">os.remove()</code> function:</p>\n",
    "<div class=\"w3-example\">\n",
    "  <h3>Example</h3>\n",
    "<p>Remove the file \"demofile.txt\":</p>\n",
    "<div class=\"w3-code notranslate pythonHigh\">\n",
    "  import os<br>os.remove(&quot;demofile.txt&quot;)</div>\n",
    "</div>"
   ]
  },
  {
   "cell_type": "code",
   "execution_count": 40,
   "metadata": {},
   "outputs": [],
   "source": [
    "import os\n",
    "os.remove(\"demofile.txt\")"
   ]
  },
  {
   "cell_type": "markdown",
   "metadata": {},
   "source": [
    "<h2>Check if File exist:</h2>\n",
    "\n",
    "<p>To avoid getting an error, you might want to check if the file exists before you try to delete it:</p>\n",
    "<div class=\"w3-example\">\n",
    "  <h3>Example</h3>\n",
    "<p>Check if file exists, <em>then</em> delete it:</p>\n",
    "<div class=\"w3-code notranslate pythonHigh\">\n",
    "  import os<br>if os.path.exists(&quot;demofile.txt&quot;):<br>&nbsp; os.remove(&quot;demofile.txt&quot;)<br>\n",
    "  else:<br>&nbsp; print(&quot;The file does not exist&quot;)</div>\n",
    "</div>"
   ]
  },
  {
   "cell_type": "code",
   "execution_count": 43,
   "metadata": {},
   "outputs": [
    {
     "name": "stdout",
     "output_type": "stream",
     "text": [
      "The file exist and will be removed\n"
     ]
    }
   ],
   "source": [
    "if os.path.exists(\"demofile.txt\"):\n",
    "  print(\"The file exist and will be removed\")\n",
    "  os.remove(\"demofile.txt\")\n",
    "else:\n",
    "  print(\"The file does not exist\")"
   ]
  },
  {
   "cell_type": "markdown",
   "metadata": {},
   "source": [
    "<h2>Delete Folder</h2>\n",
    "\n",
    "<p>To delete an entire folder, use the <code class=\"w3-codespan\">os.rmdir()</code> method:</p>\n",
    "<div class=\"w3-example\">\n",
    "  <h3>Example</h3>\n",
    "<p>Remove the folder &quot;myfolder&quot;:</p>\n",
    "<div class=\"w3-code notranslate pythonHigh\">\n",
    "  import os<br>os.rmdir(&quot;myfolder&quot;)</div>\n",
    "</div>\n",
    "\n",
    "<div class=\"w3-panel w3-note\">\n",
    "  <p><strong>Note:</strong> You can only remove <em>empty</em> folders.</p>\n",
    "</div>\n"
   ]
  },
  {
   "cell_type": "code",
   "execution_count": null,
   "metadata": {},
   "outputs": [],
   "source": [
    "os.rmdir(\"folder\")\n"
   ]
  },
  {
   "cell_type": "code",
   "execution_count": null,
   "metadata": {},
   "outputs": [],
   "source": []
  }
 ],
 "metadata": {
  "kernelspec": {
   "display_name": "Python 3",
   "language": "python",
   "name": "python3"
  },
  "language_info": {
   "codemirror_mode": {
    "name": "ipython",
    "version": 3
   },
   "file_extension": ".py",
   "mimetype": "text/x-python",
   "name": "python",
   "nbconvert_exporter": "python",
   "pygments_lexer": "ipython3",
   "version": "3.8.8"
  }
 },
 "nbformat": 4,
 "nbformat_minor": 2
}
