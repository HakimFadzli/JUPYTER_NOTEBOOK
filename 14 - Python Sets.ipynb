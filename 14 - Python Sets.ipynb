{
 "cells": [
  {
   "cell_type": "markdown",
   "metadata": {},
   "source": [
    "<h1>14 - Python <span class=\"color_h1\">Sets</span></h1>\n",
    "<hr>\n",
    "\n",
    "<h2>Set</h2>\n",
    "<p>A set is a collection which is unordered and unindexed. In Python, sets are written with curly brackets.</p>\n",
    "\n",
    "\n",
    "<h3>Example</h3>\n",
    "<p>Create a Set:</p>\n",
    "<div class=\"w3-code notranslate pythonHigh\">\n",
    "thisset = {&quot;apple&quot;, &quot;banana&quot;, &quot;cherry&quot;}<br>print(thisset)</div>"
   ]
  },
  {
   "cell_type": "code",
   "execution_count": 1,
   "metadata": {},
   "outputs": [
    {
     "name": "stdout",
     "output_type": "stream",
     "text": [
      "{'banana', 'apple', 'cherry', 'IQBAL', 'HAKIM', 'AMIR'}\n"
     ]
    }
   ],
   "source": [
    "thisset = {\"apple\", \"banana\", \"cherry\",\"HAKIM\",\"AMIR\",\"IQBAL\"}\n",
    "print(thisset)"
   ]
  },
  {
   "cell_type": "markdown",
   "metadata": {},
   "source": [
    "<div class=\"w3-panel w3-note\">\n",
    "  <p><strong>Note:</strong> Sets are unordered, so you cannot be sure in which \n",
    "  order the items will appear.</p>\n",
    "</div>\n",
    "\n",
    "<hr>\n",
    "\n",
    "<h2>Access Items</h2>\n",
    "\n",
    "<p>You cannot access items in a set by referring to an index or a key.</p>\n",
    "<p>But you can loop through the set items using a <code class=\"w3-codespan\">for</code> \n",
    "loop, or ask if a specified value is present in a set, by using the\n",
    "<code class=\"w3-codespan\">in</code> keyword.</p>\n",
    "\n",
    "\n",
    "<h3>Example</h3>\n",
    "<p>Loop through the set, and print the values:</p>\n",
    "<div class=\"w3-code notranslate pythonHigh\">\n",
    "  thisset = {&quot;apple&quot;, &quot;banana&quot;, &quot;cherry&quot;}<br><br>for x in thisset:<br>&nbsp; print(x)</div>"
   ]
  },
  {
   "cell_type": "code",
   "execution_count": 11,
   "metadata": {},
   "outputs": [
    {
     "name": "stdout",
     "output_type": "stream",
     "text": [
      "banana\n",
      "apple\n",
      "cherry\n",
      "IQBAL\n",
      "HAKIM\n",
      "AMIR\n"
     ]
    }
   ],
   "source": [
    "for x in thisset:\n",
    "  print(x)"
   ]
  },
  {
   "cell_type": "markdown",
   "metadata": {},
   "source": [
    "<h3>Example</h3>\n",
    "<p>Check if &quot;banana&quot; is present in the set:</p>\n",
    "<div class=\"w3-code notranslate pythonHigh\">\n",
    "  thisset = {&quot;apple&quot;, &quot;banana&quot;, &quot;cherry&quot;}<br><br>print(&quot;banana&quot; \n",
    "  in thisset)</div>"
   ]
  },
  {
   "cell_type": "code",
   "execution_count": 3,
   "metadata": {},
   "outputs": [
    {
     "name": "stdout",
     "output_type": "stream",
     "text": [
      "True\n"
     ]
    }
   ],
   "source": [
    "if \"banana\" in thisset:\n",
    "    thisset = {\"apple\", \"banana\", \"cherry\"}\n",
    "    print(\"banana\" in thisset)"
   ]
  },
  {
   "cell_type": "markdown",
   "metadata": {},
   "source": [
    "<hr>\n",
    "\n",
    "<h2>Change Items</h2>\n",
    "\n",
    "<div class=\"w3-panel w3-note\">\n",
    "<p>Once a set is created, you cannot change its items, but you can add new items.</p>\n",
    "</div>\n",
    "\n",
    "<hr>\n",
    "\n",
    "<h2>Add Items</h2>\n",
    "\n",
    "<p>To add one item to a set use the <code class=\"w3-codespan\">add()</code> \n",
    "method.</p>\n",
    "<p>To add more than one item to a set use the <code class=\"w3-codespan\">update()</code> \n",
    "method.</p>\n",
    "\n",
    "\n",
    "\n",
    "<h3>Example</h3>\n",
    "<p>Add an item to a set, using the <code class=\"w3-codespan\">add()</code> \n",
    "method:</p>\n",
    "<div class=\"w3-code notranslate pythonHigh\">\n",
    "  thisset = {&quot;apple&quot;, &quot;banana&quot;, &quot;cherry&quot;}<br><br>\n",
    "  thisset.add(&quot;orange&quot;)<br><br>print(thisset)</div>"
   ]
  },
  {
   "cell_type": "code",
   "execution_count": 4,
   "metadata": {},
   "outputs": [
    {
     "name": "stdout",
     "output_type": "stream",
     "text": [
      "{'banana', 'cherry', 'orange', 'apple'}\n"
     ]
    }
   ],
   "source": [
    "thisset = {\"apple\", \"banana\", \"cherry\"}\n",
    "\n",
    "thisset.add(\"orange\")\n",
    "\n",
    "print(thisset)"
   ]
  },
  {
   "cell_type": "markdown",
   "metadata": {},
   "source": [
    "<h3>Example</h3>\n",
    "<p>Add multiple items to a set, using the <code class=\"w3-codespan\">update()</code> \n",
    "method:</p>\n",
    "<div class=\"w3-code notranslate pythonHigh\">\n",
    "  thisset = {&quot;apple&quot;, &quot;banana&quot;, &quot;cherry&quot;}<br><br>thisset.update([&quot;orange&quot;, \n",
    "  &quot;mango&quot;, &quot;grapes&quot;])<br><br>print(thisset)</div>"
   ]
  },
  {
   "cell_type": "code",
   "execution_count": 5,
   "metadata": {},
   "outputs": [
    {
     "name": "stdout",
     "output_type": "stream",
     "text": [
      "{'banana', 'apple', 'grapes', 'orange', 'mango', 'cherry'}\n"
     ]
    }
   ],
   "source": [
    "hisset = {\"apple\", \"banana\", \"cherry\"}\n",
    "\n",
    "thisset.update([\"orange\", \"mango\", \"grapes\"])\n",
    "\n",
    "print(thisset)"
   ]
  },
  {
   "cell_type": "markdown",
   "metadata": {},
   "source": [
    "<hr>\n",
    "\n",
    "<h2>Get the Length of a Set</h2>\n",
    "\n",
    "<p>To determine how many items a set has, use the <code class=\"w3-codespan\">len()</code> method.</p>\n",
    "\n",
    "\n",
    "<h3>Example</h3>\n",
    "<p>Get the number of items in a set:</p>\n",
    "<div class=\"w3-code notranslate pythonHigh\">\n",
    "  thisset = {&quot;apple&quot;, &quot;banana&quot;, &quot;cherry&quot;}<br><br>\n",
    "  print(len(thisset))</div>"
   ]
  },
  {
   "cell_type": "code",
   "execution_count": 7,
   "metadata": {},
   "outputs": [
    {
     "name": "stdout",
     "output_type": "stream",
     "text": [
      "4\n"
     ]
    }
   ],
   "source": [
    "thisset = {\"apple\", \"banana\", \"cherry\",\"durian\"}\n",
    "\n",
    "print(len(thisset))"
   ]
  },
  {
   "cell_type": "markdown",
   "metadata": {},
   "source": [
    "<hr>\n",
    "\n",
    "<h2>Remove Item</h2>\n",
    "\n",
    "<p>To remove an item in a set, use the <code class=\"w3-codespan\">remove()</code>, or the <code class=\"w3-codespan\">discard()</code> method.</p>\n",
    "\n",
    "\n",
    "<h3>Example</h3>\n",
    "<p>Remove &quot;banana&quot; by using the <code class=\"w3-codespan\">remove()</code> \n",
    "method:</p>\n",
    "<div class=\"w3-code notranslate pythonHigh\">\n",
    "  thisset = {&quot;apple&quot;, &quot;banana&quot;, &quot;cherry&quot;}<br><br>\n",
    "  thisset.remove(&quot;banana&quot;)<br><br>\n",
    "  print(thisset)</div>"
   ]
  },
  {
   "cell_type": "code",
   "execution_count": 14,
   "metadata": {},
   "outputs": [
    {
     "name": "stdout",
     "output_type": "stream",
     "text": [
      "{'cherry', 'banana', 'apple'}\n"
     ]
    }
   ],
   "source": [
    "thisset = {\"apple\", \"banana\",\"cherry\"}\n",
    "\n",
    "thisset.discard(\"bananas\")\n",
    "\n",
    "print(thisset)"
   ]
  },
  {
   "cell_type": "markdown",
   "metadata": {},
   "source": [
    "<div class=\"w3-panel w3-note\">\n",
    "  <p><strong>Note:</strong> If the item to remove does not exist, <code class=\"w3-codespan\">remove()</code> will raise an error.</p>\n",
    "</div>\n",
    "\n",
    "\n",
    "<h3>Example</h3>\n",
    "<p>Remove &quot;banana&quot; by using the <code class=\"w3-codespan\">discard()</code> \n",
    "method:</p>\n",
    "<div class=\"w3-code notranslate pythonHigh\">\n",
    "  thisset = {&quot;apple&quot;, &quot;banana&quot;, &quot;cherry&quot;}<br><br>\n",
    "  thisset.discard(&quot;banana&quot;)<br><br>\n",
    "  print(thisset)</div>"
   ]
  },
  {
   "cell_type": "code",
   "execution_count": 11,
   "metadata": {},
   "outputs": [
    {
     "name": "stdout",
     "output_type": "stream",
     "text": [
      "{'cherry', 'apple'}\n"
     ]
    }
   ],
   "source": [
    "hisset = {\"apple\", \"banana\", \"cherry\"}\n",
    "\n",
    "thisset.discard(\"banana\")\n",
    "\n",
    "print(thisset)"
   ]
  },
  {
   "cell_type": "markdown",
   "metadata": {},
   "source": [
    "<div class=\"w3-panel w3-note\">\n",
    "<p><strong>Note:</strong> If the item to remove does not exist, <code class=\"w3-codespan\">discard()</code> will \n",
    "  <strong>NOT</strong> raise an error.</p>\n",
    "</div>\n",
    "\n",
    "<p>You can also use the <code class=\"w3-codespan\">pop()</code>, method to remove \n",
    "an item, but this method will remove the <em>last</em> item. Remember that sets \n",
    "are unordered, so you will not know what item that gets removed.</p>\n",
    "<p>The return value of the <code class=\"w3-codespan\">pop()</code> method is the \n",
    "removed item.</p>\n",
    "\n",
    "\n",
    "<h3>Example</h3>\n",
    "<p>Remove the last item by using the <code class=\"w3-codespan\">pop()</code> \n",
    "method:</p>\n",
    "<div class=\"w3-code notranslate pythonHigh\">\n",
    "  thisset = {&quot;apple&quot;, &quot;banana&quot;, &quot;cherry&quot;}<br><br>\n",
    "  x =\n",
    "  thisset.pop()<br><br>print(x)<br><br>\n",
    "  print(thisset)</div>"
   ]
  },
  {
   "cell_type": "code",
   "execution_count": 12,
   "metadata": {},
   "outputs": [
    {
     "name": "stdout",
     "output_type": "stream",
     "text": [
      "banana\n",
      "{'cherry', 'apple'}\n"
     ]
    }
   ],
   "source": [
    "thisset = {\"apple\", \"banana\", \"cherry\"}\n",
    "x = thisset.pop()\n",
    "\n",
    "print(x)\n",
    "\n",
    "print(thisset)"
   ]
  },
  {
   "cell_type": "markdown",
   "metadata": {},
   "source": [
    "<div class=\"w3-panel w3-note\">\n",
    "<p><strong>Note:</strong> Sets are <em>unordered</em>, so when using the <code class=\"w3-codespan\">pop()</code> method, \n",
    "you will not know which item that gets removed.</p>\n",
    "</div>\n",
    "\n",
    "\n",
    "\n",
    "<h3>Example</h3>\n",
    "<p>The <code class=\"w3-codespan\">clear()</code> \n",
    "method empties the set:</p>\n",
    "<div class=\"w3-code notranslate pythonHigh\">\n",
    "  thisset = {&quot;apple&quot;, &quot;banana&quot;, &quot;cherry&quot;}<br><br>\n",
    "  thisset.clear()<br><br>\n",
    "  print(thisset)</div>"
   ]
  },
  {
   "cell_type": "code",
   "execution_count": 13,
   "metadata": {},
   "outputs": [
    {
     "name": "stdout",
     "output_type": "stream",
     "text": [
      "set()\n"
     ]
    }
   ],
   "source": [
    "thisset = {\"apple\", \"banana\", \"cherry\"}\n",
    "\n",
    "thisset.clear()\n",
    "\n",
    "print(thisset)"
   ]
  },
  {
   "cell_type": "markdown",
   "metadata": {},
   "source": [
    "<h3>Example</h3>\n",
    "<p>The <code class=\"w3-codespan\">del</code> keyword will delete the set \n",
    "completely:</p>\n",
    "<div class=\"w3-code notranslate pythonHigh\">\n",
    "  thisset = {&quot;apple&quot;, &quot;banana&quot;, &quot;cherry&quot;}<br><br>\n",
    "  del\n",
    "  thisset<br><br>\n",
    "  print(thisset)</div>"
   ]
  },
  {
   "cell_type": "code",
   "execution_count": 14,
   "metadata": {},
   "outputs": [
    {
     "ename": "NameError",
     "evalue": "name 'thisset' is not defined",
     "output_type": "error",
     "traceback": [
      "\u001b[1;31m---------------------------------------------------------------------------\u001b[0m",
      "\u001b[1;31mNameError\u001b[0m                                 Traceback (most recent call last)",
      "\u001b[1;32m<ipython-input-14-b0ed94c1bb6f>\u001b[0m in \u001b[0;36m<module>\u001b[1;34m\u001b[0m\n\u001b[0;32m      3\u001b[0m \u001b[1;32mdel\u001b[0m \u001b[0mthisset\u001b[0m\u001b[1;33m\u001b[0m\u001b[1;33m\u001b[0m\u001b[0m\n\u001b[0;32m      4\u001b[0m \u001b[1;33m\u001b[0m\u001b[0m\n\u001b[1;32m----> 5\u001b[1;33m \u001b[0mprint\u001b[0m\u001b[1;33m(\u001b[0m\u001b[0mthisset\u001b[0m\u001b[1;33m)\u001b[0m\u001b[1;33m\u001b[0m\u001b[1;33m\u001b[0m\u001b[0m\n\u001b[0m",
      "\u001b[1;31mNameError\u001b[0m: name 'thisset' is not defined"
     ]
    }
   ],
   "source": [
    "thisset = {\"apple\", \"banana\", \"cherry\"}\n",
    "\n",
    "del thisset\n",
    "\n",
    "print(thisset)"
   ]
  },
  {
   "cell_type": "markdown",
   "metadata": {},
   "source": [
    "<hr>\n",
    "<h2>Join Two Sets</h2>\n",
    "<p>There are several ways to join two or more sets in Python.</p>\n",
    "<p>You can use the <code class=\"w3-codespan\">union()</code> method that returns a new set containing all items from both sets,\n",
    "or the <code class=\"w3-codespan\">update()</code> method that inserts all the items from one set into another:</p>\n",
    "\n",
    "\n",
    "<h3>Example</h3>\n",
    "<p>The <code class=\"w3-codespan\">union()</code> method returns a new set with all items from both sets:</p>\n",
    "<div class=\"w3-code notranslate pythonHigh\">\n",
    "  set1 = {&quot;a&quot;, &quot;b&quot; , &quot;c&quot;}<br>set2 = {1, 2, 3}<br><br>\n",
    "  set3 = set1.union(set2)<br>print(set3)</div>"
   ]
  },
  {
   "cell_type": "code",
   "execution_count": 15,
   "metadata": {},
   "outputs": [
    {
     "name": "stdout",
     "output_type": "stream",
     "text": [
      "{1, 'c', 2, 3, 'b', 'a'}\n"
     ]
    }
   ],
   "source": [
    "set1 = {\"a\", \"b\" , \"c\"}\n",
    "set2 = {1, 2, 3}\n",
    "\n",
    "set3 = set1.union(set2)\n",
    "print(set3)"
   ]
  },
  {
   "cell_type": "markdown",
   "metadata": {},
   "source": [
    "<h3>Example</h3>\n",
    "<p>The <code class=\"w3-codespan\">update()</code> method inserts the items in set2 into set1:</p>\n",
    "<div class=\"w3-code notranslate pythonHigh\">\n",
    "  set1 = {&quot;a&quot;, &quot;b&quot; , &quot;c&quot;}<br>set2 = {1, 2, 3}<br><br>\n",
    "  set1.update(set2)<br>print(set1)</div>"
   ]
  },
  {
   "cell_type": "code",
   "execution_count": 16,
   "metadata": {},
   "outputs": [
    {
     "name": "stdout",
     "output_type": "stream",
     "text": [
      "{1, 'c', 2, 3, 'b', 'a'}\n"
     ]
    }
   ],
   "source": [
    "set1 = {\"a\", \"b\" , \"c\"}\n",
    "set2 = {1, 2, 3}\n",
    "\n",
    "set1.update(set2)\n",
    "print(set1)"
   ]
  },
  {
   "cell_type": "markdown",
   "metadata": {},
   "source": [
    "<div class=\"w3-panel w3-note\">\n",
    "<p><strong>Note:</strong> Both <code class=\"w3-codespan\">union()</code> and <code class=\"w3-codespan\">update()</code>\n",
    "will exclude any duplicate items.</p>\n",
    "</div>\n",
    "\n",
    "<p>There are other methods that joins two sets and keeps ONLY the duplicates, or NEVER the duplicates, \n",
    "check the full list of set methods in the bottom of this page.</p>\n",
    "<hr>\n",
    "\n",
    "<h2>The set() Constructor</h2>\n",
    "<p>It is also possible to use the <span class=\"w3-codespan\">set()</span> \n",
    "constructor to make a set.</p>\n",
    "\n",
    "\n",
    "<h3>Example</h3>\n",
    "<p>Using the set() constructor to make a set:</p>\n",
    "<div class=\"w3-code notranslate pythonHigh\">\n",
    "thisset = set((\"apple\", \"banana\", \"cherry\")) # note the double round-brackets<br>\n",
    "print(thisset)</div>"
   ]
  },
  {
   "cell_type": "code",
   "execution_count": 19,
   "metadata": {},
   "outputs": [
    {
     "name": "stdout",
     "output_type": "stream",
     "text": [
      "{'banana', 'cherry', 'apple'}\n"
     ]
    }
   ],
   "source": [
    "thisset = set((\"apple\", \"banana\", \"cherry\")) # note the double round-brackets\n",
    "print(thisset)"
   ]
  },
  {
   "cell_type": "markdown",
   "metadata": {},
   "source": [
    "<hr>\n",
    "\n",
    "<h2>Set Methods</h2>\n",
    "\n",
    "<p>Python has a set of built-in methods that you can use on sets.</p>\n",
    "\n",
    "<table class=\"w3-table-all notranslate\">\n",
    "<tr>\n",
    "<th>Method</th>\n",
    "<th>Description</th>\n",
    "</tr>\n",
    "<tr><td><a href=\"ref_set_add.asp\">add()</a></td><td>Adds an element to the \n",
    "  set</td></tr>\n",
    "<tr><td><a href=\"ref_set_clear.asp\">clear()</a></td><td>Removes all the \n",
    "  elements from the set</td></tr>\n",
    "<tr><td><a href=\"ref_set_copy.asp\">copy()</a></td><td>Returns a copy of the set</td></tr>\n",
    "  <tr>\n",
    "    <td><a href=\"ref_set_difference.asp\">difference()</a></td><td>Returns a set \n",
    "    containing the difference between two or more sets</td>\n",
    "  </tr>\n",
    "  <tr>\n",
    "    <td><a href=\"ref_set_difference_update.asp\">difference_update()</a></td><td>Removes the \n",
    "    items in this set that are also included in another, specified set</td>\n",
    "  </tr>\n",
    "<tr><td><a href=\"ref_set_discard.asp\">discard()</a></td><td>Remove the specified \n",
    "  item</td></tr>\n",
    "  <tr>\n",
    "    <td><a href=\"ref_set_intersection.asp\">intersection()</a></td><td>Returns a set, \n",
    "    that is the intersection of two other sets</td>\n",
    "  </tr>\n",
    "<tr><td><a href=\"ref_set_intersection_update.asp\">intersection_update()</a></td><td>\n",
    "  Removes the items in this set that are not present in other, specified set(s)</td></tr>\n",
    "  <tr>\n",
    "    <td><a href=\"ref_set_isdisjoint.asp\">isdisjoint()</a></td><td>Returns whether \n",
    "    two sets have a intersection or not</td>\n",
    "  </tr>\n",
    "  <tr>\n",
    "    <td><a href=\"ref_set_issubset.asp\">issubset()</a></td><td>Returns whether \n",
    "    another set contains this set or not</td>\n",
    "  </tr>\n",
    "<tr><td><a href=\"ref_set_issuperset.asp\">issuperset()</a></td><td>Returns whether \n",
    "  this set contains another set or not</td></tr>\n",
    "<tr><td><a href=\"ref_set_pop.asp\">pop()</a></td><td>Removes an element from the \n",
    "  set</td></tr>\n",
    "<tr><td><a href=\"ref_set_remove.asp\">remove()</a></td><td>Removes the specified element</td></tr>\n",
    "  <tr>\n",
    "    <td><a href=\"ref_set_symmetric_difference.asp\">symmetric_difference()</a></td><td>Returns \n",
    "    a set with the symmetric differences of two sets</td>\n",
    "  </tr>\n",
    "<tr><td><a href=\"ref_set_symmetric_difference_update.asp\">symmetric_difference_update()</a></td><td>\n",
    "  inserts the symmetric differences from this set and another</td></tr>\n",
    "  <tr>\n",
    "    <td><a href=\"ref_set_union.asp\">union()</a></td><td>Return a set containing \n",
    "    the union of sets</td>\n",
    "  </tr>\n",
    "<tr><td><a href=\"ref_set_update.asp\">update()</a></td><td>Update the set with the \n",
    "  union of this set and others</td></tr>\n",
    "</table>\n",
    "\n",
    "<hr>\n",
    "\n",
    "<h2>Test Yourself With Exercises</h2>\n",
    "<h2>Exercise:</h2>\n",
    "<p>Check if \"apple\" is present in the <code class=\"w3-codespan\">fruits</code> set.</p>\n",
    "<div class=\"exerciseprecontainer\">\n",
    "<pre>\n",
    "fruits = {\"apple\", <br class=\"phonebr\">\"banana\", <br class=\"phonebr\">\"cherry\"}\n",
    "if \"apple\" <input name=\"ex1\" maxlength=\"2\" style=\"width: 22px;\"> fruits:\n",
    "  print(\"Yes, apple is a fruit!\")\n",
    "</pre>\n",
    "</div>\n",
    "\n"
   ]
  },
  {
   "cell_type": "code",
   "execution_count": 20,
   "metadata": {},
   "outputs": [
    {
     "name": "stdout",
     "output_type": "stream",
     "text": [
      "Yes, apple is a fruit!\n"
     ]
    }
   ],
   "source": [
    "fruits = {\"apple\", \n",
    "\"banana\", \n",
    "\"cherry\"}\n",
    "if \"apple\" in fruits:\n",
    "  print(\"Yes, apple is a fruit!\")"
   ]
  },
  {
   "cell_type": "code",
   "execution_count": 1,
   "metadata": {},
   "outputs": [],
   "source": [
    "data = {100:'Donald', 101:'Barack', 102:'Hillary'}"
   ]
  },
  {
   "cell_type": "code",
   "execution_count": 3,
   "metadata": {},
   "outputs": [
    {
     "ename": "AttributeError",
     "evalue": "'dict' object has no attribute 'remove'",
     "output_type": "error",
     "traceback": [
      "\u001b[1;31m---------------------------------------------------------------------------\u001b[0m",
      "\u001b[1;31mAttributeError\u001b[0m                            Traceback (most recent call last)",
      "\u001b[1;32m~\\AppData\\Local\\Temp/ipykernel_8532/3188177142.py\u001b[0m in \u001b[0;36m<module>\u001b[1;34m\u001b[0m\n\u001b[1;32m----> 1\u001b[1;33m \u001b[0mdata\u001b[0m\u001b[1;33m.\u001b[0m\u001b[0mremove\u001b[0m\u001b[1;33m(\u001b[0m\u001b[1;34m\"101\"\u001b[0m\u001b[1;33m)\u001b[0m\u001b[1;33m\u001b[0m\u001b[1;33m\u001b[0m\u001b[0m\n\u001b[0m",
      "\u001b[1;31mAttributeError\u001b[0m: 'dict' object has no attribute 'remove'"
     ]
    }
   ],
   "source": [
    "data.remove(\"101\")"
   ]
  },
  {
   "cell_type": "code",
   "execution_count": null,
   "metadata": {},
   "outputs": [],
   "source": []
  }
 ],
 "metadata": {
  "kernelspec": {
   "display_name": "Python 3 (ipykernel)",
   "language": "python",
   "name": "python3"
  },
  "language_info": {
   "codemirror_mode": {
    "name": "ipython",
    "version": 3
   },
   "file_extension": ".py",
   "mimetype": "text/x-python",
   "name": "python",
   "nbconvert_exporter": "python",
   "pygments_lexer": "ipython3",
   "version": "3.7.11"
  }
 },
 "nbformat": 4,
 "nbformat_minor": 2
}
