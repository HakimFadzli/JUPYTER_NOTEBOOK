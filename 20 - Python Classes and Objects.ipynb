{
 "cells": [
  {
   "cell_type": "markdown",
   "metadata": {},
   "source": [
    "<h1>20 - Python Classes and Objects</h1>\n",
    "<hr>\n",
    "\n",
    "<h2>Python Classes/Objects</h2>\n",
    "<p>Python is an object oriented programming language.</p>\n",
    "<p>Almost everything in Python is an object, with its properties and methods.</p>\n",
    "<p>A Class is like an object constructor, or a \"blueprint\" for creating objects.</p>\n",
    "<hr>\n",
    "<h2>Create a Class</h2>\n",
    "<p>To create a class, use the keyword <code class=\"w3-codespan\">class</code>:</p>\n",
    "\n",
    "\n",
    "<h3>Example</h3>\n",
    "<p>Create a class named MyClass, with a property named x:</p>\n",
    "<div class=\"w3-code notranslate pythonHigh\">\n",
    "  class MyClass:<br>&nbsp; x = 5</div>"
   ]
  },
  {
   "cell_type": "code",
   "execution_count": 3,
   "metadata": {},
   "outputs": [
    {
     "data": {
      "text/plain": [
       "10"
      ]
     },
     "execution_count": 3,
     "metadata": {},
     "output_type": "execute_result"
    }
   ],
   "source": [
    "class MyClass:\n",
    "  x = 5\n",
    "  y = 6\n",
    "\n",
    "MyClass.y\n",
    "\n",
    "class YourClass:\n",
    "    z = 10\n",
    "    \n",
    "YourClass.z"
   ]
  },
  {
   "cell_type": "code",
   "execution_count": 18,
   "metadata": {},
   "outputs": [
    {
     "data": {
      "text/plain": [
       "'ONE TWO THREE'"
      ]
     },
     "execution_count": 18,
     "metadata": {},
     "output_type": "execute_result"
    }
   ],
   "source": [
    "dood = \"one two three\"\n",
    "dood.upper()"
   ]
  },
  {
   "cell_type": "markdown",
   "metadata": {},
   "source": [
    "<hr>\n",
    "\n",
    "<h2>Create Object</h2>\n",
    "\n",
    "<p>Now we can use the class named MyClass to create objects:</p>\n",
    "\n",
    "\n",
    "<h3>Example</h3>\n",
    "<p>Create an object named p1, and print the value of x:</p>\n",
    "<div class=\"w3-code notranslate pythonHigh\">\n",
    "  p1 = MyClass()<br>print(p1.x)</div>"
   ]
  },
  {
   "cell_type": "code",
   "execution_count": 4,
   "metadata": {},
   "outputs": [
    {
     "name": "stdout",
     "output_type": "stream",
     "text": [
      "6\n",
      "6\n",
      "<class '__main__.MyClass'>\n"
     ]
    }
   ],
   "source": [
    "p1 = MyClass()\n",
    "p2 = MyClass()\n",
    "p3 = MyClass()\n",
    "print(p1.y)\n",
    "print(p2.y)\n",
    "print(type(p1))"
   ]
  },
  {
   "cell_type": "code",
   "execution_count": 22,
   "metadata": {},
   "outputs": [
    {
     "name": "stdout",
     "output_type": "stream",
     "text": [
      "5\n"
     ]
    }
   ],
   "source": [
    "print(p2.x)"
   ]
  },
  {
   "cell_type": "markdown",
   "metadata": {},
   "source": [
    "<hr>\n",
    "<h2>The __init__() Function</h2>\n",
    "\n",
    "<p>The examples above are classes and objects in their simplest form, and are \n",
    "not really useful in real life applications.</p>\n",
    "<p>To understand the meaning of classes we have to understand the built-in __init__() \n",
    "function.</p>\n",
    "<p>All classes have a function called __init__(), which is always executed when \n",
    "the class is being initiated.</p>\n",
    "<p>Use the __init__() function to assign values to object properties, or other \n",
    "operations that are necessary to do when the object \n",
    "is being created:</p>\n",
    "\n",
    "\n",
    "<h3>Example</h3>\n",
    "<p>Create a class named Person, use the __init__() function to assign values \n",
    "for name and age:</p>\n",
    "<div class=\"w3-code notranslate pythonHigh\">\n",
    "  class Person:<br>&nbsp; def __init__(self, name, age):<br>&nbsp;&nbsp;&nbsp; \n",
    "  self.name = name<br>&nbsp;&nbsp;&nbsp; self.age = age<br><br>p1 = Person(&quot;John&quot;, \n",
    "  36)<br>\n",
    "  <br>print(p1.name)<br>print(p1.age)</div>"
   ]
  },
  {
   "cell_type": "code",
   "execution_count": 7,
   "metadata": {},
   "outputs": [
    {
     "name": "stdout",
     "output_type": "stream",
     "text": [
      "John\n",
      "Razif\n"
     ]
    }
   ],
   "source": [
    "class Person:\n",
    "    def __init__(self, name, age):\n",
    "        self.name = name\n",
    "        self.age = age\n",
    "\n",
    "p1 = Person(\"John\", 36)\n",
    "p2 = Person(\"Razif\",38)\n",
    "\n",
    "print(p1.name)\n",
    "print(p2.name)"
   ]
  },
  {
   "cell_type": "markdown",
   "metadata": {},
   "source": [
    "<div class=\"w3-panel w3-note\">\n",
    "  <p><strong>Note:</strong> The <ode class=\"w3-codespan\">__init__()</code> function is called automatically every time the class is being used to create a new object.</p>\n",
    "</div>\n",
    "\n",
    "<h2>Object Methods</h2>\n",
    "\n",
    "<p>Objects can also contain methods. Methods in objects are functions that \n",
    "belong to the object.</p>\n",
    "<p>Let us create a method in the Person class:</p>\n",
    "\n",
    "  <h3>Example</h3>\n",
    "<p>Insert a function that prints a greeting, and execute it on the p1 object:</p>\n",
    "<div class=\"w3-code notranslate pythonHigh\">\n",
    "  class Person:<br>&nbsp; def __init__(self, name, age):<br>&nbsp;&nbsp;&nbsp; \n",
    "  self.name = name<br>&nbsp;&nbsp;&nbsp; self.age = age<br><br>&nbsp; def myfunc(self):<br>&nbsp;&nbsp;&nbsp; \n",
    "  print(&quot;Hello my name is &quot; + self.name)<br><br>p1 = Person(&quot;John&quot;, \n",
    "  36)<br>p1.myfunc()</div>"
   ]
  },
  {
   "cell_type": "code",
   "execution_count": 7,
   "metadata": {},
   "outputs": [
    {
     "name": "stdout",
     "output_type": "stream",
     "text": [
      "Hello my name is Jonny\n",
      "Hello my name is Jonny\n",
      "<class 'NoneType'>\n"
     ]
    }
   ],
   "source": [
    "class Person:\n",
    "  def __init__(self, name, age):\n",
    "    self.name = name\n",
    "    self.age = age\n",
    "\n",
    "  def myfunc(self):\n",
    "    print(\"Hello my name is \" + self.name)\n",
    "\n",
    "p1 = Person(\"Jonny\", 36)\n",
    "p1.myfunc()\n",
    "print(type(p1.myfunc()))"
   ]
  },
  {
   "cell_type": "markdown",
   "metadata": {},
   "source": [
    "<div class=\"w3-panel w3-note\">\n",
    "  <p><strong>Note:</strong> The <code class=\"w3-codespan\">self</code> parameter \n",
    "  is a reference to the current instance of the class, and is used to access variables that belong to the class.</p>\n",
    "</div>\n",
    "\n",
    "<hr>\n",
    "\n",
    "<h2>The self Parameter</h2>\n",
    "<p>The <code class=\"w3-codespan\">self</code> parameter is a reference to the \n",
    "current instance of the class, and is used to access variables that belongs to the class.</p>\n",
    "<p>It does not have to be named <code class=\"w3-codespan\">self</code> , you can \n",
    "call it whatever you like, but it has to be the first parameter of any function \n",
    "in the class:</p>\n",
    "\n",
    "\n",
    "<h3>Example</h3>\n",
    "<p>Use the words <em>mysillyobject</em> and <em>abc</em> instead of <em>self</em>:</p>\n",
    "<div class=\"w3-code notranslate pythonHigh\">\n",
    "  class Person:<br>&nbsp; def __init__(mysillyobject, name, age):<br>&nbsp;&nbsp;&nbsp; \n",
    "  mysillyobject.name = name<br>&nbsp;&nbsp;&nbsp; mysillyobject.age = age<br><br>&nbsp; def myfunc(abc):<br>&nbsp;&nbsp;&nbsp; \n",
    "  print(&quot;Hello my name is &quot; + abc.name)<br><br>p1 = Person(&quot;John&quot;, \n",
    "  36)<br>p1.myfunc()</div>"
   ]
  },
  {
   "cell_type": "code",
   "execution_count": 12,
   "metadata": {},
   "outputs": [
    {
     "name": "stdout",
     "output_type": "stream",
     "text": [
      "Hello my name is John\n",
      "age ofJohn : 36\n"
     ]
    }
   ],
   "source": [
    "class Person:\n",
    "  def __init__(hakim, name, age):\n",
    "    hakim.name = name\n",
    "    hakim.age = age\n",
    "\n",
    "  def myfunc(hakim):\n",
    "    print(\"Hello my name is \" + hakim.name)\n",
    "    \n",
    "  def get_age(hakim):\n",
    "    print(\"age of\"+ hakim.name+\" : \"+str(hakim.age))\n",
    "\n",
    "p1 = Person(\"John\", 36)\n",
    "p1.myfunc()\n",
    "p1.get_age()"
   ]
  },
  {
   "cell_type": "markdown",
   "metadata": {},
   "source": [
    "\n",
    "<hr>\n",
    "\n",
    "<h2>Modify Object Properties</h2>\n",
    "\n",
    "<p>You can modify properties on objects like this:</p>\n",
    "\n",
    "\n",
    "<h3>Example</h3>\n",
    "<p>Set the age of p1 to 40:</p>\n",
    "<div class=\"w3-code notranslate pythonHigh\">\n",
    "  p1.age = 40</div>"
   ]
  },
  {
   "cell_type": "code",
   "execution_count": 16,
   "metadata": {},
   "outputs": [
    {
     "name": "stdout",
     "output_type": "stream",
     "text": [
      "age ofJohn : 39\n"
     ]
    }
   ],
   "source": [
    "p1.age = 39\n",
    "p1.get_age()\n"
   ]
  },
  {
   "cell_type": "markdown",
   "metadata": {},
   "source": [
    "<hr>\n",
    "\n",
    "<h2>Delete Object Properties</h2>\n",
    "\n",
    "<p>You can delete properties on objects by using the <code class=\"w3-codespan\">\n",
    "del</code> keyword:</p>\n",
    "\n",
    "\n",
    "<h3>Example</h3>\n",
    "<p>Delete the age property from the p1 object:</p>\n",
    "<div class=\"w3-code notranslate pythonHigh\">\n",
    "  del p1.age</div>"
   ]
  },
  {
   "cell_type": "code",
   "execution_count": 22,
   "metadata": {},
   "outputs": [],
   "source": [
    "p1.name= \"Hakim\""
   ]
  },
  {
   "cell_type": "code",
   "execution_count": 23,
   "metadata": {},
   "outputs": [
    {
     "name": "stdout",
     "output_type": "stream",
     "text": [
      "Hakim\n"
     ]
    }
   ],
   "source": [
    "print (p1.name)"
   ]
  },
  {
   "cell_type": "markdown",
   "metadata": {},
   "source": [
    "<hr>\n",
    "\n",
    "<h2>Delete Objects</h2>\n",
    "\n",
    "<p>You can delete objects by using the <code class=\"w3-codespan\">del</code> keyword:</p>\n",
    "\n",
    "\n",
    "<h3>Example</h3>\n",
    "<p>Delete the p1 object:</p>\n",
    "<div class=\"w3-code notranslate pythonHigh\">\n",
    "  del p1</div>"
   ]
  },
  {
   "cell_type": "code",
   "execution_count": 32,
   "metadata": {},
   "outputs": [],
   "source": [
    "del p1"
   ]
  },
  {
   "cell_type": "markdown",
   "metadata": {},
   "source": [
    "<hr>\n",
    "<h2>The pass Statement</h2>\n",
    "<p><code class=\"w3-codespan\">class</code> definitions cannot be empty, but if \n",
    "you for some reason have a <code class=\"w3-codespan\">class</code> definition with no content, put in the <code class=\"w3-codespan\">pass</code> statement to avoid getting an error.</p>\n",
    "\n",
    "\n",
    "<h3>Example</h3>\n",
    "<div class=\"w3-code notranslate pythonHigh\">\n",
    "  class Person:<br>&nbsp; pass</div>"
   ]
  },
  {
   "cell_type": "code",
   "execution_count": 33,
   "metadata": {},
   "outputs": [],
   "source": [
    "class Person:\n",
    "  pass"
   ]
  },
  {
   "cell_type": "markdown",
   "metadata": {},
   "source": [
    "<h2>Test Yourself With Exercises</h2>\n",
    "<h2>Exercise:</h2>\n",
    "<p>Create a class named MyClass:</p>\n",
    "<div class=\"exerciseprecontainer\">\n",
    "<pre>\n",
    "<input name=\"ex1\" maxlength=\"5\" style=\"width: 54px;\"> MyClass:\n",
    "  x = 5\n",
    "</pre>\n",
    "</div>\n"
   ]
  },
  {
   "cell_type": "code",
   "execution_count": 25,
   "metadata": {},
   "outputs": [],
   "source": [
    "class MyClass:\n",
    "  x = 5"
   ]
  },
  {
   "cell_type": "code",
   "execution_count": 26,
   "metadata": {},
   "outputs": [
    {
     "data": {
      "text/plain": [
       "5"
      ]
     },
     "execution_count": 26,
     "metadata": {},
     "output_type": "execute_result"
    }
   ],
   "source": [
    "MyClass.x"
   ]
  },
  {
   "cell_type": "code",
   "execution_count": 27,
   "metadata": {},
   "outputs": [],
   "source": [
    "object1= MyClass()"
   ]
  },
  {
   "cell_type": "code",
   "execution_count": 28,
   "metadata": {},
   "outputs": [
    {
     "ename": "AttributeError",
     "evalue": "'MyClass' object has no attribute 's'",
     "output_type": "error",
     "traceback": [
      "\u001b[1;31m---------------------------------------------------------------------------\u001b[0m",
      "\u001b[1;31mAttributeError\u001b[0m                            Traceback (most recent call last)",
      "\u001b[1;32m~\\AppData\\Local\\Temp/ipykernel_33056/4151452766.py\u001b[0m in \u001b[0;36m<module>\u001b[1;34m\u001b[0m\n\u001b[1;32m----> 1\u001b[1;33m \u001b[0mobject1\u001b[0m\u001b[1;33m.\u001b[0m\u001b[0ms\u001b[0m\u001b[1;33m\u001b[0m\u001b[1;33m\u001b[0m\u001b[0m\n\u001b[0m",
      "\u001b[1;31mAttributeError\u001b[0m: 'MyClass' object has no attribute 's'"
     ]
    }
   ],
   "source": [
    "object1.s"
   ]
  },
  {
   "cell_type": "code",
   "execution_count": 29,
   "metadata": {},
   "outputs": [
    {
     "data": {
      "text/plain": [
       "5"
      ]
     },
     "execution_count": 29,
     "metadata": {},
     "output_type": "execute_result"
    }
   ],
   "source": [
    "object1.x"
   ]
  },
  {
   "cell_type": "code",
   "execution_count": 1,
   "metadata": {},
   "outputs": [
    {
     "ename": "SyntaxError",
     "evalue": "invalid syntax (<ipython-input-1-77ccf0ff9e9d>, line 2)",
     "output_type": "error",
     "traceback": [
      "\u001b[1;36m  File \u001b[1;32m\"<ipython-input-1-77ccf0ff9e9d>\"\u001b[1;36m, line \u001b[1;32m2\u001b[0m\n\u001b[1;33m    sqrProd(2, 5) returns (2*5)*(2*5) = 100.\u001b[0m\n\u001b[1;37m                  ^\u001b[0m\n\u001b[1;31mSyntaxError\u001b[0m\u001b[1;31m:\u001b[0m invalid syntax\n"
     ]
    }
   ],
   "source": [
    "parameters, so\n",
    "sqrProd(2, 5) returns (2*5)*(2*5) = 100.\n",
    "\n",
    "def sqrProd(x, y):"
   ]
  },
  {
   "cell_type": "code",
   "execution_count": 8,
   "metadata": {},
   "outputs": [
    {
     "name": "stdout",
     "output_type": "stream",
     "text": [
      "Manager\n"
     ]
    }
   ],
   "source": [
    "data1={'Id':100, 'Name':'Sam', 'Profession':'Developer'}\n",
    "data1['Profession']='Manager'\n",
    "data1['Salary']=15000\n",
    "print (data1['Profession'])\n"
   ]
  },
  {
   "cell_type": "code",
   "execution_count": null,
   "metadata": {},
   "outputs": [],
   "source": []
  }
 ],
 "metadata": {
  "kernelspec": {
   "display_name": "Python 3",
   "language": "python",
   "name": "python3"
  },
  "language_info": {
   "codemirror_mode": {
    "name": "ipython",
    "version": 3
   },
   "file_extension": ".py",
   "mimetype": "text/x-python",
   "name": "python",
   "nbconvert_exporter": "python",
   "pygments_lexer": "ipython3",
   "version": "3.8.8"
  }
 },
 "nbformat": 4,
 "nbformat_minor": 2
}
