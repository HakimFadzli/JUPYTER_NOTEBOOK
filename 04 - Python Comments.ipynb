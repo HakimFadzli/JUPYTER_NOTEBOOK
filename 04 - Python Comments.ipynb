{
 "cells": [
  {
   "cell_type": "markdown",
   "metadata": {},
   "source": [
    "<h1>04 - Python <span class=\"color_h1\">Comments</span></h1>\n",
    "\n",
    "<p class=\"intro\">Comments can be used to explain Python code.</p>\n",
    "<p class=\"intro\">Comments can be used to make the code more readable.</p>\n",
    "<p class=\"intro\">Comments can be used to prevent execution when testing code.</p>\n",
    "\n",
    "<h2>Creating a Comment</h2>\n",
    "<p>Comments starts with a <code class=\"w3-codespan\">#</code>, and Python will \n",
    "ignore them:</p>\n",
    "\n",
    "<div class=\"w3-example\">\n",
    "<h3>Example</h3>\n",
    "<div class=\"w3-code notranslate pythonHigh\">\n",
    "#This is a comment<br>\n",
    "print(\"Hello, World!\")\n",
    "</div>\n",
    "</div>\n",
    "<br>\n",
    "<h1>Try it Yourself &raquo;</h1>"
   ]
  },
  {
   "cell_type": "code",
   "execution_count": 5,
   "metadata": {},
   "outputs": [
    {
     "name": "stdout",
     "output_type": "stream",
     "text": [
      "Hello, World!\n"
     ]
    }
   ],
   "source": [
    "#This is a comment\n",
    "print(\"Hello, World!\")"
   ]
  },
  {
   "cell_type": "markdown",
   "metadata": {},
   "source": [
    "<p>Comments can be placed at the end of a line, and Python will ignore the rest \n",
    "of the line:</p>\n",
    "\n",
    "<div class=\"w3-example\">\n",
    "<h3>Example</h3>\n",
    "<div class=\"w3-code notranslate pythonHigh\">\n",
    "print(\"Hello, World!\") #This is a comment\n",
    "<br>\n",
    "<h1>Try it Yourself &raquo;</h1>"
   ]
  },
  {
   "cell_type": "code",
   "execution_count": null,
   "metadata": {},
   "outputs": [],
   "source": [
    "print(\"Hello, World!\") #This is a comment"
   ]
  },
  {
   "cell_type": "markdown",
   "metadata": {},
   "source": [
    "<p>Comments does not have to be text to explain the code, it can also be used to \n",
    "prevent Python from executing code:</p>\n",
    "\n",
    "<div class=\"w3-example\">\n",
    "<h3>Example</h3>\n",
    "<div class=\"w3-code notranslate pythonHigh\">\n",
    "  #print(&quot;Hello, World!&quot;)<br>print(&quot;Cheers, Mate!&quot;)</div>\n",
    "</div>\n",
    "<br>\n",
    "<h1>Try it Yourself &raquo;</h1>"
   ]
  },
  {
   "cell_type": "code",
   "execution_count": 6,
   "metadata": {},
   "outputs": [
    {
     "name": "stdout",
     "output_type": "stream",
     "text": [
      "Cheers, Mate!\n"
     ]
    }
   ],
   "source": [
    "#print(\"Hello, World!\")\n",
    "print(\"Cheers, Mate!\")"
   ]
  },
  {
   "cell_type": "markdown",
   "metadata": {},
   "source": [
    "<h2>Multi Line Comments</h2>\n",
    "\n",
    "<p>Python does not really have a syntax for multi line comments.</p>\n",
    "<p>To add a multiline comment you could insert a <code class=\"w3-codespan\">#</code> for each line:</p>\n",
    "\n",
    "<div class=\"w3-example\">\n",
    "<h3>Example</h3>\n",
    "<div class=\"w3-code notranslate pythonHigh\">\n",
    "  #This is a comment<br>#written in<br>#more than just one line<br>print(&quot;Hello, \n",
    "  World!&quot;)\n",
    "</div>\n",
    "</div>\n",
    "<br>\n",
    "<h1>Try it Yourself &raquo;</h1>"
   ]
  },
  {
   "cell_type": "code",
   "execution_count": 7,
   "metadata": {},
   "outputs": [
    {
     "name": "stdout",
     "output_type": "stream",
     "text": [
      "Hello, World!\n"
     ]
    }
   ],
   "source": [
    "#This is a comment\n",
    "#written in\n",
    "#more than just one line\n",
    "print(\"Hello, World!\")"
   ]
  },
  {
   "cell_type": "markdown",
   "metadata": {},
   "source": [
    "<p>Or, not quite as intended, you can use a multiline string.</p>\n",
    "<p>Since Python will ignore string literals that are not assigned to a variable, you can add a multiline string (triple quotes) in your code, and place your comment inside it:</p>\n",
    "\n",
    "<div class=\"w3-example\">\n",
    "<h3>Example</h3>\n",
    "<div class=\"w3-code notranslate pythonHigh\">\n",
    "  &quot;&quot;&quot;<br>This is a comment<br>written in <br>more than just \n",
    "  one line<br>&quot;&quot;&quot;<br>print(&quot;Hello, World!&quot;)</div>\n",
    "</div>\n",
    "<br>\n",
    "<h1>Try it Yourself &raquo;</h1>"
   ]
  },
  {
   "cell_type": "code",
   "execution_count": 3,
   "metadata": {},
   "outputs": [
    {
     "name": "stdout",
     "output_type": "stream",
     "text": [
      "Hello, World!\n"
     ]
    },
    {
     "data": {
      "text/plain": [
       "'\\nprint (\"Hello world\")\\n'"
      ]
     },
     "execution_count": 3,
     "metadata": {},
     "output_type": "execute_result"
    }
   ],
   "source": [
    "\"\"\"\n",
    "This is a comment\n",
    "written in\n",
    "more than just one line\n",
    "sdfsf\n",
    "asfasf\n",
    "asf\n",
    "\n",
    "\n",
    "\"\"\"\n",
    "print(\"Hello, World!\")\n",
    "\"\"\"\n",
    "print (\"Hello world\")\n",
    "\"\"\""
   ]
  },
  {
   "cell_type": "markdown",
   "metadata": {},
   "source": [
    "<p>As long as the string is not assigned to a variable, Python will read the code, but then ignore it, and you have made a multiline comment.</p>\n",
    "\n",
    "<a id=\"exercises\"></a>\n",
    "<hr>\n",
    "<form autocomplete=\"off\" id=\"w3-exerciseform\" action=\"exercise.asp?filename=exercise_comments1\" method=\"post\" target=\"_blank\">\n",
    "<h2>Test Yourself With Exercises</h2>\n",
    "<div class=\"exercisewindow\">\n",
    "<h2>Exercise:</h2>\n",
    "<p>Comments in Python are written with a special character, which one?</p>"
   ]
  },
  {
   "cell_type": "code",
   "execution_count": 4,
   "metadata": {},
   "outputs": [
    {
     "data": {
      "text/plain": [
       "'\\nThis is also a comment but is not really, kind of just asalkan jadi\\nits a multi line comment\\nand its quite nice\\n'"
      ]
     },
     "execution_count": 4,
     "metadata": {},
     "output_type": "execute_result"
    }
   ],
   "source": [
    "#This is a comment\n",
    "#Comments in phyton are written through #\n",
    "\"\"\"\n",
    "This is also a comment but is not really, kind of just asalkan jadi\n",
    "its a multi line comment\n",
    "and its quite nice\n",
    "\"\"\""
   ]
  },
  {
   "cell_type": "code",
   "execution_count": null,
   "metadata": {},
   "outputs": [],
   "source": []
  }
 ],
 "metadata": {
  "kernelspec": {
   "display_name": "Python 3 (ipykernel)",
   "language": "python",
   "name": "python3"
  },
  "language_info": {
   "codemirror_mode": {
    "name": "ipython",
    "version": 3
   },
   "file_extension": ".py",
   "mimetype": "text/x-python",
   "name": "python",
   "nbconvert_exporter": "python",
   "pygments_lexer": "ipython3",
   "version": "3.7.11"
  }
 },
 "nbformat": 4,
 "nbformat_minor": 2
}
