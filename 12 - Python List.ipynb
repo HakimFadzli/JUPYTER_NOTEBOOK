{
 "cells": [
  {
   "cell_type": "markdown",
   "metadata": {},
   "source": [
    "<h1>12 - Python Lists</h1>\n",
    "<hr>\n",
    "\n",
    "<h2>Python Collections (Arrays)</h2>\n",
    "<p>There are four collection data types in the Python programming language:</p>\n",
    "<ul>\n",
    "<li><strong>List</strong> is a collection which is ordered and changeable. Allows duplicate members.</li>\n",
    "<li><strong>Tuple</strong> is a collection which is ordered and unchangeable. Allows duplicate members.</li>\n",
    "<li><strong>Set</strong> is a collection which is unordered and unindexed. No duplicate members.</li>\n",
    "<li><strong>Dictionary</strong> is a collection which is unordered, changeable and indexed. No duplicate members.</li>\n",
    "</ul>\n",
    "\n",
    "<p>When choosing a collection type, it is useful to understand the properties of that type. Choosing the right type for a particular data set could mean retention of meaning, and, it could mean an increase in efficiency or security.</p>\n",
    "\n",
    "<h2>List</h2>\n",
    "<p>A list is a collection which is ordered and changeable. In Python lists are written with square brackets.</p>\n",
    "\n",
    "<h3>Example</h3>\n",
    "<p>Create a List:</p>\n",
    "<div class=\"w3-code notranslate pythonHigh\">\n",
    "thislist = [\"apple\", \"banana\", \"cherry\"]<br>\n",
    "print(thislist)\n",
    "</div>"
   ]
  },
  {
   "cell_type": "code",
   "execution_count": null,
   "metadata": {},
   "outputs": [],
   "source": [
    "thislist = [\"apple\", \"banana\", \"cherry\"]\n",
    "print(thislist)"
   ]
  },
  {
   "cell_type": "markdown",
   "metadata": {},
   "source": [
    "<hr>\n",
    "<h2>Access Items</h2>\n",
    "\n",
    "<p>You access the list items by referring to the index number:</p>\n",
    "\n",
    "\n",
    "<h3>Example</h3>\n",
    "<p>Print the second item of the list:</p>\n",
    "<div class=\"w3-code notranslate pythonHigh\">\n",
    "thislist = [&quot;apple&quot;, &quot;banana&quot;, &quot;cherry&quot;]<br>\n",
    "print(thislist[1])\n",
    "</div>"
   ]
  },
  {
   "cell_type": "code",
   "execution_count": null,
   "metadata": {},
   "outputs": [],
   "source": [
    "thislist = [\"apple\", \"banana\", \"cherry\"]\n",
    "print(thislist[2])"
   ]
  },
  {
   "cell_type": "markdown",
   "metadata": {},
   "source": [
    "<h3>Negative Indexing</h3>\n",
    "<p>Negative indexing means beginning from the end, <code class=\"w3-codespan\">-1</code> refers to the last item, \n",
    "<code class=\"w3-codespan\">-2</code> refers to the second last item etc.</p>\n",
    "\n",
    "\n",
    "<h3>Example</h3>\n",
    "<p>Print the last item of the list:</p>\n",
    "<div class=\"w3-code notranslate pythonHigh\">\n",
    "thislist = [&quot;apple&quot;, &quot;banana&quot;, &quot;cherry&quot;]<br>\n",
    "print(thislist[-1])\n",
    "</div>"
   ]
  },
  {
   "cell_type": "code",
   "execution_count": null,
   "metadata": {},
   "outputs": [],
   "source": [
    "thislist = [\"apple\", \"banana\", \"cherry\"]\n",
    "print(thislist[-1])"
   ]
  },
  {
   "cell_type": "markdown",
   "metadata": {},
   "source": [
    "<h3>Range of Indexes</h3>\n",
    "<p>You can specify a range of indexes by specifying where to start and where to \n",
    "end the range.</p>\n",
    "<p>When specifying a range, the return value will be a new list with the \n",
    "specified items.</p>\n",
    "\n",
    "\n",
    "<h3>Example</h3>\n",
    "<p>Return the third, fourth, and fifth item:</p>\n",
    "<div class=\"w3-code notranslate pythonHigh\">\n",
    "thislist = [&quot;apple&quot;, &quot;banana&quot;, &quot;cherry&quot;, &quot;orange&quot;, \n",
    "  &quot;kiwi&quot;, &quot;melon&quot;, &quot;mango&quot;]<br>\n",
    "print(thislist[2:5])\n",
    "</div>"
   ]
  },
  {
   "cell_type": "code",
   "execution_count": null,
   "metadata": {},
   "outputs": [],
   "source": [
    "thislist = [\"apple\", \"banana\", \"cherry\", \"orange\", \"kiwi\", \"melon\", \"mango\"]\n",
    "print(thislist[::-1])"
   ]
  },
  {
   "cell_type": "markdown",
   "metadata": {},
   "source": [
    "<div class=\"w3-panel w3-note\">\n",
    "  <p><strong>Note:</strong> The search will start at index 2 (included) and end at index 5 (not included).</p>\n",
    "</div>\n",
    "\n",
    "<div class=\"w3-panel w3-note\">\n",
    "  <p>Remember that the first item has index 0.</p>\n",
    "</div>\n",
    "\n",
    "<p>By leaving out the start value, the range will start at the first item:</p>\n",
    "\n",
    "\n",
    "<h3>Example</h3>\n",
    "<p>This example returns the items from the beginning to &quot;orange&quot;:</p>\n",
    "<div class=\"w3-code notranslate pythonHigh\">\n",
    "thislist = [&quot;quot;apple&quot;, &quot;banana&quot;, &quot;cherry&quot;, &quot;orange&quot;, \n",
    "  &quot;kiwi&quot;, &quot;melon&quot;, &quot;mango&quot;]<br>\n",
    "print(thislist[:4])\n",
    "</div>"
   ]
  },
  {
   "cell_type": "code",
   "execution_count": null,
   "metadata": {},
   "outputs": [],
   "source": [
    "thislist = [\"apple\", \"banana\", \"cherry\", \"orange\", \"kiwi\", \"melon\", \"mango\"]\n",
    "print(thislist[:])"
   ]
  },
  {
   "cell_type": "markdown",
   "metadata": {},
   "source": [
    "<p>By leaving out the end value, the range will go on to the end of the list:</p>\n",
    "\n",
    "\n",
    "<h3>Example</h3>\n",
    "<p>This example returns the items from &quot;cherry&quot; and to the end:</p>\n",
    "<div class=\"w3-code notranslate pythonHigh\">\n",
    "thislist = [&quot;apple&quot;, &quot;banana&quot;, &quot;cherry&quot;, &quot;orange&quot;, \n",
    "  &quot;kiwi&quot;, &quot;melon&quot;, &quot;mango&quot;]<br>\n",
    "print(thislist[2:])\n",
    "</div>"
   ]
  },
  {
   "cell_type": "markdown",
   "metadata": {},
   "source": [
    "<h3>Range of Negative Indexes</h3>\n",
    "<p>Specify negative indexes if you want to start the search from the end of the \n",
    "list:</p>\n",
    "\n",
    "\n",
    "<h3>Example</h3>\n",
    "<p>This example returns the items from index -4 (included) to index -1 (excluded)</p>\n",
    "<div class=\"w3-code notranslate pythonHigh\">\n",
    "thislist = [&quot;apple&quot;, &quot;banana&quot;, &quot;cherry&quot;, &quot;orange&quot;, \n",
    "  &quot;kiwi&quot;, &quot;melon&quot;, &quot;mango&quot;]<br>\n",
    "print(thislist[-4:-1])\n",
    "</div>"
   ]
  },
  {
   "cell_type": "code",
   "execution_count": null,
   "metadata": {},
   "outputs": [],
   "source": [
    "thislist = [\"apple\", \"banana\", \"cherry\", \"orange\", \"kiwi\", \"melon\", \"mango\"]\n",
    "print(thislist[::-1])"
   ]
  },
  {
   "cell_type": "markdown",
   "metadata": {},
   "source": [
    "## x = '123456789'\n",
    "print(x[::-1])"
   ]
  },
  {
   "cell_type": "code",
   "execution_count": null,
   "metadata": {},
   "outputs": [],
   "source": [
    "def palindromKeTak(s):\n",
    "    pal=s.lower()\n",
    "    if pal == pal[::-1]:\n",
    "        print(\"Yes\")\n",
    "        return True\n",
    "    else:\n",
    "        print(\"No\")\n",
    "        return False\n",
    "    \n",
    " \n",
    " \n",
    "# Driver code\n",
    "s = \"KAyak\"\n",
    "palindromKeTak(s)\n",
    "\n"
   ]
  },
  {
   "cell_type": "markdown",
   "metadata": {},
   "source": [
    "<hr>\n",
    "<h2>Change Item Value</h2>\n",
    "\n",
    "To change the value of a specific item, \n",
    "refer to the index number:\n",
    "<h3>Example</h3>\n",
    "<p>Change the second item:</p>\n",
    "<div class=\"w3-code notranslate pythonHigh\">\n",
    "thislist = [\"apple\", \"banana\", \"cherry\"]<br>\n",
    "thislist[1] = \"blackcurrant\"<br>\n",
    "print(thislist)\n",
    "</div>"
   ]
  },
  {
   "cell_type": "code",
   "execution_count": null,
   "metadata": {},
   "outputs": [],
   "source": [
    "thislist = [\"apple\", \"banana\", \"cherry\"]\n",
    "thislist[1] = \"blackcurrant\"\n",
    "print(thislist)"
   ]
  },
  {
   "cell_type": "markdown",
   "metadata": {},
   "source": [
    "<hr>\n",
    "\n",
    "<h2>Loop Through a List</h2>\n",
    "\n",
    "<p>You can loop through the list items by using a <code class=\"w3-codespan\">for</code> \n",
    "loop:</p>\n",
    "\n",
    "\n",
    "<h3>Example</h3>\n",
    "<p>Print all items in the list, one by one:</p>\n",
    "<div class=\"w3-code notranslate pythonHigh\">\n",
    "thislist = [&quot;apple&quot;, &quot;banana&quot;, &quot;cherry&quot;]<br>\n",
    "  for x in thislist:<br>&nbsp; print(x)</div>"
   ]
  },
  {
   "cell_type": "code",
   "execution_count": null,
   "metadata": {},
   "outputs": [],
   "source": [
    "thislist = [\"apple\", \"banana\", \"cherry\"]\n",
    "for anything in thislist:\n",
    "  print(anything)"
   ]
  },
  {
   "cell_type": "markdown",
   "metadata": {},
   "source": [
    "<p>You will learn more about for loops in Python For Loops Chapter.</p>\n",
    "<hr>\n",
    "\n",
    "<h2>Check if Item Exists</h2>\n",
    "\n",
    "<p>To determine if a specified item is present in a list use the <code class=\"w3-codespan\">in</code> keyword:</p>\n",
    "\n",
    "\n",
    "<h3>Example</h3>\n",
    "<p>Check if \"apple\" is present in the list:</p>\n",
    "<div class=\"w3-code notranslate pythonHigh\">\n",
    "thislist = [&quot;apple&quot;, &quot;banana&quot;, &quot;cherry&quot;]<br>\n",
    "  if &quot;apple&quot; in thislist:<br>&nbsp; print(&quot;Yes, 'apple' is in the fruits list&quot;)</div>"
   ]
  },
  {
   "cell_type": "code",
   "execution_count": null,
   "metadata": {},
   "outputs": [],
   "source": [
    "thislist = [\"apple\", \"banana\", \"cherry\"]\n",
    "if \"apple\" in thislist:\n",
    "  print(\"Yes, 'apple' is in the fruits list\")"
   ]
  },
  {
   "cell_type": "markdown",
   "metadata": {},
   "source": [
    "<h2>List Length</h2>\n",
    "\n",
    "<p>To determine how many items a list has, use the <code class=\"w3-codespan\">\n",
    "len()</code> function:</p>\n",
    "\n",
    "\n",
    "<h3>Example</h3>\n",
    "<p>Print the number of items in the list:</p>\n",
    "<div class=\"w3-code notranslate pythonHigh\">\n",
    "thislist = [&quot;apple&quot;, &quot;banana&quot;, &quot;cherry&quot;]<br>\n",
    "print(len(thislist))\n",
    "</div>"
   ]
  },
  {
   "cell_type": "code",
   "execution_count": null,
   "metadata": {},
   "outputs": [],
   "source": [
    "thislist = [\"apple\", \"banana\", \"cherry\", \"durian\",\"plum\"]\n",
    "print(len(thislist))"
   ]
  },
  {
   "cell_type": "code",
   "execution_count": null,
   "metadata": {},
   "outputs": [],
   "source": [
    "text = ['saya', 'suka', 'makan', 'nasi']"
   ]
  },
  {
   "cell_type": "code",
   "execution_count": null,
   "metadata": {},
   "outputs": [],
   "source": [
    "print (len(text))"
   ]
  },
  {
   "cell_type": "markdown",
   "metadata": {},
   "source": [
    "<hr>\n",
    "\n",
    "<h2>Add Items</h2>\n",
    "\n",
    "<p>To add an item to the end of the list, use the <span class=\"w3-codespan\">append()</span> \n",
    "method:</p>\n",
    "\n",
    "\n",
    "<h3>Example</h3>\n",
    "<p>Using the <code class=\"w3-codespan\">append()</code> method to append an item:</p>\n",
    "<div class=\"w3-code notranslate pythonHigh\">\n",
    "thislist = [&quot;apple&quot;, &quot;banana&quot;, &quot;cherry&quot;]<br>\n",
    "thislist.append(\"orange\")<br>\n",
    "print(thislist)\n",
    "</div>"
   ]
  },
  {
   "cell_type": "code",
   "execution_count": null,
   "metadata": {},
   "outputs": [],
   "source": [
    "thislist = [1, 2, 3]\n",
    "thislist.append(4)\n",
    "print(thislist)"
   ]
  },
  {
   "cell_type": "code",
   "execution_count": null,
   "metadata": {},
   "outputs": [],
   "source": [
    "anotherlist = [5,6]\n",
    "\n",
    "appendlist = thislist+anotherlist\n",
    "\n",
    "print(appendlist)"
   ]
  },
  {
   "cell_type": "markdown",
   "metadata": {},
   "source": [
    "<p>To add an item at the specified index, use the <span class=\"w3-codespan\">insert()</span> method:</p>\n",
    "\n",
    "\n",
    "<h3>Example</h3>\n",
    "<p>Insert an item as the second position:</p>\n",
    "<div class=\"w3-code notranslate pythonHigh\">\n",
    "thislist = [&quot;apple&quot;, &quot;banana&quot;, &quot;cherry&quot;]<br>\n",
    "thislist.insert(1, \"orange\")<br>\n",
    "print(thislist)\n",
    "</div>"
   ]
  },
  {
   "cell_type": "code",
   "execution_count": 90,
   "metadata": {},
   "outputs": [
    {
     "name": "stdout",
     "output_type": "stream",
     "text": [
      "['apple', 'banana', 'orange', 'cherry']\n"
     ]
    }
   ],
   "source": [
    "thislist = [\"apple\", \"banana\", \"cherry\"]\n",
    "thislist.insert(2, \"orange\")\n",
    "print(thislist)"
   ]
  },
  {
   "cell_type": "markdown",
   "metadata": {},
   "source": [
    "<hr>\n",
    "\n",
    "<h2>Remove Item</h2>\n",
    "\n",
    "<p>There are several methods to remove items from a list:</p>\n",
    "\n",
    "\n",
    "<h3>Example</h3>\n",
    "<p>The <code class=\"w3-codespan\">remove()</code> method removes the specified item:</p>\n",
    "<div class=\"w3-code notranslate pythonHigh\">\n",
    "thislist = [&quot;apple&quot;, &quot;banana&quot;, &quot;cherry&quot;]<br>\n",
    "thislist.remove(\"banana\")<br>\n",
    "print(thislist)\n",
    "</div>"
   ]
  },
  {
   "cell_type": "code",
   "execution_count": 93,
   "metadata": {},
   "outputs": [
    {
     "name": "stdout",
     "output_type": "stream",
     "text": [
      "['apple', 'cherry']\n"
     ]
    }
   ],
   "source": [
    "thislist = [\"apple\", \"banana\", \"cherry\",\"banana\"]\n",
    "thislist.remove(\"banana\")\n",
    "thislist.remove(\"banana\")\n",
    "print(thislist)"
   ]
  },
  {
   "cell_type": "markdown",
   "metadata": {},
   "source": [
    "<h3>Example</h3>\n",
    "<p>The <code class=\"w3-codespan\">pop()</code> method removes the specified \n",
    "index, (or the last item if index is not specified):</p>\n",
    "<div class=\"w3-code notranslate pythonHigh\">\n",
    "thislist = [&quot;apple&quot;, &quot;banana&quot;, &quot;cherry&quot;]<br>\n",
    "thislist.pop()<br>\n",
    "print(thislist)\n",
    "</div>"
   ]
  },
  {
   "cell_type": "code",
   "execution_count": 95,
   "metadata": {},
   "outputs": [
    {
     "name": "stdout",
     "output_type": "stream",
     "text": [
      "['apple', 'banana']\n"
     ]
    }
   ],
   "source": [
    "thislist = [\"apple\", \"banana\", \"cherry\"]\n",
    "thislist.pop()\n",
    "print(thislist)"
   ]
  },
  {
   "cell_type": "markdown",
   "metadata": {},
   "source": [
    "<h3>Example</h3>\n",
    "<p>The <code class=\"w3-codespan\">del</code> keyword removes the specified \n",
    "index:</p>\n",
    "<div class=\"w3-code notranslate pythonHigh\">\n",
    "thislist = [&quot;apple&quot;, &quot;banana&quot;, &quot;cherry&quot;]<br>\n",
    "  del\n",
    "thislist[0]<br>print(thislist)\n",
    "</div>"
   ]
  },
  {
   "cell_type": "code",
   "execution_count": 100,
   "metadata": {},
   "outputs": [
    {
     "name": "stdout",
     "output_type": "stream",
     "text": [
      "['apple', 'banana']\n"
     ]
    }
   ],
   "source": [
    "thislist = [\"apple\", \"banana\", \"cherry\"]\n",
    "del thislist[2]\n",
    "print(thislist)"
   ]
  },
  {
   "cell_type": "markdown",
   "metadata": {},
   "source": [
    "<h3>Example</h3>\n",
    "<p>The <code class=\"w3-codespan\">del</code> keyword can also delete the list \n",
    "completely:</p>\n",
    "<div class=\"w3-code notranslate pythonHigh\">\n",
    "thislist = [&quot;apple&quot;, &quot;banana&quot;, &quot;cherry&quot;]<br>\n",
    "  del\n",
    "thislist</div>"
   ]
  },
  {
   "cell_type": "code",
   "execution_count": 101,
   "metadata": {},
   "outputs": [],
   "source": [
    "thislist = [\"apple\", \"banana\", \"cherry\"]\n",
    "del thislist"
   ]
  },
  {
   "cell_type": "markdown",
   "metadata": {},
   "source": [
    "<h3>Example</h3>\n",
    "<p>The <code class=\"w3-codespan\">clear()</code> method empties the list:</p>\n",
    "<div class=\"w3-code notranslate pythonHigh\">\n",
    "thislist = [&quot;apple&quot;, &quot;banana&quot;, &quot;cherry&quot;]<br>\n",
    "  thislist.clear()<br>print(thislist)\n",
    "</div>"
   ]
  },
  {
   "cell_type": "code",
   "execution_count": 102,
   "metadata": {},
   "outputs": [
    {
     "name": "stdout",
     "output_type": "stream",
     "text": [
      "[]\n"
     ]
    }
   ],
   "source": [
    "thislist = [\"apple\", \"banana\", \"cherry\"]\n",
    "thislist.clear()\n",
    "print(thislist)"
   ]
  },
  {
   "cell_type": "markdown",
   "metadata": {},
   "source": [
    "<hr>\n",
    "\n",
    "<h2>Copy a List</h2>\n",
    "<p>You cannot copy a list simply by typing <code class=\"w3-codespan\">list2 = \n",
    "list1</code>, because: <code class=\"w3-codespan\">list2</code> will only be a <em>\n",
    "reference</em> to <code class=\"w3-codespan\">list1</code>, and changes made in\n",
    "<code class=\"w3-codespan\">list1</code> will automatically also be made in\n",
    "<code class=\"w3-codespan\">list2</code>.</p>\n",
    "\n",
    "<p>There are ways to make a copy, one way is to use the built-in List \n",
    "method <code class=\"w3-codespan\">\n",
    "copy()</code>.</p>\n",
    "\n",
    "\n",
    "<h3>Example</h3>\n",
    "<p>Make a copy of a list with the <code class=\"w3-codespan\">copy()</code> method:</p>\n",
    "<div class=\"w3-code notranslate pythonHigh\">\n",
    "thislist = [&quot;apple&quot;, &quot;banana&quot;, &quot;cherry&quot;]<br>mylist \n",
    "  = thislist.copy()<br>\n",
    "  print(mylist)\n",
    "</div>"
   ]
  },
  {
   "cell_type": "code",
   "execution_count": 103,
   "metadata": {},
   "outputs": [
    {
     "name": "stdout",
     "output_type": "stream",
     "text": [
      "['apple', 'banana', 'cherry']\n"
     ]
    }
   ],
   "source": [
    "thislist = [\"apple\", \"banana\", \"cherry\"]\n",
    "mylist = thislist.copy()\n",
    "print(mylist)"
   ]
  },
  {
   "cell_type": "markdown",
   "metadata": {},
   "source": [
    "<p>Another way to make a copy is to use the built-in method <code class=\"w3-codespan\">list()</code>.</p>\n",
    "\n",
    "\n",
    "<h3>Example</h3>\n",
    "<p>Make a copy of a list with the <code class=\"w3-codespan\">list()</code> method:</p>\n",
    "<div class=\"w3-code notranslate pythonHigh\">\n",
    "thislist = [&quot;apple&quot;, &quot;banana&quot;, &quot;cherry&quot;]<br>mylist \n",
    "  = list(thislist)<br>\n",
    "  print(mylist)\n",
    "</div>"
   ]
  },
  {
   "cell_type": "code",
   "execution_count": 104,
   "metadata": {},
   "outputs": [
    {
     "name": "stdout",
     "output_type": "stream",
     "text": [
      "['apple', 'banana', 'cherry']\n"
     ]
    }
   ],
   "source": [
    "thislist = [\"apple\", \"banana\", \"cherry\"]\n",
    "mylist = list(thislist)\n",
    "print(mylist)"
   ]
  },
  {
   "cell_type": "markdown",
   "metadata": {},
   "source": [
    "<hr>\n",
    "\n",
    "<h2>Join Two Lists</h2>\n",
    "<p>There are several ways to join, or concatenate, two or more lists in Python.</p>\n",
    "<p>One of the easiest ways are by using the <code class=\"w3-codespan\">+</code> \n",
    "operator.</p>\n",
    "\n",
    "\n",
    "<h3>Example</h3>\n",
    "<p>Join two list:</p>\n",
    "<div class=\"w3-code notranslate pythonHigh\">\n",
    "  list1 = [&quot;a&quot;, &quot;b&quot; , &quot;c&quot;]<br>list2 = [1, 2, 3]<br><br>list3 = list1 + list2<br>\n",
    "  print(list3)</div>"
   ]
  },
  {
   "cell_type": "code",
   "execution_count": 126,
   "metadata": {},
   "outputs": [
    {
     "name": "stdout",
     "output_type": "stream",
     "text": [
      "[1, 2, 3, 4, 5, 6, 7, 8, 9]\n"
     ]
    }
   ],
   "source": [
    "list1 = [3, 4 , 7, 5]\n",
    "list2 = [8, 1, 2, 9, 6]\n",
    "\n",
    "list3 = list1 + list2\n",
    "list3.sort()\n",
    "print(list3)"
   ]
  },
  {
   "cell_type": "markdown",
   "metadata": {},
   "source": [
    "<p>Another way to join two lists are by appending all the items from list2 into \n",
    "list1, one by one:</p>\n",
    "\n",
    "\n",
    "<h3>Example</h3>\n",
    "<p>Append list2 into list1:</p>\n",
    "<div class=\"w3-code notranslate pythonHigh\">\n",
    "  list1 = [&quot;a&quot;, &quot;b&quot; , &quot;c&quot;]<br>list2 = [1, 2, 3]<br>\n",
    "  <br>for x in list2:<br>&nbsp; list1.append(x)<br><br>print(list1)</div>"
   ]
  },
  {
   "cell_type": "code",
   "execution_count": 109,
   "metadata": {},
   "outputs": [
    {
     "name": "stdout",
     "output_type": "stream",
     "text": [
      "['a', 'b', 'c', 1, 2, 3]\n"
     ]
    }
   ],
   "source": [
    "list1 = [\"a\", \"b\" , \"c\"]\n",
    "list2 = [1, 2, 3]\n",
    "\n",
    "for x in list2:\n",
    "  list1.append(x)\n",
    "\n",
    "print(list1)"
   ]
  },
  {
   "cell_type": "markdown",
   "metadata": {},
   "source": [
    "<p>Or you can use the <code class=\"w3-codespan\">extend()</code> \n",
    "method, \n",
    "which purpose is to add elements from one list to another \n",
    "list:</p>\n",
    "\n",
    "\n",
    "<h3>Example</h3>\n",
    "<p>Use the <code class=\"w3-codespan\">extend()</code> method to add list2 at the end of list1:</p>\n",
    "<div class=\"w3-code notranslate pythonHigh\">\n",
    "  list1 = [&quot;a&quot;, &quot;b&quot; , &quot;c&quot;]<br>list2 = [1, 2, 3]<br><br>list1.extend(list2)<br>\n",
    "  print(list1)</div>"
   ]
  },
  {
   "cell_type": "code",
   "execution_count": 110,
   "metadata": {},
   "outputs": [
    {
     "name": "stdout",
     "output_type": "stream",
     "text": [
      "['a', 'b', 'c', 1, 2, 3]\n"
     ]
    }
   ],
   "source": [
    "list1 = [\"a\", \"b\" , \"c\"]\n",
    "list2 = [1, 2, 3]\n",
    "\n",
    "list1.extend(list2)\n",
    "print(list1)"
   ]
  },
  {
   "cell_type": "markdown",
   "metadata": {},
   "source": [
    "<hr>\n",
    "\n",
    "<h2>The list() Constructor</h2>\n",
    "\n",
    "<p>It is also possible to use the <span class=\"w3-codespan\">list()</span> constructor to make a \n",
    "new list.</p>\n",
    "\n",
    "\n",
    "<h3>Example</h3>\n",
    "<p>Using the <code class=\"w3-codespan\">list()</code> constructor to make a List:</p>\n",
    "<div class=\"w3-code notranslate pythonHigh\">\n",
    "thislist = list((\"apple\", \"banana\", \"cherry\")) # note the double round-brackets<br>\n",
    "print(thislist)\n",
    "</div>"
   ]
  },
  {
   "cell_type": "code",
   "execution_count": 113,
   "metadata": {},
   "outputs": [
    {
     "name": "stdout",
     "output_type": "stream",
     "text": [
      "['apple', 'banana', 'cherry']\n",
      "<class 'list'>\n"
     ]
    }
   ],
   "source": [
    "thislist = list((\"apple\", \"banana\", \"cherry\")) # note the double round-brackets\n",
    "print(thislist)\n",
    "print(type(thislist))"
   ]
  },
  {
   "cell_type": "markdown",
   "metadata": {},
   "source": [
    "<hr>\n",
    "\n",
    "<h2>List Methods</h2>\n",
    "<p>Python has a set of built-in methods that you can use on lists.</p>\n",
    "\n",
    "<table class=\"w3-table-all notranslate\" align=\"left\">\n",
    "<tr>\n",
    "<th>Method</th>\n",
    "<th>Description</th>\n",
    "</tr>\n",
    "<tr><td><a href=\"ref_list_append.asp\">append()</a></td><td>Adds an element at \n",
    "  the end of the list</td></tr>\n",
    "<tr><td><a href=\"ref_list_clear.asp\">clear()</a></td><td>Removes all the \n",
    "  elements from the list</td></tr>\n",
    "<tr><td><a href=\"ref_list_copy.asp\">copy()</a></td><td>Returns a copy of the \n",
    "  list</td></tr>\n",
    "<tr><td><a href=\"ref_list_count.asp\">count()</a></td><td>Returns the number of \n",
    "  elements with the specified value</td></tr>\n",
    "<tr><td><a href=\"ref_list_extend.asp\">extend()</a></td><td>Add the elements of a \n",
    "  list (or any iterable), to the end of the current list</td></tr>\n",
    "<tr><td><a href=\"ref_list_index.asp\">index()</a></td><td>Returns the index of \n",
    "  the first element with the specified value</td></tr>\n",
    "<tr><td><a href=\"ref_list_insert.asp\">insert()</a></td><td>Adds an element at \n",
    "  the specified position</td></tr>\n",
    "<tr><td><a href=\"ref_list_pop.asp\">pop()</a></td><td>Removes the element at the \n",
    "  specified position</td></tr>\n",
    "<tr><td><a href=\"ref_list_remove.asp\">remove()</a></td><td>Removes the  \n",
    "  item with the specified value</td></tr>\n",
    "<tr><td><a href=\"ref_list_reverse.asp\">reverse()</a></td><td>Reverses the order \n",
    "  of the list</td></tr>\n",
    "<tr><td><a href=\"ref_list_sort.asp\">sort()</a></td><td>Sorts the list</td></tr>\n",
    "</table>\n"
   ]
  },
  {
   "cell_type": "markdown",
   "metadata": {},
   "source": [
    "<hr>\n",
    "<h2>Test Yourself With Exercises</h2>\n",
    "<h2>Exercise:</h2>\n",
    "<p>Print the second item in the <code class=\"w3-codespan\">fruits</code> list.</p>\n",
    "<div class=\"exerciseprecontainer\">\n",
    "<pre>\n",
    "fruits = [\"apple\", <br class=\"phonebr\">\"banana\", <br class=\"phonebr\">\"cherry\"]\n",
    "print(<input name=\"ex1\" value=\"??????????\" maxlength=\"9\" style=\"width: 96px;\">)\n",
    "</pre>\n",
    "</div>\n",
    "<br>\n"
   ]
  },
  {
   "cell_type": "code",
   "execution_count": null,
   "metadata": {},
   "outputs": [],
   "source": []
  }
 ],
 "metadata": {
  "kernelspec": {
   "display_name": "Python 3",
   "language": "python",
   "name": "python3"
  },
  "language_info": {
   "codemirror_mode": {
    "name": "ipython",
    "version": 3
   },
   "file_extension": ".py",
   "mimetype": "text/x-python",
   "name": "python",
   "nbconvert_exporter": "python",
   "pygments_lexer": "ipython3",
   "version": "3.8.8"
  }
 },
 "nbformat": 4,
 "nbformat_minor": 2
}
