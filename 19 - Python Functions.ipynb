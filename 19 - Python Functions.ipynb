{
 "cells": [
  {
   "cell_type": "markdown",
   "metadata": {},
   "source": [
    "<h1>19 - Python Functions</h1>\n",
    "<hr>\n",
    "\n",
    "<p class=\"intro\">A function is a block of code which only runs when it is called.</p>\n",
    "<p class=\"intro\">You can pass data, known as parameters, into a function.</p>\n",
    "<p class=\"intro\">A function can return data as a result.</p>\n",
    "\n",
    "<hr>\n",
    "<h2>Creating a Function</h2>\n",
    "\n",
    "<p>In Python a function is defined using the <span class=\"w3-codespan\">def</span> \n",
    "keyword:</p>\n",
    "\n",
    "\n",
    "<h3>Example</h3>\n",
    "<div class=\"w3-code notranslate pythonHigh\">\n",
    "  def my_function():<br>&nbsp; print(&quot;Hello from a function&quot;)</div>\n",
    "</div>\n",
    "<hr>\n",
    "<h2>Calling a Function</h2>\n",
    "\n",
    "<p>To call a function, use the function name followed by parenthesis:</p>\n",
    "\n",
    "\n",
    "<h3>Example</h3>\n",
    "<div class=\"w3-code notranslate pythonHigh\">\n",
    "  def my_function():<br>&nbsp; print(&quot;Hello from a function&quot;)<br><br>\n",
    "  <strong>my_function()</strong></div>"
   ]
  },
  {
   "cell_type": "code",
   "execution_count": 3,
   "metadata": {},
   "outputs": [],
   "source": [
    "def razif():\n",
    "    print(\"Hello from a function\")"
   ]
  },
  {
   "cell_type": "code",
   "execution_count": 5,
   "metadata": {},
   "outputs": [
    {
     "name": "stdout",
     "output_type": "stream",
     "text": [
      "Hello from a function\n",
      "Hello from a function\n"
     ]
    }
   ],
   "source": [
    "razif()\n",
    "razif()"
   ]
  },
  {
   "cell_type": "markdown",
   "metadata": {},
   "source": [
    "<hr>\n",
    "<h2>Arguments</h2>\n",
    "\n",
    "<p>Information can be passed into functions as arguments.</p>\n",
    "<p>Arguments are specified after the function name, inside the parentheses.\n",
    "You can add as many arguments as you want, just separate them with a comma.</p>\n",
    "<p>\n",
    "The following example has a function with one argument (fname).\n",
    "When the function is called, we pass along a first name,\n",
    "which is used inside the function to print the full name:\n",
    "</p>\n",
    "\n",
    "\n",
    "<h3>Example</h3>\n",
    "<div class=\"w3-code notranslate pythonHigh\">\n",
    "  def my_function(<strong>fname</strong>):<br>&nbsp; print(fname + &quot; Refsnes&quot;)<br><br>\n",
    "  my_function(<strong>&quot;Emil&quot;</strong>)<br>my_function(<strong>&quot;Tobias&quot;</strong>)<br>my_function(<strong>&quot;Linus&quot;</strong>)</div>"
   ]
  },
  {
   "cell_type": "code",
   "execution_count": 7,
   "metadata": {},
   "outputs": [
    {
     "ename": "TypeError",
     "evalue": "my_function() missing 1 required positional argument: 'fname'",
     "output_type": "error",
     "traceback": [
      "\u001b[1;31m---------------------------------------------------------------------------\u001b[0m",
      "\u001b[1;31mTypeError\u001b[0m                                 Traceback (most recent call last)",
      "\u001b[1;32m<ipython-input-7-c14940b42fe2>\u001b[0m in \u001b[0;36m<module>\u001b[1;34m\u001b[0m\n\u001b[0;32m      2\u001b[0m   \u001b[0mprint\u001b[0m\u001b[1;33m(\u001b[0m\u001b[0mfname\u001b[0m \u001b[1;33m+\u001b[0m \u001b[1;34m\" Refsnes\"\u001b[0m\u001b[1;33m)\u001b[0m\u001b[1;33m\u001b[0m\u001b[1;33m\u001b[0m\u001b[0m\n\u001b[0;32m      3\u001b[0m \u001b[1;33m\u001b[0m\u001b[0m\n\u001b[1;32m----> 4\u001b[1;33m \u001b[0mmy_function\u001b[0m\u001b[1;33m(\u001b[0m\u001b[1;33m)\u001b[0m\u001b[1;33m\u001b[0m\u001b[1;33m\u001b[0m\u001b[0m\n\u001b[0m\u001b[0;32m      5\u001b[0m \u001b[0mmy_function\u001b[0m\u001b[1;33m(\u001b[0m\u001b[1;34m\"Tobias\"\u001b[0m\u001b[1;33m)\u001b[0m\u001b[1;33m\u001b[0m\u001b[1;33m\u001b[0m\u001b[0m\n\u001b[0;32m      6\u001b[0m \u001b[0mmy_function\u001b[0m\u001b[1;33m(\u001b[0m\u001b[1;34m\"Linus\"\u001b[0m\u001b[1;33m)\u001b[0m\u001b[1;33m\u001b[0m\u001b[1;33m\u001b[0m\u001b[0m\n",
      "\u001b[1;31mTypeError\u001b[0m: my_function() missing 1 required positional argument: 'fname'"
     ]
    }
   ],
   "source": [
    "def my_function(fname):\n",
    "  print(fname + \" Refsnes\")\n",
    "\n",
    "my_function()\n",
    "my_function(\"Tobias\")\n",
    "my_function(\"Linus\")"
   ]
  },
  {
   "cell_type": "code",
   "execution_count": null,
   "metadata": {},
   "outputs": [],
   "source": []
  },
  {
   "cell_type": "markdown",
   "metadata": {},
   "source": [
    "<div class=\"w3-panel w3-note\">\n",
    "  <p><em>Arguments</em> are often shortened to <em>args</em> in Python documentations.</p>\n",
    "</div>\n",
    "\n",
    "<hr>\n",
    "<h2>Parameters or Arguments?</h2>\n",
    "\n",
    "<p>The terms <em>parameter</em> and <em>argument</em> can be used for the same thing: information that are passed into a function.</p>\n",
    "\n",
    "<div class=\"w3-panel w3-note\">\n",
    "  <p>From a function's perspective:</p>\n",
    "  <p>A parameter is the variable listed inside the parentheses in the function definition.</p>\n",
    "  <p>An argument is the value that is sent to the function when it is called.</p>\n",
    "</div>\n",
    "<hr>\n",
    "\n",
    "<h2>Number of Arguments</h2>\n",
    "\n",
    "<p>By default, a function must be called with the correct number of arguments. \n",
    "Meaning that if your function expects 2 arguments, you have to call the function \n",
    "with 2 arguments, not more, and not less. </p>\n",
    "\n",
    "\n",
    "<h3>Example</h3>\n",
    "  <p>This function expects 2 arguments, and gets 2 arguments:</p>\n",
    "<div class=\"w3-code notranslate pythonHigh\">\n",
    "  def my_function(fname, lname):<br>&nbsp; print(fname + &quot; &quot; + lname)<br><br>\n",
    "  my_function(&quot;Emil&quot;, &quot;Refsnes&quot;)</div>"
   ]
  },
  {
   "cell_type": "code",
   "execution_count": 9,
   "metadata": {},
   "outputs": [
    {
     "name": "stdout",
     "output_type": "stream",
     "text": [
      "Emil Refsnes\n"
     ]
    }
   ],
   "source": [
    "def my_function(fname, lname):\n",
    "  print(fname + \" \" + lname)\n",
    "\n",
    "my_function(\"Emil\", \"Refsnes\")"
   ]
  },
  {
   "cell_type": "markdown",
   "metadata": {},
   "source": [
    "If you try to call the function with 1 or 3 arguments, you will get an error:\n",
    "\n",
    "<div class=\"w3-example w3-pale-red\">\n",
    "<h3>Example</h3>\n",
    "  <p>This function expects 2 arguments, but gets only 1:</p>\n",
    "<div class=\"w3-code notranslate pythonHigh w3-border-red\">\n",
    "  def my_function(fname, lname):<br>&nbsp; print(fname + &quot; &quot; + lname)<br><br>\n",
    "  my_function(&quot;Emil&quot;)</div>"
   ]
  },
  {
   "cell_type": "code",
   "execution_count": 10,
   "metadata": {},
   "outputs": [
    {
     "ename": "TypeError",
     "evalue": "my_function() missing 1 required positional argument: 'lname'",
     "output_type": "error",
     "traceback": [
      "\u001b[1;31m---------------------------------------------------------------------------\u001b[0m",
      "\u001b[1;31mTypeError\u001b[0m                                 Traceback (most recent call last)",
      "\u001b[1;32m<ipython-input-10-49655f8043be>\u001b[0m in \u001b[0;36m<module>\u001b[1;34m\u001b[0m\n\u001b[0;32m      2\u001b[0m   \u001b[0mprint\u001b[0m\u001b[1;33m(\u001b[0m\u001b[0mfname\u001b[0m \u001b[1;33m+\u001b[0m \u001b[1;34m\" \"\u001b[0m \u001b[1;33m+\u001b[0m \u001b[0mlname\u001b[0m\u001b[1;33m)\u001b[0m\u001b[1;33m\u001b[0m\u001b[1;33m\u001b[0m\u001b[0m\n\u001b[0;32m      3\u001b[0m \u001b[1;33m\u001b[0m\u001b[0m\n\u001b[1;32m----> 4\u001b[1;33m \u001b[0mmy_function\u001b[0m\u001b[1;33m(\u001b[0m\u001b[1;34m\"Emil\"\u001b[0m\u001b[1;33m)\u001b[0m\u001b[1;33m\u001b[0m\u001b[1;33m\u001b[0m\u001b[0m\n\u001b[0m",
      "\u001b[1;31mTypeError\u001b[0m: my_function() missing 1 required positional argument: 'lname'"
     ]
    }
   ],
   "source": [
    "def my_function(fname, lname):\n",
    "  print(fname + \" \" + lname)\n",
    "\n",
    "my_function(\"Emil\")\n"
   ]
  },
  {
   "cell_type": "markdown",
   "metadata": {},
   "source": [
    "<hr>\n",
    "<h2>Arbitrary Arguments, *args</h2>\n",
    "\n",
    "<p>If you do not know how many arguments that will be passed into your function,\n",
    "add a <code class=\"w3-codespan\">*</code> before the parameter name in the function definition.</p>\n",
    "\n",
    "\n",
    "\n",
    "<p>This way the function will receive a <em>tuple</em> of arguments, and can access the items accordingly:</p>\n",
    "\n",
    "\n",
    "<h3>Example</h3>\n",
    "  <p>If the number of arguments is unknown, add a <code class=\"w3-codespan\">*</code> before the parameter name:</p>\n",
    "<div class=\"w3-code notranslate pythonHigh\">\n",
    "  def my_function(*kids):<br>&nbsp; print(&quot;The youngest child \n",
    "  is &quot; + kids[2])<br><br>\n",
    "  my_function(&quot;Emil&quot;, &quot;Tobias&quot;, &quot;Linus&quot;)</div>"
   ]
  },
  {
   "cell_type": "code",
   "execution_count": 11,
   "metadata": {},
   "outputs": [
    {
     "name": "stdout",
     "output_type": "stream",
     "text": [
      "The youngest child is Linus\n"
     ]
    }
   ],
   "source": [
    "def my_function(*kids):\n",
    "  print(\"The youngest child is \" + kids[2])\n",
    "\n",
    "my_function(\"Emil\", \"Tobias\", \"Linus\", \"Alice\")"
   ]
  },
  {
   "cell_type": "code",
   "execution_count": 13,
   "metadata": {},
   "outputs": [],
   "source": [
    "def my_function(*kids):\n",
    "    i=0\n",
    "    for x in kids:\n",
    "        i+=1\n",
    "    else:\n",
    "        print(\"The youngest child is \" + kids[i-1])"
   ]
  },
  {
   "cell_type": "code",
   "execution_count": 15,
   "metadata": {},
   "outputs": [
    {
     "name": "stdout",
     "output_type": "stream",
     "text": [
      "The youngest child is New Kid\n"
     ]
    }
   ],
   "source": [
    "my_function(\"Emil\", \"Tobias\", \"Linus\", \"Alice\",\"Popo\",\"New Kid\")"
   ]
  },
  {
   "cell_type": "markdown",
   "metadata": {},
   "source": [
    "<div class=\"w3-panel w3-note\">\n",
    "  <p><em>Arbitrary Arguments</em> are often shortened to <em>*args</em> in Python documentations.</p>\n",
    "</div>\n",
    "<hr>\n",
    "\n",
    "<h2>Keyword Arguments</h2>\n",
    "\n",
    "<p>You can also send arguments with the <em>key</em> = <em>value</em> syntax.</p>\n",
    "<p>This way the order of the arguments does not matter.</p>\n",
    "\n",
    "\n",
    "<h3>Example</h3>\n",
    "<div class=\"w3-code notranslate pythonHigh\">\n",
    "  def my_function(child3, child2, child1):<br>&nbsp; print(&quot;The youngest child \n",
    "  is &quot; + child3)<br><br>\n",
    "  my_function(child1 = &quot;Emil&quot;, child2 = &quot;Tobias&quot;, child3 = &quot;Linus&quot;)</div>"
   ]
  },
  {
   "cell_type": "code",
   "execution_count": 16,
   "metadata": {},
   "outputs": [
    {
     "name": "stdout",
     "output_type": "stream",
     "text": [
      "The youngest child is Linus\n"
     ]
    }
   ],
   "source": [
    "def my_function(child3, child2, child1):\n",
    "  print(\"The youngest child is \" + child3)\n",
    "\n",
    "my_function(child1 = \"Emil\",  child3 = \"Linus\", child2 = \"Tobias\")"
   ]
  },
  {
   "cell_type": "markdown",
   "metadata": {},
   "source": [
    "<div class=\"w3-panel w3-note\">\n",
    "  <p>The phrase <em>Keyword Arguments</em> are often shortened to <em>kwargs</em> in Python documentations.</p>\n",
    "</div>\n",
    "\n",
    "<hr>\n",
    "<h2>Arbitrary Keyword Arguments, **kwargs</h2>\n",
    "\n",
    "<p>If you do not know how many keyword arguments that will be passed into your function,\n",
    "add two asterisk: <code class=\"w3-codespan\">**</code> before the parameter name in the function definition.</p>\n",
    "\n",
    "\n",
    "\n",
    "<p>This way the function will receive a <em>dictionary</em> of arguments, and can access the items accordingly:</p>\n",
    "\n",
    "\n",
    "<h3>Example</h3>\n",
    "  <p>If the number of keyword arguments is unknown, add a double\n",
    "  <code class=\"w3-codespan\">**</code> before the parameter name:</p>\n",
    "<div class=\"w3-code notranslate pythonHigh\">\n",
    "  def my_function(**kid):<br>&nbsp; print(&quot;His last name is &quot; + kid[&quot;lname&quot;])<br>\n",
    "  <br>my_function(fname = &quot;Tobias&quot;, lname = &quot;Refsnes&quot;)</div>"
   ]
  },
  {
   "cell_type": "code",
   "execution_count": 20,
   "metadata": {},
   "outputs": [
    {
     "name": "stdout",
     "output_type": "stream",
     "text": [
      "His last name is Refsnes\n"
     ]
    }
   ],
   "source": [
    "def my_function(**kid):\n",
    "  print(\"His last name is \" + kid[\"lname\"])\n",
    "\n",
    "my_function(fname = \"Tobias\", mname = \"bin\", initial=\"Mr\", lname = \"Refsnes\")"
   ]
  },
  {
   "cell_type": "markdown",
   "metadata": {},
   "source": [
    "  <p><em>Arbitrary Kword Arguments</em> are often shortened to <em>**kwargs</em> in Python documentations.</p>\n",
    "</div>\n",
    "<hr>\n",
    "\n",
    "<h2>Default Parameter Value</h2>\n",
    "\n",
    "<p>The following example shows how to use a default parameter value.</p>\n",
    "<p>If we call the function without argument, it uses the default value:</p>\n",
    "\n",
    "\n",
    "<h3>Example</h3>\n",
    "<div class=\"w3-code notranslate pythonHigh\">\n",
    "  def my_function(<strong>country = &quot;Norway&quot;</strong>):<br>&nbsp; print(&quot;I am from &quot; + \n",
    "  country)<br><br>\n",
    "  my_function(&quot;Sweden&quot;)<br>my_function(&quot;India&quot;)<br>my_function()<br>my_function(&quot;Brazil&quot;)</div>"
   ]
  },
  {
   "cell_type": "code",
   "execution_count": 22,
   "metadata": {},
   "outputs": [
    {
     "name": "stdout",
     "output_type": "stream",
     "text": [
      "I am from Sweden\n",
      "I am from India\n",
      "I am from \n",
      "I am from Brazil\n"
     ]
    }
   ],
   "source": [
    "def my_function(country = \"\"):\n",
    "  print(\"I am from \" + country)\n",
    "\n",
    "my_function(\"Sweden\")\n",
    "my_function(\"India\")\n",
    "my_function()\n",
    "my_function(\"Brazil\")"
   ]
  },
  {
   "cell_type": "code",
   "execution_count": 26,
   "metadata": {},
   "outputs": [
    {
     "name": "stdout",
     "output_type": "stream",
     "text": [
      "I am from Sweden\n",
      "I am from India\n",
      "I am from Brazil\n"
     ]
    }
   ],
   "source": [
    "def my_function(country = \"xxxx\"):\n",
    "    if country is \"xxxx\":\n",
    "        pass\n",
    "    else:\n",
    "        print(\"I am from \" + country)\n",
    "\n",
    "my_function(\"Sweden\")\n",
    "my_function(\"India\")\n",
    "my_function()\n",
    "my_function(\"Brazil\")"
   ]
  },
  {
   "cell_type": "code",
   "execution_count": null,
   "metadata": {},
   "outputs": [],
   "source": []
  },
  {
   "cell_type": "markdown",
   "metadata": {},
   "source": [
    "<hr>\n",
    "<h2>Passing a List as an Argument</h2>\n",
    "\n",
    "<p>You can send any data types of argument to a function (string, number, list, dictionary etc.), \n",
    "and it will\n",
    "be treated as the same data type inside the function.</p>\n",
    "<p>E.g. if you send a List as an argument, it will still be a List when it \n",
    "reaches the function:</p>\n",
    "\n",
    "\n",
    "<h3>Example</h3>\n",
    "<div class=\"w3-code notranslate pythonHigh\">\n",
    "  def my_function(food):<br>&nbsp; for x in food:<br>&nbsp;&nbsp;&nbsp; \n",
    "  print(x)<br><br>fruits = [&quot;apple&quot;, &quot;banana&quot;, &quot;cherry&quot;]<br><br>\n",
    "  my_function(fruits)<br></div>"
   ]
  },
  {
   "cell_type": "code",
   "execution_count": 27,
   "metadata": {},
   "outputs": [
    {
     "name": "stdout",
     "output_type": "stream",
     "text": [
      "apple\n",
      "banana\n",
      "cherry\n"
     ]
    }
   ],
   "source": [
    "def my_function(food):\n",
    "    for x in food:\n",
    "        print(x)\n",
    "\n",
    "fruits = [\"apple\", \"banana\", \"cherry\"]\n",
    "\n",
    "my_function(fruits)"
   ]
  },
  {
   "cell_type": "markdown",
   "metadata": {},
   "source": [
    "<hr>\n",
    "<h2>Return Values</h2>\n",
    "\n",
    "<p>To let a function return a value, use the <code class=\"w3-codespan\">return</code> \n",
    "statement:</p>\n",
    "\n",
    "\n",
    "<h3>Example</h3>\n",
    "<div class=\"w3-code notranslate pythonHigh\">\n",
    "  def my_function(x):<br>&nbsp; <strong>return 5 * x<br></strong><br>print(my_function(3))<br>print(my_function(5))<br>\n",
    "  print(my_function(9))</div>"
   ]
  },
  {
   "cell_type": "code",
   "execution_count": 29,
   "metadata": {},
   "outputs": [
    {
     "name": "stdout",
     "output_type": "stream",
     "text": [
      "15\n",
      "75\n",
      "45\n"
     ]
    }
   ],
   "source": [
    "def my_function(x):\n",
    "  return 5 * x\n",
    "\n",
    "x = my_function(3)\n",
    "print(x)\n",
    "print(my_function(x))\n",
    "print(my_function(9))"
   ]
  },
  {
   "cell_type": "markdown",
   "metadata": {},
   "source": [
    "<h2>The pass Statement</h2>\n",
    "<p><code class=\"w3-codespan\">function</code> definitions cannot be empty, but if \n",
    "you for some reason have a <code class=\"w3-codespan\">function</code> definition with no content, put in the <code class=\"w3-codespan\">pass</code> statement to avoid getting an error.</p>\n",
    "\n",
    "\n",
    "<h3>Example</h3>\n",
    "<div class=\"w3-code notranslate pythonHigh\">\n",
    "  def myfunction():<br>&nbsp; pass</div>"
   ]
  },
  {
   "cell_type": "code",
   "execution_count": 30,
   "metadata": {},
   "outputs": [],
   "source": [
    "def myfunction():\n",
    "  pass"
   ]
  },
  {
   "cell_type": "raw",
   "metadata": {},
   "source": [
    "<hr>\n",
    "\n",
    "<h2>Recursion</h2>\n",
    "\n",
    "<p>Python also accepts function recursion, which means a defined function can call itself.</p>\n",
    "\n",
    "<p>Recursion is a common mathematical and programming concept. It means that a function calls itself. This has the benefit of meaning that you can loop through data to reach a result.</p>\n",
    "<p>The developer should be very careful with recursion as it can be quite easy to slip into writing a function which never terminates, or one that uses excess amounts of memory or processor power. However, when written correctly recursion can be a very efficient and mathematically-elegant approach to programming.</p>\n",
    "<p>In this example, <span class=\"w3-codespan\">tri_recursion()</span> is a function that we have defined to call itself (\"recurse\"). We use the <span class=\"w3-codespan\">k</span> variable as the data, which decrements (<span class=\"w3-codespan\">-1</span>) every time we recurse. The recursion ends when the condition is not greater than 0 (i.e. when it is 0).</p>\n",
    "<p>To a new developer it can take some time to work out how exactly this works, best way to find out is by testing and modifying it.</p>\n",
    "\n",
    "<h3>Example</h3>\n",
    "<p>Recursion Example</p>\n",
    "<div class=\"w3-code notranslate jsHigh\">\n",
    "def tri_recursion(k):<br>\n",
    "\t&nbsp;\n",
    "\tif(k > 0):<br>\n",
    "\t\t&nbsp;&nbsp;&nbsp;\n",
    "\t\tresult = k + tri_recursion(k - 1)<br>\n",
    "\t\t&nbsp;&nbsp;&nbsp;\n",
    "\t\tprint(result)<br>\n",
    "\t&nbsp;\n",
    "\telse:<br>\n",
    "\t\t&nbsp;&nbsp;&nbsp;\n",
    "\t\tresult = 0<br>\n",
    "\t&nbsp;\n",
    "\treturn result<br>\n",
    "<br>\n",
    "print(\"\\n\\nRecursion Example Results\")<br>\n",
    "tri_recursion(6)<br>\n",
    "</div>"
   ]
  },
  {
   "cell_type": "code",
   "execution_count": 32,
   "metadata": {},
   "outputs": [
    {
     "name": "stdout",
     "output_type": "stream",
     "text": [
      "\n",
      "\n",
      "Recursion Example Results\n",
      "1\n",
      "3\n",
      "6\n",
      "10\n",
      "15\n",
      "21\n",
      "28\n",
      "36\n",
      "45\n",
      "55\n",
      "66\n",
      "78\n",
      "91\n",
      "105\n",
      "120\n",
      "136\n",
      "153\n",
      "171\n",
      "190\n",
      "210\n",
      "231\n"
     ]
    },
    {
     "data": {
      "text/plain": [
       "231"
      ]
     },
     "execution_count": 32,
     "metadata": {},
     "output_type": "execute_result"
    }
   ],
   "source": [
    "def tri_recursion(k):\n",
    "  if(k > 0):\n",
    "    result = k + tri_recursion(k - 1)\n",
    "    print(result)\n",
    "  else:\n",
    "    result = 0\n",
    "  return result\n",
    "\n",
    "print(\"\\n\\nRecursion Example Results\")\n",
    "tri_recursion(21)"
   ]
  },
  {
   "cell_type": "markdown",
   "metadata": {},
   "source": [
    "<h2>Test Yourself With Exercises</h2>\n",
    "<h2>Exercise:</h2>\n",
    "<p>Create a function named <code class=\"w3-codespan\">my_function</code>.</p>\n",
    "<div class=\"exerciseprecontainer\">\n",
    "<pre>\n",
    "<input name=\"ex1\" maxlength=\"17\" style=\"width: 180px;\">:\n",
    "  print(\"Hello from a function\")\n",
    "</pre>\n",
    "</div>"
   ]
  },
  {
   "cell_type": "code",
   "execution_count": 33,
   "metadata": {},
   "outputs": [],
   "source": [
    "def my_function():\n",
    "    print(\"Hello from a function\")"
   ]
  },
  {
   "cell_type": "code",
   "execution_count": 34,
   "metadata": {},
   "outputs": [
    {
     "name": "stdout",
     "output_type": "stream",
     "text": [
      "Hello from a function\n"
     ]
    }
   ],
   "source": [
    "my_function()"
   ]
  },
  {
   "cell_type": "code",
   "execution_count": null,
   "metadata": {},
   "outputs": [],
   "source": []
  }
 ],
 "metadata": {
  "kernelspec": {
   "display_name": "Python 3",
   "language": "python",
   "name": "python3"
  },
  "language_info": {
   "codemirror_mode": {
    "name": "ipython",
    "version": 3
   },
   "file_extension": ".py",
   "mimetype": "text/x-python",
   "name": "python",
   "nbconvert_exporter": "python",
   "pygments_lexer": "ipython3",
   "version": "3.8.8"
  }
 },
 "nbformat": 4,
 "nbformat_minor": 2
}
