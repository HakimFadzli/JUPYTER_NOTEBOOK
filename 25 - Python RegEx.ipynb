{
 "cells": [
  {
   "cell_type": "markdown",
   "metadata": {},
   "source": [
    "<h1>25 - Python RegEx</h1>\n",
    "<hr>\n",
    "<p class=\"intro\">A RegEx, or Regular Expression, is a sequence of characters that forms a search pattern.</p>\n",
    "<p class=\"intro\">RegEx can be used to check if a string contains the specified search pattern.</p>\n",
    "<hr>\n",
    "\n",
    "<h2>RegEx Module</h2>\n",
    "\n",
    "<p>Python has a built-in package called <code class=\"w3-codespan\">re</code>, which can be used to work with \n",
    "Regular Expressions.</p>\n",
    "\n",
    "<p>Import the <code class=\"w3-codespan\">re</code> module:</p>\n",
    "\n",
    "\n",
    "<h2>RegEx in Python</h2>\n",
    "\n",
    "<p>When you have imported the <code class=\"w3-codespan\">re</code> module, you \n",
    "can start using regular expressions:</p>\n",
    "\n",
    "<div class=\"w3-example\">\n",
    "  <h3>Example</h3>\n",
    "  <p>Search the string to see if it starts with &quot;The&quot; and ends with &quot;Spain&quot;:</p>\n",
    "  <div class=\"w3-code notranslate pythonHigh\">\n",
    "    import \n",
    "    re<br><br>txt = &quot;The rain in Spain&quot;<br>x = re.search(&quot;^The.*Spain$&quot;, txt)</div>\n",
    "  <h2>Try it Yourself</h2>\n",
    "</div>"
   ]
  },
  {
   "cell_type": "code",
   "execution_count": 4,
   "metadata": {},
   "outputs": [
    {
     "name": "stdout",
     "output_type": "stream",
     "text": [
      "<re.Match object; span=(0, 81), match='The rain in Spain. The weather is cold. Everyone >\n"
     ]
    }
   ],
   "source": [
    "import re\n",
    "\n",
    "txt = \"The rain in Spain. The weather is cold. Everyone is at home. Everyone is in Spain\"\n",
    "x = re.search(\"^The.*ain{1}$\", txt)\n",
    "print(x)"
   ]
  },
  {
   "cell_type": "markdown",
   "metadata": {},
   "source": [
    "\n",
    "\n",
    "\n",
    "<hr>\n",
    "<h2>RegEx Functions</h2>\n",
    "\n",
    "<p>The <code class=\"w3-codespan\">re</code> module offers a set of functions that allows \n",
    "us to search a string for a match:</p>\n",
    "\n",
    "<table align=\"left\">\n",
    "<tr>\n",
    "<th style=\"width:120px\">Function</th>\n",
    "<th>Description</th>\n",
    "</tr>\n",
    "<tr>\n",
    "<td><a href=\"#findall\">findall</a></td>\n",
    "<td>Returns a list containing all matches</td>\n",
    "</tr>\n",
    "<tr>\n",
    "<td><a href=\"#search\">search</a></td>\n",
    "<td>Returns a <a href=\"#matchobject\">Match object</a> if there is a match anywhere in the string</td>\n",
    "</tr>\n",
    "<tr>\n",
    "<td><a href=\"#split\">split</a></td>\n",
    "<td>Returns a list where the string has been split at each match </td>\n",
    "</tr>\n",
    "<tr>\n",
    "<td><a href=\"#sub\">sub</a></td>\n",
    "<td>Replaces one or many matches with a string</td>\n",
    "</tr>\n",
    "</table>\n"
   ]
  },
  {
   "cell_type": "markdown",
   "metadata": {},
   "source": [
    "\n",
    "<h2>Metacharacters</h2>\n",
    "\n",
    "<p>Metacharacters are characters with a special meaning:</p>\n",
    "\n",
    "<table align = \"left\">\n",
    "<tr>\n",
    "<th style=\"width:120px\">Character</th>\n",
    "<th>Description</th>\n",
    "<th style=\"width:120px\">Example</th>\n",
    "\n",
    "</tr>\n",
    "<tr>\n",
    "<td>[]</td>\n",
    "<td>A set of characters</td>\n",
    "<td>&quot;[a-m]&quot;</td>\n",
    "</tr>\n",
    "<tr>\n",
    "<td>\\</td>\n",
    "<td>Signals a special sequence (can also be used to escape special characters)</td>\n",
    "<td>&quot;\\d&quot;</td>\n",
    "</tr>\n",
    "<tr>\n",
    "<td>.</td>\n",
    "<td>Any character (except newline character)</td>\n",
    "<td>&quot;he..o&quot;</td>\n",
    "</tr>\n",
    "<tr>\n",
    "<td>^</td>\n",
    "<td>Starts with</td>\n",
    "<td>&quot;^hello&quot;</td>\n",
    "</tr>\n",
    "  <tr>\n",
    "<td>&#36;</td>\n",
    "<td>Ends with</td>\n",
    "<td>&quot;world$&quot;</td>\n",
    "  </tr>\n",
    "  <tr>\n",
    "<td>*</td>\n",
    "<td>Zero or more occurrences</td>\n",
    "<td>&quot;aix*&quot;</td>\n",
    "  </tr>\n",
    "  <tr>\n",
    "<td>+</td>\n",
    "<td>One or more occurrences</td>\n",
    "<td>&quot;aix+&quot;</td>\n",
    "  </tr>\n",
    "  <tr>\n",
    "<td>{}</td>\n",
    "<td>Exactly the specified number of occurrences</td>\n",
    "<td>&quot;al{2}&quot;</td>\n",
    "  </tr>\n",
    "  <tr>\n",
    "<td>|</td>\n",
    "<td>Either or</td>\n",
    "<td>&quot;falls|stays&quot;</td>\n",
    "  </tr>\n",
    "  <tr>\n",
    "<td>()</td>\n",
    "<td>Capture and group</td>\n",
    "<td>&nbsp;</td>\n",
    "<td>&nbsp;</td>\n",
    "  </tr>\n",
    "</table>\n"
   ]
  },
  {
   "cell_type": "markdown",
   "metadata": {},
   "source": [
    "<h2>Special Sequences</h2>\n",
    "\n",
    "<p>A special sequence is a <code class=\"w3-codespan\">\\</code> followed by one of the characters in the list below, and has a special meaning:</p>\n",
    "\n",
    "<table class=\"w3-table-all notranslate\">\n",
    "<tr>\n",
    "<th style=\"width:120px\">Character</th>\n",
    "<th>Description</th>\n",
    "<th style=\"width:120px\">Example</th>\n",
    "\n",
    "</tr>\n",
    "<tr>\n",
    "<td>\\A</td>\n",
    "<td>Returns a match if the specified characters are at the beginning of the \n",
    "string</td>\n",
    "<td>&quot;\\AThe&quot;</td>\n",
    "</tr>\n",
    "  <tr>\n",
    "<td>\\b</td>\n",
    "<td>Returns a match where the specified characters are at the beginning or at the \n",
    "end of a word<br>(the &quot;r&quot; in the beginning is making sure that the string is \n",
    "being treated as a &quot;raw string&quot;)</td>\n",
    "<td>r&quot;\\bain&quot;<br>r&quot;ain\\b&quot;</td>\n",
    "  </tr>\n",
    "  <tr>\n",
    "<td>\\B</td>\n",
    "<td>Returns a match where the specified characters are present, but NOT at the beginning \n",
    "(or at \n",
    "the end) of a word<br>(the &quot;r&quot; in the beginning is making sure that the string \n",
    "is being treated as a &quot;raw string&quot;)</td>\n",
    "<td>r&quot;\\Bain&quot;<br>r&quot;ain\\B&quot;</td>\n",
    "  </tr>\n",
    "  <tr>\n",
    "<td>\\d</td>\n",
    "<td>Returns a match where the string contains digits (numbers from 0-9)</td>\n",
    "<td>&quot;\\d&quot;</td>\n",
    "  </tr>\n",
    "  <tr>\n",
    "<td>\\D</td>\n",
    "<td>Returns a match where the string DOES NOT contain digits</td>\n",
    "<td>&quot;\\D&quot;</td>\n",
    "  </tr>\n",
    "  <tr>\n",
    "<td>\\s</td>\n",
    "<td>Returns a match where the string contains a white space character</td>\n",
    "<td>&quot;\\s&quot;</td>\n",
    "  </tr>\n",
    "  <tr>\n",
    "<td>\\S</td>\n",
    "<td>Returns a match where the string DOES NOT contain a white space character</td>\n",
    "<td>&quot;\\S&quot;</td>\n",
    "  </tr>\n",
    "  <tr>\n",
    "<td>\\w</td>\n",
    "<td>Returns a match where the string contains any word characters (characters from \n",
    "a to Z, digits from 0-9, and the underscore _ character)</td>\n",
    "<td>&quot;\\w&quot;</td>\n",
    "  </tr>\n",
    "  <tr>\n",
    "<td>\\W</td>\n",
    "<td>Returns a match where the string DOES NOT contain any word characters</td>\n",
    "<td>&quot;\\W&quot;</td>\n",
    "  </tr>\n",
    "<tr>\n",
    "<td>\\Z</td>\n",
    "<td>Returns a match if the specified characters are at the end of the string</td>\n",
    "<td>&quot;Spain\\Z&quot;</td>\n",
    "</tr>\n",
    "</table>\n",
    "\n",
    "<hr>\n",
    "\n",
    "<h2>Sets</h2>\n",
    "\n",
    "<p>A set is a set of characters inside a pair of square brackets <code class=\"w3-codespan\">\n",
    "[]</code> with a special meaning:</p>\n",
    "\n",
    "<table class=\"w3-table-all notranslate\">\n",
    "<tr>\n",
    "<th style=\"width:120px\">Set</th>\n",
    "<th>Description</th>\n",
    "\n",
    "</tr>\n",
    "  <tr>\n",
    "<td>[arn]</td>\n",
    "<td>Returns a match where one of the specified characters (<code class=\"w3-codespan\">a</code>,\n",
    "<code class=\"w3-codespan\">r</code>, or <code class=\"w3-codespan\">n</code>) are \n",
    "present</td>\n",
    "  </tr>\n",
    "  <tr>\n",
    "<td>[a-n]</td>\n",
    "<td>Returns a match for any lower case character, alphabetically between\n",
    "<code class=\"w3-codespan\">a</code> and <code class=\"w3-codespan\">n</code></td>\n",
    "  </tr>\n",
    "  <tr>\n",
    "<td>[^arn]</td>\n",
    "<td>Returns a match for any character EXCEPT <code class=\"w3-codespan\">a</code>,\n",
    "<code class=\"w3-codespan\">r</code>, and <code class=\"w3-codespan\">n</code></td>\n",
    "  </tr>\n",
    "  <tr>\n",
    "<td>[0123]</td>\n",
    "<td>Returns a match where any of the specified digits (<code class=\"w3-codespan\">0</code>,\n",
    "<code class=\"w3-codespan\">1</code>, <code class=\"w3-codespan\">2</code>, or <code class=\"w3-codespan\">\n",
    "3</code>) are \n",
    "present</td>\n",
    "  </tr>\n",
    "  <tr>\n",
    "<td>[0-9]</td>\n",
    "<td>Returns a match for any digit between\n",
    "<code class=\"w3-codespan\">0</code> and <code class=\"w3-codespan\">9</code></td>\n",
    "  </tr>\n",
    "<tr>\n",
    "<td>[0-5][0-9]</td>\n",
    "<td>Returns a match for any two-digit numbers from <code class=\"w3-codespan\">00</code> and <code class=\"w3-codespan\">\n",
    "59</code></td>\n",
    "</tr>\n",
    "  <tr>\n",
    "<td>[a-zA-Z]</td>\n",
    "<td>Returns a match for any character alphabetically between\n",
    "<code class=\"w3-codespan\">a</code> and <code class=\"w3-codespan\">z</code>, lower case OR upper case</td>\n",
    "  </tr>\n",
    "  <tr>\n",
    "<td>[+]</td>\n",
    "<td>In sets, <code class=\"w3-codespan\">+</code>, <code class=\"w3-codespan\">*</code>,\n",
    "<code class=\"w3-codespan\">.</code>, <code class=\"w3-codespan\">|</code>,\n",
    "<code class=\"w3-codespan\">()</code>, <code class=\"w3-codespan\">&#36;</code>,<code class=\"w3-codespan\">{}</code> \n",
    "has no special meaning, so <code class=\"w3-codespan\">[+]</code> means: return a match for any\n",
    "<code class=\"w3-codespan\">+</code> character in the string</td>\n",
    "  </tr>\n",
    "</table>\n",
    "\n"
   ]
  },
  {
   "cell_type": "code",
   "execution_count": null,
   "metadata": {},
   "outputs": [],
   "source": []
  },
  {
   "cell_type": "markdown",
   "metadata": {},
   "source": [
    "\n",
    "<div style=\"position:absolute;margin-top:-70px;\"><a name=\"findall\">&nbsp;</a></div>\n",
    "<h2>The findall() Function</h2>\n",
    "<p>The <code class=\"w3-codespan\">findall()</code> function returns a list containing all matches.</p>\n",
    "<div class=\"w3-example\">\n",
    "<h3>Example</h3>\n",
    "<p>Print a list of all matches:</p>\n",
    "<div class=\"w3-code notranslate pythonHigh\">\n",
    "  import re<br><br>txt = &quot;The rain in Spain&quot;<br>x = re.findall(&quot;ai&quot;, \n",
    "  txt)<br>\n",
    "  print(x)</div>\n",
    "<h2>Try it Yourself</h2>\n",
    "</div>\n"
   ]
  },
  {
   "cell_type": "code",
   "execution_count": 8,
   "metadata": {},
   "outputs": [
    {
     "name": "stdout",
     "output_type": "stream",
     "text": [
      "['Spain']\n",
      "1\n",
      "<class 'list'>\n"
     ]
    }
   ],
   "source": [
    "txt = \"The rain in Spain. Its also raining in Italy\"\n",
    "x = re.findall(\"Spain\", txt)\n",
    "print(x)\n",
    "print(len(x))\n",
    "print(type(x))"
   ]
  },
  {
   "cell_type": "markdown",
   "metadata": {},
   "source": [
    "\n",
    "<p>The list contains the matches in the order they are found.</p>\n",
    "<p>If no matches are found, an empty list is returned:</p>\n",
    "\n",
    "<div class=\"w3-example\">\n",
    "<h3>Example</h3>\n",
    "<p>Return an empty list if no match was found:</p>\n",
    "<div class=\"w3-code notranslate pythonHigh\">\n",
    "  import re<br><br>txt = &quot;The rain in Spain&quot;<br>x = re.findall(&quot;Portugal&quot;, \n",
    "  txt)<br>\n",
    "  print(x)</div>\n",
    "<h2>Try it Yourself</h2>\n",
    "</div>\n"
   ]
  },
  {
   "cell_type": "code",
   "execution_count": 1,
   "metadata": {},
   "outputs": [
    {
     "ename": "NameError",
     "evalue": "name 're' is not defined",
     "output_type": "error",
     "traceback": [
      "\u001b[1;31m---------------------------------------------------------------------------\u001b[0m",
      "\u001b[1;31mNameError\u001b[0m                                 Traceback (most recent call last)",
      "\u001b[1;32m~\\AppData\\Local\\Temp/ipykernel_34152/211801692.py\u001b[0m in \u001b[0;36m<module>\u001b[1;34m\u001b[0m\n\u001b[0;32m      1\u001b[0m \u001b[0mtxt\u001b[0m \u001b[1;33m=\u001b[0m \u001b[1;34m\"The rain in Spain would not be here Spain\"\u001b[0m\u001b[1;33m\u001b[0m\u001b[1;33m\u001b[0m\u001b[0m\n\u001b[1;32m----> 2\u001b[1;33m \u001b[0mx\u001b[0m \u001b[1;33m=\u001b[0m \u001b[0mre\u001b[0m\u001b[1;33m.\u001b[0m\u001b[0mfindall\u001b[0m\u001b[1;33m(\u001b[0m\u001b[1;34m\"Spain\"\u001b[0m\u001b[1;33m,\u001b[0m \u001b[0mtxt\u001b[0m\u001b[1;33m)\u001b[0m\u001b[1;33m\u001b[0m\u001b[1;33m\u001b[0m\u001b[0m\n\u001b[0m\u001b[0;32m      3\u001b[0m \u001b[0mprint\u001b[0m\u001b[1;33m(\u001b[0m\u001b[0mx\u001b[0m\u001b[1;33m)\u001b[0m\u001b[1;33m\u001b[0m\u001b[1;33m\u001b[0m\u001b[0m\n",
      "\u001b[1;31mNameError\u001b[0m: name 're' is not defined"
     ]
    }
   ],
   "source": [
    "txt = \"The rain in Spain would not be here Spain\"\n",
    "x = re.findall(\"Spain\", txt)\n",
    "print(x)"
   ]
  },
  {
   "cell_type": "markdown",
   "metadata": {},
   "source": [
    "\n",
    "<hr>\n",
    "<div style=\"position:absolute;margin-top:-70px;\"><a name=\"search\">&nbsp;</a></div>\n",
    "<h2>The search() Function</h2>\n",
    "<p>The <code class=\"w3-codespan\">search()</code> function searches the string \n",
    "for a match, and returns a <a href=\"#matchobject\">Match object</a> if there is a \n",
    "match.</p>\n",
    "<p>If there is more than one match, \n",
    "only the first occurrence of the match will be returned:</p>\n",
    "<div class=\"w3-example\">\n",
    "<h3>Example</h3>\n",
    "<p>Search for the first white-space character in the string:</p>\n",
    "<div class=\"w3-code notranslate pythonHigh\">\n",
    "  import re<br><br>txt = &quot;The rain in Spain&quot;<br>x = re.search(&quot;\\s&quot;, \n",
    "  txt)<br>\n",
    "  <br>print(&quot;The first white-space character is located in \n",
    "  position:&quot;, x.start()) </div>\n",
    "<h2>Try it Yourself</h2>\n",
    "</div>\n"
   ]
  },
  {
   "cell_type": "code",
   "execution_count": 5,
   "metadata": {},
   "outputs": [
    {
     "name": "stdout",
     "output_type": "stream",
     "text": [
      "<re.Match object; span=(3, 4), match=' '>\n"
     ]
    }
   ],
   "source": [
    "txt = \"The rain in Spain\"\n",
    "x = re.search(\"\\s\", txt)\n",
    "print (x)"
   ]
  },
  {
   "cell_type": "code",
   "execution_count": 15,
   "metadata": {},
   "outputs": [
    {
     "name": "stdout",
     "output_type": "stream",
     "text": [
      "The first white-space character is located in position: <re.Match object; span=(3, 4), match=' '>\n"
     ]
    }
   ],
   "source": [
    "txt = \"The rain in Spain 11 1 1 22 55 8888\"\n",
    "x = re.search(\"\\s\",txt)\n",
    "\n",
    "print(\"The first white-space character is located in position:\", x)"
   ]
  },
  {
   "cell_type": "markdown",
   "metadata": {},
   "source": [
    "\n",
    "<p>If no matches are found, the value <code class=\"w3-codespan\">None</code> is returned:</p>\n",
    "\n",
    "<div class=\"w3-example\">\n",
    "<h3>Example</h3>\n",
    "<p>Make a search that returns no match:</p>\n",
    "<div class=\"w3-code notranslate pythonHigh\">\n",
    "  import re<br><br>txt = &quot;The rain in Spain&quot;<br>x = re.search(&quot;Portugal&quot;, \n",
    "  txt)<br>\n",
    "  print(x)</div>\n",
    "<h2>Try it Yourself</h2>\n",
    "</div>\n"
   ]
  },
  {
   "cell_type": "code",
   "execution_count": 16,
   "metadata": {},
   "outputs": [
    {
     "name": "stdout",
     "output_type": "stream",
     "text": [
      "<re.Match object; span=(13, 17), match='pain'>\n"
     ]
    }
   ],
   "source": [
    "txt = \"The rain in Spain\"\n",
    "x = re.search(\"pain\", txt)\n",
    "print(x)"
   ]
  },
  {
   "cell_type": "markdown",
   "metadata": {},
   "source": [
    "<div style=\"position:absolute;margin-top:-70px;\"><a name=\"split\">&nbsp;</a></div>\n",
    "<h2>The split() Function</h2>\n",
    "<p>The <code class=\"w3-codespan\">split()</code> function returns a list where \n",
    "the string has been split at each match:</p>\n",
    "<div class=\"w3-example\">\n",
    "<h3>Example</h3>\n",
    "<p>Split at each white-space character:</p>\n",
    "<div class=\"w3-code notranslate pythonHigh\">\n",
    "  import re<br><br>txt = &quot;The rain in Spain&quot;<br>x = re.split(&quot;\\s&quot;, \n",
    "  txt)<br>\n",
    "  print(x)</div>\n",
    "<h2>Try it Yourself</h2>\n",
    "</div>"
   ]
  },
  {
   "cell_type": "code",
   "execution_count": 6,
   "metadata": {},
   "outputs": [
    {
     "name": "stdout",
     "output_type": "stream",
     "text": [
      "['The', 'rain', 'in Spain']\n"
     ]
    }
   ],
   "source": [
    "txt = \"The rain in Spain\"\n",
    "x = re.split(\"\\s\", txt, 2)\n",
    "print(x)"
   ]
  },
  {
   "cell_type": "markdown",
   "metadata": {},
   "source": [
    "<p>You can control the number of occurrences by specifying the \n",
    "<code class=\"w3-codespan\">maxsplit</code> \n",
    "parameter:</p>\n",
    "\n",
    "<div class=\"w3-example\">\n",
    "<h3>Example</h3>\n",
    "<p>Split the string only at the first occurrence:</p>\n",
    "<div class=\"w3-code notranslate pythonHigh\">\n",
    "  import re<br><br>txt = &quot;The rain in Spain&quot;<br>x = re.split(&quot;\\s&quot;, \n",
    "  txt, \n",
    "  1)<br>\n",
    "  print(x)</div>\n",
    "<h2>Try it Yourself</h2>\n",
    "</div>\n",
    "\n"
   ]
  },
  {
   "cell_type": "code",
   "execution_count": 19,
   "metadata": {},
   "outputs": [
    {
     "name": "stdout",
     "output_type": "stream",
     "text": [
      "['The rain in Spain', ' Its also raining in Portugal', ' Another sentence']\n"
     ]
    }
   ],
   "source": [
    "txt = \"The rain in Spain. Its also raining in Portugal. Another sentence\"\n",
    "x = re.split(\"\\.\", txt, 2)\n",
    "print(x)"
   ]
  },
  {
   "cell_type": "markdown",
   "metadata": {},
   "source": [
    "<div style=\"position:absolute;margin-top:-70px;\"><a name=\"sub\">&nbsp;</a></div>\n",
    "<h2>The sub() Function</h2>\n",
    "<p>The <code class=\"w3-codespan\">sub()</code> function replaces the matches with \n",
    "the text of your choice:</p>\n",
    "<div class=\"w3-example\">\n",
    "<h3>Example</h3>\n",
    "<p>Replace every white-space character with the number 9:</p>\n",
    "<div class=\"w3-code notranslate pythonHigh\">\n",
    "  import re<br><br>txt = &quot;The rain in Spain&quot;<br>x = re.sub(&quot;\\s&quot;, \n",
    "  &quot;9&quot;, txt)<br>\n",
    "  print(x)</div>\n",
    "<h2>Try it Yourself</h2>\n",
    "</div>\n"
   ]
  },
  {
   "cell_type": "code",
   "execution_count": 20,
   "metadata": {},
   "outputs": [
    {
     "name": "stdout",
     "output_type": "stream",
     "text": [
      "The:rain:in:Spain\n"
     ]
    }
   ],
   "source": [
    "txt = \"The rain in Spain\"\n",
    "x = re.sub(\"\\s\", \":\", txt)\n",
    "print(x)"
   ]
  },
  {
   "cell_type": "markdown",
   "metadata": {},
   "source": [
    "\n",
    "<p>You can control the number of replacements by specifying the\n",
    "<code class=\"w3-codespan\">count</code> \n",
    "parameter:</p>\n",
    "\n",
    "<div class=\"w3-example\">\n",
    "<h3>Example</h3>\n",
    "<p>Replace the first 2 occurrences:</p>\n",
    "<div class=\"w3-code notranslate pythonHigh\">\n",
    "  import re<br><br>txt = &quot;The rain in Spain&quot;<br>x = re.sub(&quot;\\s&quot;, \n",
    "  &quot;9&quot;, txt, 2)<br>\n",
    "  print(x)</div>\n",
    "<h2>Try it Yourself</h2>\n",
    "</div>\n"
   ]
  },
  {
   "cell_type": "code",
   "execution_count": 8,
   "metadata": {},
   "outputs": [
    {
     "ename": "AttributeError",
     "evalue": "'str' object has no attribute 'span'",
     "output_type": "error",
     "traceback": [
      "\u001b[1;31m---------------------------------------------------------------------------\u001b[0m",
      "\u001b[1;31mAttributeError\u001b[0m                            Traceback (most recent call last)",
      "\u001b[1;32m~\\AppData\\Local\\Temp/ipykernel_34152/2610484250.py\u001b[0m in \u001b[0;36m<module>\u001b[1;34m\u001b[0m\n\u001b[0;32m      1\u001b[0m \u001b[0mtxt\u001b[0m \u001b[1;33m=\u001b[0m \u001b[1;34m\"The rain in Spain\"\u001b[0m\u001b[1;33m\u001b[0m\u001b[1;33m\u001b[0m\u001b[0m\n\u001b[0;32m      2\u001b[0m \u001b[0mx\u001b[0m \u001b[1;33m=\u001b[0m \u001b[0mre\u001b[0m\u001b[1;33m.\u001b[0m\u001b[0msub\u001b[0m\u001b[1;33m(\u001b[0m\u001b[1;34m\"\\s\"\u001b[0m\u001b[1;33m,\u001b[0m \u001b[1;34m\":\"\u001b[0m\u001b[1;33m,\u001b[0m \u001b[0mtxt\u001b[0m\u001b[1;33m,\u001b[0m \u001b[1;36m2\u001b[0m\u001b[1;33m)\u001b[0m\u001b[1;33m\u001b[0m\u001b[1;33m\u001b[0m\u001b[0m\n\u001b[1;32m----> 3\u001b[1;33m \u001b[0mprint\u001b[0m\u001b[1;33m(\u001b[0m\u001b[0mx\u001b[0m\u001b[1;33m.\u001b[0m\u001b[0mspan\u001b[0m\u001b[1;33m)\u001b[0m\u001b[1;33m\u001b[0m\u001b[1;33m\u001b[0m\u001b[0m\n\u001b[0m",
      "\u001b[1;31mAttributeError\u001b[0m: 'str' object has no attribute 'span'"
     ]
    }
   ],
   "source": [
    "txt = \"The rain in Spain\"\n",
    "x = re.sub(\"\\s\", \":\", txt, 2)\n",
    "print(x.span)"
   ]
  },
  {
   "cell_type": "markdown",
   "metadata": {},
   "source": [
    "\n",
    "<hr>\n",
    "\n",
    "<div style=\"position:absolute;margin-top:-70px;\"><a name=\"matchobject\">&nbsp;</a></div>\n",
    "<h2>Match Object</h2>\n",
    "\n",
    "<p>A Match Object is an object containing information \n",
    "about the search and the result.</p>\n",
    "\n",
    "<div class=\"w3-panel w3-note\">\n",
    "  <p><strong>Note:</strong> If there is no match, the value <code class=\"w3-codespan\">None</code> will be \n",
    "returned, instead of the Match Object.</p>\n",
    "</div>\n",
    "\n",
    "<div class=\"w3-example\">\n",
    "<h3>Example</h3>\n",
    "<p>Do a search that will return a Match Object:</p>\n",
    "<div class=\"w3-code notranslate pythonHigh\">\n",
    "  import re<br><br>txt = &quot;The rain in Spain&quot;<br>x = re.search(&quot;ai&quot;, \n",
    "  txt)<br>\n",
    "  print(x) #this will print an object</div>\n",
    "<h2>Try it Yourself</h2>\n",
    "</div>"
   ]
  },
  {
   "cell_type": "code",
   "execution_count": 22,
   "metadata": {},
   "outputs": [
    {
     "name": "stdout",
     "output_type": "stream",
     "text": [
      "ai\n"
     ]
    }
   ],
   "source": [
    "txt = \"The 8 rain in Spain 9912\"\n",
    "x = re.search(\"ai\", txt)\n",
    "print(x.group()) #this will print an object"
   ]
  },
  {
   "cell_type": "markdown",
   "metadata": {},
   "source": [
    "<p>The Match object has properties and methods used to retrieve information \n",
    "about the search, and the result:</p>\n",
    "\n",
    "<p>\n",
    "<code class=\"w3-codespan\">.span()</code> returns a tuple containing the start-, and end positions of the match.<br>\n",
    "<code class=\"w3-codespan\">.string</code> returns the string passed into the function<br>\n",
    "<code class=\"w3-codespan\">.group()</code> returns the part of the string where there was a match<br>\n",
    "</p>\n",
    "\n",
    "<div class=\"w3-example\">\n",
    "  <h3>Example</h3>\n",
    "<p>Print the position (start- and end-position) of the first match occurrence.</p>\n",
    "  <p>The regular expression looks for any words that starts with an upper case \n",
    "  &quot;S&quot;:</p>\n",
    "<div class=\"w3-code notranslate pythonHigh\">\n",
    "    import re<br><br>\n",
    "    txt = &quot;The rain in Spain&quot;<br>\n",
    "    x = re.search(r&quot;\\bS\\w+&quot;, txt)<br>\n",
    "    print(<strong>x.span()</strong>)</div>\n",
    "<h2>Try it Yourself</h2>\n",
    "</div>\n"
   ]
  },
  {
   "cell_type": "code",
   "execution_count": 24,
   "metadata": {},
   "outputs": [
    {
     "name": "stdout",
     "output_type": "stream",
     "text": [
      "(12, 18)\n",
      "Spains\n"
     ]
    }
   ],
   "source": [
    "txt = \"The rain in Spains\"\n",
    "x = re.search(r\"\\bS\\w+\", txt)\n",
    "print(x.span())\n",
    "print(txt[12:18])"
   ]
  },
  {
   "cell_type": "markdown",
   "metadata": {},
   "source": [
    "\n",
    "<div class=\"w3-example\">\n",
    "  <h3>Example</h3>\n",
    "<p>Print the string passed into the function:</p>\n",
    "<div class=\"w3-code notranslate pythonHigh\">\n",
    "    import re<br><br>\n",
    "    txt = &quot;The rain in Spain&quot;<br>\n",
    "    x = re.search(r&quot;\\bS\\w+&quot;, txt)<br>\n",
    "    print(<strong>x.string</strong>)</div>\n",
    "<h2>Try it Yourself</h2>\n",
    "</div>\n",
    "\n"
   ]
  },
  {
   "cell_type": "code",
   "execution_count": 28,
   "metadata": {},
   "outputs": [
    {
     "name": "stdout",
     "output_type": "stream",
     "text": [
      "The\n"
     ]
    }
   ],
   "source": [
    "txt = \"The rain in Spain\"\n",
    "x = re.search(r\"\\bT\\w+\", txt)\n",
    "print(x.group())"
   ]
  },
  {
   "cell_type": "markdown",
   "metadata": {},
   "source": [
    "\n",
    "<div class=\"w3-example\">\n",
    "  <h3>Example</h3>\n",
    "<p>Print the part of the string where there was a match.</p>\n",
    "  <p>The regular expression looks for any words that starts with an upper case \n",
    "  &quot;S&quot;:</p>\n",
    "<div class=\"w3-code notranslate pythonHigh\">\n",
    "    import re<br><br>\n",
    "    txt = &quot;The rain in Spain&quot;<br>\n",
    "    x = re.search(r&quot;\\bS\\w+&quot;, txt)<br>\n",
    "    print(<strong>x.group()</strong>)</div>\n",
    "</div>\n",
    "<div class=\"w3-panel w3-note\">\n",
    "  <p><strong>Note:</strong> If there is no match, the value <code class=\"w3-codespan\">None</code> will be \n",
    "returned, instead of the Match Object.</p>\n",
    "</div>\n",
    "<h2>Try it Yourself</h2>"
   ]
  },
  {
   "cell_type": "code",
   "execution_count": 29,
   "metadata": {},
   "outputs": [
    {
     "name": "stdout",
     "output_type": "stream",
     "text": [
      "Spain\n"
     ]
    }
   ],
   "source": [
    "txt = \"The rain in Spain\"\n",
    "x = re.search(r\"\\bS\\w+\", txt)\n",
    "print(x.group())"
   ]
  },
  {
   "cell_type": "code",
   "execution_count": null,
   "metadata": {},
   "outputs": [],
   "source": []
  }
 ],
 "metadata": {
  "kernelspec": {
   "display_name": "Python 3",
   "language": "python",
   "name": "python3"
  },
  "language_info": {
   "codemirror_mode": {
    "name": "ipython",
    "version": 3
   },
   "file_extension": ".py",
   "mimetype": "text/x-python",
   "name": "python",
   "nbconvert_exporter": "python",
   "pygments_lexer": "ipython3",
   "version": "3.8.8"
  }
 },
 "nbformat": 4,
 "nbformat_minor": 2
}
