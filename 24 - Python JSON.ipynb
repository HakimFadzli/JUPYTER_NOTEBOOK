{
 "cells": [
  {
   "cell_type": "markdown",
   "metadata": {},
   "source": [
    "<h1>24 - Python JSON</h1>\n",
    "\n",
    "<hr>\n",
    "<p class=\"intro\">JSON is a syntax for storing and exchanging data.</p>\n",
    "<p class=\"intro\">JSON is text, written with JavaScript object notation.</p>\n",
    "<hr>\n",
    "\n",
    "<h2>JSON in Python</h2>\n",
    "\n",
    "<p>Python has a built-in package called <code class=\"w3-codespan\">json</code>, which can be used to work with JSON data.</p>\n",
    "\n",
    "<div class=\"w3-example\">\n",
    "  <h3>Example</h3>\n",
    "  <p>Import the json module:</p>\n",
    "  <div class=\"w3-code notranslate pythonHigh\">\n",
    "    import json\n",
    "  </div>\n",
    "</div>"
   ]
  },
  {
   "cell_type": "code",
   "execution_count": 1,
   "metadata": {},
   "outputs": [],
   "source": [
    "import json"
   ]
  },
  {
   "cell_type": "markdown",
   "metadata": {},
   "source": [
    "<h2>Parse JSON - Convert from JSON to Python</h2>\n",
    "\n",
    "<p>If you have a JSON string, you can parse it by using the\n",
    "<code class=\"w3-codespan\">json.loads()</code> method.</p>\n",
    "\n",
    "<div class=\"w3-panel w3-note\">\n",
    "  <p>The result will be a Python dictionary.</p>\n",
    "</div>\n",
    "\n",
    "<div class=\"w3-example\">\n",
    "<h3>Example</h3>\n",
    "<p>Convert from JSON to Python:</p>\n",
    "<div class=\"w3-code notranslate pythonHigh\">\n",
    "  import json<br><br># some JSON:<br>x =&nbsp; '{ &quot;name&quot;:&quot;John&quot;, &quot;age&quot;:30, &quot;city&quot;:&quot;New \n",
    "  York&quot;}'<br><br># parse x:<br>y = json.loads(x)<br><br># the result is a \n",
    "  Python dictionary:<br>print(y[&quot;age&quot;])</div>\n",
    "<h2>Try it Yourself </h2>\n",
    "</div>\n",
    "\n"
   ]
  },
  {
   "cell_type": "code",
   "execution_count": 3,
   "metadata": {},
   "outputs": [
    {
     "name": "stdout",
     "output_type": "stream",
     "text": [
      "<class 'str'>\n",
      "<class 'dict'>\n",
      "John\n"
     ]
    }
   ],
   "source": [
    "# some JSON:\n",
    "x =  '{ \"name\":\"John\", \"age\":30, \"city\":\"New York\"}'\n",
    "print(type(x))\n",
    "# parse x:\n",
    "y = json.loads(x)\n",
    "\n",
    "# the result is a Python dictionary:\n",
    "print(type(y))\n",
    "print(y[\"name\"])"
   ]
  },
  {
   "cell_type": "markdown",
   "metadata": {},
   "source": [
    "\n",
    "<h2>Convert from Python to JSON</h2>\n",
    "\n",
    "<p>If you have a Python object, you can convert it into a JSON string by \n",
    "using the <code class=\"w3-codespan\">json.dumps()</code> method.</p>\n",
    "\n",
    "<div class=\"w3-example\">\n",
    "<h3>Example</h3>\n",
    "<p>Convert from Python to JSON:</p>\n",
    "<div class=\"w3-code notranslate pythonHigh\">\n",
    "  import json<br><br># a Python object (dict):<br>x = {<br>&nbsp; &quot;name&quot;: \n",
    "  &quot;John&quot;,<br>&nbsp; &quot;age&quot;: 30,<br>&nbsp; &quot;city&quot;: &quot;New York&quot;<br>}<br><br># \n",
    "  convert into JSON:<br>y = json.dumps(x)<br><br># the result is a JSON string:<br>\n",
    "  print(y)</div>\n",
    "<h2>Try it Yourself &raquo;</h2>\n",
    "</div>\n"
   ]
  },
  {
   "cell_type": "code",
   "execution_count": 4,
   "metadata": {},
   "outputs": [
    {
     "name": "stdout",
     "output_type": "stream",
     "text": [
      "{\"name\": \"John\", \"age\": 30, \"city\": \"New York\"}\n",
      "<class 'str'>\n"
     ]
    }
   ],
   "source": [
    "# a Python object (dict):\n",
    "x = {\n",
    "  \"name\": \"John\",\n",
    "  \"age\": 30,\n",
    "  \"city\": \"New York\"\n",
    "}\n",
    "\n",
    "# convert into JSON:\n",
    "y = json.dumps(x)\n",
    "\n",
    "# the result is a JSON string:\n",
    "print(y)\n",
    "print(type(y))\n",
    "\n",
    "f = open(\"test.json\", \"w\")\n",
    "f.write(y)\n",
    "f.close()"
   ]
  },
  {
   "cell_type": "code",
   "execution_count": 5,
   "metadata": {},
   "outputs": [
    {
     "name": "stdout",
     "output_type": "stream",
     "text": [
      "{\"name\": \"John\", \"age\": 30, \"city\": \"New York\"} \n",
      " <class 'str'>\n",
      "<class 'dict'> \n",
      " 30\n"
     ]
    }
   ],
   "source": [
    "f = open(\"test.json\", \"r\")\n",
    "jsonStr = f.read()\n",
    "print(jsonStr, \"\\n\", type(jsonStr))\n",
    "y = json.loads(jsonStr)\n",
    "print(type(y),\"\\n\", y[\"age\"])"
   ]
  },
  {
   "cell_type": "code",
   "execution_count": null,
   "metadata": {},
   "outputs": [],
   "source": []
  },
  {
   "cell_type": "markdown",
   "metadata": {},
   "source": [
    "\n",
    "\n",
    "<p>You can convert Python objects of the following types, into JSON strings:</p>\n",
    "<ul>\n",
    "<li>dict</li>\n",
    "<li>list</li>\n",
    "<li>tuple</li>\n",
    "<li>string</li>\n",
    "<li>int</li>\n",
    "  <li>float</li>\n",
    "  <li>True</li>\n",
    "  <li>False</li>\n",
    "  <li>None</li>\n",
    "</ul>\n",
    "\n",
    "<div class=\"w3-example\">\n",
    "<h3>Example</h3>\n",
    "<p>Convert Python objects into JSON strings, and print the values:</p>\n",
    "<div class=\"w3-code notranslate pythonHigh\">\n",
    "  import json<br><br>print(json.dumps({\"name\": \"John\", \"age\": 30}))<br>print(json.dumps([\"apple\", \n",
    "  \"bananas\"]))<br>print(json.dumps((\"apple\", \"bananas\")))<br>\n",
    "  print(json.dumps(\"hello\"))<br>print(json.dumps(42))<br>print(json.dumps(31.76))<br>print(json.dumps(True))<br>print(json.dumps(False))<br>print(json.dumps(None))</div>\n",
    "<h2>Try it Yourself;</h2>\n",
    "</div>"
   ]
  },
  {
   "cell_type": "code",
   "execution_count": 6,
   "metadata": {},
   "outputs": [
    {
     "name": "stdout",
     "output_type": "stream",
     "text": [
      "{\"name\": \"John\", \"age\": 30}\n",
      "[\"apple\", \"bananas\"]\n",
      "[\"apple\", \"bananas\"]\n",
      "\"hello\"\n",
      "42\n",
      "31.76\n",
      "true\n",
      "false\n",
      "null\n"
     ]
    }
   ],
   "source": [
    "print(json.dumps({\"name\": \"John\", \"age\": 30}))\n",
    "print(json.dumps([\"apple\", \"bananas\"]))\n",
    "print(json.dumps((\"apple\", \"bananas\")))\n",
    "print(json.dumps(\"hello\"))\n",
    "print(json.dumps(42))\n",
    "print(json.dumps(31.76))\n",
    "print(json.dumps(True))\n",
    "print(json.dumps(False))\n",
    "print(json.dumps(None))"
   ]
  },
  {
   "cell_type": "markdown",
   "metadata": {},
   "source": [
    "\n",
    "<p>When you convert from Python to JSON, Python objects are converted into the JSON (JavaScript) equivalent:</p>\n",
    "\n",
    "<table align=\"left\">\n",
    "<tr>\n",
    "<th>Python</th>\n",
    "<th>JSON</th>\n",
    "</tr>\n",
    "<tr>\n",
    "<td>dict</td>\n",
    "<td>Object</td>\n",
    "</tr>\n",
    "<tr>\n",
    "<td>list</td>\n",
    "<td>Array</td>\n",
    "</tr>\n",
    "<tr>\n",
    "<td>tuple</td>\n",
    "<td>Array</td>\n",
    "</tr>\n",
    "<tr>\n",
    "<td>str</td>\n",
    "<td>String</td>\n",
    "</tr>\n",
    "<tr>\n",
    "<td>int</td>\n",
    "<td>Number</td>\n",
    "</tr>\n",
    "<tr>\n",
    "<td>float</td>\n",
    "<td>Number</td>\n",
    "</tr>\n",
    "<tr>\n",
    "<td>True</td>\n",
    "<td>true</td>\n",
    "</tr>\n",
    "<tr>\n",
    "<td>False</td>\n",
    "<td>false</td>\n",
    "</tr>\n",
    "<tr>\n",
    "<td>None</td>\n",
    "<td>null</td>\n",
    "</tr>\n",
    "</table>\n",
    "<hr>\n",
    "<br>\n",
    "<br>\n",
    "<br>\n",
    "<br>\n",
    "<br>\n",
    "<br>\n",
    "<br>\n",
    "<br>\n",
    "<br>\n",
    "<br>\n",
    "<br>\n",
    "<br>\n",
    "<br>\n",
    "<br>\n",
    "<div class=\"w3-example\">\n",
    "<h3>Example</h3>\n",
    "<p>Convert a Python object containing all the legal data types:</p>\n",
    "<div class=\"w3-code notranslate pythonHigh\">\n",
    "  import json<br><br>x = {<br>&nbsp; &quot;name&quot;: \n",
    "  &quot;John&quot;,<br>&nbsp; &quot;age&quot;: 30,<br>&nbsp; &quot;married&quot;: True,<br>&nbsp; \n",
    "  &quot;divorced&quot;: False,<br>&nbsp; &quot;children&quot;: (&quot;Ann&quot;,&quot;Billy&quot;),<br>&nbsp; &quot;pets&quot;: \n",
    "  None,<br>&nbsp; &quot;cars&quot;: [<br>&nbsp;&nbsp;&nbsp; {&quot;model&quot;: &quot;BMW 230&quot;, &quot;mpg&quot;: \n",
    "  27.5},<br>&nbsp;&nbsp;&nbsp; {&quot;model&quot;: &quot;Ford Edge&quot;, &quot;mpg&quot;: 24.1}<br>&nbsp; ]<br>\n",
    "  }<br><br>print(json.dumps(x))<br></div>\n",
    "<h2>Try it Yourself</h2>\n",
    "</div>\n"
   ]
  },
  {
   "cell_type": "code",
   "execution_count": 7,
   "metadata": {},
   "outputs": [
    {
     "name": "stdout",
     "output_type": "stream",
     "text": [
      "{\"name\": \"John\", \"age\": 30, \"married\": true, \"divorced\": false, \"children\": [\"Ann\", \"Billy\"], \"pets\": null, \"cars\": [{\"model\": \"BMW 230\", \"mpg\": 27.5}, {\"model\": \"Ford Edge\", \"mpg\": 24.1}]}\n"
     ]
    }
   ],
   "source": [
    " x = {\n",
    "  \"name\": \"John\",\n",
    "  \"age\": 30,\n",
    "  \"married\": True,\n",
    "  \"divorced\": False,\n",
    "  \"children\": (\"Ann\",\"Billy\"),\n",
    "  \"pets\": None,\n",
    "  \"cars\": [\n",
    "    {\"model\": \"BMW 230\", \"mpg\": 27.5},\n",
    "    {\"model\": \"Ford Edge\", \"mpg\": 24.1}\n",
    "  ]\n",
    "}\n",
    "\n",
    "print(json.dumps(x))"
   ]
  },
  {
   "cell_type": "markdown",
   "metadata": {},
   "source": [
    "<hr>\n",
    "<h2>Format the Result</h2>\n",
    "<p>The example above prints a JSON string, but it is not very easy to read, with no indentations and line breaks.</p>\n",
    "<p>The <code class=\"w3-codespan\">json.dumps()</code> method has parameters to \n",
    "make it easier to read the result:</p>\n",
    "<div class=\"w3-example\">\n",
    "<h3>Example</h3>\n",
    "<p>Use the <code class=\"w3-codespan\">indent</code> parameter to define the numbers \n",
    "of indents:</p>\n",
    "  <div class=\"w3-code notranslate pythonHigh\">\n",
    "    json.dumps(x, indent=4)<br></div>\n",
    "<h2>Try it Yourself</h2>\n",
    "</div>\n"
   ]
  },
  {
   "cell_type": "code",
   "execution_count": 8,
   "metadata": {},
   "outputs": [
    {
     "name": "stdout",
     "output_type": "stream",
     "text": [
      "{'name': 'John', 'age': 30, 'married': True, 'divorced': False, 'children': ('Ann', 'Billy'), 'pets': None, 'cars': [{'model': 'BMW 230', 'mpg': 27.5}, {'model': 'Ford Edge', 'mpg': 24.1}]}\n"
     ]
    }
   ],
   "source": [
    "json.dumps(x, indent=4)\n",
    "print(x)"
   ]
  },
  {
   "cell_type": "markdown",
   "metadata": {},
   "source": [
    "<p>You can also define the separators, default value is (&quot;, &quot;, &quot;: &quot;), which \n",
    "means using a comma and a space to separate each object, and a colon and a space \n",
    "to separate keys from values:</p>\n",
    "\n",
    "<div class=\"w3-example\">\n",
    "<h3>Example</h3>\n",
    "<p>Use the <code class=\"w3-codespan\">separators</code> parameter to change the \n",
    "default separator:</p>\n",
    "  <div class=\"w3-code notranslate pythonHigh\">\n",
    "    json.dumps(x, indent=4, separators=(&quot;. &quot;, &quot; = &quot;))<br></div>\n",
    "<h2>Try it Yourself</h2>\n",
    "</div>\n"
   ]
  },
  {
   "cell_type": "code",
   "execution_count": 9,
   "metadata": {},
   "outputs": [
    {
     "name": "stdout",
     "output_type": "stream",
     "text": [
      "{\n",
      "   \"name\" = \"John\". \n",
      "   \"age\" = 30. \n",
      "   \"married\" = true. \n",
      "   \"divorced\" = false. \n",
      "   \"children\" = [\n",
      "      \"Ann\". \n",
      "      \"Billy\"\n",
      "   ]. \n",
      "   \"pets\" = null. \n",
      "   \"cars\" = [\n",
      "      {\n",
      "         \"model\" = \"BMW 230\". \n",
      "         \"mpg\" = 27.5\n",
      "      }. \n",
      "      {\n",
      "         \"model\" = \"Ford Edge\". \n",
      "         \"mpg\" = 24.1\n",
      "      }\n",
      "   ]\n",
      "}\n"
     ]
    }
   ],
   "source": [
    "print(json.dumps(x, indent=3, separators=(\". \", \" = \")))"
   ]
  },
  {
   "cell_type": "markdown",
   "metadata": {},
   "source": [
    "<hr>\n",
    "<h2>Order the Result</h2>\n",
    "<p>The <code class=\"w3-codespan\">json.dumps()</code> method has parameters to \n",
    "order the keys in the result:</p>\n",
    "<div class=\"w3-example\">\n",
    "<h3>Example</h3>\n",
    "<p>Use the <code class=\"w3-codespan\">sort_keys</code> parameter to specify if \n",
    "the result should be sorted or not:</p>\n",
    "  <div class=\"w3-code notranslate pythonHigh\">\n",
    "    json.dumps(x, indent=4, sort_keys=True)<br></div>\n",
    "<h2>Try it Yourself</h2>\n",
    "</div>"
   ]
  },
  {
   "cell_type": "code",
   "execution_count": 10,
   "metadata": {},
   "outputs": [
    {
     "name": "stdout",
     "output_type": "stream",
     "text": [
      "{\n",
      "    \"age\": 30,\n",
      "    \"cars\": [\n",
      "        {\n",
      "            \"model\": \"BMW 230\",\n",
      "            \"mpg\": 27.5\n",
      "        },\n",
      "        {\n",
      "            \"model\": \"Ford Edge\",\n",
      "            \"mpg\": 24.1\n",
      "        }\n",
      "    ],\n",
      "    \"children\": [\n",
      "        \"Ann\",\n",
      "        \"Billy\"\n",
      "    ],\n",
      "    \"divorced\": false,\n",
      "    \"married\": true,\n",
      "    \"name\": \"John\",\n",
      "    \"pets\": null\n",
      "}\n"
     ]
    }
   ],
   "source": [
    "print(json.dumps(x, indent=4, sort_keys=True))"
   ]
  },
  {
   "cell_type": "code",
   "execution_count": 11,
   "metadata": {},
   "outputs": [
    {
     "name": "stdout",
     "output_type": "stream",
     "text": [
      "{\n",
      "    \"age\" = 35. \n",
      "    \"children\" = [\n",
      "        {\n",
      "            \"age\" = 6. \n",
      "            \"firstname\" = \"Alice\"\n",
      "        }. \n",
      "        {\n",
      "            \"age\" = 6. \n",
      "            \"firstname\" = \"Bob\"\n",
      "        }\n",
      "    ]. \n",
      "    \"firstname\" = \"Jane\". \n",
      "    \"hobbies\" = [\n",
      "        \"Running\". \n",
      "        \"skydiving\". \n",
      "        \"singing\"\n",
      "    ]. \n",
      "    \"lastname\" = \"Doe\"\n",
      "}\n"
     ]
    }
   ],
   "source": [
    "dict_data = { \"firstname\":\"Jane\",\n",
    "              \"lastname\":\"Doe\",\n",
    "              \"hobbies\":[\"Running\",\"skydiving\",\"singing\"],\n",
    "              \"age\": 35,\n",
    "              \"children\":[{\"firstname\":\"Alice\",\"age\":6},{\"firstname\":\"Bob\",\"age\":6}]}\n",
    "\n",
    "print(json.dumps(dict_data, indent=4, sort_keys=True, separators=(\". \", \" = \")))"
   ]
  },
  {
   "cell_type": "code",
   "execution_count": 12,
   "metadata": {},
   "outputs": [],
   "source": [
    "import json\n",
    "def create_json(data_dict,filename):\n",
    "    json_str = json.dumps(data_dict, indent=4, sort_keys=True)\n",
    "    f = open(filename+\".json\",'w')\n",
    "    f.write(json_str)\n",
    "    f.close()"
   ]
  },
  {
   "cell_type": "code",
   "execution_count": 13,
   "metadata": {},
   "outputs": [],
   "source": [
    "create_json(dict_data,\"newjsonfile\")"
   ]
  },
  {
   "cell_type": "code",
   "execution_count": 14,
   "metadata": {},
   "outputs": [
    {
     "name": "stdout",
     "output_type": "stream",
     "text": [
      "{\n",
      "    \"age\": 35,\n",
      "    \"children\": [\n",
      "        {\n",
      "            \"age\": 6,\n",
      "            \"firstname\": \"Alice\"\n",
      "        },\n",
      "        {\n",
      "            \"age\": 6,\n",
      "            \"firstname\": \"Bob\"\n",
      "        }\n",
      "    ],\n",
      "    \"firstname\": \"Jane\",\n",
      "    \"hobbies\": [\n",
      "        \"Running\",\n",
      "        \"skydiving\",\n",
      "        \"singing\"\n",
      "    ],\n",
      "    \"lastname\": \"Doe\"\n",
      "}\n"
     ]
    }
   ],
   "source": [
    "print(json.dumps(dict_data, indent=4, sort_keys=True))"
   ]
  },
  {
   "cell_type": "code",
   "execution_count": 15,
   "metadata": {},
   "outputs": [],
   "source": [
    "fh = open(\"newjsonfile.json\",\"r\")\n",
    "jfile = json.load(fh)"
   ]
  },
  {
   "cell_type": "code",
   "execution_count": 17,
   "metadata": {},
   "outputs": [
    {
     "data": {
      "text/plain": [
       "[{'age': 6, 'firstname': 'Alice'}, {'age': 6, 'firstname': 'Bob'}]"
      ]
     },
     "execution_count": 17,
     "metadata": {},
     "output_type": "execute_result"
    }
   ],
   "source": [
    "jfile[\"children\"]"
   ]
  },
  {
   "cell_type": "code",
   "execution_count": 18,
   "metadata": {},
   "outputs": [
    {
     "data": {
      "text/plain": [
       "{'age': 35,\n",
       " 'children': [{'age': 6, 'firstname': 'Alice'},\n",
       "  {'age': 6, 'firstname': 'Bob'}],\n",
       " 'firstname': 'Jane',\n",
       " 'hobbies': ['Running', 'skydiving', 'singing'],\n",
       " 'lastname': 'Doe'}"
      ]
     },
     "execution_count": 18,
     "metadata": {},
     "output_type": "execute_result"
    }
   ],
   "source": [
    "jfile"
   ]
  },
  {
   "cell_type": "code",
   "execution_count": null,
   "metadata": {},
   "outputs": [],
   "source": [
    "list_info = [\"age\", \"firstname\", \"hobbies\"]\n",
    "[print(jfile[x]) for x in list_info]"
   ]
  },
  {
   "cell_type": "code",
   "execution_count": null,
   "metadata": {},
   "outputs": [],
   "source": []
  }
 ],
 "metadata": {
  "kernelspec": {
   "display_name": "Python 3",
   "language": "python",
   "name": "python3"
  },
  "language_info": {
   "codemirror_mode": {
    "name": "ipython",
    "version": 3
   },
   "file_extension": ".py",
   "mimetype": "text/x-python",
   "name": "python",
   "nbconvert_exporter": "python",
   "pygments_lexer": "ipython3",
   "version": "3.8.8"
  }
 },
 "nbformat": 4,
 "nbformat_minor": 2
}
