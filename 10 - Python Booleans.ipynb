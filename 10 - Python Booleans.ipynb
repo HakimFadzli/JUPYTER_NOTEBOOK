{
 "cells": [
  {
   "cell_type": "markdown",
   "metadata": {},
   "source": [
    "<h1>10 - Python Booleans</span></h1>\n",
    "<hr>\n",
    "<p class=\"intro\">Booleans represent one of two values: \n",
    "<code class=\"w3-codespan\">True</code> or <code class=\"w3-codespan\">False</code>.</p>\n",
    "<hr>\n",
    "<h2>Boolean Values</h2>\n",
    "<p>In programming you often need to know if an expression is \n",
    "<code class=\"w3-codespan\">True</code> or <code class=\"w3-codespan\">False</code>.</p>\n",
    "<p>You can evaluate any expression in Python, and get one of two \n",
    "answers, \n",
    "<code class=\"w3-codespan\">True</code> or <code class=\"w3-codespan\">False</code>.</p>\n",
    "<p>When you compare two values, the expression is evaluated and Python returns \n",
    "the Boolean answer:</p>\n",
    "\n",
    "<h3>Example</h3>\n",
    "<div class=\"w3-code notranslate pythonHigh\">\n",
    "  print(10 &gt; 9)<br>print(10 == 9)<br>print(10 &lt; 9)</div>"
   ]
  },
  {
   "cell_type": "code",
   "execution_count": 2,
   "metadata": {},
   "outputs": [
    {
     "name": "stdout",
     "output_type": "stream",
     "text": [
      "True\n",
      "False\n",
      "False\n"
     ]
    }
   ],
   "source": [
    "print(10 > 9)\n",
    "print(10 == 9)\n",
    "print(10 < 9)"
   ]
  },
  {
   "cell_type": "code",
   "execution_count": 12,
   "metadata": {},
   "outputs": [
    {
     "name": "stdout",
     "output_type": "stream",
     "text": [
      "9\n",
      "the first logical statement is True\n",
      "9\n",
      "the second logical statement is True\n",
      "9\n",
      "the third logical statement is True\n"
     ]
    }
   ],
   "source": [
    "x = 9\n",
    "\n",
    "if x >= 9:\n",
    "    print (x)\n",
    "    print (\"the first logical statement is True\")\n",
    "    \n",
    "if x == 9:\n",
    "    print (x)\n",
    "    print (\"the second logical statement is True\")\n",
    "    \n",
    "if x <= 9:\n",
    "    print (x)\n",
    "    print (\"the third logical statement is True\")"
   ]
  },
  {
   "cell_type": "code",
   "execution_count": 10,
   "metadata": {},
   "outputs": [
    {
     "name": "stdout",
     "output_type": "stream",
     "text": [
      "10\n",
      "the first logical statement is True\n"
     ]
    }
   ],
   "source": [
    "x = 10\n",
    "\n",
    "if x > 9:\n",
    "    print (x)\n",
    "    print (\"the first logical statement is True\")\n",
    "elif x == 9:\n",
    "    print (x)\n",
    "    print (\"the second logical statement is True\")\n",
    "else:\n",
    "    print (x)\n",
    "    print (\"the third logical statement is True\")"
   ]
  },
  {
   "cell_type": "markdown",
   "metadata": {},
   "source": [
    "<p>When you run a condition in an if statement, Python returns \n",
    "<code class=\"w3-codespan\">True</code> or <code class=\"w3-codespan\">False</code>:</p>\n",
    "\n",
    "<h3>Example</h3>\n",
    "  <p>Print a message based on whether the condition is <code class=\"w3-codespan\">True</code> or \n",
    "  <code class=\"w3-codespan\">False</code>:</p>\n",
    "<div class=\"w3-code notranslate pythonHigh\">\n",
    "  a = 200<br>b = 33<br><br>if b &gt; a:<br>&nbsp; print(&quot;b is greater than a&quot;)<br>\n",
    "  else:<br>&nbsp; print(&quot;b is not greater than a&quot;)</div>"
   ]
  },
  {
   "cell_type": "code",
   "execution_count": 14,
   "metadata": {},
   "outputs": [
    {
     "name": "stdout",
     "output_type": "stream",
     "text": [
      "b is not greater than a\n"
     ]
    }
   ],
   "source": [
    "a = 200\n",
    "b = 500\n",
    "if b < a:\n",
    "  print(\"b is greater than a\")\n",
    "else:\n",
    "  print(\"b is not greater than a\")"
   ]
  },
  {
   "cell_type": "markdown",
   "metadata": {},
   "source": [
    "<hr>\n",
    "<h2>Evaluate Values and Variables</h2>\n",
    "<p>The <code class=\"w3-codespan\">bool()</code> function allows you to evaluate \n",
    "any value, and give you \n",
    "<code class=\"w3-codespan\">True</code> or <code class=\"w3-codespan\">False</code> \n",
    "in return,</p>\n",
    "\n",
    "\n",
    "<h3>Example</h3>\n",
    "  <p>Evaluate a string and a number:</p>\n",
    "<div class=\"w3-code notranslate pythonHigh\">\n",
    "  print(bool(&quot;Hello&quot;))<br>print(bool(15))<br></div>"
   ]
  },
  {
   "cell_type": "code",
   "execution_count": 1,
   "metadata": {},
   "outputs": [
    {
     "name": "stdout",
     "output_type": "stream",
     "text": [
      "True\n",
      "False\n"
     ]
    }
   ],
   "source": [
    "c='Hello'\n",
    "print(bool('Hello'))\n",
    "print(bool(4>15))"
   ]
  },
  {
   "cell_type": "markdown",
   "metadata": {},
   "source": [
    "<h3>Example</h3>\n",
    "  <p>Evaluate two variables:</p>\n",
    "<div class=\"w3-code notranslate pythonHigh\">\n",
    "  x = &quot;Hello&quot;<br>y = 15<br><br>print(bool(x))<br>print(bool(y))<br></div>"
   ]
  },
  {
   "cell_type": "code",
   "execution_count": 2,
   "metadata": {},
   "outputs": [
    {
     "name": "stdout",
     "output_type": "stream",
     "text": [
      "True\n",
      "True\n",
      "True\n"
     ]
    }
   ],
   "source": [
    "x = \"Hello\"\n",
    "y = 15\n",
    "z= 23\n",
    "\n",
    "print(bool(x))\n",
    "print(bool(y))\n",
    "print(bool(z))"
   ]
  },
  {
   "cell_type": "markdown",
   "metadata": {},
   "source": [
    "<hr>\n",
    "\n",
    "\n",
    "<h2>Most Values are True</h2>\n",
    "\n",
    "<p>Almost any value is evaluated to <code class=\"w3-codespan\">True</code> if it \n",
    "has some sort of content.</p>\n",
    "<p>Any string is <code class=\"w3-codespan\">True</code>, except empty strings.</p>\n",
    "<p>Any number is <code class=\"w3-codespan\">True</code>, except \n",
    "<code class=\"w3-codespan\">0</code>.</p>\n",
    "<p>Any list, tuple, set, and dictionary are <code class=\"w3-codespan\">True</code>, except \n",
    "empty ones.</p>\n",
    "\n",
    "\n",
    "<h3>Example</h3>\n",
    "  <p>The following will return True:</p>\n",
    "<div class=\"w3-code notranslate pythonHigh\">\n",
    "  bool(&quot;abc&quot;)<br>bool(123)<br>bool([&quot;apple&quot;, &quot;cherry&quot;, &quot;banana&quot;])<br></div>"
   ]
  },
  {
   "cell_type": "code",
   "execution_count": 21,
   "metadata": {},
   "outputs": [
    {
     "name": "stdout",
     "output_type": "stream",
     "text": [
      "False\n",
      "True\n",
      "False\n"
     ]
    }
   ],
   "source": [
    "print(bool(\"\"))\n",
    "print(bool(-7))\n",
    "print(bool([]))"
   ]
  },
  {
   "cell_type": "markdown",
   "metadata": {},
   "source": [
    "<hr>\n",
    "\n",
    "<h2>Some Values are False</h2>\n",
    "\n",
    "<p>In fact, there are not many values that evaluates to\n",
    "<code class=\"w3-codespan\">False</code>, except empty values, such as <code class=\"w3-codespan\">()</code>,\n",
    "<code class=\"w3-codespan\">[]</code>, <code class=\"w3-codespan\">{}</code>, \n",
    "<code class=\"w3-codespan\">&quot;&quot;</code>, the number\n",
    "<code class=\"w3-codespan\">0</code>, and the value <code class=\"w3-codespan\">None</code>. \n",
    "And of course the value <code class=\"w3-codespan\">False</code> evaluates to\n",
    "<code class=\"w3-codespan\">False</code>.</p>\n",
    "\n",
    "\n",
    "<h3>Example</h3>\n",
    "  <p>The following will return False:</p>\n",
    "<div class=\"w3-code notranslate pythonHigh\">\n",
    "  bool(False)<br>bool(None)<br>bool(0)<br>bool(&quot;&quot;)<br>bool(())<br>bool([])<br>\n",
    "  bool({})</div>"
   ]
  },
  {
   "cell_type": "code",
   "execution_count": 24,
   "metadata": {},
   "outputs": [
    {
     "name": "stdout",
     "output_type": "stream",
     "text": [
      "False\n",
      "False\n",
      "False\n",
      "False\n",
      "False\n",
      "False\n",
      "False\n"
     ]
    }
   ],
   "source": [
    "print(bool(False))\n",
    "print(bool(None))\n",
    "print(bool(0))\n",
    "print(bool(\"\"))\n",
    "print(bool(()))\n",
    "print(bool([]))\n",
    "print(bool({}))"
   ]
  },
  {
   "cell_type": "markdown",
   "metadata": {},
   "source": [
    "<p>One more value, or object in this case, evaluates to \n",
    "<code class=\"w3-codespan\">False</code>, and that is if you have an object that \n",
    "is made from a class with a <code class=\"w3-codespan\">__len__</code> function that returns \n",
    "<code class=\"w3-codespan\">0</code> or \n",
    "<code class=\"w3-codespan\">False</code>: </p>\n",
    "\n",
    "\n",
    "<h3>Example</h3>\n",
    "<div class=\"w3-code notranslate pythonHigh\">\n",
    "  class myclass():<br>&nbsp; def __len__(self):<br>&nbsp;&nbsp;&nbsp; return 0<br>\n",
    "  <br>myobj = myclass()<br>print(bool(myobj))</div>"
   ]
  },
  {
   "cell_type": "code",
   "execution_count": 3,
   "metadata": {},
   "outputs": [
    {
     "name": "stdout",
     "output_type": "stream",
     "text": [
      "False\n"
     ]
    }
   ],
   "source": [
    "class myclass():\n",
    "  def __len__(self):\n",
    "    return 0\n",
    "\n",
    "myobj = myclass()\n",
    "print(bool(myobj))"
   ]
  },
  {
   "cell_type": "code",
   "execution_count": 59,
   "metadata": {},
   "outputs": [],
   "source": [
    "class Car:\n",
    "   'Common base class for all car'\n",
    "   carCount = 0\n",
    "\n",
    "   def __init__(self, names , color, door):\n",
    "    self.names = names\n",
    "    self.color = color\n",
    "    self.door = door\n",
    "    Car.carCount += 1\n",
    "   \n",
    "   def displayCount(self):\n",
    "        print (\"Total Car %d\" % Car.carCount)\n",
    "\n",
    "   def displayCar(self):\n",
    "    print (\"This car\", self.names, \"has\", self.door,\"doors, and the color is\", self.color)\n",
    "\n",
    "   def colorcheck(self, color):\n",
    "      if self.color.lower() == color.lower():\n",
    "            print (\"YES!\")\n",
    "      else: \n",
    "            print (\"NO!\")"
   ]
  },
  {
   "cell_type": "code",
   "execution_count": 60,
   "metadata": {},
   "outputs": [],
   "source": [
    "\"This would create first object of Car class\"\n",
    "proton = Car(\"Proton\",\"WhiTe\", 5)\n",
    "\"This would create first object of Car class\"\n",
    "honda = Car(\"Honda\",\"black\", 3)\n",
    "\"This would create first object of Car class\"\n",
    "toyota = Car(\"Toyota\",\"red\", 5)"
   ]
  },
  {
   "cell_type": "code",
   "execution_count": 61,
   "metadata": {},
   "outputs": [
    {
     "name": "stdout",
     "output_type": "stream",
     "text": [
      "This car Proton has 5 doors, and the color is White\n"
     ]
    }
   ],
   "source": [
    "proton.displayCar()"
   ]
  },
  {
   "cell_type": "code",
   "execution_count": 65,
   "metadata": {},
   "outputs": [
    {
     "name": "stdout",
     "output_type": "stream",
     "text": [
      "YES!\n"
     ]
    }
   ],
   "source": [
    "proton.colorcheck(\"white\")"
   ]
  },
  {
   "cell_type": "code",
   "execution_count": null,
   "metadata": {},
   "outputs": [],
   "source": [
    "proton3.colorcheck(\"Black\")"
   ]
  },
  {
   "cell_type": "markdown",
   "metadata": {},
   "source": [
    "<hr>\n",
    "<h2>Functions can Return a Boolean</h2>\n",
    "\n",
    "<p>You can create functions that returns a Boolean Value:</p>\n",
    "\n",
    "\n",
    "<h3>Example</h3>\n",
    "  <p>Print the answer of a function:</p>\n",
    "<div class=\"w3-code notranslate pythonHigh\">\n",
    "  def myFunction() :<br>&nbsp; return True<br><br>print(myFunction())</div>"
   ]
  },
  {
   "cell_type": "code",
   "execution_count": 66,
   "metadata": {},
   "outputs": [
    {
     "name": "stdout",
     "output_type": "stream",
     "text": [
      "True\n"
     ]
    }
   ],
   "source": [
    "def myFunction():\n",
    "  return True\n",
    "\n",
    "print(myFunction())"
   ]
  },
  {
   "cell_type": "markdown",
   "metadata": {},
   "source": [
    "<p>You can execute code based on the Boolean answer of a function:</p>\n",
    "\n",
    "\n",
    "<h3>Example</h3>\n",
    "  <p>Print &quot;YES!&quot; if the function returns True, otherwise print &quot;NO!&quot;:</p>\n",
    "<div class=\"w3-code notranslate pythonHigh\">\n",
    "  def myFunction() :<br>&nbsp; return True<br><br>if myFunction():<br>&nbsp; \n",
    "  print(&quot;YES!&quot;)<br>else:<br>&nbsp; print(&quot;NO!&quot;)</div>\n"
   ]
  },
  {
   "cell_type": "code",
   "execution_count": 67,
   "metadata": {},
   "outputs": [
    {
     "name": "stdout",
     "output_type": "stream",
     "text": [
      "YES!\n"
     ]
    }
   ],
   "source": [
    "if myFunction():\n",
    "  print(\"YES!\")\n",
    "else:\n",
    "  print(\"NO!\")"
   ]
  },
  {
   "cell_type": "markdown",
   "metadata": {},
   "source": [
    "<p>Python also has many built-in functions that returns a boolean value, like the \n",
    "<code class=\"w3-codespan\">isinstance()</code> \n",
    "function, which can be used to determine if an object is of a certain data type:</p>\n",
    "\n",
    "\n",
    "<h3>Example</h3>\n",
    "  <p>Check if an object is an integer or not:</p>\n",
    "<div class=\"w3-code notranslate pythonHigh\">\n",
    "  x = 200<br>print(isinstance(x, int))</div>"
   ]
  },
  {
   "cell_type": "markdown",
   "metadata": {},
   "source": [
    "<hr>\n",
    "\n",
    "<h2>Test Yourself With Exercises</h2>\n",
    "\n",
    "<h2>Exercise:</h2>\n",
    "<p>The statement below would print a Boolean value, which one?</p>\n",
    "<div class=\"exerciseprecontainer\">\n",
    "<pre>\n",
    "print(10 &gt; 9)\n",
    "\n",
    "<input name=\"ex1\" maxlength=\"5\" style=\"width: 54px;\">\n",
    "</pre>\n",
    "</div>\n"
   ]
  },
  {
   "cell_type": "code",
   "execution_count": 70,
   "metadata": {},
   "outputs": [
    {
     "name": "stdout",
     "output_type": "stream",
     "text": [
      "True\n"
     ]
    }
   ],
   "source": [
    "x = 200\n",
    "print(isinstance(x, int))"
   ]
  },
  {
   "cell_type": "code",
   "execution_count": null,
   "metadata": {},
   "outputs": [],
   "source": []
  }
 ],
 "metadata": {
  "kernelspec": {
   "display_name": "Python 3 (ipykernel)",
   "language": "python",
   "name": "python3"
  },
  "language_info": {
   "codemirror_mode": {
    "name": "ipython",
    "version": 3
   },
   "file_extension": ".py",
   "mimetype": "text/x-python",
   "name": "python",
   "nbconvert_exporter": "python",
   "pygments_lexer": "ipython3",
   "version": "3.7.11"
  }
 },
 "nbformat": 4,
 "nbformat_minor": 2
}
