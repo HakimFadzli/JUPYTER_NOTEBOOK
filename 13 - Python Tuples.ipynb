{
 "cells": [
  {
   "cell_type": "markdown",
   "metadata": {},
   "source": [
    "<h1>13 - Python Tuples</h1>\n",
    "<div class=\"w3-clear nextprev\">\n",
    "</div>\n",
    "<hr>\n",
    "\n",
    "<h2>Tuple</h2>\n",
    "<p>A tuple is a collection which is ordered and <strong>unchangeable</strong>. In Python tuples are written with round brackets.</p>\n",
    "\n",
    "\n",
    "\n",
    "<h3>Example</h3>\n",
    "<p>Create a Tuple:</p>\n",
    "<div class=\"w3-code notranslate pythonHigh\">\n",
    "thistuple = (\"apple\", \"banana\", \"cherry\")<br>\n",
    "print(thistuple)\n",
    "</div>"
   ]
  },
  {
   "cell_type": "code",
   "execution_count": 61,
   "metadata": {},
   "outputs": [
    {
     "name": "stdout",
     "output_type": "stream",
     "text": [
      "('apple', 'banana', 'cherry')\n"
     ]
    }
   ],
   "source": [
    "thistuple = (\"apple\", \"banana\", \"cherry\")\n",
    "print(thistuple)"
   ]
  },
  {
   "cell_type": "markdown",
   "metadata": {},
   "source": [
    "<hr>\n",
    "<h2>Access Tuple Items</h2>\n",
    "<p>You can access tuple items by referring to the index number, inside square \n",
    "brackets:</p>\n",
    "\n",
    "<h3>Example</h3>\n",
    "<p>Print the second item in the tuple:</p>\n",
    "<div class=\"w3-code notranslate pythonHigh\">\n",
    "thistuple = (\"apple\", \"banana\", \"cherry\")<br>\n",
    "print(thistuple[1])\n",
    "</div>"
   ]
  },
  {
   "cell_type": "code",
   "execution_count": 62,
   "metadata": {},
   "outputs": [
    {
     "name": "stdout",
     "output_type": "stream",
     "text": [
      "apple\n"
     ]
    }
   ],
   "source": [
    "thistuple = (\"apple\", \"banana\", \"cherry\")\n",
    "print(thistuple[0])"
   ]
  },
  {
   "cell_type": "markdown",
   "metadata": {},
   "source": [
    "<h3>Negative Indexing</h3>\n",
    "<p>Negative indexing means beginning from the end, <code class=\"w3-codespan\">-1</code> refers to the last item, \n",
    "<code class=\"w3-codespan\">-2</code> refers to the second last item etc.</p>\n",
    "\n",
    "\n",
    "<h3>Example</h3>\n",
    "<p>Print the last item of the tuple:</p>\n",
    "<div class=\"w3-code notranslate pythonHigh\">\n",
    "thistuple = (&quot;apple&quot;, &quot;banana&quot;, &quot;cherry&quot;)<br>\n",
    "print(thistuple[-1])\n",
    "</div>"
   ]
  },
  {
   "cell_type": "code",
   "execution_count": 63,
   "metadata": {},
   "outputs": [
    {
     "name": "stdout",
     "output_type": "stream",
     "text": [
      "('cherry', 'banana', 'apple')\n"
     ]
    }
   ],
   "source": [
    "thistuple = (\"apple\", \"banana\", \"cherry\")\n",
    "print(thistuple[::-1])"
   ]
  },
  {
   "cell_type": "markdown",
   "metadata": {},
   "source": [
    "<h3>Range of Indexes</h3>\n",
    "<p>You can specify a range of indexes by specifying where to start and where to \n",
    "end the range.</p>\n",
    "<p>When specifying a range, the return value will be a new tuple with the \n",
    "specified items.</p>\n",
    "\n",
    "\n",
    "<h3>Example</h3>\n",
    "<p>Return the third, fourth, and fifth item:</p>\n",
    "<div class=\"w3-code notranslate pythonHigh\">\n",
    "thistuple = (&quot;apple&quot;, &quot;banana&quot;, &quot;cherry&quot;, &quot;orange&quot;, &quot;kiwi&quot;, &quot;melon&quot;, &quot;mango&quot;)<br>\n",
    "print(thistuple[2:5])\n",
    "</div>"
   ]
  },
  {
   "cell_type": "code",
   "execution_count": 64,
   "metadata": {},
   "outputs": [
    {
     "name": "stdout",
     "output_type": "stream",
     "text": [
      "('cherry', 'orange', 'kiwi')\n"
     ]
    }
   ],
   "source": [
    "thistuple = (\"apple\", \"banana\", \"cherry\", \"orange\", \"kiwi\", \"melon\", \"mango\")\n",
    "print(thistuple[2:5])"
   ]
  },
  {
   "cell_type": "markdown",
   "metadata": {},
   "source": [
    "<div class=\"w3-panel w3-note\">\n",
    "  <p><strong>Note:</strong> The search will start at index 2 (included) and end at index 5 (not included).</p>\n",
    "</div>\n",
    "\n",
    "<div class=\"w3-panel w3-note\">\n",
    "  <p>Remember that the first item has index 0.</p>\n",
    "</div>\n",
    "\n",
    "<h3>Range of Negative Indexes</h3>\n",
    "<p>Specify negative indexes if you want to start the search from the end of the \n",
    "tuple:</p>\n",
    "\n",
    "\n",
    "<h3>Example</h3>\n",
    "<p>This example returns the items from index -4 (included) to index -1 (excluded)</p>\n",
    "<div class=\"w3-code notranslate pythonHigh\">\n",
    "thistuple = (&quot;apple&quot;, &quot;banana&quot;, &quot;cherry&quot;, &quot;orange&quot;, &quot;kiwi&quot;, &quot;melon&quot;, &quot;mango&quot;)<br>\n",
    "print(thistuple[-4:-1])\n",
    "</div>"
   ]
  },
  {
   "cell_type": "code",
   "execution_count": 65,
   "metadata": {},
   "outputs": [
    {
     "name": "stdout",
     "output_type": "stream",
     "text": [
      "('orange', 'kiwi', 'melon')\n"
     ]
    }
   ],
   "source": [
    "thistuple = (\"apple\", \"banana\", \"cherry\", \"orange\", \"kiwi\", \"melon\", \"mango\")\n",
    "print(thistuple[-4:-1])"
   ]
  },
  {
   "cell_type": "markdown",
   "metadata": {},
   "source": [
    "<hr>\n",
    "<h2>Change Tuple Values</h2>\n",
    "\n",
    "<p>Once a tuple is created, you cannot change its values. Tuples are <strong>unchangeable</strong>, \n",
    "or <strong>immutable</strong> as it also is called.</p>\n",
    "<p>But there is a workaround. You can convert the tuple into a list, change the \n",
    "list, and convert the list back into a tuple.</p>\n",
    "\n",
    "<h3>Example</h3>\n",
    "<p>Convert the tuple into a list to be able to change it:</p>\n",
    "<div class=\"w3-code notranslate pythonHigh\">\n",
    "  x = (\"apple\", \"banana\", \"cherry\")<br>y = list(x)<br>y[1] = &quot;kiwi&quot;<br>x = \n",
    "  tuple(y)<br><br>print(x)</div>\n",
    "  "
   ]
  },
  {
   "cell_type": "code",
   "execution_count": 67,
   "metadata": {},
   "outputs": [
    {
     "name": "stdout",
     "output_type": "stream",
     "text": [
      "('apple', 'kiwi', 'cherry')\n"
     ]
    }
   ],
   "source": [
    "x = (\"apple\", \"banana\", \"cherry\")\n",
    "y = list(x)\n",
    "y[1] = \"kiwi\"\n",
    "x = tuple(y)\n",
    "print(x)"
   ]
  },
  {
   "cell_type": "markdown",
   "metadata": {},
   "source": [
    "<h3>Example</h3>\n",
    "<p>You cannot change values in a tuple:</p>\n",
    "<div class=\"w3-code notranslate pythonHigh\">\n",
    "thistuple = (\"apple\", \"banana\", \"cherry\")<br>\n",
    "thistuple[1] = \"blackcurrant\"<br># The values will produce an error<br>print(thistuple)\n",
    "</div>"
   ]
  },
  {
   "cell_type": "code",
   "execution_count": 68,
   "metadata": {},
   "outputs": [
    {
     "ename": "TypeError",
     "evalue": "'tuple' object does not support item assignment",
     "output_type": "error",
     "traceback": [
      "\u001b[1;31m---------------------------------------------------------------------------\u001b[0m",
      "\u001b[1;31mTypeError\u001b[0m                                 Traceback (most recent call last)",
      "\u001b[1;32m<ipython-input-68-3960ea37b913>\u001b[0m in \u001b[0;36m<module>\u001b[1;34m\u001b[0m\n\u001b[0;32m      1\u001b[0m \u001b[0mthistuple\u001b[0m \u001b[1;33m=\u001b[0m \u001b[1;33m(\u001b[0m\u001b[1;34m\"apple\"\u001b[0m\u001b[1;33m,\u001b[0m \u001b[1;34m\"banana\"\u001b[0m\u001b[1;33m,\u001b[0m \u001b[1;34m\"cherry\"\u001b[0m\u001b[1;33m)\u001b[0m\u001b[1;33m\u001b[0m\u001b[1;33m\u001b[0m\u001b[0m\n\u001b[1;32m----> 2\u001b[1;33m \u001b[0mthistuple\u001b[0m\u001b[1;33m[\u001b[0m\u001b[1;36m1\u001b[0m\u001b[1;33m]\u001b[0m \u001b[1;33m=\u001b[0m \u001b[1;34m\"blackcurrant\"\u001b[0m\u001b[1;33m\u001b[0m\u001b[1;33m\u001b[0m\u001b[0m\n\u001b[0m\u001b[0;32m      3\u001b[0m \u001b[1;31m# The values will produce an error\u001b[0m\u001b[1;33m\u001b[0m\u001b[1;33m\u001b[0m\u001b[1;33m\u001b[0m\u001b[0m\n\u001b[0;32m      4\u001b[0m \u001b[0mprint\u001b[0m\u001b[1;33m(\u001b[0m\u001b[0mthistuple\u001b[0m\u001b[1;33m)\u001b[0m\u001b[1;33m\u001b[0m\u001b[1;33m\u001b[0m\u001b[0m\n",
      "\u001b[1;31mTypeError\u001b[0m: 'tuple' object does not support item assignment"
     ]
    }
   ],
   "source": [
    "thistuple = (\"apple\", \"banana\", \"cherry\")\n",
    "thistuple[1] = \"blackcurrant\"\n",
    "# The values will produce an error\n",
    "print(thistuple)"
   ]
  },
  {
   "cell_type": "markdown",
   "metadata": {},
   "source": [
    "<hr>\n",
    "<h2>Loop Through a Tuple</h2>\n",
    "\n",
    "<p>You can loop through the tuple items by using a <code class=\"w3-codespan\">for</code> loop.</p>\n",
    "\n",
    "<h3>Example</h3>\n",
    "<p>Iterate through the items and print the values:</p>\n",
    "<div class=\"w3-code notranslate pythonHigh\">\n",
    "thistuple = (\"apple\", \"banana\", \"cherry\")<br>\n",
    "  for x in thistuple:<br>&nbsp; print(x)</div>"
   ]
  },
  {
   "cell_type": "code",
   "execution_count": 69,
   "metadata": {},
   "outputs": [
    {
     "name": "stdout",
     "output_type": "stream",
     "text": [
      "apple\n",
      "banana\n",
      "cherry\n"
     ]
    }
   ],
   "source": [
    "thistuple = (\"apple\", \"banana\", \"cherry\")\n",
    "for x in thistuple:\n",
    "  print(x)"
   ]
  },
  {
   "cell_type": "markdown",
   "metadata": {},
   "source": [
    "<p>You will learn more about <code class=\"w3-codespan\">for</code> loops in our Python For Loops Chapter.</p>\n",
    "\n",
    "<hr>\n",
    "<h2>Check if Item Exists</h2>\n",
    "\n",
    "<p>To determine if a specified item is present in a tuple use the <code class=\"w3-codespan\">in</code> keyword:</p>\n",
    "\n",
    "\n",
    "<h3>Example</h3>\n",
    "<p>Check if \"apple\" is present in the tuple:</p>\n",
    "<div class=\"w3-code notranslate pythonHigh\">\n",
    "thistuple = (&quot;apple&quot;, &quot;banana&quot;, &quot;cherry&quot;)<br>\n",
    "  if &quot;apple&quot; in thistuple:<br>&nbsp; print(&quot;Yes, 'apple' is in the fruits tuple&quot;)</div>"
   ]
  },
  {
   "cell_type": "code",
   "execution_count": 72,
   "metadata": {},
   "outputs": [
    {
     "name": "stdout",
     "output_type": "stream",
     "text": [
      "No, 'durian' is in the fruits tuple\n"
     ]
    }
   ],
   "source": [
    "thistuple = (\"apple\", \"banana\", \"cherry\")\n",
    "if \"durian\" in thistuple:\n",
    "  print(\"Yes, 'apple' is in the fruits tuple\")\n",
    "else:\n",
    "  print(\"No, 'durian' is in the fruits tuple\")"
   ]
  },
  {
   "cell_type": "markdown",
   "metadata": {},
   "source": [
    "<hr>\n",
    "\n",
    "<h2>Tuple Length</h2>\n",
    "\n",
    "<p>To determine how many items a tuple has, use the <code class=\"w3-codespan\">len()</code> method:</p>\n",
    "\n",
    "\n",
    "<h3>Example</h3>\n",
    "<p>Print the number of items in the tuple:</p>\n",
    "<div class=\"w3-code notranslate pythonHigh\">\n",
    "thistuple = (\"apple\", \"banana\", \"cherry\")<br>\n",
    "  print(len(thistuple))</div>"
   ]
  },
  {
   "cell_type": "code",
   "execution_count": 73,
   "metadata": {},
   "outputs": [
    {
     "name": "stdout",
     "output_type": "stream",
     "text": [
      "3\n"
     ]
    }
   ],
   "source": [
    "thistuple = (\"apple\", \"banana\", \"cherry\")\n",
    "print(len(thistuple))"
   ]
  },
  {
   "cell_type": "markdown",
   "metadata": {},
   "source": [
    "<hr>\n",
    "\n",
    "<h2>Add Items</h2>\n",
    "\n",
    "<p>Once a tuple is created, you cannot add items to it. Tuples are <strong>unchangeable</strong>.</p>\n",
    "<div class=\"w3-example w3-pale-red\">\n",
    "<h3>Example</h3>\n",
    "<p>You cannot add items to a tuple:</p>\n",
    "<div class=\"w3-code notranslate pythonHigh w3-border-red\">\n",
    "thistuple = (\"apple\", \"banana\", \"cherry\")<br>\n",
    "thistuple[3] = \"orange&quot; # This will raise an error<br>print(thistuple)\n",
    "</div>"
   ]
  },
  {
   "cell_type": "code",
   "execution_count": 74,
   "metadata": {},
   "outputs": [
    {
     "ename": "TypeError",
     "evalue": "'tuple' object does not support item assignment",
     "output_type": "error",
     "traceback": [
      "\u001b[1;31m---------------------------------------------------------------------------\u001b[0m",
      "\u001b[1;31mTypeError\u001b[0m                                 Traceback (most recent call last)",
      "\u001b[1;32m<ipython-input-74-fe88f2910dbf>\u001b[0m in \u001b[0;36m<module>\u001b[1;34m\u001b[0m\n\u001b[0;32m      1\u001b[0m \u001b[0mthistuple\u001b[0m \u001b[1;33m=\u001b[0m \u001b[1;33m(\u001b[0m\u001b[1;34m\"apple\"\u001b[0m\u001b[1;33m,\u001b[0m \u001b[1;34m\"banana\"\u001b[0m\u001b[1;33m,\u001b[0m \u001b[1;34m\"cherry\"\u001b[0m\u001b[1;33m)\u001b[0m\u001b[1;33m\u001b[0m\u001b[1;33m\u001b[0m\u001b[0m\n\u001b[1;32m----> 2\u001b[1;33m \u001b[0mthistuple\u001b[0m\u001b[1;33m[\u001b[0m\u001b[1;36m3\u001b[0m\u001b[1;33m]\u001b[0m \u001b[1;33m=\u001b[0m \u001b[1;34m\"orange\"\u001b[0m \u001b[1;31m# This will raise an error\u001b[0m\u001b[1;33m\u001b[0m\u001b[1;33m\u001b[0m\u001b[0m\n\u001b[0m\u001b[0;32m      3\u001b[0m \u001b[0mprint\u001b[0m\u001b[1;33m(\u001b[0m\u001b[0mthistuple\u001b[0m\u001b[1;33m)\u001b[0m\u001b[1;33m\u001b[0m\u001b[1;33m\u001b[0m\u001b[0m\n",
      "\u001b[1;31mTypeError\u001b[0m: 'tuple' object does not support item assignment"
     ]
    }
   ],
   "source": [
    "thistuple = (\"apple\", \"banana\", \"cherry\")\n",
    "thistuple[3] = \"orange\" # This will raise an error\n",
    "print(thistuple)"
   ]
  },
  {
   "cell_type": "markdown",
   "metadata": {},
   "source": [
    "<hr>\n",
    "\n",
    "<h2>Create Tuple With One Item</h2>\n",
    "\n",
    "<p>To create a tuple with only one item, you have to add a comma after the item, \n",
    "otherwise Python will not recognize it as a tuple.</p>\n",
    "\n",
    "<h3>Example</h3>\n",
    "<p>One item tuple, remember the commma:</p>\n",
    "<div class=\"w3-code notranslate pythonHigh\">\n",
    "thistuple = (\"apple\",)<br>\n",
    "  print(type(thistuple))<br><br>#NOT a tuple<br>thistuple = (&quot;apple&quot;)<br>\n",
    "  print(type(thistuple))</div>"
   ]
  },
  {
   "cell_type": "code",
   "execution_count": 77,
   "metadata": {},
   "outputs": [
    {
     "name": "stdout",
     "output_type": "stream",
     "text": [
      "<class 'tuple'>\n",
      "<class 'str'>\n"
     ]
    }
   ],
   "source": [
    "thistuple = (\"apple\",)\n",
    "print(type(thistuple))\n",
    "\n",
    "#NOT a tuple\n",
    "thistuple = (\"apple\")\n",
    "print(type(thistuple))"
   ]
  },
  {
   "cell_type": "markdown",
   "metadata": {},
   "source": [
    "<hr>\n",
    "\n",
    "<h2>Remove Items</h2>\n",
    "\n",
    "<div class=\"w3-panel w3-note\">\n",
    "  <p><strong>Note:</strong> You cannot remove items in a tuple.</p>\n",
    "</div>\n",
    "\n",
    "<p>Tuples are <strong>unchangeable</strong>, so you cannot remove items \n",
    "from it, but you can delete the tuple completely:</p>\n",
    "\n",
    "<h3>Example</h3>\n",
    "<p>The <code class=\"w3-codespan\">del</code> keyword can delete the tuple \n",
    "completely:</p>\n",
    "<div class=\"w3-code notranslate pythonHigh\">\n",
    "thistuple = (\"apple\", \"banana\", \"cherry\")<br>\n",
    "  del\n",
    "thistuple<br>print(thistuple)\n",
    "  #this will raise an error because the tuple no longer exists</div>"
   ]
  },
  {
   "cell_type": "code",
   "execution_count": 80,
   "metadata": {},
   "outputs": [
    {
     "ename": "TypeError",
     "evalue": "'tuple' object doesn't support item deletion",
     "output_type": "error",
     "traceback": [
      "\u001b[1;31m---------------------------------------------------------------------------\u001b[0m",
      "\u001b[1;31mTypeError\u001b[0m                                 Traceback (most recent call last)",
      "\u001b[1;32m<ipython-input-80-c5248e6d60af>\u001b[0m in \u001b[0;36m<module>\u001b[1;34m\u001b[0m\n\u001b[0;32m      1\u001b[0m \u001b[0mthistuple\u001b[0m \u001b[1;33m=\u001b[0m \u001b[1;33m(\u001b[0m\u001b[1;34m\"apple\"\u001b[0m\u001b[1;33m,\u001b[0m \u001b[1;34m\"banana\"\u001b[0m\u001b[1;33m,\u001b[0m \u001b[1;34m\"cherry\"\u001b[0m\u001b[1;33m)\u001b[0m\u001b[1;33m\u001b[0m\u001b[1;33m\u001b[0m\u001b[0m\n\u001b[1;32m----> 2\u001b[1;33m \u001b[1;32mdel\u001b[0m \u001b[0mthistuple\u001b[0m\u001b[1;33m[\u001b[0m\u001b[1;36m0\u001b[0m\u001b[1;33m]\u001b[0m\u001b[1;33m\u001b[0m\u001b[1;33m\u001b[0m\u001b[0m\n\u001b[0m\u001b[0;32m      3\u001b[0m \u001b[0mprint\u001b[0m\u001b[1;33m(\u001b[0m\u001b[0mthistuple\u001b[0m\u001b[1;33m)\u001b[0m \u001b[1;31m#'tuple' object doesn't support item deletion\u001b[0m\u001b[1;33m\u001b[0m\u001b[1;33m\u001b[0m\u001b[0m\n",
      "\u001b[1;31mTypeError\u001b[0m: 'tuple' object doesn't support item deletion"
     ]
    }
   ],
   "source": [
    "thistuple = (\"apple\", \"banana\", \"cherry\")\n",
    "del thistuple[0]\n",
    "print(thistuple) #'tuple' object doesn't support item deletion\n"
   ]
  },
  {
   "cell_type": "markdown",
   "metadata": {},
   "source": [
    "<hr>\n",
    "\n",
    "<h2>Join Two Tuples</h2>\n",
    "<p>To join two or more tuples you can use the <code class=\"w3-codespan\">+</code> \n",
    "operator:</p>\n",
    "\n",
    "\n",
    "<h3>Example</h3>\n",
    "<p>Join two tuples:</p>\n",
    "<div class=\"w3-code notranslate pythonHigh\">\n",
    "  tuple1 = (&quot;a&quot;, &quot;b&quot; , &quot;c&quot;)<br>tuple2 = (1, 2, 3)<br><br>\n",
    "  tuple3 = tuple1 + tuple2<br>\n",
    "  print(tuple3)</div>"
   ]
  },
  {
   "cell_type": "code",
   "execution_count": 84,
   "metadata": {},
   "outputs": [
    {
     "name": "stdout",
     "output_type": "stream",
     "text": [
      "(5, 6, 7, 1, 2, 3)\n",
      "(5, 6, 7)\n"
     ]
    }
   ],
   "source": [
    "tuple1 = (5, 6 , 7)\n",
    "tuple2 = (1, 2, 3)\n",
    "\n",
    "tuple3 = tuple1 + tuple2\n",
    "print(tuple3)\n",
    "print(tuple1)"
   ]
  },
  {
   "cell_type": "markdown",
   "metadata": {},
   "source": [
    "<hr>\n",
    "\n",
    "<h2>The tuple() Constructor</h2>\n",
    "<p>It is also possible to use the <span class=\"w3-codespan\">tuple()</span> constructor to make a tuple.</p>\n",
    "\n",
    "\n",
    "<h3>Example</h3>\n",
    "<p>Using the tuple() method to make a tuple:</p>\n",
    "<div class=\"w3-code notranslate pythonHigh\">\n",
    "thistuple = tuple((\"apple\", \"banana\", \"cherry\")) # note the double round-brackets<br>\n",
    "print(thistuple)\n",
    "</div>"
   ]
  },
  {
   "cell_type": "code",
   "execution_count": 89,
   "metadata": {},
   "outputs": [
    {
     "data": {
      "text/plain": [
       "2"
      ]
     },
     "execution_count": 89,
     "metadata": {},
     "output_type": "execute_result"
    }
   ],
   "source": [
    "thistuple = tuple((\"apple\", \"banana\", \"cherry\",\"apple\", \"banana\", \"apple\")) # note the double round-brackets\n",
    "thistuple.index(\"cherry\")"
   ]
  },
  {
   "cell_type": "code",
   "execution_count": 90,
   "metadata": {},
   "outputs": [
    {
     "name": "stdout",
     "output_type": "stream",
     "text": [
      "0\n",
      "3\n"
     ]
    }
   ],
   "source": [
    "thistuple = tuple((\"apple\", \"banana\", \"cherry\",\"apple\", \"banana\", \"apple\")) # note the double round-brackets\n",
    "\n",
    "keyword = \"apple\"\n",
    "for x in thistuple:\n",
    "    newtuple(x,)\n",
    "    if keyword == x:\n",
    "        print(keyword,thistuple.index(keyword,index))\n",
    "    y+=1\n",
    "    continue\n"
   ]
  },
  {
   "cell_type": "markdown",
   "metadata": {},
   "source": [
    "<hr>\n",
    "\n",
    "<h2>Tuple Methods</h2>\n",
    "\n",
    "<p>Python has two built-in methods that you can use on tuples.</p>\n",
    "\n",
    "<table class=\"w3-table-all notranslate\">\n",
    "<tr>\n",
    "<th style=\"width:20%\">Method</th>\n",
    "<th>Description</th>\n",
    "</tr>\n",
    "<tr><td><a href=\"ref_tuple_count.asp\">count()</a></td><td>Returns the number of times a specified value occurs in a tuple</td></tr>\n",
    "<tr><td><a href=\"ref_tuple_index.asp\">index()</a></td><td>Searches the tuple for a specified value and returns the position of where it was found</td></tr>\n",
    "</table>\n",
    "<hr>\n",
    "<h2>Test Yourself With Exercises</h2>\n",
    "<h2>Exercise:</h2>\n",
    "<p>Print the first item in the <code class=\"w3-codespan\">fruits</code> tuple.</p>\n",
    "<div class=\"exerciseprecontainer\">\n",
    "<pre>\n",
    "fruits = (\"apple\", <br class=\"phonebr\">\"banana\", <br class=\"phonebr\">\"cherry\")\n",
    "print(<input name=\"ex1\" maxlength=\"9\" style=\"width: 96px;\">)\n",
    "</pre>\n"
   ]
  },
  {
   "cell_type": "code",
   "execution_count": 1,
   "metadata": {},
   "outputs": [
    {
     "name": "stdout",
     "output_type": "stream",
     "text": [
      "Fahimisveryboygood\n"
     ]
    }
   ],
   "source": [
    "var01 = \"boy\"\n",
    "var02 = \"Fahim\"\n",
    "var03 = \"good\"\n",
    "var04 = \"very\" \n",
    "var05 = \"is\"\n",
    "print (var02+var05+var04+var01+var03)"
   ]
  },
  {
   "cell_type": "code",
   "execution_count": null,
   "metadata": {},
   "outputs": [],
   "source": []
  }
 ],
 "metadata": {
  "kernelspec": {
   "display_name": "Python 3",
   "language": "python",
   "name": "python3"
  },
  "language_info": {
   "codemirror_mode": {
    "name": "ipython",
    "version": 3
   },
   "file_extension": ".py",
   "mimetype": "text/x-python",
   "name": "python",
   "nbconvert_exporter": "python",
   "pygments_lexer": "ipython3",
   "version": "3.8.8"
  }
 },
 "nbformat": 4,
 "nbformat_minor": 2
}
