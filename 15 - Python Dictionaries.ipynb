{
 "cells": [
  {
   "cell_type": "markdown",
   "metadata": {},
   "source": [
    "<h1>15 - Python Dictionaries</h1>\n",
    "\n",
    "<hr>\n",
    "\n",
    "\n",
    "<h2>Dictionary</h2>\n",
    "\n",
    "<p>A dictionary is a collection which is unordered, changeable and indexed. In Python dictionaries are written with curly brackets, and \n",
    "they have keys and values.</p>\n",
    "\n",
    "\n",
    "<h3>Example</h3>\n",
    "<p>Create and print a dictionary:</p>\n",
    "<div class=\"w3-code notranslate pythonHigh\">\n",
    "thisdict =\t{<br>\n",
    "&nbsp;&nbsp;\"brand\": \"Ford\",<br>\n",
    "&nbsp;&nbsp;\"model\": \"Mustang&quot;,<br>\n",
    "&nbsp;&nbsp;\"year\": 1964<br>\n",
    "}<br>\n",
    "print(thisdict)<br>\n",
    "</div>"
   ]
  },
  {
   "cell_type": "code",
   "execution_count": null,
   "metadata": {},
   "outputs": [],
   "source": [
    "thisdict = {\n",
    "  \"brand\": \"Ford\",\n",
    "  \"model\": \"Mustang\",\n",
    "  \"year\": 1964\n",
    "}\n",
    "print(thisdict)"
   ]
  },
  {
   "cell_type": "code",
   "execution_count": null,
   "metadata": {},
   "outputs": [],
   "source": [
    "print(thisdict[0])"
   ]
  },
  {
   "cell_type": "markdown",
   "metadata": {},
   "source": [
    "<hr>\n",
    "\n",
    "<h2>Accessing Items</h2>\n",
    "\n",
    "<p>You can access the items of a dictionary by referring to its key name, inside \n",
    "square brackets:</p>\n",
    "\n",
    "\n",
    "<h3>Example</h3>\n",
    "<p>Get the value of the &quot;model&quot; key:</p>\n",
    "<div class=\"w3-code notranslate pythonHigh\">\n",
    "  x = thisdict[&quot;model&quot;]<br>\n",
    "</div>"
   ]
  },
  {
   "cell_type": "code",
   "execution_count": null,
   "metadata": {},
   "outputs": [],
   "source": [
    "x = thisdict[\"model\"]"
   ]
  },
  {
   "cell_type": "markdown",
   "metadata": {},
   "source": [
    "<p>There is also a method called <code class=\"w3-codespan\">get()</code> that will give you the same result:</p>\n",
    "\n",
    "\n",
    "<h3>Example</h3>\n",
    "<p>Get the value of the &quot;model&quot; key:</p>\n",
    "<div class=\"w3-code notranslate pythonHigh\">\n",
    "  x = thisdict.get(&quot;model&quot;)<br>\n",
    "</div>"
   ]
  },
  {
   "cell_type": "code",
   "execution_count": null,
   "metadata": {},
   "outputs": [],
   "source": [
    "x = thisdict.get(\"model\")"
   ]
  },
  {
   "cell_type": "code",
   "execution_count": null,
   "metadata": {},
   "outputs": [],
   "source": [
    "print(x)"
   ]
  },
  {
   "cell_type": "markdown",
   "metadata": {},
   "source": [
    "<hr>\n",
    "\n",
    "\n",
    "<h2>Change Values</h2>\n",
    "\n",
    "<p>You can change the value of a specific item by referring to its key name:</p>\n",
    "\n",
    "\n",
    "<h3>Example</h3>\n",
    "<p>Change the &quot;year&quot; to 2018:</p>\n",
    "<div class=\"w3-code notranslate pythonHigh\">\n",
    "thisdict =\t{<br>\n",
    "&nbsp;&nbsp;\"brand\": \"Ford\",<br>\n",
    "&nbsp;&nbsp;\"model\": \"Mustang\",<br>\n",
    "&nbsp;&nbsp;\"year\": 1964<br>\n",
    "}<br>thisdict[&quot;year&quot;] = 2018<br>\n",
    "</div>"
   ]
  },
  {
   "cell_type": "code",
   "execution_count": 5,
   "metadata": {},
   "outputs": [
    {
     "name": "stdout",
     "output_type": "stream",
     "text": [
      "{'brand': 'Ford', 'model': 'Mustang', 'year': 2020}\n"
     ]
    }
   ],
   "source": [
    "thisdict = {\n",
    "  \"brand\": \"Ford\",\n",
    "  \"model\": \"Mustang\",\n",
    "  \"year\": 1964\n",
    "}\n",
    "thisdict[\"year\"] = 2018\n",
    "print (thisdict)"
   ]
  },
  {
   "cell_type": "markdown",
   "metadata": {},
   "source": [
    "<hr>\n",
    "\n",
    "<h2>Loop Through a Dictionary</h2>\n",
    "\n",
    "<p>You can loop through a dictionary by using a\n",
    "<code class=\"w3-codespan\">for</code> loop.</p>\n",
    "<p>When looping through a dictionary, the return value are the <em>keys</em> of \n",
    "the dictionary, but there are methods to return the <em>values</em> as well.</p>\n",
    "\n",
    "\n",
    "<h3>Example</h3>\n",
    "<p>Print all key names in the dictionary, one by one:</p>\n",
    "<div class=\"w3-code notranslate pythonHigh\">\n",
    "  for x in thisdict:<br>&nbsp; print(x)</div>"
   ]
  },
  {
   "cell_type": "code",
   "execution_count": 15,
   "metadata": {},
   "outputs": [
    {
     "name": "stdout",
     "output_type": "stream",
     "text": [
      "brand\n",
      "model\n",
      "year\n"
     ]
    }
   ],
   "source": [
    "for x in thisdict:\n",
    "  print(x)"
   ]
  },
  {
   "cell_type": "markdown",
   "metadata": {},
   "source": [
    "  <h3>Example</h3>\n",
    "<p>Print all <em>values</em> in the dictionary, one by one:</p>\n",
    "<div class=\"w3-code notranslate pythonHigh\">\n",
    "  for x in thisdict:<br>&nbsp; print(thisdict[x])</div>"
   ]
  },
  {
   "cell_type": "code",
   "execution_count": 16,
   "metadata": {},
   "outputs": [
    {
     "name": "stdout",
     "output_type": "stream",
     "text": [
      "Ford\n",
      "Mustang\n",
      "2018\n"
     ]
    }
   ],
   "source": [
    "for x in thisdict:\n",
    "  print(thisdict[x])"
   ]
  },
  {
   "cell_type": "markdown",
   "metadata": {},
   "source": [
    "<h3>Example</h3>\n",
    "<p>You can also use the <code class=\"w3-codespan\">values()</code> method to \n",
    "return values of a dictionary:</p>\n",
    "<div class=\"w3-code notranslate pythonHigh\">\n",
    "  for x in thisdict.values():<br>&nbsp; print(x)</div>"
   ]
  },
  {
   "cell_type": "code",
   "execution_count": 17,
   "metadata": {},
   "outputs": [
    {
     "name": "stdout",
     "output_type": "stream",
     "text": [
      "Ford\n",
      "Mustang\n",
      "2018\n"
     ]
    }
   ],
   "source": [
    "for x in thisdict.values():\n",
    "  print(x)"
   ]
  },
  {
   "cell_type": "markdown",
   "metadata": {},
   "source": [
    "<h3>Example</h3>\n",
    "<p>Loop through both <em>keys</em> and <em>values</em>, by using the\n",
    "<code class=\"w3-codespan\">items()</code> method:</p>\n",
    "<div class=\"w3-code notranslate pythonHigh\">\n",
    "  for x, y in thisdict.items():<br>&nbsp; print(x, y)</div>"
   ]
  },
  {
   "cell_type": "code",
   "execution_count": 19,
   "metadata": {},
   "outputs": [
    {
     "name": "stdout",
     "output_type": "stream",
     "text": [
      "brand Ford\n",
      "model Mustang\n",
      "year 2018\n"
     ]
    }
   ],
   "source": [
    "for x, y in thisdict.items():\n",
    "  print(x, y)"
   ]
  },
  {
   "cell_type": "markdown",
   "metadata": {},
   "source": [
    "<hr>\n",
    "<h2>Check if Key Exists</h2>\n",
    "\n",
    "<p>To determine if a specified key is present in a dictionary use the <code class=\"w3-codespan\">in</code> keyword:</p>\n",
    "\n",
    "\n",
    "<h3>Example</h3>\n",
    "<p>Check if \"model\" is present in the dictionary:</p>\n",
    "<div class=\"w3-code notranslate pythonHigh\">\n",
    "thisdict =\t{<br>\n",
    "&nbsp;&nbsp;\"brand\": \"Ford\",<br>\n",
    "&nbsp;&nbsp;\"model\": \"Mustang\",<br>\n",
    "&nbsp;&nbsp;\"year\": 1964<br>\n",
    "}<br>\n",
    "  if &quot;model&quot; in thisdict:<br>&nbsp; print(&quot;Yes, 'model' is \n",
    "  one of the keys in the thisdict dictionary&quot;)</div>"
   ]
  },
  {
   "cell_type": "code",
   "execution_count": 20,
   "metadata": {},
   "outputs": [
    {
     "name": "stdout",
     "output_type": "stream",
     "text": [
      "Yes, 'model' is one of the keys in the thisdict dictionary\n"
     ]
    }
   ],
   "source": [
    "thisdict = {\n",
    "  \"brand\": \"Ford\",\n",
    "  \"model\": \"Mustang\",\n",
    "  \"year\": 1964\n",
    "}\n",
    "if \"model\" in thisdict:\n",
    "  print(\"Yes, 'model' is one of the keys in the thisdict dictionary\")"
   ]
  },
  {
   "cell_type": "markdown",
   "metadata": {},
   "source": [
    "<hr>\n",
    "\n",
    "<h2>Dictionary Length</h2>\n",
    "\n",
    "<p>To determine how many items (key-value pairs) a dictionary has, use the <code class=\"w3-codespan\">len()</code> \n",
    "function.</p>\n",
    "\n",
    "\n",
    "<h3>Example</h3>\n",
    "<p>Print the number of items in the dictionary:</p>\n",
    "<div class=\"w3-code notranslate pythonHigh\">\n",
    "  print(len(thisdict))</div>"
   ]
  },
  {
   "cell_type": "code",
   "execution_count": 21,
   "metadata": {},
   "outputs": [
    {
     "name": "stdout",
     "output_type": "stream",
     "text": [
      "3\n"
     ]
    }
   ],
   "source": [
    "print(len(thisdict))"
   ]
  },
  {
   "cell_type": "markdown",
   "metadata": {},
   "source": [
    "<hr>\n",
    "<h2>Adding Items</h2>\n",
    "\n",
    "<p>Adding an item to the dictionary is done by using a new index key and assigning a value to it:</p>\n",
    "\n",
    "\n",
    "<h3>Example</h3>\n",
    "<div class=\"w3-code notranslate pythonHigh\">\n",
    "thisdict =\t{<br>\n",
    "&nbsp;&nbsp;\"brand\": \"Ford\",<br>\n",
    "&nbsp;&nbsp;\"model\": \"Mustang\",<br>\n",
    "&nbsp;&nbsp;\"year\": 1964<br>\n",
    "}<br>thisdict[&quot;color&quot;] = &quot;red&quot;<br>print(thisdict)<br>\n",
    "</div>"
   ]
  },
  {
   "cell_type": "code",
   "execution_count": 4,
   "metadata": {},
   "outputs": [
    {
     "name": "stdout",
     "output_type": "stream",
     "text": [
      "{'brand': 'Ford', 'model': 'Mustang', 'year': 1964, 'color': 'yellow'}\n"
     ]
    }
   ],
   "source": [
    "thisdict = {\n",
    "  \"brand\": \"Ford\",\n",
    "  \"model\": \"Mustang\",\n",
    "  \"year\": 1964\n",
    "}\n",
    "thisdict[\"color\"] = \"yellow\"\n",
    "print(thisdict)"
   ]
  },
  {
   "cell_type": "markdown",
   "metadata": {},
   "source": [
    "<hr>\n",
    "<h2>Removing Items</h2>\n",
    "\n",
    "<p>There are several methods to remove items from a dictionary:</p>\n",
    "\n",
    "\n",
    "\n",
    "<h3>Example</h3>\n",
    "  <p>The <code class=\"w3-codespan\">pop()</code> method removes the item with the specified key name:</p>\n",
    "<div class=\"w3-code notranslate pythonHigh\">\n",
    "thisdict =\t{<br>\n",
    "&nbsp;&nbsp;\"brand\": \"Ford\",<br>\n",
    "&nbsp;&nbsp;\"model\": \"Mustang\",<br>\n",
    "&nbsp;&nbsp;\"year\": 1964<br>\n",
    "}<br>thisdict.pop(&quot;model&quot;)<br>\n",
    "  print(thisdict)</div>"
   ]
  },
  {
   "cell_type": "code",
   "execution_count": 2,
   "metadata": {},
   "outputs": [
    {
     "name": "stdout",
     "output_type": "stream",
     "text": [
      "{'brand': 'Ford', 'year': 1964}\n"
     ]
    }
   ],
   "source": [
    "thisdict = {\n",
    "  \"brand\": \"Ford\",\n",
    "  \"type\": \"Mustang\",\n",
    "  \"year\": 1964\n",
    "}\n",
    "thisdict.pop(\"type\")\n",
    "print(thisdict)"
   ]
  },
  {
   "cell_type": "markdown",
   "metadata": {},
   "source": [
    "<h3>Example</h3>\n",
    "  <p>The <code class=\"w3-codespan\">popitem()</code> method removes the last \n",
    "  inserted item (in versions before 3.7, a random item is removed instead):</p>\n",
    "<div class=\"w3-code notranslate pythonHigh\">\n",
    "thisdict =\t{<br>\n",
    "&nbsp;&nbsp;\"brand\": \"Ford\",<br>\n",
    "&nbsp;&nbsp;\"model\": \"Mustang\",<br>\n",
    "&nbsp;&nbsp;\"year\": 1964<br>\n",
    "}<br>thisdict.popitem()<br>\n",
    "  print(thisdict)</div>"
   ]
  },
  {
   "cell_type": "code",
   "execution_count": 26,
   "metadata": {},
   "outputs": [
    {
     "name": "stdout",
     "output_type": "stream",
     "text": [
      "{'brand': 'Ford', 'model': 'Mustang'}\n"
     ]
    }
   ],
   "source": [
    "thisdict = {\n",
    "  \"brand\": \"Ford\",\n",
    "  \"model\": \"Mustang\",\n",
    "  \"year\": 1964\n",
    "}\n",
    "thisdict.popitem()\n",
    "print(thisdict)"
   ]
  },
  {
   "cell_type": "markdown",
   "metadata": {},
   "source": [
    "<h3>Example</h3>\n",
    "  <p>The <code class=\"w3-codespan\">del</code> keyword removes the item with the specified \n",
    "  key name:</p>\n",
    "<div class=\"w3-code notranslate pythonHigh\">\n",
    "thisdict =\t{<br>\n",
    "&nbsp;&nbsp;\"brand\": \"Ford\",<br>\n",
    "&nbsp;&nbsp;\"model\": \"Mustang\",<br>\n",
    "&nbsp;&nbsp;\"year\": 1964<br>\n",
    "}<br>del thisdict[&quot;model&quot;]<br>print(thisdict)</div>"
   ]
  },
  {
   "cell_type": "code",
   "execution_count": 21,
   "metadata": {},
   "outputs": [
    {
     "name": "stdout",
     "output_type": "stream",
     "text": [
      "{100: 'Donald', 102: 'Hillary'}\n"
     ]
    }
   ],
   "source": [
    "data = {100:'Donald', 101:'Barack', 102:'Hillary'}\n",
    "del data[101]\n",
    "print(data)"
   ]
  },
  {
   "cell_type": "markdown",
   "metadata": {},
   "source": [
    "<div class=\"w3-example w3-pale-red\">\n",
    "<h3>Example</h3>\n",
    "  <p>The <code class=\"w3-codespan\">del</code> keyword can also delete the \n",
    "  dictionary completely:</p>\n",
    "<div class=\"w3-code notranslate pythonHigh w3-border-red\">\n",
    "thisdict =\t{<br>\n",
    "&nbsp;&nbsp;\"brand\": \"Ford\",<br>\n",
    "&nbsp;&nbsp;\"model\": \"Mustang\",<br>\n",
    "&nbsp;&nbsp;\"year\": 1964<br>\n",
    "}<br>del thisdict<br>print(thisdict) #this will cause an error because &quot;thisdict&quot; \n",
    "  no longer exists.</div>"
   ]
  },
  {
   "cell_type": "code",
   "execution_count": 28,
   "metadata": {},
   "outputs": [
    {
     "ename": "NameError",
     "evalue": "name 'thisdict' is not defined",
     "output_type": "error",
     "traceback": [
      "\u001b[1;31m---------------------------------------------------------------------------\u001b[0m",
      "\u001b[1;31mNameError\u001b[0m                                 Traceback (most recent call last)",
      "\u001b[1;32m<ipython-input-28-cf8f189c2310>\u001b[0m in \u001b[0;36m<module>\u001b[1;34m\u001b[0m\n\u001b[0;32m      5\u001b[0m }\n\u001b[0;32m      6\u001b[0m \u001b[1;32mdel\u001b[0m \u001b[0mthisdict\u001b[0m\u001b[1;33m\u001b[0m\u001b[1;33m\u001b[0m\u001b[0m\n\u001b[1;32m----> 7\u001b[1;33m \u001b[0mprint\u001b[0m\u001b[1;33m(\u001b[0m\u001b[0mthisdict\u001b[0m\u001b[1;33m)\u001b[0m \u001b[1;31m#this will cause an error because \"thisdict\" no longer exists.\u001b[0m\u001b[1;33m\u001b[0m\u001b[1;33m\u001b[0m\u001b[0m\n\u001b[0m",
      "\u001b[1;31mNameError\u001b[0m: name 'thisdict' is not defined"
     ]
    }
   ],
   "source": [
    "thisdict = {\n",
    "  \"brand\": \"Ford\",\n",
    "  \"model\": \"Mustang\",\n",
    "  \"year\": 1964\n",
    "}\n",
    "del thisdict\n",
    "print(thisdict) #this will cause an error because \"thisdict\" no longer exists."
   ]
  },
  {
   "cell_type": "markdown",
   "metadata": {},
   "source": [
    "<h3>Example</h3>\n",
    "  <p>The <code class=\"w3-codespan\">clear()</code> method empties the \n",
    "  dictionary:</p>\n",
    "<div class=\"w3-code notranslate pythonHigh\">\n",
    "thisdict =\t{<br>\n",
    "&nbsp;&nbsp;\"brand\": \"Ford\",<br>\n",
    "&nbsp;&nbsp;\"model\": \"Mustang\",<br>\n",
    "&nbsp;&nbsp;\"year\": 1964<br>\n",
    "}<br>thisdict.clear()<br>print(thisdict)</div>"
   ]
  },
  {
   "cell_type": "code",
   "execution_count": 15,
   "metadata": {},
   "outputs": [
    {
     "name": "stdout",
     "output_type": "stream",
     "text": [
      "{'brand': 'Ford', 'model': 'Mustang', 'year': 2018}\n"
     ]
    }
   ],
   "source": [
    "car =\t{\n",
    "  \"brand\": \"Ford\",\n",
    "  \"model\": \"Mustang\",\n",
    "  \"year\": 1964\n",
    "}\n",
    "car[\"year\"] = 2018\n",
    "print(car)"
   ]
  },
  {
   "cell_type": "markdown",
   "metadata": {},
   "source": [
    "<hr>\n",
    "\n",
    "<h2>Copy a Dictionary</h2>\n",
    "<p>You cannot copy a dictionary simply by typing <code class=\"w3-codespan\">dict2 = \n",
    "dict1</code>, because: <code class=\"w3-codespan\">dict2</code> will only be a <em>\n",
    "reference</em> to <code class=\"w3-codespan\">dict1</code>, and changes made in\n",
    "<code class=\"w3-codespan\">dict1</code> will automatically also be made in\n",
    "<code class=\"w3-codespan\">dict2</code>.</p>\n",
    "\n",
    "<p>There are ways to make a copy, one way is to use the built-in Dictionary \n",
    "method <code class=\"w3-codespan\">\n",
    "copy()</code>.</p>\n",
    "\n",
    "\n",
    "<h3>Example</h3>\n",
    "<p>Make a copy of a dictionary with the <code class=\"w3-codespan\">copy()</code> method:</p>\n",
    "<div class=\"w3-code notranslate pythonHigh\">\n",
    "thisdict =\t{<br>\n",
    "&nbsp;&nbsp;\"brand\": \"Ford\",<br>\n",
    "&nbsp;&nbsp;\"model\": \"Mustang\",<br>\n",
    "&nbsp;&nbsp;\"year\": 1964<br>\n",
    "}<br>mydict \n",
    "  = thisdict.copy()<br>\n",
    "  print(mydict)\n",
    "</div>"
   ]
  },
  {
   "cell_type": "code",
   "execution_count": 35,
   "metadata": {},
   "outputs": [
    {
     "name": "stdout",
     "output_type": "stream",
     "text": [
      "{'brand': 'Ford', 'model': 'Mustang', 'year': 1964}\n"
     ]
    }
   ],
   "source": [
    "thisdict[\"year\"] = 2020 \n",
    "print(mydict)"
   ]
  },
  {
   "cell_type": "code",
   "execution_count": 34,
   "metadata": {},
   "outputs": [
    {
     "name": "stdout",
     "output_type": "stream",
     "text": [
      "{'brand': 'Ford', 'model': 'Mustang', 'year': 1964}\n"
     ]
    }
   ],
   "source": [
    "thisdict = {\n",
    "  \"brand\": \"Ford\",\n",
    "  \"model\": \"Mustang\",\n",
    "  \"year\": 1964\n",
    "}\n",
    "mydict = thisdict.copy()\n",
    "print(mydict)"
   ]
  },
  {
   "cell_type": "markdown",
   "metadata": {},
   "source": [
    "<p>Another way to make a copy is to use the built-in function \n",
    "<code class=\"w3-codespan\">dict()</code>.</p>\n",
    "\n",
    "\n",
    "<h3>Example</h3>\n",
    "<p>Make a copy of a dictionary with the <code class=\"w3-codespan\">dict()</code> \n",
    "function:</p>\n",
    "<div class=\"w3-code notranslate pythonHigh\">\n",
    "thisdict =\t{<br>\n",
    "&nbsp;&nbsp;\"brand\": \"Ford\",<br>\n",
    "&nbsp;&nbsp;\"model\": \"Mustang\",<br>\n",
    "&nbsp;&nbsp;\"year\": 1964<br>\n",
    "}<br>mydict \n",
    "  = dict(thisdict)<br>\n",
    "  print(mydict)</div>"
   ]
  },
  {
   "cell_type": "code",
   "execution_count": null,
   "metadata": {},
   "outputs": [],
   "source": []
  },
  {
   "cell_type": "code",
   "execution_count": 36,
   "metadata": {},
   "outputs": [
    {
     "name": "stdout",
     "output_type": "stream",
     "text": [
      "{'brand': 'Ford', 'model': 'Mustang', 'year': 1964}\n"
     ]
    }
   ],
   "source": [
    "thisdict = {\n",
    "  \"brand\": \"Ford\",\n",
    "  \"model\": \"Mustang\",\n",
    "  \"year\": 1964\n",
    "}\n",
    "mydict = dict(thisdict)\n",
    "thisdict[\"year\"] = 2020 \n",
    "print(mydict)"
   ]
  },
  {
   "cell_type": "markdown",
   "metadata": {},
   "source": [
    "<hr>\n",
    "\n",
    "<h2>Nested Dictionaries</h2>\n",
    "<p>A dictionary can also contain many dictionaries, this is called nested \n",
    "dictionaries.</p>\n",
    "\n",
    "  <h3>Example</h3>\n",
    "<p>Create a dictionary that contain three dictionaries:</p>\n",
    "<div class=\"w3-code notranslate pythonHigh\">\n",
    "  myfamily = {<br>&nbsp; &quot;child1&quot; : {<br>&nbsp;&nbsp;&nbsp; &quot;name&quot; : &quot;Emil&quot;,<br>\n",
    "  &nbsp;&nbsp;&nbsp; &quot;year&quot; : 2004<br>&nbsp; },<br>&nbsp; &quot;child2&quot; : {<br>&nbsp;&nbsp;&nbsp; \n",
    "  &quot;name&quot; : &quot;Tobias&quot;,<br>&nbsp;&nbsp;&nbsp; &quot;year&quot; : 2007<br>&nbsp; },<br>&nbsp; \n",
    "  &quot;child3&quot; : {<br>&nbsp;&nbsp;&nbsp; &quot;name&quot; : &quot;Linus&quot;,<br>\n",
    "  &nbsp;&nbsp;&nbsp; &quot;year&quot; : 2011<br>&nbsp; }<br>} </div>"
   ]
  },
  {
   "cell_type": "code",
   "execution_count": 37,
   "metadata": {},
   "outputs": [
    {
     "name": "stdout",
     "output_type": "stream",
     "text": [
      "{'child1': {'name': 'Emil', 'year': 2004}, 'child2': {'name': 'Tobias', 'year': 2007}, 'child3': {'name': 'Linus', 'year': 2011}}\n"
     ]
    }
   ],
   "source": [
    "myfamily = {\n",
    "  \"child1\" : {\n",
    "    \"name\" : \"Emil\",\n",
    "    \"year\" : 2004\n",
    "  },\n",
    "  \"child2\" : {\n",
    "    \"name\" : \"Tobias\",\n",
    "    \"year\" : 2007\n",
    "  },\n",
    "  \"child3\" : {\n",
    "    \"name\" : \"Linus\",\n",
    "    \"year\" : 2011\n",
    "  }\n",
    "}\n",
    "\n",
    "print(myfamily)"
   ]
  },
  {
   "cell_type": "markdown",
   "metadata": {},
   "source": [
    "<p>Or, if you want to nest three dictionaries that already exists as \n",
    "dictionaries:</p>\n",
    "\n",
    "\n",
    "<h3>Example</h3>\n",
    "<p>Create three dictionaries, then create one dictionary that will contain the \n",
    "other three dictionaries:</p>\n",
    "<div class=\"w3-code notranslate pythonHigh\">\n",
    "  child1 = {<br>&nbsp; &quot;name&quot; : &quot;Emil&quot;,<br>&nbsp; &quot;year&quot; : 2004<br>}<br>child2 = {<br>&nbsp; \n",
    "  &quot;name&quot; : &quot;Tobias&quot;,<br>&nbsp; &quot;year&quot; : 2007<br>}<br>child3 = {<br>&nbsp; &quot;name&quot; : &quot;Linus&quot;,<br>&nbsp; \n",
    "  &quot;year&quot; : 2011<br>}<br><br>myfamily = {<br>&nbsp; &quot;child1&quot; : child1,<br>&nbsp; \n",
    "  &quot;child2&quot; : child2,<br>&nbsp; &quot;child3&quot; : child3<br>}</div>"
   ]
  },
  {
   "cell_type": "code",
   "execution_count": 38,
   "metadata": {},
   "outputs": [
    {
     "name": "stdout",
     "output_type": "stream",
     "text": [
      "{'child1': {'name': 'Emil', 'year': 2004}, 'child2': {'name': 'Tobias', 'year': 2007}, 'child3': {'name': 'Linus', 'year': 2011}}\n"
     ]
    }
   ],
   "source": [
    "child1 = {\n",
    "  \"name\" : \"Emil\",\n",
    "  \"year\" : 2004\n",
    "}\n",
    "child2 = {\n",
    "  \"name\" : \"Tobias\",\n",
    "  \"year\" : 2007\n",
    "}\n",
    "child3 = {\n",
    "  \"name\" : \"Linus\",\n",
    "  \"year\" : 2011\n",
    "}\n",
    "\n",
    "myfamily = {\n",
    "  \"child1\" : child1,\n",
    "  \"child2\" : child2,\n",
    "  \"child3\" : child3\n",
    "}\n",
    "\n",
    "print(myfamily)"
   ]
  },
  {
   "cell_type": "markdown",
   "metadata": {},
   "source": [
    "<hr>\n",
    "\n",
    "<h2>The dict() Constructor</h2>\n",
    "\n",
    "<p>It is also possible to use the <span class=\"w3-codespan\">dict()</span> constructor to make a \n",
    "new dictionary:</p>\n",
    "\n",
    "\n",
    "<h3>Example</h3>\n",
    "<div class=\"w3-code notranslate pythonHigh\">\n",
    "thisdict =\tdict(brand=\"Ford\", model=\"Mustang\", year=1964)<br>\n",
    "# note that keywords are not string literals<br>\n",
    "# note the use of equals rather than colon for the assignment<br>\n",
    "print(thisdict)<br>\n",
    "</div>"
   ]
  },
  {
   "cell_type": "code",
   "execution_count": 39,
   "metadata": {},
   "outputs": [
    {
     "name": "stdout",
     "output_type": "stream",
     "text": [
      "{'brand': 'Ford', 'model': 'Mustang', 'year': 1964}\n"
     ]
    }
   ],
   "source": [
    "thisdict = dict(brand=\"Ford\", model=\"Mustang\", year=1964)\n",
    "# note that keywords are not string literals\n",
    "# note the use of equals rather than colon for the assignment\n",
    "print(thisdict)"
   ]
  },
  {
   "cell_type": "markdown",
   "metadata": {},
   "source": [
    "<hr>\n",
    "<h2>Dictionary Methods</h2>\n",
    "\n",
    "<p>Python has a set of built-in methods that you can use on dictionaries.</p>\n",
    "\n",
    "<table class=\"w3-table-all notranslate\">\n",
    "<tr>\n",
    "<th>Method</th>\n",
    "<th>Description</th>\n",
    "</tr>\n",
    "<tr><td><a href=\"ref_dictionary_clear.asp\">clear()</a></td><td>Removes all the elements from the dictionary</td></tr>\n",
    "<tr><td><a href=\"ref_dictionary_copy.asp\">copy()</a></td><td>Returns a copy of the dictionary</td></tr>\n",
    "<tr><td><a href=\"ref_dictionary_fromkeys.asp\">fromkeys()</a></td><td>Returns a dictionary with the specified keys and value</td></tr>\n",
    "<tr><td><a href=\"ref_dictionary_get.asp\">get()</a></td><td>Returns the value of the specified key</td></tr>\n",
    "<tr><td><a href=\"ref_dictionary_items.asp\">items()</a></td><td>Returns a list containing a tuple for each key value pair</td></tr>\n",
    "<tr><td><a href=\"ref_dictionary_keys.asp\">keys()</a></td><td>Returns a list containing the dictionary's keys</td></tr>\n",
    "<tr><td><a href=\"ref_dictionary_pop.asp\">pop()</a></td><td>Removes the element with the specified key</td></tr>\n",
    "<tr><td><a href=\"ref_dictionary_popitem.asp\">popitem()</a></td><td>Removes the last \n",
    "  inserted key-value pair</td></tr>\n",
    "<tr><td><a href=\"ref_dictionary_setdefault.asp\">setdefault()</a></td><td>Returns the value of the specified key. If the key does not exist: insert the key, with the specified value</td></tr>\n",
    "<tr><td><a href=\"ref_dictionary_update.asp\">update()</a></td><td>Updates the dictionary with the specified key-value pairs</td></tr>\n",
    "<tr><td><a href=\"ref_dictionary_values.asp\">values()</a></td><td>Returns a list of all the values in the dictionary</td></tr>\n",
    "</table>\n",
    "<hr>\n",
    "\n",
    "<h2>Test Yourself With Exercises</h2>\n",
    "\n",
    "<h2>Exercise:</h2>\n",
    "<p>Use the <code class=\"w3-codespan\">get</code> method to print the value of the \"model\" key of the <code class=\"w3-codespan\">car</code> dictionary.</p>\n",
    "<div class=\"exerciseprecontainer\">\n",
    "<pre>\n",
    "car =\t{\n",
    "  \"brand\": \"Ford\",\n",
    "  \"model\": \"Mustang\",\n",
    "  \"year\": 1964\n",
    "}\n",
    "print(<input name=\"ex1\" maxlength=\"16\" style=\"width: 170px;\">)\n",
    "</pre>\n",
    "</div>\n"
   ]
  },
  {
   "cell_type": "code",
   "execution_count": 40,
   "metadata": {},
   "outputs": [
    {
     "name": "stdout",
     "output_type": "stream",
     "text": [
      "Mustang\n"
     ]
    }
   ],
   "source": [
    "car =  {\n",
    "  \"brand\": \"Ford\",\n",
    "  \"model\": \"Mustang\",\n",
    "  \"year\": 1964\n",
    "}\n",
    "print(car[\"model\"])"
   ]
  },
  {
   "cell_type": "code",
   "execution_count": 25,
   "metadata": {},
   "outputs": [
    {
     "ename": "SyntaxError",
     "evalue": "can't assign to operator (Temp/ipykernel_23652/1353141215.py, line 2)",
     "output_type": "error",
     "traceback": [
      "\u001b[1;36m  File \u001b[1;32m\"C:\\Users\\DELL\\AppData\\Local\\Temp/ipykernel_23652/1353141215.py\"\u001b[1;36m, line \u001b[1;32m2\u001b[0m\n\u001b[1;33m    returns (2*5)*(2*5) = 100.\u001b[0m\n\u001b[1;37m    ^\u001b[0m\n\u001b[1;31mSyntaxError\u001b[0m\u001b[1;31m:\u001b[0m can't assign to operator\n"
     ]
    }
   ],
   "source": [
    "def sqrProd(x, y):\n",
    "     returns (2*5)*(2*5) = 100."
   ]
  },
  {
   "cell_type": "code",
   "execution_count": null,
   "metadata": {},
   "outputs": [],
   "source": []
  }
 ],
 "metadata": {
  "kernelspec": {
   "display_name": "Python 3 (ipykernel)",
   "language": "python",
   "name": "python3"
  },
  "language_info": {
   "codemirror_mode": {
    "name": "ipython",
    "version": 3
   },
   "file_extension": ".py",
   "mimetype": "text/x-python",
   "name": "python",
   "nbconvert_exporter": "python",
   "pygments_lexer": "ipython3",
   "version": "3.7.11"
  }
 },
 "nbformat": 4,
 "nbformat_minor": 2
}
