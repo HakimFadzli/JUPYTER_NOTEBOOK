{
 "cells": [
  {
   "cell_type": "markdown",
   "metadata": {},
   "source": [
    "<h2>03 - Execute Python Syntax</h2>\n",
    "\n",
    "<p>As we learned in the previous page, Python syntax can be executed by writing directly in the Command Line:</p>\n",
    "\n",
    "<div class=\"w3-example\">\n",
    "<div style=\"border-left:5px solid #FF7F00; background-color:#000000; color:#EEEEEE\">\n",
    "<br>\n",
    "&gt;&gt;&gt; print(\"Hello, World!\")<br>\n",
    "Hello, World!\n",
    "<br>\n",
    "<br>\n",
    "</div>\n",
    "</div>\n",
    "\n",
    "<p>Or by creating a python file on the server, using the .py file extension, and running it in the Command Line:</p>\n",
    "\n",
    "<div class=\"w3-example\">\n",
    "<div style=\"border-left:5px solid #FF7F00; background-color:#000000; color:#EEEEEE\">\n",
    "<br>\n",
    "C:\\Users\\<em>Your Name</em>&gt;python myfile.py\n",
    "<br>\n",
    "<br>\n",
    "</div>\n",
    "</div>\n",
    "\n",
    "</div>\n",
    "\n",
    "<hr>\n",
    "\n",
    "<a id=\"python_indentation\"></a>\n",
    "<h2>Python Indentation</h2>\n",
    "\n",
    "<p>Indentation refers to the spaces at the beginning of a code line.</p>\n",
    "<p>Where in other programming languages the indentation in code is for readability \n",
    "only, the indentation in Python is very important.</p>\n",
    "<p>Python uses indentation to indicate a block of code.</p>\n",
    "<br>\n",
    "<div class=\"w3-example\">\n",
    "<h3>Example</h3>\n",
    "<div class=\"w3-code notranslate pythonHigh\">\n",
    "  if 5 &gt; 2:<br>&nbsp;&nbsp;&nbsp;&nbsp;&nbsp;\n",
    "print(\"Five is greater than two!\")\n",
    "</div>\n",
    "    <br>\n",
    "<h1>Try it Yourself &raquo;</h1>\n",
    "</div>\n"
   ]
  },
  {
   "cell_type": "code",
   "execution_count": 1,
   "metadata": {},
   "outputs": [
    {
     "ename": "NameError",
     "evalue": "name 'x' is not defined",
     "output_type": "error",
     "traceback": [
      "\u001b[1;31m---------------------------------------------------------------------------\u001b[0m",
      "\u001b[1;31mNameError\u001b[0m                                 Traceback (most recent call last)",
      "\u001b[1;32m~\\AppData\\Local\\Temp/ipykernel_22816/2900809382.py\u001b[0m in \u001b[0;36m<module>\u001b[1;34m\u001b[0m\n\u001b[1;32m----> 1\u001b[1;33m \u001b[0mprint\u001b[0m \u001b[1;33m(\u001b[0m\u001b[0mx\u001b[0m\u001b[1;33m)\u001b[0m\u001b[1;33m\u001b[0m\u001b[1;33m\u001b[0m\u001b[0m\n\u001b[0m",
      "\u001b[1;31mNameError\u001b[0m: name 'x' is not defined"
     ]
    }
   ],
   "source": [
    "print (x)"
   ]
  },
  {
   "cell_type": "code",
   "execution_count": 3,
   "metadata": {},
   "outputs": [
    {
     "name": "stdout",
     "output_type": "stream",
     "text": [
      "outside the if\n"
     ]
    }
   ],
   "source": [
    "if 5 < 2:\n",
    "    print(\"Five is greater than two!\")\n",
    "    print(\"this\")\n",
    "        \n",
    "print(\"outside the if\")"
   ]
  },
  {
   "cell_type": "code",
   "execution_count": 6,
   "metadata": {},
   "outputs": [
    {
     "name": "stdout",
     "output_type": "stream",
     "text": [
      "test\n",
      "<class 'str'>\n",
      "6\n",
      "<class 'int'>\n",
      "3.33333\n",
      "<class 'float'>\n"
     ]
    }
   ],
   "source": [
    "a = \"test\"\n",
    "b= 6\n",
    "print(a)\n",
    "print(type(a))\n",
    "\n",
    "print(b)\n",
    "print(type(b))\n",
    "\n",
    "c=3.33333\n",
    "print(c)\n",
    "print(type(c))"
   ]
  },
  {
   "cell_type": "code",
   "execution_count": null,
   "metadata": {},
   "outputs": [],
   "source": []
  },
  {
   "cell_type": "code",
   "execution_count": 7,
   "metadata": {},
   "outputs": [
    {
     "name": "stdout",
     "output_type": "stream",
     "text": [
      "Five is greater than one sdgsdgsd\n",
      "body of code A\n"
     ]
    }
   ],
   "source": [
    "#write your code here\n",
    "if 5 > 2:\n",
    "    print(\"Five is greater than one sdgsdgsd\")\n",
    "    print(\"body of code A\")\n",
    "\n",
    "if 7 > 8:\n",
    "    print(\"Seven is lesser than eight\")\n",
    "    print(\"body of code B\")"
   ]
  },
  {
   "cell_type": "markdown",
   "metadata": {},
   "source": [
    "<p><b>Python will give you an error if you skip the indentation:</b></p>\n",
    "<br>\n",
    "<div class=\"w3-example w3-pale-red\">\n",
    "<h3>Example</h3>\n",
    "  <p>Syntax Error:</p>\n",
    "<div class=\"w3-code notranslate pythonHigh w3-border-red\">\n",
    "if 5 &gt; 2:<br>\n",
    "print(\"Five is greater than two!\")\n",
    "</div>\n",
    "</div>\n",
    "<br>\n",
    "<p><b>The number of spaces is up to you as a programmer, but it has \n",
    "to be at least one.</b></p>\n",
    "<br>\n",
    "<div class=\"w3-example\">\n",
    "<h3>Example</h3>\n",
    "<div class=\"w3-code notranslate pythonHigh\">\n",
    "  if 5 &gt; 2:<br>&nbsp;print(\"Five is greater than two!\")&nbsp;\n",
    "<br>if 5 &gt; 2:<br>&nbsp;&nbsp;&nbsp;&nbsp;&nbsp;&nbsp;&nbsp; print(\"Five is greater than two!\")&nbsp;\n",
    "</div>\n",
    "</div>\n",
    "<br>\n",
    "<p><b>You have to use the same number of spaces in the same block of code, \n",
    "otherwise Python will give you an error:</b></p>\n",
    "    <br>\n",
    "\n",
    "<div class=\"w3-example w3-pale-red\">\n",
    "<h3>Example</h3>\n",
    "  <p>Syntax Error:</p>\n",
    "<div class=\"w3-code notranslate pythonHigh w3-border-red\">\n",
    "if 5 &gt; 2:<br>\n",
    "&nbsp;print(\"Five is greater than two!\")\n",
    "<br>&nbsp;&nbsp;&nbsp;&nbsp;&nbsp;&nbsp;&nbsp; print(&quot;Five is greater than \n",
    "  two!&quot;)</div>\n",
    "</div>\n",
    "<h1>Try it Yourself &raquo;</h1>"
   ]
  },
  {
   "cell_type": "code",
   "execution_count": 10,
   "metadata": {},
   "outputs": [
    {
     "name": "stdout",
     "output_type": "stream",
     "text": [
      "Five is greater than two!\n",
      "Five is greater than two!\n",
      "Five is greater than two!\n"
     ]
    }
   ],
   "source": [
    "#write your code here\n",
    "if 5 > 2:\n",
    "    print(\"Five is greater than two!\")\n",
    "    print(\"Five is greater than two!\")\n",
    "    print(\"Five is greater than two!\")\n"
   ]
  },
  {
   "cell_type": "markdown",
   "metadata": {},
   "source": [
    "<a id=\"python_variables\"></a>\n",
    "<h2>Python Variables</h2>\n",
    "\n",
    "<p>In Python, variables are created when you assign a value to it:\n",
    "<div class=\"w3-example\">\n",
    "<h3>Example</h3>\n",
    "<p>Variables in Python:</p>\n",
    "<div class=\"w3-code notranslate pythonHigh\">\n",
    "  x = 5<br>y = &quot;Hello, World!&quot;\n",
    "</div>\n",
    "<h1>Try it Yourself &raquo;</h1>\n",
    "</div>\n",
    "\n"
   ]
  },
  {
   "cell_type": "code",
   "execution_count": 5,
   "metadata": {},
   "outputs": [
    {
     "name": "stdout",
     "output_type": "stream",
     "text": [
      "5 1348.8\n"
     ]
    }
   ],
   "source": [
    "#write your code here\n",
    "x = 5\n",
    "y = \"1348.8\"\n",
    "#if encapsulate in \"\" will auto detect as strings.\n",
    "print(x,y)"
   ]
  },
  {
   "cell_type": "code",
   "execution_count": 18,
   "metadata": {},
   "outputs": [
    {
     "name": "stdout",
     "output_type": "stream",
     "text": [
      "<class 'int'>\n"
     ]
    }
   ],
   "source": [
    "print(type(y))"
   ]
  },
  {
   "cell_type": "code",
   "execution_count": 19,
   "metadata": {},
   "outputs": [
    {
     "name": "stdout",
     "output_type": "stream",
     "text": [
      "<class 'float'>\n"
     ]
    }
   ],
   "source": [
    "y = float(y)\n",
    "print(type(y))"
   ]
  },
  {
   "cell_type": "code",
   "execution_count": 20,
   "metadata": {},
   "outputs": [
    {
     "name": "stdout",
     "output_type": "stream",
     "text": [
      "5432.0\n"
     ]
    }
   ],
   "source": [
    "print(y)"
   ]
  },
  {
   "cell_type": "markdown",
   "metadata": {},
   "source": [
    "<p>Python has no command for declaring a variable.</p>\n",
    "<p>You will learn more about variables in the\n",
    "Python Variables chapter.</p>\n",
    "<h2>Comments</h2>\n",
    "\n",
    "<p>Python has commenting capability for the purpose of in-code documentation.</p>\n",
    "<p>Comments start with a #, and Python will render the rest of the line as a comment:\n",
    "<div class=\"w3-example\">\n",
    "<h3>Example</h3>\n",
    "<p>Comments in Python:</p>\n",
    "<div class=\"w3-code notranslate pythonHigh\">\n",
    "#This is a comment.<br>\n",
    "print(\"Hello, World!\")\n",
    "</div>\n",
    "</div>\n",
    "<br>\n",
    "<h1>Try it Yourself &raquo;</h1>"
   ]
  },
  {
   "cell_type": "code",
   "execution_count": 5,
   "metadata": {},
   "outputs": [
    {
     "name": "stderr",
     "output_type": "stream",
     "text": [
      "python: can't open file 'test.py': [Errno 2] No such file or directory\n"
     ]
    }
   ],
   "source": [
    "!python test.py\n",
    "\n"
   ]
  },
  {
   "cell_type": "markdown",
   "metadata": {},
   "source": [
    "<h2>Test Yourself With Exercises</h2>\n",
    "<div class=\"exercisewindow\">\n",
    "<h2>Exercise:</h2>\n",
    "<p>Insert the missing part of the code below to output \"Hello World\".</p>"
   ]
  },
  {
   "cell_type": "code",
   "execution_count": 8,
   "metadata": {},
   "outputs": [
    {
     "name": "stdout",
     "output_type": "stream",
     "text": [
      "Hello World\n",
      "today is friday\n"
     ]
    }
   ],
   "source": [
    "#insert the missing code in ?????\n",
    "print(\"Hello World\")\n",
    "print(\"today is friday\")\n",
    "\n"
   ]
  },
  {
   "cell_type": "code",
   "execution_count": null,
   "metadata": {},
   "outputs": [],
   "source": []
  }
 ],
 "metadata": {
  "kernelspec": {
   "display_name": "Python 3 (ipykernel)",
   "language": "python",
   "name": "python3"
  },
  "language_info": {
   "codemirror_mode": {
    "name": "ipython",
    "version": 3
   },
   "file_extension": ".py",
   "mimetype": "text/x-python",
   "name": "python",
   "nbconvert_exporter": "python",
   "pygments_lexer": "ipython3",
   "version": "3.7.11"
  }
 },
 "nbformat": 4,
 "nbformat_minor": 2
}
