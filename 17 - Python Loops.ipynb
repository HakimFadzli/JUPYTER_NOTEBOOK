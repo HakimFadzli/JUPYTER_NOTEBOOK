{
 "cells": [
  {
   "cell_type": "markdown",
   "metadata": {},
   "source": [
    "<h1>17 - Python While Loops</h1>\n",
    "\n",
    "<hr>\n",
    "\n",
    "<h2>Python Loops</h2>\n",
    "<p>Python has two primitive loop commands:</p>\n",
    "<ul>\n",
    "<li><span class=\"w3-codespan\">while</span> loops</li>\n",
    "<li><span class=\"w3-codespan\">for</span> loops</li>\n",
    "</ul>\n",
    "\n",
    "<hr>\n",
    "<h2>The while Loop</h2>\n",
    "\n",
    "<p>With the <span class=\"w3-codespan\">while</span> loop we can execute a set of statements as long as a condition is true.</p>\n",
    "\n",
    "\n",
    "\n",
    "<h3>Example</h3>\n",
    "<p>Print i as long as i is less than 6:</p>\n",
    "<div class=\"w3-code notranslate pythonHigh\">\n",
    "i = 1<br>\n",
    "while i < 6:<br>\n",
    "&nbsp;&nbsp;print(i)<br>\n",
    "&nbsp;&nbsp;i += 1<br>\n",
    "</div>"
   ]
  },
  {
   "cell_type": "code",
   "execution_count": 11,
   "metadata": {},
   "outputs": [
    {
     "name": "stdout",
     "output_type": "stream",
     "text": [
      "1\n",
      "2\n",
      "3\n",
      "4\n",
      "5\n"
     ]
    }
   ],
   "source": [
    "i = 1\n",
    "while i < 6:\n",
    "  print(i)\n",
    "  i += 1"
   ]
  },
  {
   "cell_type": "markdown",
   "metadata": {},
   "source": [
    "<div class=\"w3-panel w3-note\">\n",
    "  <p><strong>Note:</strong> remember to increment i, or else the loop will continue forever.</p>\n",
    "</div>\n",
    "\n",
    "<p>The <span class=\"w3-codespan\">while</span> loop requires relevant variables to be ready, in this example we need to define an indexing variable, <span class=\"w3-codespan\">i</span>, \n",
    "which we set to 1.</p>\n",
    "<hr>\n",
    "\n",
    "<h2>The break Statement</h2>\n",
    "\n",
    "<p>With the <span class=\"w3-codespan\">break</span> statement we can stop the loop even if the \n",
    "while condition is true:</p>\n",
    "\n",
    "\n",
    "<h3>Example</h3>\n",
    "<p>Exit the loop when i is 3:</p>\n",
    "<div class=\"w3-code notranslate pythonHigh\">\n",
    "i = 1<br>\n",
    "while i < 6:<br>\n",
    "&nbsp;&nbsp;print(i)<br>\n",
    "  &nbsp; if i == 3:<br>&nbsp;&nbsp;&nbsp; break<br>&nbsp;&nbsp;i += 1\n",
    "</div>"
   ]
  },
  {
   "cell_type": "code",
   "execution_count": 12,
   "metadata": {},
   "outputs": [
    {
     "name": "stdout",
     "output_type": "stream",
     "text": [
      "1\n",
      "2\n",
      "3\n"
     ]
    }
   ],
   "source": [
    "i = 1\n",
    "while i < 6:\n",
    "  print(i)\n",
    "  if i == 3:\n",
    "    break\n",
    "  i += 1"
   ]
  },
  {
   "cell_type": "code",
   "execution_count": 16,
   "metadata": {},
   "outputs": [
    {
     "name": "stdout",
     "output_type": "stream",
     "text": [
      "1\n",
      "3\n",
      "5\n"
     ]
    }
   ],
   "source": [
    "i = 1\n",
    "while i < 6:\n",
    "    print(i)\n",
    "    i += 1\n",
    "    if i == 3:\n",
    "        break\n",
    "    i += 1"
   ]
  },
  {
   "cell_type": "markdown",
   "metadata": {},
   "source": [
    "<hr>\n",
    "\n",
    "<h2>The continue Statement</h2>\n",
    "\n",
    "<p>With the <span class=\"w3-codespan\">continue</span> statement we can stop the \n",
    "current iteration, and continue with the next:</p>\n",
    "\n",
    "\n",
    "<h3>Example</h3>\n",
    "<p>Continue to the next iteration if i is 3:</p>\n",
    "<div class=\"w3-code notranslate pythonHigh\">\n",
    "i = 0<br>\n",
    "while i < 6:<br>\n",
    "  &nbsp;&nbsp;i += 1\n",
    "<br>&nbsp; if i == 3:<br>&nbsp;&nbsp;&nbsp; continue<br>&nbsp;&nbsp;print(i)<br>\n",
    "</div>"
   ]
  },
  {
   "cell_type": "code",
   "execution_count": 21,
   "metadata": {},
   "outputs": [
    {
     "name": "stdout",
     "output_type": "stream",
     "text": [
      "1\n",
      "2\n",
      "4\n",
      "6\n"
     ]
    }
   ],
   "source": [
    "i = 0\n",
    "while i < 6:\n",
    "    i += 1\n",
    "    if i == 3:\n",
    "        continue\n",
    "    elif i == 5:\n",
    "        continue\n",
    "    print(i)"
   ]
  },
  {
   "cell_type": "markdown",
   "metadata": {},
   "source": [
    "<hr>\n",
    "\n",
    "<h2>The else Statement</h2>\n",
    "\n",
    "<p>With the <span class=\"w3-codespan\">else</span> statement we can run a block of code once when the \n",
    "condition no longer is true:</p>\n",
    "\n",
    "\n",
    "<h3>Example</h3>\n",
    "<p>Print a message once the condition is false:</p>\n",
    "<div class=\"w3-code notranslate pythonHigh\">\n",
    "i = 1<br>\n",
    "while i < 6:<br>\n",
    "&nbsp;&nbsp;print(i)<br>\n",
    "&nbsp;&nbsp;i += 1<br>else:<br>&nbsp; print(&quot;i is no longer less than 6&quot;)<br>\n",
    "</div>"
   ]
  },
  {
   "cell_type": "code",
   "execution_count": 22,
   "metadata": {},
   "outputs": [
    {
     "name": "stdout",
     "output_type": "stream",
     "text": [
      "1\n",
      "2\n",
      "3\n",
      "4\n",
      "5\n",
      "i is no longer less than 6\n"
     ]
    }
   ],
   "source": [
    "i = 1\n",
    "while i < 6:\n",
    "  print(i)\n",
    "  i += 1\n",
    "else:\n",
    "  print(\"i is no longer less than 6\")"
   ]
  },
  {
   "cell_type": "markdown",
   "metadata": {},
   "source": [
    "<h2>Test Yourself With Exercises</h2>\n",
    "<h2>Exercise:</h2>\n",
    "<p>Print <code class=\"w3-codespan\">i</code> as long as <code class=\"w3-codespan\">i</code> is less than 6.</p>\n",
    "<div class=\"exerciseprecontainer\">\n",
    "<pre>\n",
    "i = 1\n",
    "<input name=\"ex1\" maxlength=\"5\" style=\"width: 54px;\"> i &lt; 6<input name=\"ex2\" maxlength=\"1\" style=\"width: 12px;\">\n",
    "  print(i)\n",
    "  i += 1\n",
    "</pre>\n",
    "</div>"
   ]
  },
  {
   "cell_type": "code",
   "execution_count": 23,
   "metadata": {},
   "outputs": [
    {
     "name": "stdout",
     "output_type": "stream",
     "text": [
      "1\n",
      "2\n",
      "3\n",
      "4\n",
      "5\n"
     ]
    }
   ],
   "source": [
    "i = 1\n",
    "while i < 6:\n",
    "  print(i)\n",
    "  i += 1"
   ]
  },
  {
   "cell_type": "code",
   "execution_count": null,
   "metadata": {},
   "outputs": [],
   "source": []
  }
 ],
 "metadata": {
  "kernelspec": {
   "display_name": "Python 3 (ipykernel)",
   "language": "python",
   "name": "python3"
  },
  "language_info": {
   "codemirror_mode": {
    "name": "ipython",
    "version": 3
   },
   "file_extension": ".py",
   "mimetype": "text/x-python",
   "name": "python",
   "nbconvert_exporter": "python",
   "pygments_lexer": "ipython3",
   "version": "3.7.11"
  }
 },
 "nbformat": 4,
 "nbformat_minor": 2
}
