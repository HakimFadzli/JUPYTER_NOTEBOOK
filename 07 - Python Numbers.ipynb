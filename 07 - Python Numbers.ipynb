{
 "cells": [
  {
   "cell_type": "markdown",
   "metadata": {},
   "source": [
    "<h2>07 - Python Numbers</h2>\n",
    "\n",
    "<p>There are three numeric types in Python:</p>\n",
    "<ul>\n",
    "  <li><code class=\"w3-codespan\">int</code></li>\n",
    "  <li><code class=\"w3-codespan\">float</code></li>\n",
    "  <li><code class=\"w3-codespan\">complex</code></li>\n",
    "</ul>\n",
    "\n",
    "<p>Variables of numeric types are created when you assign a value to them:</p>\n",
    "\n",
    "<div class=\"w3-example\">\n",
    "<h3>Example</h3>\n",
    "<div class=\"w3-code notranslate pythonHigh\">\n",
    "x = 1&nbsp;&nbsp;&nbsp; \n",
    "  # int<br>y = 2.8&nbsp; # float<br>z = 1j&nbsp;&nbsp; # complex<br>\n",
    "</div>\n",
    "</div>\n"
   ]
  },
  {
   "cell_type": "code",
   "execution_count": 6,
   "metadata": {},
   "outputs": [],
   "source": [
    "x = 2j    # int\n",
    "y = 2.8  # float\n",
    "z = 1j   # complex"
   ]
  },
  {
   "cell_type": "markdown",
   "metadata": {},
   "source": [
    "<p>To verify the type of any object in Python, use the <code class=\"w3-codespan\">type()</code> function:</p>\n",
    "\n",
    "<h3>Example</h3>\n",
    "<div class=\"w3-code notranslate pythonHigh\">\n",
    "  print(type(x))<br>print(type(y))<br>print(type(z))<br>\n",
    "</div>\n",
    "\n"
   ]
  },
  {
   "cell_type": "code",
   "execution_count": 7,
   "metadata": {},
   "outputs": [
    {
     "name": "stdout",
     "output_type": "stream",
     "text": [
      "<class 'complex'>\n",
      "<class 'float'>\n",
      "<class 'complex'>\n"
     ]
    }
   ],
   "source": [
    "print(type(x))\n",
    "print(type(y))\n",
    "print(type(z))"
   ]
  },
  {
   "cell_type": "markdown",
   "metadata": {},
   "source": [
    "<hr>\n",
    "\n",
    "<h2>Int</h2>\n",
    "\n",
    "<p>Int, or integer, is a whole number, \n",
    "positive or negative, without decimals, of unlimited length.</p>\n",
    "\n",
    "\n",
    "<div class=\"w3-example\">\n",
    "<h3>Example</h3>\n",
    "<p>Integers:</p>\n",
    "<div class=\"w3-code notranslate pythonHigh\">\n",
    "x = 1<br>y = 35656222554887711<br>z = \n",
    "  -3255522<br><br>print(type(x))<br>print(type(y))<br>print(type(z))</div>"
   ]
  },
  {
   "cell_type": "code",
   "execution_count": 3,
   "metadata": {},
   "outputs": [
    {
     "name": "stdout",
     "output_type": "stream",
     "text": [
      "<class 'int'>\n",
      "<class 'int'>\n",
      "<class 'int'>\n"
     ]
    }
   ],
   "source": [
    "x = 1\n",
    "y = 35656222554887711\n",
    "z = -3255522\n",
    "\n",
    "print(type(x))\n",
    "print(type(y))\n",
    "print(type(z))\n"
   ]
  },
  {
   "cell_type": "markdown",
   "metadata": {},
   "source": [
    "<hr>\n",
    "\n",
    "<h2>Float</h2>\n",
    "\n",
    "<p>Float, or \"floating point number\" is a number, positive or negative, containing one or more decimals.</p>\n",
    "\n",
    "<h3>Example</h3>\n",
    "<p>Floats:</p>\n",
    "<div class=\"w3-code notranslate pythonHigh\">\n",
    "x = 1.10<br>y = 1.0<br>z = -35.59<br><br>print(type(x))<br>print(type(y))<br>print(type(z))</div>"
   ]
  },
  {
   "cell_type": "code",
   "execution_count": 5,
   "metadata": {},
   "outputs": [
    {
     "name": "stdout",
     "output_type": "stream",
     "text": [
      "<class 'float'>\n",
      "<class 'float'>\n",
      "<class 'float'>\n"
     ]
    }
   ],
   "source": [
    "x = 1.10\n",
    "y = float(1)\n",
    "z = -35.59\n",
    "\n",
    "print(type(x))\n",
    "print(type(y))\n",
    "print(type(z))"
   ]
  },
  {
   "cell_type": "markdown",
   "metadata": {},
   "source": [
    "<p>Float can also be scientific numbers with an \"e\" to indicate the power of 10.</p>\n",
    "\n",
    "<h3>Example</h3>\n",
    "<p>Floats:</p>\n",
    "<div class=\"w3-code notranslate pythonHigh\">\n",
    "  x = 35e3<br>y = 12E4<br>z = -87.7e100<br><br>print(type(x))<br>print(type(y))<br>\n",
    "  print(type(z))</div>"
   ]
  },
  {
   "cell_type": "code",
   "execution_count": 6,
   "metadata": {},
   "outputs": [
    {
     "name": "stdout",
     "output_type": "stream",
     "text": [
      "<class 'float'>\n",
      "<class 'float'>\n",
      "<class 'float'>\n",
      "35000.0\n",
      "120000.0\n",
      "-8.77e+101\n"
     ]
    }
   ],
   "source": [
    "x = 35e3\n",
    "y = 12E4\n",
    "z = -87.7e100\n",
    "\n",
    "print(type(x))\n",
    "print(type(y))\n",
    "print(type(z))\n",
    "\n",
    "print((x))\n",
    "print((y))\n",
    "print((z))"
   ]
  },
  {
   "cell_type": "markdown",
   "metadata": {},
   "source": [
    "<hr>\n",
    "\n",
    "<h2>Complex</h2>\n",
    "\n",
    "<p>Complex numbers are written with a &quot;j&quot; as the imaginary part:</p>\n",
    "\n",
    "\n",
    "<h3>Example</h3>\n",
    "<p>Complex:</p>\n",
    "<div class=\"w3-code notranslate pythonHigh\">\n",
    "  x = 3+5j<br>y = 5j<br>z = -5j<br><br>print(type(x))<br>print(type(y))<br>\n",
    "  print(type(z))</div>\n"
   ]
  },
  {
   "cell_type": "code",
   "execution_count": 7,
   "metadata": {},
   "outputs": [
    {
     "name": "stdout",
     "output_type": "stream",
     "text": [
      "<class 'complex'>\n",
      "<class 'complex'>\n",
      "<class 'complex'>\n"
     ]
    }
   ],
   "source": [
    "x = 3+5j\n",
    "y = 5j\n",
    "z = -5j\n",
    "\n",
    "print(type(x))\n",
    "print(type(y))\n",
    "print(type(z))"
   ]
  },
  {
   "cell_type": "markdown",
   "metadata": {},
   "source": [
    "<hr>\n",
    "\n",
    "<h2>Type Conversion</h2>\n",
    "\n",
    "<p>You can convert from one type to another with the <code class=\"w3-codespan\">int()</code>, \n",
    "<code class=\"w3-codespan\">float()</code>, and <code class=\"w3-codespan\">complex()</code> methods:</p>\n",
    "\n",
    "<h3>Example</h3>\n",
    "<p>Convert from one type to another:</p>\n",
    "<div class=\"w3-code notranslate pythonHigh\">\n",
    "  x = 1&nbsp;&nbsp;&nbsp; # int<br>y = 2.8&nbsp; # float<br>z = 1j&nbsp;&nbsp; # complex<br><br>#convert from int to float:<br>\n",
    "  a = float(x)<br><br>#convert from float to int:<br>\n",
    "  b = int(y)<br><br>#convert from int to complex:<br>c = complex(x)<br><br>print(a)<br>print(b)<br>\n",
    "  print(c)<br><br>print(type(a))<br>print(type(b))<br>\n",
    "  print(type(c))</div>\n"
   ]
  },
  {
   "cell_type": "code",
   "execution_count": 8,
   "metadata": {},
   "outputs": [
    {
     "name": "stdout",
     "output_type": "stream",
     "text": [
      "1.0\n",
      "2\n",
      "(1+0j)\n",
      "<class 'float'>\n",
      "<class 'int'>\n",
      "<class 'complex'>\n"
     ]
    }
   ],
   "source": [
    "#Convert from one type to another:\n",
    "\n",
    "x = 1    # int\n",
    "y = 2.8  # float\n",
    "z = 1j   # complex\n",
    "\n",
    "#convert from int to float:\n",
    "a = float(x)\n",
    "\n",
    "#convert from float to int:\n",
    "b = int(y)\n",
    "\n",
    "#convert from int to complex:\n",
    "c = complex(x)\n",
    "\n",
    "print(a)\n",
    "print(b)\n",
    "print(c)\n",
    "\n",
    "print(type(a))\n",
    "print(type(b))\n",
    "print(type(c))\n"
   ]
  },
  {
   "cell_type": "markdown",
   "metadata": {},
   "source": [
    "<hr>\n",
    "\n",
    "<h2>Random Number</h2>\n",
    "\n",
    "<p>Python does not have a <code class=\"w3-codespan\">random()</code> function to \n",
    "make a random number, but Python has a built-in module called\n",
    "<code class=\"w3-codespan\">random</code> that can be used to make random numbers:</p>\n",
    "\n",
    "<h3>Example</h3>\n",
    "<p>Import the random module, and display a random number between 1 and 9:</p>\n",
    "<div class=\"w3-code notranslate pythonHigh\">\n",
    "  import random<br><br>print(random.randrange(1, 10))</div>"
   ]
  },
  {
   "cell_type": "markdown",
   "metadata": {},
   "source": [
    "<a id=\"exercises\"></a>\n",
    "<hr>\n",
    "<h2>Test Yourself With Exercises</h2>\n",
    "<h2>Exercise:</h2>\n",
    "<p>Insert the correct syntax to convert x into a floating point number.</p>\n",
    "<div class=\"exerciseprecontainer\">\n",
    "<pre>\n",
    "x = 5\n",
    "x = ????(x)\n",
    "</pre>\n",
    "</div>\n",
    "\n",
    "\n"
   ]
  },
  {
   "cell_type": "code",
   "execution_count": 9,
   "metadata": {},
   "outputs": [
    {
     "name": "stdout",
     "output_type": "stream",
     "text": [
      "6\n"
     ]
    }
   ],
   "source": [
    "import random\n",
    "print(random.randrange(1, 10))"
   ]
  },
  {
   "cell_type": "code",
   "execution_count": 10,
   "metadata": {},
   "outputs": [
    {
     "name": "stdout",
     "output_type": "stream",
     "text": [
      "8\n"
     ]
    }
   ],
   "source": [
    "print(random.randrange(1, 10))"
   ]
  },
  {
   "cell_type": "code",
   "execution_count": 11,
   "metadata": {},
   "outputs": [
    {
     "name": "stdout",
     "output_type": "stream",
     "text": [
      "4\n"
     ]
    }
   ],
   "source": [
    "print(random.randrange(1, 10))"
   ]
  },
  {
   "cell_type": "code",
   "execution_count": 12,
   "metadata": {},
   "outputs": [
    {
     "name": "stdout",
     "output_type": "stream",
     "text": [
      "9\n"
     ]
    }
   ],
   "source": [
    "print(random.randrange(1, 10))"
   ]
  },
  {
   "cell_type": "code",
   "execution_count": 13,
   "metadata": {},
   "outputs": [
    {
     "name": "stdout",
     "output_type": "stream",
     "text": [
      "3\n"
     ]
    }
   ],
   "source": [
    "print(random.randrange(1, 10))"
   ]
  },
  {
   "cell_type": "code",
   "execution_count": 12,
   "metadata": {},
   "outputs": [
    {
     "name": "stdout",
     "output_type": "stream",
     "text": [
      "1\n"
     ]
    }
   ],
   "source": [
    "import random as hk\n",
    "y = hk.randrange(1, 3)\n",
    "\n",
    "print(y)"
   ]
  },
  {
   "cell_type": "code",
   "execution_count": 15,
   "metadata": {},
   "outputs": [],
   "source": [
    "x = 5\n",
    "x = float(x)"
   ]
  },
  {
   "cell_type": "code",
   "execution_count": 16,
   "metadata": {},
   "outputs": [
    {
     "name": "stdout",
     "output_type": "stream",
     "text": [
      "5.0\n"
     ]
    }
   ],
   "source": [
    "print(x)"
   ]
  },
  {
   "cell_type": "code",
   "execution_count": 17,
   "metadata": {},
   "outputs": [
    {
     "name": "stdout",
     "output_type": "stream",
     "text": [
      "<class 'float'>\n"
     ]
    }
   ],
   "source": [
    "print(type(x))"
   ]
  },
  {
   "cell_type": "code",
   "execution_count": 29,
   "metadata": {},
   "outputs": [
    {
     "name": "stdout",
     "output_type": "stream",
     "text": [
      "0.02086\n"
     ]
    }
   ],
   "source": [
    "import random as rn\n",
    "x = rn.randrange(0,10001) #good for algo that generate random number\n",
    "x=x/100000\n",
    "print(x)"
   ]
  },
  {
   "cell_type": "code",
   "execution_count": 1,
   "metadata": {},
   "outputs": [],
   "source": [
    "var =3.14"
   ]
  },
  {
   "cell_type": "raw",
   "metadata": {},
   "source": [
    "var = floar(3.14)"
   ]
  },
  {
   "cell_type": "code",
   "execution_count": 2,
   "metadata": {},
   "outputs": [
    {
     "name": "stdout",
     "output_type": "stream",
     "text": [
      "3.14\n"
     ]
    }
   ],
   "source": [
    "print(var)"
   ]
  },
  {
   "cell_type": "code",
   "execution_count": 3,
   "metadata": {},
   "outputs": [],
   "source": [
    "var2=float(3.14)"
   ]
  },
  {
   "cell_type": "code",
   "execution_count": 4,
   "metadata": {},
   "outputs": [
    {
     "name": "stdout",
     "output_type": "stream",
     "text": [
      "3.14\n"
     ]
    }
   ],
   "source": [
    "print(var2)"
   ]
  },
  {
   "cell_type": "code",
   "execution_count": null,
   "metadata": {},
   "outputs": [],
   "source": []
  }
 ],
 "metadata": {
  "kernelspec": {
   "display_name": "Python 3",
   "language": "python",
   "name": "python3"
  },
  "language_info": {
   "codemirror_mode": {
    "name": "ipython",
    "version": 3
   },
   "file_extension": ".py",
   "mimetype": "text/x-python",
   "name": "python",
   "nbconvert_exporter": "python",
   "pygments_lexer": "ipython3",
   "version": "3.8.8"
  }
 },
 "nbformat": 4,
 "nbformat_minor": 2
}
