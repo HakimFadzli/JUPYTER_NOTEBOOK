{
 "cells": [
  {
   "cell_type": "markdown",
   "metadata": {},
   "source": [
    "<h1>22 - Python Arrays</h1>\n",
    "\n",
    "<hr>\n",
    "<div class=\"w3-panel w3-note\">\n",
    "  <p><strong>Note:</strong> Python does not have built-in support for Arrays, \n",
    "  but Python Lists can be used instead.</p>\n",
    "</div>\n",
    "<hr>\n",
    "\n",
    "<h2>Arrays</h2>\n",
    "\n",
    "<div class=\"w3-panel w3-note\">\n",
    "  <p><strong>Note:</strong> This exercise shows you how to use LISTS as ARRAYS, however, to work with arrays in Python you will have to import\n",
    "  a library, like the NumPy library.</p>\n",
    "</div>\n",
    "\n",
    "<p>Arrays are used to store multiple values in one single variable:</p>\n",
    "<div class=\"w3-example\">\n",
    "  <h3>Example</h3>\n",
    "<p>Create an array containing car names:</p>\n",
    "<div class=\"w3-code notranslate pythonHigh\">\n",
    "  cars = [&quot;Ford&quot;, \"Volvo\", \"BMW\"]</div>\n",
    "<h2>Try it Yourself</h2>\n",
    "</div>\n"
   ]
  },
  {
   "cell_type": "code",
   "execution_count": 1,
   "metadata": {},
   "outputs": [],
   "source": [
    "cars = [\"Ford\", \"Volvo\", \"BMW\"]"
   ]
  },
  {
   "cell_type": "markdown",
   "metadata": {},
   "source": [
    "\n",
    "<h2>What is an Array?</h2>\n",
    "<p>An array is a special variable, which can hold more than one value at a time.</p>\n",
    "<p>If you have a list of items (a list of car names, for example), storing the \n",
    "cars in single variables could look like this:</p>\n",
    "\n",
    "<div class=\"w3-code w3-border notranslate jsHigh\">\n",
    "<div>\n",
    "  car1 = &quot;Ford&quot;<br>\n",
    "  car2 = &quot;Volvo&quot;<br>\n",
    "  car3 = &quot;BMW&quot;\n",
    "</div></div>\n",
    "\n",
    "<p>However, what if you want to loop through the cars and find a specific one? \n",
    "And what if you had not 3 cars, but 300?</p>\n",
    "<p>The solution is an array!</p>\n",
    "<p>An array can hold many values under a single name, and you can \n",
    "access the values by referring to an index number.</p>\n",
    "\n",
    "\n",
    "<hr>\n",
    "\n",
    "\n",
    "<h2>Access the Elements of an Array</h2>\n",
    "\n",
    "\n",
    "<p>You refer to an array element by referring to the <em>index number</em>.</p>\n",
    "<div class=\"w3-example\">\n",
    "  <h3>Example</h3>\n",
    "<p>Get the value of the first array item:</p>\n",
    "<div class=\"w3-code notranslate pythonHigh\">\n",
    "  x = cars[0]</div>\n",
    "<h2>Try it Yourself</h2>\n",
    "</div>\n"
   ]
  },
  {
   "cell_type": "code",
   "execution_count": 2,
   "metadata": {},
   "outputs": [
    {
     "name": "stdout",
     "output_type": "stream",
     "text": [
      "Ford\n"
     ]
    }
   ],
   "source": [
    "x = cars[0]\n",
    "print(x)"
   ]
  },
  {
   "cell_type": "markdown",
   "metadata": {},
   "source": [
    "\n",
    "<div class=\"w3-example\">\n",
    "  <h3>Example</h3>\n",
    "<p>Modify the value of the first array item:</p>\n",
    "<div class=\"w3-code notranslate pythonHigh\">\n",
    "  cars[0] = \"Toyota\"</div>\n",
    "<h2>Try it Yourself</h2>\n",
    "</div>\n"
   ]
  },
  {
   "cell_type": "code",
   "execution_count": 3,
   "metadata": {},
   "outputs": [],
   "source": [
    "cars[0] = \"Toyota\"\n"
   ]
  },
  {
   "cell_type": "code",
   "execution_count": 7,
   "metadata": {},
   "outputs": [
    {
     "name": "stdout",
     "output_type": "stream",
     "text": [
      "BMW\n"
     ]
    }
   ],
   "source": [
    "print(cars[2])"
   ]
  },
  {
   "cell_type": "markdown",
   "metadata": {},
   "source": [
    "\n",
    "<hr>\n",
    "\n",
    "<h2>The Length of an Array</h2>\n",
    "\n",
    "<p>Use the <code class=\"w3-codespan\">len()</code> method to return the length of \n",
    "an array (the number of elements in an array).</p>\n",
    "\n",
    "<div class=\"w3-example\">\n",
    "<h3>Example</h3>\n",
    "<p>Return the number of elements in the <code class=\"w3-codespan\">cars</code> \n",
    "array:</p>\n",
    "<div class=\"w3-code notranslate pythonHigh\">\n",
    "  x = len(cars)</div>\n",
    "<h2>Try it Yourself</h2>\n",
    "</div>\n"
   ]
  },
  {
   "cell_type": "code",
   "execution_count": 5,
   "metadata": {},
   "outputs": [
    {
     "name": "stdout",
     "output_type": "stream",
     "text": [
      "3\n"
     ]
    }
   ],
   "source": [
    "x = len(cars)\n",
    "print (x)"
   ]
  },
  {
   "cell_type": "markdown",
   "metadata": {},
   "source": [
    "\n",
    "<div class=\"w3-panel w3-note\">\n",
    "  <p><strong>Note:</strong> The length of an array is always one more than the highest array index.</p>\n",
    "</div>\n",
    "\n",
    "<h2>Looping Array Elements</h2>\n",
    "\n",
    "<p>You can use the <code class=\"w3-codespan\">for in</code> loop to loop through all the elements of an array.</p>\n",
    "<div class=\"w3-example\">\n",
    "  <h3>Example</h3>\n",
    "<p>Print each item in the <code class=\"w3-codespan\">cars</code> array:</p>\n",
    "<div class=\"w3-code notranslate pythonHigh\">\n",
    "  for x in cars:<br>&nbsp; print(x)</div>\n",
    "<h2>Try it Yourself</h2>\n",
    "</div>\n",
    "\n"
   ]
  },
  {
   "cell_type": "code",
   "execution_count": 8,
   "metadata": {},
   "outputs": [
    {
     "name": "stdout",
     "output_type": "stream",
     "text": [
      "Toyota\n",
      "Volvo\n",
      "BMW\n"
     ]
    }
   ],
   "source": [
    "for x in cars:\n",
    "  print(x)"
   ]
  },
  {
   "cell_type": "markdown",
   "metadata": {},
   "source": [
    "<hr>\n",
    "\n",
    "<h2>Adding Array Elements</h2>\n",
    "\n",
    "<p>You can use the <code class=\"w3-codespan\">append()</code> method to add an element to an array.</p>\n",
    "<div class=\"w3-example\">\n",
    "  <h3>Example</h3>\n",
    "<p>Add one more element to the <code class=\"w3-codespan\">cars</code> array:</p>\n",
    "<div class=\"w3-code notranslate pythonHigh\">\n",
    "cars.append(&quot;Honda&quot;)</div>\n",
    "<h2>Try it Yourself</h2>\n",
    "</div>\n",
    "\n"
   ]
  },
  {
   "cell_type": "code",
   "execution_count": 9,
   "metadata": {},
   "outputs": [
    {
     "name": "stdout",
     "output_type": "stream",
     "text": [
      "['Toyota', 'Volvo', 'BMW', 'Honda']\n"
     ]
    }
   ],
   "source": [
    "cars.append(\"Honda\")\n",
    "print (cars)"
   ]
  },
  {
   "cell_type": "markdown",
   "metadata": {},
   "source": [
    "<hr>\n",
    "\n",
    "<h2>Removing Array Elements</h2>\n",
    "\n",
    "<p>You can use the <code class=\"w3-codespan\">pop()</code> method to remove an element from the array.</p>\n",
    "<div class=\"w3-example\">\n",
    "  <h3>Example</h3>\n",
    "<p>Delete the second element of the <code class=\"w3-codespan\">cars</code> array:</p>\n",
    "<div class=\"w3-code notranslate pythonHigh\">\n",
    "cars.pop(1)</div>\n",
    "<h2>Try it Yourself</h2>\n",
    "</div>\n"
   ]
  },
  {
   "cell_type": "code",
   "execution_count": 11,
   "metadata": {},
   "outputs": [
    {
     "name": "stdout",
     "output_type": "stream",
     "text": [
      "['Toyota', 'BMW']\n"
     ]
    }
   ],
   "source": [
    "cars.pop()\n",
    "print(cars)"
   ]
  },
  {
   "cell_type": "markdown",
   "metadata": {},
   "source": [
    "\n",
    "<p>You can also use the <code class=\"w3-codespan\">remove()</code> method to remove an element from the array.</p>\n",
    "<div class=\"w3-example\">\n",
    "  <h3>Example</h3>\n",
    "<p>Delete the element that has the value &quot;Volvo&quot;:</p>\n",
    "<div class=\"w3-code notranslate pythonHigh\">\n",
    "cars.remove(&quot;Volvo&quot;)</div>\n",
    "<h2>Try it Yourself</h2>\n",
    "</div>\n"
   ]
  },
  {
   "cell_type": "code",
   "execution_count": 12,
   "metadata": {},
   "outputs": [
    {
     "name": "stdout",
     "output_type": "stream",
     "text": [
      "['Toyota']\n"
     ]
    }
   ],
   "source": [
    "cars.remove(\"BMW\")\n",
    "print(cars)"
   ]
  },
  {
   "cell_type": "markdown",
   "metadata": {},
   "source": [
    "<div class=\"w3-panel w3-note\">\n",
    "  <p><strong>Note:</strong> The list's <code class=\"w3-codespan\">remove()</code> method \n",
    "  only removes the first occurrence of the specified value.</p>\n",
    "</div>\n",
    "\n",
    "<hr>\n",
    "<h2>Array Methods</h2>\n",
    "<p>Python has a set of built-in methods that you can use on lists/arrays.\n",
    "\n",
    "<table align=\"left\">\n",
    "<tr>\n",
    "<th>Method</th>\n",
    "<th>Description</th>\n",
    "</tr>\n",
    "<tr><td>append()</td><td>Adds an element at \n",
    "  the end of the list</td></tr>\n",
    "<tr><td>clear()</td><td>Removes all the \n",
    "  elements from the list</td></tr>\n",
    "<tr><td>copy()</td><td>Returns a copy of the \n",
    "  list</td></tr>\n",
    "<tr><td>count()</td><td>Returns the number of \n",
    "  elements with the specified value</td></tr>\n",
    "<tr><td>extend()</td><td>Add the elements of a \n",
    "  list (or any iterable), to the end of the current list</td></tr>\n",
    "<tr><td>index()</td><td>Returns the index of \n",
    "  the first element with the specified value</td></tr>\n",
    "<tr><td>insert()</td><td>Adds an element at \n",
    "  the specified position</td></tr>\n",
    "<tr><td>pop()</td><td>Removes the element at the \n",
    "  specified position</td></tr>\n",
    "<tr><td>remove()</td><td>Removes the first \n",
    "  item with the specified value</td></tr>\n",
    "<tr><td>reverse()</td><td>Reverses the order \n",
    "  of the list</td></tr>\n",
    "<tr><td>sort()</td><td>Sorts the list</td></tr>\n",
    "</table>\n",
    "</p>\n",
    "<div>\n",
    "  <br>\n",
    "  <br>\n",
    "  <br>\n",
    "  <br>\n",
    "  <br>\n",
    "  <br>\n",
    "  <br>\n",
    "  <br>\n",
    "  <br>\n",
    "  <br>\n",
    "  <br>\n",
    "  <br>\n",
    "  <br>\n",
    "  <br>\n",
    "  <br>\n",
    "  <br>\n",
    "  <hr>\n",
    "  <p><strong>Note:</strong> Python does not have built-in support for Arrays, \n",
    "  but Python Lists can be used instead.</p>\n",
    "</div>"
   ]
  },
  {
   "cell_type": "code",
   "execution_count": null,
   "metadata": {},
   "outputs": [],
   "source": []
  }
 ],
 "metadata": {
  "kernelspec": {
   "display_name": "Python 3",
   "language": "python",
   "name": "python3"
  },
  "language_info": {
   "codemirror_mode": {
    "name": "ipython",
    "version": 3
   },
   "file_extension": ".py",
   "mimetype": "text/x-python",
   "name": "python",
   "nbconvert_exporter": "python",
   "pygments_lexer": "ipython3",
   "version": "3.8.8"
  }
 },
 "nbformat": 4,
 "nbformat_minor": 4
}
