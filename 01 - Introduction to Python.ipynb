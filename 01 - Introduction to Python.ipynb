{
 "cells": [
  {
   "cell_type": "markdown",
   "metadata": {},
   "source": [
    "<h2>01 - What is Python?</h2>\n",
    "<p>Python is a popular programming language. It was created by Guido van Rossum, \n",
    "and released in 1991.</p>\n",
    "\n",
    "<p>It is used for:</p>\n",
    "\n",
    "<ul>\n",
    "<li>web development (server-side), </li>\n",
    "<li>software development, </li>\n",
    "<li>mathematics,</li>\n",
    "<li>system scripting.</li>\n",
    "</ul>\n",
    "\n",
    "<h3>What can Python do?</h3>\n",
    "<ul>\n",
    "<li>Python can be used on a server to create web applications.</li>\n",
    "<li>Python can be used alongside software to create workflows.</li>\n",
    "<li>Python can connect to database systems. It can also read and modify files.</li>\n",
    "<li>Python can be used to handle big data and perform complex mathematics.</li>\n",
    "<li>Python can be used for rapid prototyping, or for production-ready software development.</li>\n",
    "</ul>\n",
    "\n",
    "<h3>Why Python?</h3>\n",
    "<ul>\n",
    "<li>Python works on different platforms (Windows, Mac, Linux, Raspberry Pi, etc).</li>\n",
    "<li>Python has a simple syntax similar to the English language.</li>\n",
    "<li>Python has syntax that allows developers to write programs with fewer lines than some other programming languages.</li>\n",
    "<li>Python runs on an interpreter system, meaning that code can be executed as soon as it is written. This means that prototyping can be very quick.</li>\n",
    "<li>Python can be treated in a procedural way, an object-orientated way or a functional way.</li>\n",
    "</ul>\n",
    "\n",
    "<h3>Good to know</h3>\n",
    "<ul>\n",
    "<li>The most recent major version of Python is Python 3, which we shall be using in this tutorial. However, Python 2, although not being updated with anything other than security updates, is still quite popular.</li>\n",
    "<li>In this tutorial Python will be written in a text editor. It is possible to write Python in an Integrated Development Environment, such as Thonny, Pycharm, Netbeans or Eclipse which are particularly useful when managing larger collections of Python files.</li>\n",
    "</ul>\n",
    "\n",
    "<h3>Python Syntax compared to other programming languages</h3>\n",
    "<ul>\n",
    "<li>Python was designed for readability, and has some similarities to the English language with influence from mathematics.</li>\n",
    "<li>Python uses new lines to complete a command, as opposed to other programming languages which often use semicolons or parentheses.</li>\n",
    "<li>Python relies on indentation, using whitespace, to define scope; such as the scope of loops, functions and classes. Other programming languages often use curly-brackets for this purpose.</li>\n",
    "</ul>"
   ]
  },
  {
   "cell_type": "code",
   "execution_count": 3,
   "metadata": {},
   "outputs": [],
   "source": [
    "#example of your first Pyhton syntax\n",
    "str01 = \"my name is zakwan\""
   ]
  },
  {
   "cell_type": "code",
   "execution_count": 4,
   "metadata": {},
   "outputs": [
    {
     "name": "stdout",
     "output_type": "stream",
     "text": [
      "my name is zakwan\n"
     ]
    }
   ],
   "source": [
    "print (str01)"
   ]
  },
  {
   "cell_type": "code",
   "execution_count": 1,
   "metadata": {},
   "outputs": [],
   "source": [
    "str02 = \"my name is Hakim\""
   ]
  },
  {
   "cell_type": "code",
   "execution_count": 2,
   "metadata": {},
   "outputs": [
    {
     "name": "stdout",
     "output_type": "stream",
     "text": [
      "my name is Hakim\n"
     ]
    }
   ],
   "source": [
    "print (str02)"
   ]
  },
  {
   "cell_type": "code",
   "execution_count": 1,
   "metadata": {},
   "outputs": [
    {
     "ename": "SyntaxError",
     "evalue": "invalid syntax (<ipython-input-1-10cb182148e3>, line 1)",
     "output_type": "error",
     "traceback": [
      "\u001b[1;36m  File \u001b[1;32m\"<ipython-input-1-10cb182148e3>\"\u001b[1;36m, line \u001b[1;32m1\u001b[0m\n\u001b[1;33m    print(Hello World)\u001b[0m\n\u001b[1;37m                ^\u001b[0m\n\u001b[1;31mSyntaxError\u001b[0m\u001b[1;31m:\u001b[0m invalid syntax\n"
     ]
    }
   ],
   "source": [
    "print(Hello World)"
   ]
  },
  {
   "cell_type": "code",
   "execution_count": 6,
   "metadata": {},
   "outputs": [
    {
     "name": "stdout",
     "output_type": "stream",
     "text": [
      "Hello World\n"
     ]
    }
   ],
   "source": [
    " print(\"Hello World\")\n"
   ]
  },
  {
   "cell_type": "code",
   "execution_count": 8,
   "metadata": {},
   "outputs": [],
   "source": [
    "_var01=2\n"
   ]
  },
  {
   "cell_type": "code",
   "execution_count": 1,
   "metadata": {},
   "outputs": [
    {
     "name": "stdout",
     "output_type": "stream",
     "text": [
      "x: 14, y: 8, z: 10\n"
     ]
    }
   ],
   "source": [
    "x = 5\n",
    "y = x + 3\n",
    "x = x - 1\n",
    "z = 10\n",
    "x = x + z\n",
    "print('x: {}, y: {}, z: {}'.format(x, y, z))"
   ]
  },
  {
   "cell_type": "code",
   "execution_count": 2,
   "metadata": {},
   "outputs": [
    {
     "name": "stdout",
     "output_type": "stream",
     "text": [
      "1\n",
      "4\n",
      "100\n"
     ]
    }
   ],
   "source": [
    "def s(x):\n",
    " return x*x \n",
    "for n in [1, 2, 10]: \n",
    " print(s(n))"
   ]
  },
  {
   "cell_type": "code",
   "execution_count": 3,
   "metadata": {},
   "outputs": [
    {
     "name": "stdout",
     "output_type": "stream",
     "text": [
      "32\n"
     ]
    }
   ],
   "source": [
    "def func(x):\n",
    " print(2**x)\n",
    "func(5)"
   ]
  },
  {
   "cell_type": "code",
   "execution_count": 4,
   "metadata": {},
   "outputs": [
    {
     "name": "stdout",
     "output_type": "stream",
     "text": [
      "18\n"
     ]
    }
   ],
   "source": [
    "n = 3 \n",
    "for x in [2, 5, 8]: \n",
    "  n = n + x \n",
    "print(n)"
   ]
  },
  {
   "cell_type": "code",
   "execution_count": 5,
   "metadata": {},
   "outputs": [
    {
     "name": "stdout",
     "output_type": "stream",
     "text": [
      "8\n"
     ]
    }
   ],
   "source": [
    "def func(x):\n",
    "   return x - 1\n",
    "print(func(3) * func(5))"
   ]
  },
  {
   "cell_type": "code",
   "execution_count": 6,
   "metadata": {},
   "outputs": [],
   "source": [
    "car =\t{\n",
    "  \"brand\": \"Ford\",\n",
    "  \"model\": \"Mustang\",\n",
    "  \"year\": 1964\n",
    "}"
   ]
  },
  {
   "cell_type": "code",
   "execution_count": 7,
   "metadata": {},
   "outputs": [],
   "source": [
    "car[\"color\"] = \"yellow\""
   ]
  },
  {
   "cell_type": "code",
   "execution_count": 8,
   "metadata": {},
   "outputs": [
    {
     "name": "stdout",
     "output_type": "stream",
     "text": [
      "{'brand': 'Ford', 'model': 'Mustang', 'year': 1964, 'color': 'yellow'}\n"
     ]
    }
   ],
   "source": [
    "print (car)"
   ]
  },
  {
   "cell_type": "code",
   "execution_count": null,
   "metadata": {},
   "outputs": [],
   "source": []
  }
 ],
 "metadata": {
  "kernelspec": {
   "display_name": "Python 3",
   "language": "python",
   "name": "python3"
  },
  "language_info": {
   "codemirror_mode": {
    "name": "ipython",
    "version": 3
   },
   "file_extension": ".py",
   "mimetype": "text/x-python",
   "name": "python",
   "nbconvert_exporter": "python",
   "pygments_lexer": "ipython3",
   "version": "3.8.8"
  }
 },
 "nbformat": 4,
 "nbformat_minor": 2
}
