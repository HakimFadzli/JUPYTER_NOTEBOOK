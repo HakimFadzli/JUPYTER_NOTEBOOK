{
 "cells": [
  {
   "cell_type": "markdown",
   "metadata": {},
   "source": [
    "<h1>05 - Python Variables</h1>\n",
    "<h2>Creating Variables</h2>\n",
    "<p>Variables are containers for storing data values.</p>\n",
    "<p>Unlike other programming languages, Python has no command for declaring a variable.</p>\n",
    "\n",
    "<p>A variable is created the moment you first assign a value to it.</p>\n",
    "\n",
    "<div class=\"w3-example\">\n",
    "<h3>Example</h3>\n"
   ]
  },
  {
   "cell_type": "code",
   "execution_count": 1,
   "metadata": {},
   "outputs": [
    {
     "name": "stdout",
     "output_type": "stream",
     "text": [
      "100\n",
      "<class 'str'>\n",
      "3.333\n"
     ]
    }
   ],
   "source": [
    "x = 100\n",
    "y = \"Razif\"\n",
    "z= 3.333\n",
    "print(x)\n",
    "print(type(y))\n",
    "print(z)"
   ]
  },
  {
   "cell_type": "markdown",
   "metadata": {},
   "source": [
    "\n",
    "<p>Variables do not need to be declared with any particular type and can even change type after they have been set.</p>\n",
    "\n",
    "<div class=\"w3-example\">\n",
    "<h3>Example</h3>\n"
   ]
  },
  {
   "cell_type": "code",
   "execution_count": 9,
   "metadata": {},
   "outputs": [
    {
     "name": "stdout",
     "output_type": "stream",
     "text": [
      "100\n"
     ]
    }
   ],
   "source": [
    "print(x)"
   ]
  },
  {
   "cell_type": "code",
   "execution_count": 2,
   "metadata": {},
   "outputs": [
    {
     "name": "stdout",
     "output_type": "stream",
     "text": [
      "Sally\n"
     ]
    }
   ],
   "source": [
    "x = 4 # x is of type int\n",
    "x = 'Sally' # x is now of type str\n",
    "print(x)"
   ]
  },
  {
   "cell_type": "markdown",
   "metadata": {},
   "source": [
    "<p>String variables can be declared either by using single or double quotes:</p>\n",
    "\n",
    "<div class=\"w3-example\">\n",
    "<h3>Example</h3>"
   ]
  },
  {
   "cell_type": "code",
   "execution_count": 19,
   "metadata": {},
   "outputs": [
    {
     "name": "stdout",
     "output_type": "stream",
     "text": [
      "2 4\n"
     ]
    }
   ],
   "source": [
    "x = 2\n",
    "# is the same as\n",
    "y = 4\n",
    "print(x,y)"
   ]
  },
  {
   "cell_type": "markdown",
   "metadata": {},
   "source": [
    "<hr>\n",
    "\n",
    "<h2>Variable Names</h2>\n",
    "\n",
    "A variable can have a short name (like x and y) or a more descriptive name (age, carname, total_volume).\n",
    "\n",
    "Rules for Python variables:\n",
    "\n",
    "<ul>\n",
    "<li>A variable name must start with a letter or the underscore character</li>\n",
    "<li>A variable name cannot start with a number</li>\n",
    "<li>A variable name can only contain alpha-numeric characters and underscores (A-z, 0-9, and _ )</li>\n",
    "<li>Variable names are case-sensitive (age, Age and AGE are three different variables)</li>\n",
    "</ul>\n",
    "<div class=\"w3-example\">\n",
    "<h3>Example</h3>"
   ]
  },
  {
   "cell_type": "code",
   "execution_count": 25,
   "metadata": {},
   "outputs": [],
   "source": [
    "#Legal variable names:\n",
    "myvar = \"John\"\n",
    "my_var = \"John\"\n",
    "_my_var = \"John\"\n",
    "myVar = \"John\"\n",
    "MYVAR = \"John\"\n",
    "myvar2 = \"John\"\n",
    "my = 1\n",
    "var = 2\n",
    "#Illegal variable names:\n",
    "my-var = \"john\""
   ]
  },
  {
   "cell_type": "markdown",
   "metadata": {},
   "source": [
    "<div class=\"w3-panel w3-note\">\n",
    "  <p>Remember that variable names are case-sensitive</p>\n",
    "</div>"
   ]
  },
  {
   "cell_type": "markdown",
   "metadata": {},
   "source": [
    "<h2>Assign Value to Multiple Variables</h2>\n",
    "\n",
    "<p>Python allows you to assign values to multiple variables in one line:</p>\n",
    "\n",
    "<div class=\"w3-example\">\n",
    "<h3>Example</h3>\n",
    "<div class=\"w3-code notranslate pythonHigh\">\n",
    "  x, y, z = &quot;Orange&quot;, &quot;Banana&quot;, &quot;Cherry&quot;<br>print(x)<br>print(y)<br>print(z)\n",
    "</div>"
   ]
  },
  {
   "cell_type": "code",
   "execution_count": 2,
   "metadata": {},
   "outputs": [
    {
     "name": "stdout",
     "output_type": "stream",
     "text": [
      "ABC\n",
      "DRAGON\n",
      "BUSTER\n",
      "<class 'list'>\n"
     ]
    }
   ],
   "source": [
    " z = [\"Orange\", \"Pisang\", \"Cherry\"]\n",
    "a,b,c = \"ABC\",\"DRAGON\",\"BUSTER\"\n",
    "print(a)\n",
    "print(b)\n",
    "print(c)\n",
    "print(type(z))"
   ]
  },
  {
   "cell_type": "markdown",
   "metadata": {},
   "source": [
    "<p>And you can assign the <em>same</em> value to multiple variables in one line:</p>\n",
    "\n",
    "<div class=\"w3-example\">\n",
    "<h3>Example</h3>\n",
    "<div class=\"w3-code notranslate pythonHigh\">\n",
    "  x = y = z = &quot;Orange&quot;<br>print(x)<br>print(y)<br>print(z)\n",
    "</div>\n"
   ]
  },
  {
   "cell_type": "code",
   "execution_count": 4,
   "metadata": {},
   "outputs": [
    {
     "name": "stdout",
     "output_type": "stream",
     "text": [
      "HACKER\n",
      "HACKER\n",
      "HACKER\n"
     ]
    }
   ],
   "source": [
    "x = y = z = \"HACKER\"\n",
    "print(x)\n",
    "print(y)\n",
    "print(z)"
   ]
  },
  {
   "cell_type": "markdown",
   "metadata": {},
   "source": [
    "<hr>\n",
    "\n",
    "<h2>Output Variables</h2>\n",
    "\n",
    "<p>The Python <code class=\"w3-codespan\">print</code> statement is often used to output variables.</p>\n",
    "\n",
    "<p>To combine both text and a variable, Python uses the \n",
    "<code class=\"w3-codespan\">+</code> character:</p>\n",
    "\n",
    "<div class=\"w3-example\">\n",
    "<h3>Example</h3>\n",
    "<div class=\"w3-code notranslate pythonHigh\">\n",
    "x = &quot;awesome&quot;<br>print(&quot;Python is &quot; + x)\n",
    "</div>\n"
   ]
  },
  {
   "cell_type": "code",
   "execution_count": 5,
   "metadata": {},
   "outputs": [
    {
     "name": "stdout",
     "output_type": "stream",
     "text": [
      "Python is awesome and neat\n"
     ]
    }
   ],
   "source": [
    "x = \"awesome\"\n",
    "y=\"neat\"\n",
    "print(\"Python is \"+x+\" and \"+y)"
   ]
  },
  {
   "cell_type": "markdown",
   "metadata": {},
   "source": [
    "<p>You can also use the <code class=\"w3-codespan\">+</code> character to add a variable to another variable:</p>\n",
    "\n",
    "<div class=\"w3-example\">\n",
    "<h3>Example</h3>\n",
    "<div class=\"w3-code notranslate pythonHigh\">\n",
    "x = &quot;Python is &quot;<br>y = &quot;awesome&quot;<br>z =&nbsp; x + y<br>\n",
    "print(z)\n",
    "</div>"
   ]
  },
  {
   "cell_type": "code",
   "execution_count": 8,
   "metadata": {},
   "outputs": [
    {
     "name": "stdout",
     "output_type": "stream",
     "text": [
      "Python is  awesome\n",
      "Python is awesome\n"
     ]
    }
   ],
   "source": [
    "x = \"Python is \"\n",
    "y = \"awesome\"\n",
    "z =  x + y\n",
    "print(x,y)\n",
    "print(z)"
   ]
  },
  {
   "cell_type": "markdown",
   "metadata": {},
   "source": [
    "<p>For numbers, the <code class=\"w3-codespan\">+</code> character works as a mathematical operator:</p>\n",
    "\n",
    "<div class=\"w3-example\">\n",
    "<h3>Example</h3>\n",
    "<div class=\"w3-code notranslate pythonHigh\">\n",
    "x = 5<br>y = 10<br>print(x + y)\n",
    "\n"
   ]
  },
  {
   "cell_type": "code",
   "execution_count": 38,
   "metadata": {},
   "outputs": [
    {
     "name": "stdout",
     "output_type": "stream",
     "text": [
      "15\n"
     ]
    }
   ],
   "source": [
    "x = 5\n",
    "y = 10\n",
    "print(x + y)"
   ]
  },
  {
   "cell_type": "markdown",
   "metadata": {},
   "source": [
    "<p>If you try to combine a string and a number, Python will give you an error:</p>\n",
    "\n",
    "<div class=\"w3-example w3-pale-red\">\n",
    "<h3>Example</h3>\n",
    "<div class=\"w3-code notranslate pythonHigh w3-border-red\">\n",
    "  x = 5<br>y = &quot;John&quot;<br>print(x + y)\n",
    "</div>"
   ]
  },
  {
   "cell_type": "code",
   "execution_count": 10,
   "metadata": {},
   "outputs": [
    {
     "ename": "TypeError",
     "evalue": "unsupported operand type(s) for +: 'int' and 'str'",
     "output_type": "error",
     "traceback": [
      "\u001b[1;31m---------------------------------------------------------------------------\u001b[0m",
      "\u001b[1;31mTypeError\u001b[0m                                 Traceback (most recent call last)",
      "\u001b[1;32m~\\AppData\\Local\\Temp/ipykernel_47564/329948896.py\u001b[0m in \u001b[0;36m<module>\u001b[1;34m\u001b[0m\n\u001b[0;32m      1\u001b[0m \u001b[0mx\u001b[0m \u001b[1;33m=\u001b[0m \u001b[1;36m5\u001b[0m\u001b[1;33m\u001b[0m\u001b[1;33m\u001b[0m\u001b[0m\n\u001b[0;32m      2\u001b[0m \u001b[0my\u001b[0m \u001b[1;33m=\u001b[0m \u001b[1;34m\"john\"\u001b[0m\u001b[1;33m\u001b[0m\u001b[1;33m\u001b[0m\u001b[0m\n\u001b[1;32m----> 3\u001b[1;33m \u001b[0mprint\u001b[0m\u001b[1;33m(\u001b[0m\u001b[0mx\u001b[0m \u001b[1;33m+\u001b[0m \u001b[0my\u001b[0m\u001b[1;33m)\u001b[0m\u001b[1;33m\u001b[0m\u001b[1;33m\u001b[0m\u001b[0m\n\u001b[0m",
      "\u001b[1;31mTypeError\u001b[0m: unsupported operand type(s) for +: 'int' and 'str'"
     ]
    }
   ],
   "source": [
    "x = 5\n",
    "y = \"john\"\n",
    "print(x + y)\n",
    "#xleh nak add an int and a string together"
   ]
  },
  {
   "cell_type": "markdown",
   "metadata": {},
   "source": [
    "<hr>\n",
    "\n",
    "<h2>Global Variables</h2>\n",
    "\n",
    "<p>Variables that are created outside of a function (as in all of the examples \n",
    "above) are known as global variables.</p>\n",
    "<p>Global variables can be used by everyone, both inside of \n",
    "functions and outside.</p>\n",
    "\n",
    "<div class=\"w3-example\">\n",
    "<h3>Example</h3>\n",
    "  <p>Create a variable outside of a function, and use it inside the function</p>\n",
    "<div class=\"w3-code notranslate pythonHigh\">\n",
    "x = &quot;awesome&quot;<br><br>\n",
    "  def myfunc():<br>&nbsp; print(&quot;Python is &quot; + x)<br><br>myfunc()</div>\n"
   ]
  },
  {
   "cell_type": "code",
   "execution_count": 43,
   "metadata": {},
   "outputs": [],
   "source": [
    "x = \"awesome\"\n",
    "\n",
    "def fungsisaya():\n",
    "  print(\"Mr Razif is \" + x)\n"
   ]
  },
  {
   "cell_type": "code",
   "execution_count": 44,
   "metadata": {},
   "outputs": [
    {
     "name": "stdout",
     "output_type": "stream",
     "text": [
      "Mr Razif is awesome\n"
     ]
    }
   ],
   "source": [
    "fungsisaya()"
   ]
  },
  {
   "cell_type": "markdown",
   "metadata": {},
   "source": [
    "<p>If you create a variable with the same name inside a function, this variable \n",
    "will be local, and can only be used inside the function. The global variable \n",
    "with the same name will remain as it was, global and with the original value.</p>\n",
    "\n",
    "<div class=\"w3-example\">\n",
    "<h3>Example</h3>\n",
    "  <p>Create a variable inside a function, with the same name as the global \n",
    "  variable</p>\n",
    "<div class=\"w3-code notranslate pythonHigh\">\n",
    "x = &quot;awesome&quot;<br><br>\n",
    "  def myfunc():<br>&nbsp; x = &quot;fantastic&quot;<br>&nbsp; print(&quot;Python is &quot; + x)<br><br>myfunc()<br>\n",
    "  <br>print(&quot;Python is &quot; + x)</div>\n",
    "</div>"
   ]
  },
  {
   "cell_type": "code",
   "execution_count": 11,
   "metadata": {},
   "outputs": [
    {
     "name": "stdout",
     "output_type": "stream",
     "text": [
      "Python is Mantol\n",
      "Python is john\n"
     ]
    }
   ],
   "source": [
    "x = \"awesome\"\n",
    "\n",
    "def myfunc():\n",
    "  x = \"fantastic\"\n",
    "  y = \"Mantol\"\n",
    "  print(\"Python is \" + y)\n",
    "\n",
    "myfunc()\n",
    "\n",
    "print(\"Python is \" + y)"
   ]
  },
  {
   "cell_type": "markdown",
   "metadata": {},
   "source": [
    "<hr>\n",
    "\n",
    "<h2>The global Keyword</h2>\n",
    "<p>Normally, when you create a variable inside a function, that variable is \n",
    "local, and can only be used inside that function.</p>\n",
    "<p>To create a global variable inside a function, you can use the \n",
    "<code class=\"w3-codespan\">global</code> keyword.</p>\n",
    "\n",
    "<div class=\"w3-example\">\n",
    "<h3>Example</h3>\n",
    "  <p>If you use the <code class=\"w3-codespan\">global</code> keyword, the variable belongs to the global scope:</p>\n",
    "<div class=\"w3-code notranslate pythonHigh\">\n",
    "  def myfunc():<br>&nbsp; global x<br>&nbsp; x = &quot;fantastic&quot;<br><br>myfunc()<br>\n",
    "  <br>print(&quot;Python is &quot; + x)</div>"
   ]
  },
  {
   "cell_type": "code",
   "execution_count": 51,
   "metadata": {},
   "outputs": [
    {
     "name": "stdout",
     "output_type": "stream",
     "text": [
      "Python is fantastic\n",
      "Python is Awesome\n"
     ]
    }
   ],
   "source": [
    "def myfunc():\n",
    "  global x\n",
    "  x = \"fantastic\"\n",
    "\n",
    "\n",
    "\n",
    "myfunc()\n",
    "print(\"Python is \" + x)\n",
    "\n",
    "x=\"Awesome\"\n",
    "print(\"Python is \" + x)"
   ]
  },
  {
   "cell_type": "markdown",
   "metadata": {},
   "source": [
    "<p>Also, use the <code class=\"w3-codespan\">global</code> keyword if you want to change a global variable inside a function.</p>\n",
    "\n",
    "<div class=\"w3-example\">\n",
    "<h3>Example</h3>\n",
    "  <p>To change the value of a global variable inside a function, refer to the \n",
    "  variable by using the <code class=\"w3-codespan\">global</code> keyword:</p>\n",
    "<div class=\"w3-code notranslate pythonHigh\">\n",
    "  x = &quot;awesome&quot;<br><br>def myfunc():<br>&nbsp; global x<br>&nbsp; x = &quot;fantastic&quot;<br><br>myfunc()<br>\n",
    "  <br>print(&quot;Python is &quot; + x)</div>"
   ]
  },
  {
   "cell_type": "code",
   "execution_count": 55,
   "metadata": {},
   "outputs": [
    {
     "name": "stdout",
     "output_type": "stream",
     "text": [
      "Python is fantastic\n",
      "Python is fantastic\n"
     ]
    }
   ],
   "source": [
    "x = \"awesome\"\n",
    "\n",
    "def myfunc():\n",
    "  global x\n",
    "  x = \"fantastic\"\n",
    "  print(\"Python is \" + x)\n",
    "\n",
    "myfunc()\n",
    "\n",
    "print(\"Python is \" + x)"
   ]
  },
  {
   "cell_type": "markdown",
   "metadata": {},
   "source": [
    "<hr>\n",
    "<h2>Test Yourself With Exercises</h2>\n",
    "<div class=\"exercisewindow\">\n",
    "<h2>Exercise:</h2>\n",
    "<p>Create a variable named <code class=\"w3-codespan\">carname</code> and assign the value <code class=\"w3-codespan\">Volvo</code> to it.</p>\n",
    "<br>\n",
    "</div>\n"
   ]
  },
  {
   "cell_type": "code",
   "execution_count": null,
   "metadata": {},
   "outputs": [],
   "source": [
    "#Do Exercise here\n",
    "carname = 'Volvo'\n",
    "print (carname)"
   ]
  },
  {
   "cell_type": "markdown",
   "metadata": {},
   "source": [
    "<div class=\"w3-example\">\n",
    "<h3>Example</h3>\n",
    "<div class=\"w3-code notranslate pythonHigh\">\n",
    "x = 5<br>\n",
    "y = 10<br>\n",
    "z = x / y<br>\n",
    "print(z)\n",
    "</div>\n",
    "</div>\n",
    "\n",
    "<p>Here <span class=\"w3-codespan\">x</span>, <span class=\"w3-codespan\">y</span> and <span class=\"w3-codespan\">z</span> are variables. In python they do not have any types declared to them. The Python interpreter knows that <span class=\"w3-codespan\">5</span> and <span class=\"w3-codespan\">10</span> are integers, and so sets those variables temporarily to integer types. For <span class=\"w3-codespan\">z</span>, the Python interpreter is aware that the result of <span class=\"w3-codespan\">x/y</span> is a decimal value and so sets <span class=\"w3-codespan\">z</span> to <span class=\"w3-codespan\">0.5</span>.</p>\n",
    "<p>Finally, <span class=\"w3-codespan\">print(z)</span> will display the variable to the screen. In this case the print function actually converts the decimal to a string of characters.</p>\n",
    "\n",
    "<div class=\"w3-panel w3-note\">\n",
    "  <p><strong>WARNING: Data Type Handling Differences!</strong></p>\n",
    "<p>Due to <span class=\"w3-codespan\">x</span> and <span class=\"w3-codespan\">y</span> both being integers, the example above provides a different result in Python 2 compared to Python 3.</p>\n",
    "<ul>\n",
    "<li>Python 3 will set z to the decimal value 0.5, as it has discovered the result to be a decimal.</li>\n",
    "<li>Python 2 will set z to the integer value 0, as both x and y are integers.</li>\n",
    "</ul>\n",
    "\n",
    "</div>"
   ]
  },
  {
   "cell_type": "code",
   "execution_count": null,
   "metadata": {},
   "outputs": [],
   "source": [
    "x = 5\n",
    "y = 10\n",
    "z = x / y\n",
    "print(z)"
   ]
  },
  {
   "cell_type": "code",
   "execution_count": null,
   "metadata": {},
   "outputs": [],
   "source": []
  }
 ],
 "metadata": {
  "kernelspec": {
   "display_name": "Python 3 (ipykernel)",
   "language": "python",
   "name": "python3"
  },
  "language_info": {
   "codemirror_mode": {
    "name": "ipython",
    "version": 3
   },
   "file_extension": ".py",
   "mimetype": "text/x-python",
   "name": "python",
   "nbconvert_exporter": "python",
   "pygments_lexer": "ipython3",
   "version": "3.7.11"
  }
 },
 "nbformat": 4,
 "nbformat_minor": 2
}
