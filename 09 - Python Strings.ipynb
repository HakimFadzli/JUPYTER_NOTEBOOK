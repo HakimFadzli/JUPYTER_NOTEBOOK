{
 "cells": [
  {
   "cell_type": "markdown",
   "metadata": {},
   "source": [
    "<h1>09 - Python Strings</h1>\n",
    "\n",
    "<hr>\n",
    "\n",
    "<h2>String Literals</h2>\n",
    "\n",
    "<p>String literals in python are surrounded by either single quotation marks, or double quotation marks.</p>\n",
    "\n",
    "<p><span class=\"w3-codespan\">'hello'</span> is the same as <span class=\"w3-codespan\">\"hello\"</span>.</p>\n",
    "\n",
    "<p>You can display a string literal with the <code class=\"w3-codespan\">print()</code> function:</p>\n",
    "\n",
    "<h3>Example</h3>\n",
    "<div class=\"w3-code notranslate pythonHigh\">\n",
    "print(&quot;Hello&quot;)<br>\n",
    "print('Hello')\n",
    "</div>"
   ]
  },
  {
   "cell_type": "code",
   "execution_count": 66,
   "metadata": {},
   "outputs": [
    {
     "name": "stdout",
     "output_type": "stream",
     "text": [
      "Hello\n",
      "Hello\n"
     ]
    }
   ],
   "source": [
    "print(\"Hello\")\n",
    "print('Hello')"
   ]
  },
  {
   "cell_type": "markdown",
   "metadata": {},
   "source": [
    "<hr>\n",
    "<h2>Assign String to a Variable</h2>\n",
    "\n",
    "<p>Assigning a string to a variable is done with the variable name followed by \n",
    "an equal sign and the string:</p>\n",
    "\n",
    "<h3>Example</h3>\n",
    "<div class=\"w3-code notranslate pythonHigh\">\n",
    "a = \"Hello&quot;<br>print(a)</div>"
   ]
  },
  {
   "cell_type": "code",
   "execution_count": 67,
   "metadata": {},
   "outputs": [
    {
     "name": "stdout",
     "output_type": "stream",
     "text": [
      "Hello\n"
     ]
    }
   ],
   "source": [
    "a = \"Hello\"\n",
    "print(a)"
   ]
  },
  {
   "cell_type": "markdown",
   "metadata": {},
   "source": [
    "<hr>\n",
    "\n",
    "<h2>Multiline Strings</h2>\n",
    "\n",
    "<p>You can assign a multiline string to a variable by using three quotes:</p>\n",
    "\n",
    "\n",
    "<h3>Example</h3>\n",
    "<p>You can use three double quotes:</p>\n",
    "<div class=\"w3-code notranslate pythonHigh\">\n",
    "  a = &quot;&quot;&quot;Lorem ipsum dolor sit amet,<br>consectetur adipiscing elit,<br>sed do \n",
    "  eiusmod tempor incididunt<br>ut labore et dolore magna aliqua.&quot;&quot;&quot;<br>print(a)</div>"
   ]
  },
  {
   "cell_type": "code",
   "execution_count": 4,
   "metadata": {
    "scrolled": true
   },
   "outputs": [
    {
     "name": "stdout",
     "output_type": "stream",
     "text": [
      "KUALA LUMPUR: KEPUTUSAN YANG DI-PERTUAN AGONG AL-SULTAN ABDULLAH \n",
      "RI'AYATUDDIN AL-MUSTAFA BILLAH SHAH TIDAK MENGISYTIHARKAN DARURAT MEMBERIKAN EKONOMI PELUANG \n",
      "TERBAIK KEPADA MALAYSIA MEMULIHKAN EKONOMI YANG TERJEJAS AKIBAT PANDEMIK COVID-19.\n",
      "PAKAR EKONOMI PROF MADYA DR MOHD YUSOF SAARI BERKATA, KEPUTUSAN ITU JELAS MEMBERI \n",
      "ISYARAT SUPAYA PERMAINAN POLITIK DITAMATKAN SEKETIKA EKONOMI DAN TUMPUAN HARUS DIBERIKAN \n",
      "KEPADA LANGKAH PEMULIHAN EKONOMI .\n",
      "\n",
      "\n",
      "['KUALA', 'LUMPUR:', 'KEPUTUSAN', 'YANG', 'DI-PERTUAN', 'AGONG', 'AL-SULTAN', 'ABDULLAH', \"RI'AYATUDDIN\", 'AL-MUSTAFA', 'BILLAH', 'SHAH', 'TIDAK', 'MENGISYTIHARKAN', 'DARURAT', 'MEMBERIKAN', 'EKONOMI', 'PELUANG', 'TERBAIK', 'KEPADA', 'MALAYSIA', 'MEMULIHKAN', 'EKONOMI', 'YANG', 'TERJEJAS', 'AKIBAT', 'PANDEMIK', 'COVID-19.', 'PAKAR', 'EKONOMI', 'PROF', 'MADYA', 'DR', 'MOHD', 'YUSOF', 'SAARI', 'BERKATA,', 'KEPUTUSAN', 'ITU', 'JELAS', 'MEMBERI', 'ISYARAT', 'SUPAYA', 'PERMAINAN', 'POLITIK', 'DITAMATKAN', 'SEKETIKA', 'EKONOMI', 'DAN', 'TUMPUAN', 'HARUS', 'DIBERIKAN', 'KEPADA', 'LANGKAH', 'PEMULIHAN', 'EKONOMI', '.']\n",
      "Ekonomi accurance =  5\n"
     ]
    }
   ],
   "source": [
    "a = \"\"\"Kuala Lumpur: Keputusan Yang di-Pertuan Agong Al-Sultan Abdullah \n",
    "Ri'ayatuddin Al-Mustafa Billah Shah tidak mengisytiharkan darurat memberikan ekonomi peluang \n",
    "terbaik kepada Malaysia memulihkan ekonomi yang terjejas akibat pandemik Covid-19.\n",
    "Pakar ekonomi Prof Madya Dr Mohd Yusof Saari berkata, keputusan itu jelas memberi \n",
    "isyarat supaya permainan politik ditamatkan seketika ekonomi dan tumpuan harus diberikan \n",
    "kepada langkah pemulihan Ekonomi .\"\"\"\n",
    "\n",
    "a = a.upper()\n",
    "\n",
    "print(a+\"\\n\\n\")#this will print the original string\n",
    "\n",
    "a = list(a.split())\n",
    "\n",
    "print(a)#this will print the list of letter in the string\n",
    "\n",
    "print('Ekonomi accurance = ',a.count('ekonomi'))\n",
    "\n"
   ]
  },
  {
   "cell_type": "markdown",
   "metadata": {},
   "source": [
    "<p>Or three single quotes:</p>\n",
    "\n",
    "\n",
    "<h3>Example</h3>\n",
    "<div class=\"w3-code notranslate pythonHigh\">\n",
    "  a = '''Lorem ipsum dolor sit amet,<br>consectetur adipiscing elit,<br>sed do \n",
    "  eiusmod tempor incididunt<br>ut labore et dolore magna aliqua.'''<br>print(a)</div>"
   ]
  },
  {
   "cell_type": "code",
   "execution_count": 78,
   "metadata": {},
   "outputs": [
    {
     "name": "stdout",
     "output_type": "stream",
     "text": [
      "Lorem ipsum dolor sit amet,\n",
      "consectetur adipiscing elit,\n",
      "sed do eiusmod tempor incididunt\n",
      "ut labore et dolore magna aliqua.\n"
     ]
    }
   ],
   "source": [
    "a = '''Lorem ipsum dolor sit amet,\n",
    "consectetur adipiscing elit,\n",
    "sed do eiusmod tempor incididunt\n",
    "ut labore et dolore magna aliqua.'''\n",
    "print(a)"
   ]
  },
  {
   "cell_type": "markdown",
   "metadata": {},
   "source": [
    "<div class=\"w3-panel w3-note\">\n",
    "  <p><strong>Note:</strong> in the result, the line breaks are inserted at the same position as in the code.</p>\n",
    "</div>\n",
    "\n",
    "<hr>\n",
    "\n",
    "\n",
    "<h2>Strings are Arrays</h2>\n",
    "\n",
    "<p>Like many other popular programming languages, strings in Python are arrays of bytes representing unicode characters.</p>\n",
    "<p>However, Python does not have a character data type, a single character is simply a string with a length of 1.</p>\n",
    "<p>Square brackets can be used to access elements of the string.</p>\n",
    "\n",
    "\n",
    "<h3>Example</h3>\n",
    "<p>Get the character at position 1 (remember that the first character has the \n",
    "position 0):</p>\n",
    "<div class=\"w3-code notranslate pythonHigh\">\n",
    "a = \"Hello, World!\"<br>\n",
    "print(a[1])\n",
    "</div>"
   ]
  },
  {
   "cell_type": "markdown",
   "metadata": {},
   "source": [
    "<h2>Slicing</h2>\n",
    "\n",
    "<p>You can return a range of characters by using the slice syntax.</p>\n",
    "<p>Specify the start index and the end index, separated by a colon, to return a \n",
    "part of the string.</p>\n",
    "\n",
    "\n",
    "<h3>Example</h3>\n",
    "<p>Get the characters from position 2 to position 5 (not included):</p>\n",
    "<div class=\"w3-code notranslate pythonHigh\">\n",
    "b = \"Hello, World!&quot;<br>\n",
    "  print(b[2:5])\n",
    "</div>"
   ]
  },
  {
   "cell_type": "code",
   "execution_count": 82,
   "metadata": {},
   "outputs": [
    {
     "name": "stdout",
     "output_type": "stream",
     "text": [
      "World!\n"
     ]
    }
   ],
   "source": [
    "b = \"Hello, World!\"\n",
    "print(b[7:13])"
   ]
  },
  {
   "cell_type": "code",
   "execution_count": 81,
   "metadata": {},
   "outputs": [
    {
     "name": "stdout",
     "output_type": "stream",
     "text": [
      "Hello, World!\n",
      "H\n",
      "e\n",
      "l\n",
      "l\n",
      "o\n",
      "['H', 'e', 'l', 'l', 'o', ',', ' ', 'W', 'o', 'r', 'l', 'd', '!']\n",
      "H\n",
      "e\n",
      "l\n",
      "l\n",
      "o\n",
      ",\n",
      " \n",
      "W\n",
      "o\n",
      "r\n"
     ]
    }
   ],
   "source": [
    "a = \"Hello, World!\"\n",
    "print(a)\n",
    "print(a[0])\n",
    "print(a[1])\n",
    "print(a[2])\n",
    "print(a[3])\n",
    "print(a[4])\n",
    "\n",
    "a = list(a)\n",
    "print(a)\n",
    "print(a[0])\n",
    "print(a[1])\n",
    "print(a[2])\n",
    "print(a[3])\n",
    "print(a[4])\n",
    "print(a[5])\n",
    "print(a[6])\n",
    "print(a[7])\n",
    "print(a[8])\n",
    "print(a[9])"
   ]
  },
  {
   "cell_type": "code",
   "execution_count": 25,
   "metadata": {},
   "outputs": [
    {
     "name": "stdout",
     "output_type": "stream",
     "text": [
      "this food is bad. i dont like it\n",
      "Found\n"
     ]
    },
    {
     "data": {
      "text/plain": [
       "'this food is good. i dont like it'"
      ]
     },
     "execution_count": 25,
     "metadata": {},
     "output_type": "execute_result"
    }
   ],
   "source": [
    "def ubah(sentence):\n",
    "    new_sk=sentence.lower()\n",
    "    print(new_sk)\n",
    "    if \"bad\" in new_sk:\n",
    "        print(\"Found\")\n",
    "        new_sk = new_sk.replace(\"bad\",\"good\")\n",
    "    return new_sk\n",
    "\n",
    "ubah(\"this food is BAD. i dont like it\")"
   ]
  },
  {
   "cell_type": "markdown",
   "metadata": {},
   "source": [
    "<h2>Negative Indexing</h2>\n",
    "\n",
    "Use negative indexes to start the slice from the end of the string:\n",
    "\n",
    "\n",
    "<h3>Example</h3>\n",
    "<p>Get the characters from position 5 to position 1 (not included), starting the count from \n",
    "the end of the string:</p>\n",
    "<div class=\"w3-code notranslate pythonHigh\">\n",
    "b = \"Hello, World!&quot;<br>\n",
    "  print(b[-5:-2])\n",
    "</div>"
   ]
  },
  {
   "cell_type": "code",
   "execution_count": 88,
   "metadata": {},
   "outputs": [
    {
     "name": "stdout",
     "output_type": "stream",
     "text": [
      "orld\n"
     ]
    }
   ],
   "source": [
    "b = \"Hello, World!\"\n",
    "print(b[-5:-1])"
   ]
  },
  {
   "cell_type": "markdown",
   "metadata": {},
   "source": [
    "<h2>String Length</h2>\n",
    "\n",
    "<p>To get the length of a string, use the <code class=\"w3-codespan\">len()</code> function.</p>\n",
    "\n",
    "<h3>Example</h3>\n",
    "<p>The <code class=\"w3-codespan\">len()</code> function returns the length of a string:</p>\n",
    "<div class=\"w3-code notranslate pythonHigh\">\n",
    "a = \"Hello, World!\"<br>\n",
    "print(len(a))\n",
    "</div>"
   ]
  },
  {
   "cell_type": "code",
   "execution_count": 89,
   "metadata": {},
   "outputs": [
    {
     "name": "stdout",
     "output_type": "stream",
     "text": [
      "13\n"
     ]
    }
   ],
   "source": [
    "a = \"Hello, World!\"\n",
    "print(len(a))"
   ]
  },
  {
   "cell_type": "markdown",
   "metadata": {},
   "source": [
    "<hr>\n",
    "\n",
    "<h2>String Methods</h2>\n",
    "\n",
    "<p>Python has a set of built-in methods that you can use on strings.</p>\n",
    "\n",
    "\n",
    "<h3>Example</h3>\n",
    "<p>The <code class=\"w3-codespan\">strip()</code> method removes any whitespace from the beginning or the end:</p>\n",
    "<div class=\"w3-code notranslate pythonHigh\">\n",
    "a = \" Hello, World! \"<br>\n",
    "print(a.strip()) # returns &quot;Hello, World!&quot;\n",
    "</div>"
   ]
  },
  {
   "cell_type": "code",
   "execution_count": 93,
   "metadata": {},
   "outputs": [
    {
     "name": "stdout",
     "output_type": "stream",
     "text": [
      "\"Hello, World!\"\n"
     ]
    }
   ],
   "source": [
    "a = \" Hello, World! \"\n",
    "print('\"'+a.strip()+'\"') # returns \"Hello, World!\""
   ]
  },
  {
   "cell_type": "markdown",
   "metadata": {},
   "source": [
    "<h3>Example</h3>\n",
    "<p>The <code class=\"w3-codespan\">lower()</code> method returns the string in lower case:</p>\n",
    "<div class=\"w3-code notranslate pythonHigh\">\n",
    "a = \"Hello, World!\"<br>\n",
    "print(a.lower())\n",
    "</div>"
   ]
  },
  {
   "cell_type": "code",
   "execution_count": 94,
   "metadata": {},
   "outputs": [
    {
     "name": "stdout",
     "output_type": "stream",
     "text": [
      "hello, world!\n"
     ]
    }
   ],
   "source": [
    "a = \"Hello, World!\"\n",
    "print(a.lower())"
   ]
  },
  {
   "cell_type": "markdown",
   "metadata": {},
   "source": [
    "<h3>Example</h3>\n",
    "<p>The <code class=\"w3-codespan\">upper()</code> method returns the string in upper case:</p>\n",
    "<div class=\"w3-code notranslate pythonHigh\">\n",
    "a = \"Hello, World!\"<br>\n",
    "print(a.upper())\n",
    "</div>"
   ]
  },
  {
   "cell_type": "code",
   "execution_count": 95,
   "metadata": {},
   "outputs": [
    {
     "name": "stdout",
     "output_type": "stream",
     "text": [
      "HELLO, WORLD!\n"
     ]
    }
   ],
   "source": [
    "a = \"Hello, World!\"\n",
    "print(a.upper())"
   ]
  },
  {
   "cell_type": "markdown",
   "metadata": {},
   "source": [
    "<h3>Example</h3>\n",
    "<p>The <code class=\"w3-codespan\">replace()</code> method replaces a string with another string:</p>\n",
    "<div class=\"w3-code notranslate pythonHigh\">\n",
    "a = \"Hello, World!\"<br>\n",
    "print(a.replace(&quot;H&quot;, &quot;J&quot;))\n",
    "</div>"
   ]
  },
  {
   "cell_type": "code",
   "execution_count": 18,
   "metadata": {},
   "outputs": [
    {
     "data": {
      "text/plain": [
       "'hi, hi, hi, hi, hi, '"
      ]
     },
     "execution_count": 18,
     "metadata": {},
     "output_type": "execute_result"
    }
   ],
   "source": [
    "a = \"hi, \"\n",
    "a*5"
   ]
  },
  {
   "cell_type": "markdown",
   "metadata": {},
   "source": [
    "<h3>Example</h3>\n",
    "<p>The <code class=\"w3-codespan\">split()</code> method splits the string into substrings if it finds instances of the separator:</p>\n",
    "<div class=\"w3-code notranslate pythonHigh\">\n",
    "a = \"Hello, World!\"<br>\n",
    "print(a.split(\",\")) # \n",
    "  returns ['Hello', ' World!']\n",
    "</div>"
   ]
  },
  {
   "cell_type": "code",
   "execution_count": 107,
   "metadata": {},
   "outputs": [
    {
     "name": "stdout",
     "output_type": "stream",
     "text": [
      "['Hello', ' World!']\n",
      " World!\n"
     ]
    }
   ],
   "source": [
    "a = \"Hello, World!\"\n",
    "b = \"10:06:1982\"\n",
    "a = a.split(\",\")\n",
    "print(a) # returns ['Hello', ' World!']\n",
    "print(a[1])"
   ]
  },
  {
   "cell_type": "markdown",
   "metadata": {},
   "source": [
    "<hr>\n",
    "\n",
    "<h2>Check String</h2>\n",
    "\n",
    "<p>To check if a certain phrase or character is present in a string, we can use the keywords \n",
    "<code class=\"w3-codespan\">in</code> or <code class=\"w3-codespan\">not in</code>.</p>\n",
    "\n",
    "\n",
    "<h3>Example</h3>\n",
    "<p>Check if the phrase &quot;ain&quot; is present in the following text:</p>\n",
    "<div class=\"w3-code notranslate pythonHigh\">\n",
    "  txt = \"The rain in Spain stays mainly in the plain&quot;<br>x = &quot;ain&quot; in txt<br>\n",
    "print(x)\n",
    "</div>"
   ]
  },
  {
   "cell_type": "code",
   "execution_count": 110,
   "metadata": {},
   "outputs": [
    {
     "name": "stdout",
     "output_type": "stream",
     "text": [
      "False\n"
     ]
    }
   ],
   "source": [
    "txt = \"The man in Spain stays mainly in the plain\"\n",
    "x = \"nope\" in txt\n",
    "print(x)"
   ]
  },
  {
   "cell_type": "markdown",
   "metadata": {},
   "source": [
    "<h3>Example</h3>\n",
    "<p>Check if the phrase &quot;ain&quot; is NOT present in the following text:</p>\n",
    "<div class=\"w3-code notranslate pythonHigh\">\n",
    "  txt = \"The rain in Spain stays mainly in the plain&quot;<br>x = &quot;ain&quot; \n",
    "  not in txt<br>\n",
    "print(x)&nbsp; </div>\n"
   ]
  },
  {
   "cell_type": "code",
   "execution_count": 112,
   "metadata": {},
   "outputs": [
    {
     "name": "stdout",
     "output_type": "stream",
     "text": [
      "False\n"
     ]
    }
   ],
   "source": [
    "txt = \"The rain in Spain stays mainly in the plain\"\n",
    "x = \"ain\" not in txt\n",
    "print(x) "
   ]
  },
  {
   "cell_type": "markdown",
   "metadata": {},
   "source": [
    "<hr>\n",
    "<h2>String Concatenation</h2>\n",
    "\n",
    "<p>To concatenate, or combine, two strings you can use the + operator.</p>\n",
    "\n",
    "\n",
    "<h3>Example</h3>\n",
    "<p>Merge variable <code class=\"w3-codespan\">a</code> with variable \n",
    "<code class=\"w3-codespan\">b</code> into variable <code class=\"w3-codespan\">c</code>:</p>\n",
    "<div class=\"w3-code notranslate pythonHigh\">\n",
    "  a = &quot;Hello&quot;<br>b = &quot;World&quot;<br>c = a + b<br>\n",
    "print(c)\n",
    "</div>"
   ]
  },
  {
   "cell_type": "code",
   "execution_count": 116,
   "metadata": {},
   "outputs": [
    {
     "name": "stdout",
     "output_type": "stream",
     "text": [
      "Hello World\n"
     ]
    }
   ],
   "source": [
    "a = \"Hello\"\n",
    "b = \" World\"\n",
    "c = a + b\n",
    "print(c)"
   ]
  },
  {
   "cell_type": "markdown",
   "metadata": {},
   "source": [
    "<h3>Example</h3>\n",
    "<p>To add a space between them, add a <code class=\"w3-codespan\">\" \"</code>:</p>\n",
    "<div class=\"w3-code notranslate pythonHigh\">\n",
    "  a = &quot;Hello&quot;<br>b = &quot;World&quot;<br>c = a + \" \" + b<br>\n",
    "print(c)\n",
    "</div>"
   ]
  },
  {
   "cell_type": "code",
   "execution_count": 15,
   "metadata": {},
   "outputs": [
    {
     "ename": "TypeError",
     "evalue": "can only concatenate str (not \"int\") to str",
     "output_type": "error",
     "traceback": [
      "\u001b[1;31m---------------------------------------------------------------------------\u001b[0m",
      "\u001b[1;31mTypeError\u001b[0m                                 Traceback (most recent call last)",
      "\u001b[1;32m~\\AppData\\Local\\Temp/ipykernel_14348/1306338378.py\u001b[0m in \u001b[0;36m<module>\u001b[1;34m\u001b[0m\n\u001b[0;32m      1\u001b[0m \u001b[0ma\u001b[0m \u001b[1;33m=\u001b[0m \u001b[1;34m\"Hello\"\u001b[0m\u001b[1;33m\u001b[0m\u001b[1;33m\u001b[0m\u001b[0m\n\u001b[0;32m      2\u001b[0m \u001b[0mb\u001b[0m \u001b[1;33m=\u001b[0m \u001b[1;36m7\u001b[0m\u001b[1;33m\u001b[0m\u001b[1;33m\u001b[0m\u001b[0m\n\u001b[1;32m----> 3\u001b[1;33m \u001b[0mc\u001b[0m \u001b[1;33m=\u001b[0m \u001b[0ma\u001b[0m \u001b[1;33m+\u001b[0m \u001b[0mb\u001b[0m\u001b[1;33m\u001b[0m\u001b[1;33m\u001b[0m\u001b[0m\n\u001b[0m\u001b[0;32m      4\u001b[0m \u001b[0mprint\u001b[0m\u001b[1;33m(\u001b[0m\u001b[0mc\u001b[0m\u001b[1;33m)\u001b[0m\u001b[1;33m\u001b[0m\u001b[1;33m\u001b[0m\u001b[0m\n",
      "\u001b[1;31mTypeError\u001b[0m: can only concatenate str (not \"int\") to str"
     ]
    }
   ],
   "source": [
    "a = \"Hello\"\n",
    "b = 7\n",
    "c = a + b\n",
    "print(c)"
   ]
  },
  {
   "cell_type": "markdown",
   "metadata": {},
   "source": [
    "<hr>\n",
    "<h2>String Format</h2>\n",
    "\n",
    "<p>As we learned in the Python Variables chapter, we cannot combine strings and numbers like this:</p>\n",
    "\n",
    "<div class=\"w3-example w3-pale-red\">\n",
    "<h3>Example</h3>\n",
    "<div class=\"w3-code notranslate pythonHigh w3-border-red\">\n",
    "  age = 36<br>txt = &quot;My name is John, I am &quot; + age<br>print(txt)\n",
    "</div>"
   ]
  },
  {
   "cell_type": "code",
   "execution_count": 120,
   "metadata": {},
   "outputs": [
    {
     "name": "stdout",
     "output_type": "stream",
     "text": [
      "My name is John, I am 36\n"
     ]
    }
   ],
   "source": [
    "age = 36\n",
    "txt = \"My name is John, I am \" + str(age)\n",
    "print(txt)"
   ]
  },
  {
   "cell_type": "markdown",
   "metadata": {},
   "source": [
    "<p>But we can combine strings and numbers by using the <code class=\"w3-codespan\">format()</code> method!</p>\n",
    "\n",
    "<p>The <code class=\"w3-codespan\">format()</code> method takes the passed arguments, \n",
    "formats them, and places them in the string where the placeholders\n",
    "<code class=\"w3-codespan\">{}</code> are:</p>\n",
    "\n",
    "\n",
    "<h3>Example</h3>\n",
    "<p>Use the <code class=\"w3-codespan\">format()</code> method to insert numbers \n",
    "into strings:</p>\n",
    "<div class=\"w3-code notranslate pythonHigh\">\n",
    "  age = 36<br>txt = &quot;My name is John, and I am {}&quot;<br>print(txt.format(age))\n",
    "</div>"
   ]
  },
  {
   "cell_type": "code",
   "execution_count": 122,
   "metadata": {},
   "outputs": [
    {
     "name": "stdout",
     "output_type": "stream",
     "text": [
      "My name is John, and I am 36\n"
     ]
    }
   ],
   "source": [
    "age = 36\n",
    "txt = \"My name is John, and I am {}\"\n",
    "print(txt.format(age))"
   ]
  },
  {
   "cell_type": "markdown",
   "metadata": {},
   "source": [
    "<p>The format() method takes unlimited number of arguments, and are placed into \n",
    "the respective placeholders:</p>\n",
    "\n",
    "\n",
    "<h3>Example</h3>\n",
    "<div class=\"w3-code notranslate pythonHigh\">\n",
    "  quantity = 3<br>itemno = 567<br>price = 49.95<br>myorder = &quot;I want {} \n",
    "  pieces of item {} for {} dollars.&quot;<br>print(myorder.format(quantity, \n",
    "  itemno, price))\n",
    "</div>"
   ]
  },
  {
   "cell_type": "code",
   "execution_count": 124,
   "metadata": {},
   "outputs": [
    {
     "name": "stdout",
     "output_type": "stream",
     "text": [
      "I want 3 pieces of item 567 for 49.95 dollars.\n"
     ]
    }
   ],
   "source": [
    "quantity = 3\n",
    "itemno = 567\n",
    "price = 49.95\n",
    "myorder = \"I want {} pieces of item {} for {} dollars.\"\n",
    "print(myorder.format(quantity, itemno,price)) #kena peka dengan indexing"
   ]
  },
  {
   "cell_type": "markdown",
   "metadata": {},
   "source": [
    "<p>You can use index numbers <code class=\"w3-codespan\">{0}</code> to be sure the arguments are placed \n",
    "in the correct placeholders:</p>\n",
    "\n",
    "\n",
    "<h3>Example</h3>\n",
    "<div class=\"w3-code notranslate pythonHigh\">\n",
    "  quantity = 3<br>itemno = 567<br>price = 49.95<br>myorder = &quot;I want to pay {2} \n",
    "  dollars for {0} pieces of item {1}.&quot;<br>print(myorder.format(quantity, \n",
    "  itemno, price))\n",
    "</div>"
   ]
  },
  {
   "cell_type": "code",
   "execution_count": 125,
   "metadata": {},
   "outputs": [
    {
     "name": "stdout",
     "output_type": "stream",
     "text": [
      "I want to pay 49.95 dollars for 3 pieces of item 567.\n"
     ]
    }
   ],
   "source": [
    "quantity = 3\n",
    "itemno = 567\n",
    "price = 49.95\n",
    "myorder = \"I want to pay {2} dollars for {0} pieces of item {1}.\"\n",
    "print(myorder.format(quantity, itemno, price))"
   ]
  },
  {
   "cell_type": "markdown",
   "metadata": {},
   "source": [
    "<hr>\n",
    "\n",
    "<h2>Escape Character</h2>\n",
    "\n",
    "<p>To insert characters that are illegal in a string, use an escape character.</p>\n",
    "<p>An escape character is a backslash <code class=\"w3-codespan\">\\</code> followed by the character you want to insert.</p>\n",
    "<p>An example of an illegal character is a double quote inside a string that is surrounded by double quotes:</p>\n",
    "\n",
    "<div class=\"w3-example w3-pale-red\">\n",
    "<h3>Example</h3>\n",
    "<p>You will get an error if you use double quotes inside a string that is \n",
    "surrounded by double quotes:</p>\n",
    "<div class=\"w3-code notranslate pythonHigh w3-border-red\">\n",
    "txt = \"We are the so-called \"Vikings\" from the north.\"\n",
    "</div>"
   ]
  },
  {
   "cell_type": "code",
   "execution_count": 128,
   "metadata": {},
   "outputs": [
    {
     "name": "stdout",
     "output_type": "stream",
     "text": [
      "We are the so-called \"Vikings\" \n",
      " from the north.\n"
     ]
    }
   ],
   "source": [
    "txt = \"We are the so-called \\\"Vikings\\\" \\n from the north.\"\n",
    "print(txt)"
   ]
  },
  {
   "cell_type": "markdown",
   "metadata": {},
   "source": [
    "<p>To fix this problem, use the escape character <code class=\"w3-codespan\">\\\"</code>:</p>\n",
    "\n",
    "\n",
    "<h3>Example</h3>\n",
    "<p>The escape character allows you to use double quotes when you normally would not be allowed:</p>\n",
    "<div class=\"w3-code notranslate pythonHigh\">\n",
    "txt = \"We are the so-called \\\"Vikings\\\" from the north.\"\n",
    "</div>"
   ]
  },
  {
   "cell_type": "code",
   "execution_count": null,
   "metadata": {},
   "outputs": [],
   "source": []
  },
  {
   "cell_type": "markdown",
   "metadata": {},
   "source": [
    "<p>Other escape characters used in Python:</p>\n",
    "\n",
    "<table class=\"w3-table-all notranslate\" align=\"left\">\n",
    "<tbody><tr>\n",
    "  <th width=\"25%\" style=\"text-align:left\">Code</th>\n",
    "  <th style=\"text-align:left\">Result</th>\n",
    "</tr>\n",
    "<tr>\n",
    "  <td  style=\"text-align:left\">\\'</td>\n",
    "  <td style=\"text-align:left\">Single Quote</td>\n",
    "</tr>\n",
    "<tr>\n",
    "  <td style=\"text-align:left\">\\\\</td>\n",
    "  <td style=\"text-align:left\">Backslash</td>\n",
    "</tr>\n",
    "<tr>\n",
    "  <td  style=\"text-align:left\">\\n</td>\n",
    "  <td style=\"text-align:left\">New Line</td>\n",
    "</tr>\n",
    "<tr>\n",
    "  <td style=\"text-align:left\">\\r</td>\n",
    "  <td style=\"text-align:left\">Carriage Return</td>\n",
    "</tr>\n",
    "<tr>\n",
    "  <td style=\"text-align:left\">\\t</td>\n",
    "  <td style=\"text-align:left\">Tab</td>\n",
    "</tr>\n",
    "<tr>\n",
    "  <td style=\"text-align:left\">\\b</td>\n",
    "  <td style=\"text-align:left\">Backspace</td>\n",
    "</tr>\n",
    "<tr>\n",
    "  <td style=\"text-align:left\">\\f</td>\n",
    "  <td style=\"text-align:left\">Form Feed</td>\n",
    "</tr>\n",
    "<tr>\n",
    "  <td style=\"text-align:left\">\\ooo</td>\n",
    "  <td style=\"text-align:left\">Octal value</td>\n",
    "</tr>\n",
    "<tr>\n",
    "  <td style=\"text-align:left\">\\xhh</td>\n",
    "  <td style=\"text-align:left\">Hex value</td>\n",
    "</tr>\n",
    "</tbody></table>\n",
    "\n",
    "<br>\n",
    "<br>\n",
    "<br>\n",
    "<br>\n",
    "<br>\n",
    "<br>\n",
    "<br>\n",
    "<br>\n",
    "<br>\n",
    "<br>\n",
    "<br>\n",
    "<br>\n",
    "<hr>\n",
    "<h2>String Methods</h2>\n",
    "<p>Python has a set of built-in methods that you can use on strings.</p>\n",
    "\n",
    "<div class=\"w3-panel w3-note\">\n",
    "  <p><strong>Note:</strong> All string methods returns new values. They do not change the original string.</p>\n",
    "</div>\n",
    "\n",
    "<table class=\"w3-table-all notranslate\" align=\"left\">\n",
    "<tr>\n",
    "<th style=\"text-align:left\">Method</th>\n",
    "<th style=\"text-align:left\">Description</th>\n",
    "</tr>\n",
    "  <tr>\n",
    "    <td style=\"text-align:left\"><a href=\"ref_string_capitalize.asp\">capitalize()</a></td><td style=\"text-align:left\">Converts the first \n",
    "    character to upper case</td>\n",
    "  </tr>\n",
    "  <tr>\n",
    "    <td style=\"text-align:left\"><a href=\"ref_string_casefold.asp\">casefold()</a></td><td style=\"text-align:left\">Converts string into \n",
    "    lower case</td>\n",
    "  </tr>\n",
    "  <tr>\n",
    "    <td style=\"text-align:left\"><a href=\"ref_string_center.asp\">center()</a></td><td style=\"text-align:left\">Returns a centered \n",
    "    string</td>\n",
    "  </tr>\n",
    "  <tr>\n",
    "    <td style=\"text-align:left\"><a href=\"ref_string_count.asp\">count()</a></td><td style=\"text-align:left\">Returns the number of \n",
    "    times a specified value occurs in a string</td>\n",
    "  </tr>\n",
    "  <tr>\n",
    "    <td style=\"text-align:left\"><a href=\"ref_string_encode.asp\">encode()</a></td><td style=\"text-align:left\">Returns an encoded \n",
    "    version of the string</td>\n",
    "  </tr>\n",
    "  <tr>\n",
    "    <td style=\"text-align:left\"><a href=\"ref_string_endswith.asp\">endswith()</a></td><td style=\"text-align:left\">Returns true if the \n",
    "    string ends with the specified value</td>\n",
    "  </tr>\n",
    "  <tr>\n",
    "    <td style=\"text-align:left\"><a href=\"ref_string_expandtabs.asp\">expandtabs()</a></td><td style=\"text-align:left\">Sets the \n",
    "    tab size of the string</td>\n",
    "  </tr>\n",
    "  <tr>\n",
    "    <td style=\"text-align:left\"><a href=\"ref_string_find.asp\">find()</a></td><td style=\"text-align:left\">Searches the string for a \n",
    "    specified value and returns the position of where it was found</td>\n",
    "  </tr>\n",
    "  <tr>\n",
    "    <td style=\"text-align:left\"><a href=\"ref_string_format.asp\">format()</a></td><td style=\"text-align:left\">Formats specified \n",
    "    values in a string</td>\n",
    "  </tr>\n",
    "  <tr>\n",
    "    <td style=\"text-align:left\">format_map()</td><td style=\"text-align:left\">Formats specified \n",
    "    values in a string</td>\n",
    "  </tr>\n",
    "  <tr>\n",
    "    <td style=\"text-align:left\"><a href=\"ref_string_index.asp\">index()</a></td><td style=\"text-align:left\">Searches the string \n",
    "    for a specified value and returns the position of where it was found</td>\n",
    "  </tr>\n",
    "  <tr>\n",
    "    <td style=\"text-align:left\"><a href=\"ref_string_isalnum.asp\">isalnum()</a></td><td style=\"text-align:left\">Returns True if all \n",
    "    characters in the string are alphanumeric</td>\n",
    "  </tr>\n",
    "  <tr>\n",
    "    <td style=\"text-align:left\"><a href=\"ref_string_isalpha.asp\">isalpha()</a></td><td style=\"text-align:left\">Returns True if all \n",
    "    characters in the string are in the alphabet</td>\n",
    "  </tr>\n",
    "  <tr>\n",
    "    <td style=\"text-align:left\"><a href=\"ref_string_isdecimal.asp\">isdecimal()</a></td><td style=\"text-align:left\">Returns True if all \n",
    "    characters in the string are decimals</td>\n",
    "  </tr>\n",
    "  <tr>\n",
    "    <td style=\"text-align:left\"><a href=\"ref_string_isdigit.asp\">isdigit()</a></td><td style=\"text-align:left\">Returns True if all \n",
    "    characters in the string are digits</td>\n",
    "  </tr>\n",
    "  <tr>\n",
    "    <td style=\"text-align:left\"><a href=\"ref_string_isidentifier.asp\">isidentifier()</a></td><td style=\"text-align:left\">Returns True if \n",
    "    the string is an identifier</td>\n",
    "  </tr>\n",
    "  <tr>\n",
    "    <td style=\"text-align:left\"><a href=\"ref_string_islower.asp\">islower()</a></td><td style=\"text-align:left\">Returns True if all \n",
    "    characters in the string are lower case</td>\n",
    "  </tr>\n",
    "  <tr>\n",
    "    <td style=\"text-align:left\"><a href=\"ref_string_isnumeric.asp\">isnumeric()</a></td><td style=\"text-align:left\">Returns True if \n",
    "    all characters in the string are numeric</td>\n",
    "  </tr>\n",
    "  <tr>\n",
    "    <td style=\"text-align:left\"><a href=\"ref_string_isprintable.asp\">isprintable()</a></td><td style=\"text-align:left\">Returns True if \n",
    "    all characters in the string are printable</td>\n",
    "  </tr>\n",
    "  <tr>\n",
    "    <td style=\"text-align:left\"><a href=\"ref_string_isspace.asp\">isspace()</a></td><td style=\"text-align:left\">Returns True if all \n",
    "    characters in the string are whitespaces</td>\n",
    "  </tr>\n",
    "  <tr>\n",
    "    <td style=\"text-align:left\"><a href=\"ref_string_istitle.asp\">istitle()</a></td>\n",
    "    <td style=\"text-align:left\">Returns True if the string follows the rules of a \n",
    "    title</td>\n",
    "  </tr>\n",
    "  <tr>\n",
    "    <td style=\"text-align:left\"><a href=\"ref_string_isupper.asp\">isupper()</a></td><td style=\"text-align:left\">Returns True if all \n",
    "    characters in the string are upper case</td>\n",
    "  </tr>\n",
    "  <tr>\n",
    "    <td style=\"text-align:left\"><a href=\"ref_string_join.asp\">join()</a></td><td style=\"text-align:left\">Joins the elements of \n",
    "    an iterable to the end of the string</td>\n",
    "  </tr>\n",
    "  <tr>\n",
    "    <td style=\"text-align:left\"><a href=\"ref_string_ljust.asp\">ljust()</a></td><td style=\"text-align:left\">Returns a left justified \n",
    "    version of the string</td>\n",
    "  </tr>\n",
    "  <tr>\n",
    "    <td style=\"text-align:left\"><a href=\"ref_string_lower.asp\">lower()</a></td><td style=\"text-align:left\">Converts a string into \n",
    "    lower case</td>\n",
    "  </tr>\n",
    "  <tr>\n",
    "    <td style=\"text-align:left\"><a href=\"ref_string_lstrip.asp\">lstrip()</a></td><td style=\"text-align:left\">Returns a left trim \n",
    "    version of the string</td>\n",
    "  </tr>\n",
    "  <tr>\n",
    "    <td style=\"text-align:left\"><a href=\"ref_string_maketrans.asp\">maketrans()</a></td><td style=\"text-align:left\">Returns a \n",
    "    translation table to be used in translations</td>\n",
    "  </tr>\n",
    "  <tr>\n",
    "    <td style=\"text-align:left\"><a href=\"ref_string_partition.asp\">partition()</a></td><td style=\"text-align:left\">Returns a tuple \n",
    "    where the string is parted into three parts</td>\n",
    "  </tr>\n",
    "  <tr>\n",
    "    <td style=\"text-align:left\"><a href=\"ref_string_replace.asp\">replace()</a></td><td style=\"text-align:left\">Returns a string \n",
    "    where a specified value is replaced with a specified value</td>\n",
    "  </tr>\n",
    "  <tr>\n",
    "    <td style=\"text-align:left\"><a href=\"ref_string_rfind.asp\">rfind()</a></td><td style=\"text-align:left\">Searches the string for \n",
    "    a specified value and returns the last position of where it was found</td>\n",
    "  </tr>\n",
    "  <tr>\n",
    "    <td style=\"text-align:left\"><a href=\"ref_string_rindex.asp\">rindex()</a></td><td style=\"text-align:left\">Searches the string for \n",
    "    a specified value and returns the last position of where it was found</td>\n",
    "  </tr>\n",
    "  <tr>\n",
    "    <td style=\"text-align:left\"><a href=\"ref_string_rjust.asp\">rjust()</a></td><td style=\"text-align:left\">Returns a right justified \n",
    "    version of the string</td>\n",
    "  </tr>\n",
    "  <tr>\n",
    "    <td style=\"text-align:left\"><a href=\"ref_string_rpartition.asp\">rpartition()</a></td><td style=\"text-align:left\">Returns a tuple \n",
    "    where the string is parted into three parts</td>\n",
    "  </tr>\n",
    "  <tr>\n",
    "    <td style=\"text-align:left\"><a href=\"ref_string_rsplit.asp\">rsplit()</a></td><td style=\"text-align:left\">Splits the string at \n",
    "    the specified separator, and returns a list</td>\n",
    "  </tr>\n",
    "  <tr>\n",
    "    <td style=\"text-align:left\"><a href=\"ref_string_rstrip.asp\">rstrip()</a></td><td style=\"text-align:left\">Returns a right trim \n",
    "    version of the string</td>\n",
    "  </tr>\n",
    "  <tr>\n",
    "    <td style=\"text-align:left\"><a href=\"ref_string_split.asp\">split()</a></td><td style=\"text-align:left\">Splits the string at \n",
    "    the specified separator, and returns a list</td>\n",
    "  </tr>\n",
    "  <tr>\n",
    "    <td style=\"text-align:left\"><a href=\"ref_string_splitlines.asp\">splitlines()</a></td><td style=\"text-align:left\">Splits the string \n",
    "    at line breaks and returns a list</td>\n",
    "  </tr>\n",
    "  <tr>\n",
    "    <td style=\"text-align:left\"><a href=\"ref_string_startswith.asp\">startswith()</a></td><td style=\"text-align:left\">Returns true if \n",
    "    the string starts with the specified value</td>\n",
    "  </tr>\n",
    "  <tr>\n",
    "    <td style=\"text-align:left\"><a href=\"ref_string_strip.asp\">strip()</a></td><td style=\"text-align:left\">Returns a trimmed version of the string</td>\n",
    "  </tr>\n",
    "  <tr>\n",
    "    <td style=\"text-align:left\"><a href=\"ref_string_swapcase.asp\">swapcase()</a></td><td style=\"text-align:left\">Swaps cases, lower \n",
    "    case becomes upper case and vice versa</td>\n",
    "  </tr>\n",
    "  <tr>\n",
    "    <td style=\"text-align:left\"><a href=\"ref_string_title.asp\">title()</a></td><td style=\"text-align:left\">Converts the first \n",
    "    character of each word to upper case</td>\n",
    "  </tr>\n",
    "  <tr>\n",
    "    <td style=\"text-align:left\"><a href=\"ref_string_translate.asp\">translate()</a></td><td style=\"text-align:left\">Returns a \n",
    "    translated string</td>\n",
    "  </tr>\n",
    "  <tr>\n",
    "    <td style=\"text-align:left\"><a href=\"ref_string_upper.asp\">upper()</a></td><td style=\"text-align:left\">Converts a string \n",
    "    into upper case</td>\n",
    "  </tr>\n",
    "<tr><td style=\"text-align:left\"><a href=\"ref_string_zfill.asp\">zfill()</a></td><td style=\"text-align:left\">Fills the string with \n",
    "  a specified number of 0 values at the beginning</td></tr>\n",
    "</table>\n",
    "<br>\n",
    "<br>\n",
    "<br>\n",
    "<br>\n",
    "<br>\n",
    "<br>\n",
    "<br>\n",
    "<br>\n",
    "<br>\n",
    "<br>\n",
    "<br>\n",
    "<br>\n",
    "<br>\n",
    "<br>\n",
    "<br>\n",
    "<br>\n",
    "<br>\n",
    "<br>\n",
    "<br>\n",
    "<br>\n",
    "<br>\n",
    "<br>\n",
    "<br>\n",
    "<br>\n",
    "<hr>\n",
    "<br>\n",
    "<br>\n",
    "<br>\n",
    "<br>\n",
    "<br>\n",
    "<br>\n",
    "<br>\n",
    "<br>\n",
    "<br>\n",
    "<br>\n",
    "<br>\n",
    "<br>\n",
    "<br>\n",
    "<br>\n",
    "<br>\n",
    "<br>\n",
    "<hr>\n",
    "<br>\n",
    "<br>\n",
    "<br>\n",
    "<br>\n",
    "<hr>\n",
    "<br>\n",
    "<br>\n",
    "<br>\n",
    "<br>\n",
    "<br>\n",
    "<br>\n",
    "<br>\n",
    "<br>\n",
    "\n",
    "<hr>\n",
    "<h2>Test Yourself With Exercises</h2>\n",
    "\n",
    "<h2>Exercise:</h2>\n",
    "<p>Use the <code class=\"w3-codespan\">len</code> method to print the length of the string.</p>\n",
    "<div class=\"exerciseprecontainer\">\n",
    "<pre>\n",
    "x = \"Hello World\"\n",
    "print(?????)\n",
    "</pre>\n",
    "</div>\n",
    "\n",
    "</form>"
   ]
  },
  {
   "cell_type": "code",
   "execution_count": 26,
   "metadata": {},
   "outputs": [
    {
     "name": "stdout",
     "output_type": "stream",
     "text": [
      "11\n"
     ]
    }
   ],
   "source": [
    "x = \"Hello World\"\n",
    "print(len(x)) #guna semua String function"
   ]
  },
  {
   "cell_type": "code",
   "execution_count": 1,
   "metadata": {},
   "outputs": [
    {
     "name": "stdout",
     "output_type": "stream",
     "text": [
      "[0, 1, 2, 3, 4]\n"
     ]
    }
   ],
   "source": [
    "print(list(range(5)))"
   ]
  },
  {
   "cell_type": "code",
   "execution_count": 2,
   "metadata": {},
   "outputs": [],
   "source": [
    "car =\t{\n",
    "  \"brand\": \"Ford\",\n",
    "  \"model\": \"Mustang\",\n",
    "  \"year\": 1964\n",
    "}"
   ]
  },
  {
   "cell_type": "code",
   "execution_count": 3,
   "metadata": {},
   "outputs": [
    {
     "name": "stdout",
     "output_type": "stream",
     "text": [
      "Mustang\n"
     ]
    }
   ],
   "source": [
    "print (car.get(\"model\"))"
   ]
  },
  {
   "cell_type": "code",
   "execution_count": 4,
   "metadata": {},
   "outputs": [
    {
     "ename": "AttributeError",
     "evalue": "'dict' object has no attribute 'model'",
     "output_type": "error",
     "traceback": [
      "\u001b[1;31m---------------------------------------------------------------------------\u001b[0m",
      "\u001b[1;31mAttributeError\u001b[0m                            Traceback (most recent call last)",
      "\u001b[1;32m~\\AppData\\Local\\Temp/ipykernel_14348/2068745482.py\u001b[0m in \u001b[0;36m<module>\u001b[1;34m\u001b[0m\n\u001b[1;32m----> 1\u001b[1;33m \u001b[0mprint\u001b[0m \u001b[1;33m(\u001b[0m\u001b[0mcar\u001b[0m\u001b[1;33m.\u001b[0m\u001b[0mmodel\u001b[0m\u001b[1;33m(\u001b[0m\u001b[1;33m)\u001b[0m\u001b[1;33m)\u001b[0m\u001b[1;33m\u001b[0m\u001b[1;33m\u001b[0m\u001b[0m\n\u001b[0m",
      "\u001b[1;31mAttributeError\u001b[0m: 'dict' object has no attribute 'model'"
     ]
    }
   ],
   "source": [
    "print (car.model())"
   ]
  },
  {
   "cell_type": "code",
   "execution_count": 5,
   "metadata": {},
   "outputs": [
    {
     "ename": "NameError",
     "evalue": "name 'model' is not defined",
     "output_type": "error",
     "traceback": [
      "\u001b[1;31m---------------------------------------------------------------------------\u001b[0m",
      "\u001b[1;31mNameError\u001b[0m                                 Traceback (most recent call last)",
      "\u001b[1;32m~\\AppData\\Local\\Temp/ipykernel_14348/624230094.py\u001b[0m in \u001b[0;36m<module>\u001b[1;34m\u001b[0m\n\u001b[1;32m----> 1\u001b[1;33m \u001b[0mprint\u001b[0m \u001b[1;33m(\u001b[0m\u001b[0mcar\u001b[0m\u001b[1;33m(\u001b[0m\u001b[0mmodel\u001b[0m\u001b[1;33m)\u001b[0m\u001b[1;33m)\u001b[0m\u001b[1;33m\u001b[0m\u001b[1;33m\u001b[0m\u001b[0m\n\u001b[0m",
      "\u001b[1;31mNameError\u001b[0m: name 'model' is not defined"
     ]
    }
   ],
   "source": [
    "print (car(model))"
   ]
  },
  {
   "cell_type": "code",
   "execution_count": null,
   "metadata": {},
   "outputs": [],
   "source": []
  },
  {
   "cell_type": "code",
   "execution_count": 6,
   "metadata": {},
   "outputs": [
    {
     "ename": "NameError",
     "evalue": "name 'model' is not defined",
     "output_type": "error",
     "traceback": [
      "\u001b[1;31m---------------------------------------------------------------------------\u001b[0m",
      "\u001b[1;31mNameError\u001b[0m                                 Traceback (most recent call last)",
      "\u001b[1;32m~\\AppData\\Local\\Temp/ipykernel_14348/1450561029.py\u001b[0m in \u001b[0;36m<module>\u001b[1;34m\u001b[0m\n\u001b[1;32m----> 1\u001b[1;33m \u001b[0mprint\u001b[0m \u001b[1;33m(\u001b[0m\u001b[0mcar\u001b[0m\u001b[1;33m[\u001b[0m\u001b[0mmodel\u001b[0m\u001b[1;33m]\u001b[0m\u001b[1;33m)\u001b[0m\u001b[1;33m\u001b[0m\u001b[1;33m\u001b[0m\u001b[0m\n\u001b[0m",
      "\u001b[1;31mNameError\u001b[0m: name 'model' is not defined"
     ]
    }
   ],
   "source": [
    "print (car[model])"
   ]
  },
  {
   "cell_type": "code",
   "execution_count": 7,
   "metadata": {},
   "outputs": [],
   "source": [
    "a = \"Good\"\n",
    "b = \" Luck\""
   ]
  },
  {
   "cell_type": "code",
   "execution_count": 8,
   "metadata": {},
   "outputs": [
    {
     "data": {
      "text/plain": [
       "'Good Luck'"
      ]
     },
     "execution_count": 8,
     "metadata": {},
     "output_type": "execute_result"
    }
   ],
   "source": [
    "a+b"
   ]
  },
  {
   "cell_type": "code",
   "execution_count": 9,
   "metadata": {},
   "outputs": [],
   "source": [
    "c=a+b"
   ]
  },
  {
   "cell_type": "code",
   "execution_count": 10,
   "metadata": {},
   "outputs": [
    {
     "name": "stdout",
     "output_type": "stream",
     "text": [
      "Good Luck\n"
     ]
    }
   ],
   "source": [
    "print(c)"
   ]
  },
  {
   "cell_type": "code",
   "execution_count": 11,
   "metadata": {},
   "outputs": [
    {
     "name": "stdout",
     "output_type": "stream",
     "text": [
      "<class 'float'>\n"
     ]
    }
   ],
   "source": [
    "miles = 100.0   \n",
    "print (type(miles))"
   ]
  },
  {
   "cell_type": "code",
   "execution_count": 12,
   "metadata": {},
   "outputs": [
    {
     "name": "stdout",
     "output_type": "stream",
     "text": [
      "False\n"
     ]
    }
   ],
   "source": [
    "def isEven(num): \n",
    "    return (num%2==0)\n",
    "\n",
    "print (isEven(5))"
   ]
  },
  {
   "cell_type": "code",
   "execution_count": 13,
   "metadata": {},
   "outputs": [
    {
     "name": "stdout",
     "output_type": "stream",
     "text": [
      "False\n"
     ]
    }
   ],
   "source": [
    "def isEven(num): \n",
    "    return (num%2==0)\n",
    "\n",
    "print (isEven(5))\n"
   ]
  },
  {
   "cell_type": "code",
   "execution_count": null,
   "metadata": {},
   "outputs": [],
   "source": []
  }
 ],
 "metadata": {
  "kernelspec": {
   "display_name": "Python 3",
   "language": "python",
   "name": "python3"
  },
  "language_info": {
   "codemirror_mode": {
    "name": "ipython",
    "version": 3
   },
   "file_extension": ".py",
   "mimetype": "text/x-python",
   "name": "python",
   "nbconvert_exporter": "python",
   "pygments_lexer": "ipython3",
   "version": "3.8.8"
  }
 },
 "nbformat": 4,
 "nbformat_minor": 2
}
