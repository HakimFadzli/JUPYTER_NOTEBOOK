{
 "cells": [
  {
   "cell_type": "markdown",
   "metadata": {},
   "source": [
    "<h1>18 - Python For Loops</h1>\n",
    "\n",
    "<hr>\n",
    "\n",
    "<h2>Python For Loops</h2>\n",
    "\n",
    "<p>A <span class=\"w3-codespan\">for</span> loop is used for iterating over a sequence (that is either a list, a tuple, \n",
    "a dictionary, a set, or a string).</p>\n",
    "<p>This is less like the <span class=\"w3-codespan\">for</span> keyword in other programming languages, and works more like an iterator method as found in other object-orientated programming languages.</p>\n",
    "\n",
    "<p>With the <span class=\"w3-codespan\">for</span> loop we can execute a set of statements, once for each item in a list, tuple, set etc.</p>\n",
    "\n",
    "  <h3>Example</h3>\n",
    "<p>Print each fruit in a fruit list:</p>\n",
    "<div class=\"w3-code notranslate pythonHigh\">\n",
    "  fruits = [&quot;apple&quot;, &quot;banana&quot;, &quot;cherry&quot;]<br>for \n",
    "  x in fruits:<br>\n",
    "\t&nbsp;\n",
    "\tprint(x)\n",
    "</div>"
   ]
  },
  {
   "cell_type": "code",
   "execution_count": 23,
   "metadata": {},
   "outputs": [
    {
     "name": "stdout",
     "output_type": "stream",
     "text": [
      "apple\n",
      "banana\n",
      "cherry\n"
     ]
    }
   ],
   "source": [
    "fruits = [\"apple\", \"banana\", \"cherry\"]\n",
    "for x in fruits:\n",
    "  print(x)"
   ]
  },
  {
   "cell_type": "markdown",
   "metadata": {},
   "source": [
    "<p>The <span class=\"w3-codespan\">for</span> loop does not require an indexing variable to set beforehand.</p>\n",
    "\n",
    "<hr>\n",
    "<h2>Looping Through a String</h2>\n",
    "\n",
    "<p>Even strings are iterable objects, they contain a sequence of characters:</p>\n",
    "\n",
    "\n",
    "<h3>Example</h3>\n",
    "<p>Loop through the letters in the word &quot;banana&quot;:</p>\n",
    "<div class=\"w3-code notranslate pythonHigh\">\n",
    "  for x in &quot;banana&quot;:<br>&nbsp; print(x)\n",
    "</div>"
   ]
  },
  {
   "cell_type": "code",
   "execution_count": 24,
   "metadata": {},
   "outputs": [
    {
     "name": "stdout",
     "output_type": "stream",
     "text": [
      "b\n",
      "a\n",
      "n\n",
      "a\n",
      "n\n",
      "a\n"
     ]
    }
   ],
   "source": [
    "for x in \"banana\":\n",
    "  print(x)"
   ]
  },
  {
   "cell_type": "markdown",
   "metadata": {},
   "source": [
    "<hr>\n",
    "<h2>The break Statement</h2>\n",
    "\n",
    "<p>With the <span class=\"w3-codespan\">break</span> statement we can stop the \n",
    "loop before it has looped through all the items:</p>\n",
    "\n",
    "\n",
    "<h3>Example</h3>\n",
    "<p>Exit the loop when <code class=\"w3-codespan\">x</code> is &quot;banana&quot;:</p>\n",
    "<div class=\"w3-code notranslate pythonHigh\">\n",
    "  fruits = [&quot;apple&quot;, &quot;banana&quot;, &quot;cherry&quot;]<br>for x in fruits:<br>&nbsp; print(x)\n",
    "  <br>&nbsp; if x == \n",
    "  &quot;banana&quot;:<br>&nbsp;&nbsp;&nbsp; break<br>\n",
    "</div>"
   ]
  },
  {
   "cell_type": "code",
   "execution_count": 32,
   "metadata": {},
   "outputs": [
    {
     "name": "stdout",
     "output_type": "stream",
     "text": [
      "banana\n",
      "cherry\n"
     ]
    }
   ],
   "source": [
    "fruits = [\"apple\", \"banana\", \"cherry\"]\n",
    "for x in fruits:\n",
    "    if x == \"apple\":\n",
    "        continue\n",
    "    print(x)"
   ]
  },
  {
   "cell_type": "markdown",
   "metadata": {},
   "source": [
    "<h3>Example</h3>\n",
    "<p>Exit the loop when <code class=\"w3-codespan\">x</code> is &quot;banana&quot;, \n",
    "but this time the break comes before the print:</p>\n",
    "<div class=\"w3-code notranslate pythonHigh\">\n",
    "  fruits = [&quot;apple&quot;, &quot;banana&quot;, &quot;cherry&quot;]<br>for x in fruits:<br>&nbsp; if x == \n",
    "  &quot;banana&quot;:<br>&nbsp;&nbsp;&nbsp; break<br>&nbsp; print(x)\n",
    "</div>"
   ]
  },
  {
   "cell_type": "code",
   "execution_count": 28,
   "metadata": {},
   "outputs": [
    {
     "name": "stdout",
     "output_type": "stream",
     "text": [
      "apple\n"
     ]
    }
   ],
   "source": [
    "fruits = [\"apple\", \"banana\", \"cherry\"]\n",
    "for x in fruits:\n",
    "  if x == \"banana\":\n",
    "    break\n",
    "  print(x)"
   ]
  },
  {
   "cell_type": "markdown",
   "metadata": {},
   "source": [
    "<hr>\n",
    "<h2>The continue Statement</h2>\n",
    "\n",
    "<p>With the <span class=\"w3-codespan\">continue</span> statement we can stop the \n",
    "current iteration of the loop, and continue with the next:</p>\n",
    "\n",
    "\n",
    "<h3>Example</h3>\n",
    "<p>Do not print banana:</p>\n",
    "<div class=\"w3-code notranslate pythonHigh\">\n",
    "  fruits = [&quot;apple&quot;, &quot;banana&quot;, &quot;cherry&quot;]<br>for x in fruits:<br>&nbsp; if x == \n",
    "  &quot;banana&quot;:<br>&nbsp;&nbsp;&nbsp; continue<br>&nbsp; print(x)\n",
    "</div>"
   ]
  },
  {
   "cell_type": "code",
   "execution_count": 33,
   "metadata": {},
   "outputs": [
    {
     "name": "stdout",
     "output_type": "stream",
     "text": [
      "apple\n",
      "cherry\n"
     ]
    }
   ],
   "source": [
    "fruits = [\"apple\", \"banana\", \"cherry\"]\n",
    "for x in fruits:\n",
    "  if x == \"banana\":\n",
    "    continue\n",
    "  print(x)"
   ]
  },
  {
   "cell_type": "markdown",
   "metadata": {},
   "source": [
    "<hr>\n",
    "<h2>The range() Function</h2>\n",
    "To loop through a set of code a specified number of times, we can use the <span class=\"w3-codespan\">range()</span> function,</p>\n",
    "<p>The <span class=\"w3-codespan\">range()</span> function returns a sequence of numbers, starting from 0 by default, and increments by 1 (by default), and ends at a specified number.</p>\n",
    "\n",
    "  <h3>Example</h3>\n",
    "<p>Using the range() function:</p>\n",
    "<div class=\"w3-code notranslate pythonHigh\">\n",
    "  for x in range(6):<br>\n",
    "\t&nbsp;\n",
    "\tprint(x)\n",
    "</div>"
   ]
  },
  {
   "cell_type": "code",
   "execution_count": 35,
   "metadata": {},
   "outputs": [
    {
     "name": "stdout",
     "output_type": "stream",
     "text": [
      "0\n",
      "1\n",
      "2\n",
      "3\n",
      "4\n",
      "5\n",
      "6\n",
      "7\n",
      "8\n",
      "9\n"
     ]
    }
   ],
   "source": [
    "for x in range(10):\n",
    "  print(x)"
   ]
  },
  {
   "cell_type": "markdown",
   "metadata": {},
   "source": [
    "<p>The <span class=\"w3-codespan\">range()</span> function defaults to 0 as a starting value, however it is possible to specify the starting value by adding a parameter: <span class=\"w3-codespan\">range(2, 6)</span>, which \n",
    "means values from 2 to 6 (but not including 6):</p>\n",
    "\n",
    "\n",
    "  <h3>Example</h3>\n",
    "<p>Using the start parameter:</p>\n",
    "<div class=\"w3-code notranslate pythonHigh\">\n",
    "  for x in range(2, 6):<br>\n",
    "\t&nbsp;\n",
    "\tprint(x)\n",
    "</div>"
   ]
  },
  {
   "cell_type": "code",
   "execution_count": 38,
   "metadata": {},
   "outputs": [],
   "source": [
    "for x in range(1005, 1001):\n",
    "  print(x)"
   ]
  },
  {
   "cell_type": "markdown",
   "metadata": {},
   "source": [
    "<p>The <span class=\"w3-codespan\">range()</span> function defaults to increment the sequence by 1,\n",
    "however it is possible to specify the increment value by adding a third parameter: <span class=\"w3-codespan\">range(2, 30, <strong>3</strong>)</span>:</p>\n",
    "\n",
    "\n",
    "  <h3>Example</h3>\n",
    "<p>Increment the sequence with 3 (default is 1):</p>\n",
    "<div class=\"w3-code notranslate pythonHigh\">\n",
    "  for x in range(2, 30, 3):<br>\n",
    "\t&nbsp;\n",
    "\tprint(x)\n",
    "</div>"
   ]
  },
  {
   "cell_type": "code",
   "execution_count": 42,
   "metadata": {},
   "outputs": [
    {
     "name": "stdout",
     "output_type": "stream",
     "text": [
      "2\n",
      "4\n",
      "6\n",
      "8\n",
      "10\n",
      "12\n",
      "14\n",
      "16\n",
      "18\n",
      "20\n",
      "22\n"
     ]
    }
   ],
   "source": [
    "for x in range(2, 24,2):\n",
    "    print(x)"
   ]
  },
  {
   "cell_type": "markdown",
   "metadata": {},
   "source": [
    "<hr>\n",
    "<h2>Else in For Loop</h2>\n",
    "<p>The <code class=\"w3-codespan\">else</code> keyword in a\n",
    "<code class=\"w3-codespan\">for</code> loop specifies a block of code to be \n",
    "executed when the loop is finished:</p>\n",
    "\n",
    "  <h3>Example</h3>\n",
    "<p>Print all numbers from 0 to 5, and print a message when the loop has ended:</p>\n",
    "<div class=\"w3-code notranslate pythonHigh\">\n",
    "  for x in range(6):<br>&nbsp;\n",
    "\tprint(x)<br>else:<br>&nbsp;\n",
    "\tprint(&quot;Finally finished!&quot;)</div>"
   ]
  },
  {
   "cell_type": "code",
   "execution_count": 43,
   "metadata": {},
   "outputs": [
    {
     "name": "stdout",
     "output_type": "stream",
     "text": [
      "0\n",
      "1\n",
      "2\n",
      "3\n",
      "4\n",
      "5\n",
      "Finally finished!\n"
     ]
    }
   ],
   "source": [
    "for x in range(6):\n",
    "  print(x)\n",
    "else:\n",
    "  print(\"Finally finished!\")"
   ]
  },
  {
   "cell_type": "markdown",
   "metadata": {},
   "source": [
    "<hr>\n",
    "<h2>Nested Loops</h2>\n",
    "<p>A nested loop is a loop inside a loop.</p>\n",
    "<p>The &quot;inner loop&quot; will be executed one time for each iteration of the &quot;outer \n",
    "loop&quot;:</p>\n",
    "\n",
    "  <h3>Example</h3>\n",
    "<p>Print each adjective for every fruit:</p>\n",
    "<div class=\"w3-code notranslate pythonHigh\">\n",
    "  adj = [&quot;red&quot;, &quot;big&quot;, &quot;tasty&quot;]<br>fruits = [&quot;apple&quot;, &quot;banana&quot;, &quot;cherry&quot;]<br>\n",
    "  <br>for x in adj:<br>&nbsp; for y in fruits:<br>&nbsp;&nbsp;&nbsp; print(x, y)</div>"
   ]
  },
  {
   "cell_type": "code",
   "execution_count": 46,
   "metadata": {},
   "outputs": [
    {
     "name": "stdout",
     "output_type": "stream",
     "text": [
      "red apple\n",
      "red banana\n",
      "red cherry\n",
      "big apple\n",
      "big banana\n",
      "big cherry\n",
      "tasty apple\n",
      "tasty banana\n",
      "tasty cherry\n",
      "crunchy apple\n",
      "crunchy banana\n",
      "crunchy cherry\n"
     ]
    }
   ],
   "source": [
    "adj = [\"red\", \"big\", \"tasty\",\"crunchy\"]\n",
    "fruits = [\"apple\", \"banana\", \"cherry\"]\n",
    "\n",
    "for x in adj:\n",
    "    for y in fruits:\n",
    "        print(x, y)"
   ]
  },
  {
   "cell_type": "markdown",
   "metadata": {},
   "source": [
    "<h2>The pass Statement</h2>\n",
    "<p><code class=\"w3-codespan\">for</code> loops cannot be empty, but if you for \n",
    "some reason have a <code class=\"w3-codespan\">for</code> loop with no content, put in the <code class=\"w3-codespan\">pass</code> statement to avoid getting an error.</p>\n",
    "\n",
    "\n",
    "<h3>Example</h3>\n",
    "<div class=\"w3-code notranslate pythonHigh\">\n",
    "  for x in [0, 1, 2]:<br>&nbsp; pass</div>"
   ]
  },
  {
   "cell_type": "code",
   "execution_count": 47,
   "metadata": {},
   "outputs": [],
   "source": [
    "for x in [0, 1, 2]:\n",
    "  pass"
   ]
  },
  {
   "cell_type": "markdown",
   "metadata": {},
   "source": [
    "<h2>Test Yourself With Exercises</h2>\n",
    "<h2>Exercise:</h2>\n",
    "<p>Loop through the items in the <code class=\"w3-codespan\">fruits</code> list.</p>\n",
    "<div class=\"exerciseprecontainer\">\n",
    "<pre>\n",
    "fruits = [\"apple\", <br class=\"phonebr\">\"banana\", \"cherry\"]\n",
    "<input name=\"ex1\" maxlength=\"3\" style=\"width: 33px;\"> x <input name=\"ex2\" maxlength=\"2\" style=\"width: 22px;\"> fruits<input name=\"ex3\" maxlength=\"1\" style=\"width: 11px;\">\n",
    "  print(x)\n",
    "</pre>\n",
    "</div>\n",
    "\n"
   ]
  },
  {
   "cell_type": "code",
   "execution_count": 48,
   "metadata": {},
   "outputs": [
    {
     "name": "stdout",
     "output_type": "stream",
     "text": [
      "apple\n",
      "banana\n",
      "cherry\n"
     ]
    }
   ],
   "source": [
    "fruits = [\"apple\", \"banana\", \"cherry\"]\n",
    "for x in fruits:\n",
    "    print(x)"
   ]
  },
  {
   "cell_type": "code",
   "execution_count": null,
   "metadata": {},
   "outputs": [],
   "source": []
  }
 ],
 "metadata": {
  "kernelspec": {
   "display_name": "Python 3",
   "language": "python",
   "name": "python3"
  },
  "language_info": {
   "codemirror_mode": {
    "name": "ipython",
    "version": 3
   },
   "file_extension": ".py",
   "mimetype": "text/x-python",
   "name": "python",
   "nbconvert_exporter": "python",
   "pygments_lexer": "ipython3",
   "version": "3.8.8"
  }
 },
 "nbformat": 4,
 "nbformat_minor": 2
}
