{
 "cells": [
  {
   "cell_type": "markdown",
   "metadata": {},
   "source": [
    "<h1>08 - Python Casting</h1>\n",
    "\n",
    "<hr>\n",
    "\n",
    "<h2>Specify a Variable Type</h2>\n",
    "\n",
    "<p>There may be times when you want to specify a type on to a variable. This can be done with casting. Python is an object-orientated language, and as such it uses classes to define data types, including its primitive types.</p>\n",
    "\n",
    "<p>Casting in python is therefore done using constructor functions:</p>\n",
    "<ul>\n",
    "\t<li><span class=\"w3-codespan\">int()</span> - constructs an integer number from an integer literal, a float literal (by rounding down to the previous whole number), or a string literal (providing the string represents a whole number)</li>\n",
    "\t<li><span class=\"w3-codespan\">float()</span> - constructs a float number from an integer literal, a float literal or a string literal (providing the string represents a float or an integer)</li>\n",
    "\t<li><span class=\"w3-codespan\">str()</span> - constructs a string from a wide variety of data types, including strings, integer literals and float literals</li>\n",
    "</ul>\n",
    "\n",
    "<h3>Example</h3>\n",
    "<p>Integers:</p>\n",
    "<div class=\"w3-code notranslate pythonHigh\">\n",
    "x = int(1)&nbsp;&nbsp; # x will be 1<br>\n",
    "y = int(2.8) # y will be 2<br>\n",
    "z = int(\"3\") # z will be 3<br>\n",
    "</div>    "
   ]
  },
  {
   "cell_type": "code",
   "execution_count": 6,
   "metadata": {},
   "outputs": [],
   "source": [
    "x = int(1)   # x will be 1\n",
    "y = int(2.8) # y will be 2\n",
    "z = int(\"3\") # z will be 3"
   ]
  },
  {
   "cell_type": "code",
   "execution_count": 7,
   "metadata": {},
   "outputs": [
    {
     "name": "stdout",
     "output_type": "stream",
     "text": [
      "<class 'int'>\n",
      "<class 'int'>\n",
      "<class 'int'>\n",
      "1\n",
      "2\n",
      "3\n"
     ]
    }
   ],
   "source": [
    "print(type(x))\n",
    "print(type(y))\n",
    "print(type(z))\n",
    "print(x)\n",
    "print(y)\n",
    "print(z)"
   ]
  },
  {
   "cell_type": "markdown",
   "metadata": {},
   "source": [
    "<h3>Example</h3>\n",
    "<p>Floats:</p>\n",
    "<div class=\"w3-code notranslate pythonHigh\">\n",
    "x = float(1)&nbsp;&nbsp;&nbsp;&nbsp; # x will be 1.0<br>\n",
    "y = float(2.8)&nbsp;&nbsp; # y will be 2.8<br>\n",
    "z = float(\"3\")&nbsp;&nbsp; # z will be 3.0<br>\n",
    "w = float(\"4.2\") # w will be 4.2<br>\n",
    "</div>\n",
    "\n",
    "\n"
   ]
  },
  {
   "cell_type": "code",
   "execution_count": 1,
   "metadata": {},
   "outputs": [
    {
     "name": "stdout",
     "output_type": "stream",
     "text": [
      "<class 'float'>\n",
      "<class 'float'>\n",
      "<class 'float'>\n",
      "<class 'float'>\n",
      "1.0\n",
      "2.8\n",
      "3.0\n",
      "4.2\n"
     ]
    }
   ],
   "source": [
    "x = float(1)     # x will be 1.0\n",
    "y = float(2.8)   # y will be 2.8\n",
    "z = float(\"3\")   # z will be 3.0\n",
    "w = float(\"4.2\") # w will be 4.2\n",
    "print(type(x))\n",
    "print(type(y))\n",
    "print(type(z))\n",
    "print(type(w))\n",
    "print(x)\n",
    "print(y)\n",
    "print(z)\n",
    "print(w)"
   ]
  },
  {
   "cell_type": "markdown",
   "metadata": {},
   "source": [
    "<h3>Example</h3>\n",
    "<p>Strings:</p>\n",
    "<div class=\"w3-code notranslate pythonHigh\">\n",
    "x = str(\"s1\") # x will be 's1'<br>\n",
    "y = str(2)&nbsp;&nbsp;&nbsp; # y will be '2'<br>\n",
    "z = str(3.0)&nbsp; # z will be '3.0'\n",
    "</div>"
   ]
  },
  {
   "cell_type": "code",
   "execution_count": 3,
   "metadata": {},
   "outputs": [
    {
     "name": "stdout",
     "output_type": "stream",
     "text": [
      "<class 'str'>\n",
      "<class 'str'>\n",
      "<class 'str'>\n",
      "s1\n",
      "2\n",
      "3.000000\n"
     ]
    }
   ],
   "source": [
    "x = str(\"s1\") # x will be 's1'\n",
    "y = str(2)    # y will be '2'\n",
    "z = \"3.000000\"  # z will be '3.0'\n",
    "print(type(x))\n",
    "print(type(y))\n",
    "print(type(z))\n",
    "print(x)\n",
    "print(y)\n",
    "print(z)"
   ]
  },
  {
   "cell_type": "code",
   "execution_count": 2,
   "metadata": {},
   "outputs": [
    {
     "name": "stdout",
     "output_type": "stream",
     "text": [
      "x: 14, y: 8, z: 10\n"
     ]
    }
   ],
   "source": [
    "\n",
    "#Write down the output of the Python script:\n",
    "\n",
    "x = 5\n",
    "y = x + 3\n",
    "x = x - 1\n",
    "z = 10\n",
    "x = x + z\n",
    "print('x: {}, y: {}, z: {}'.format(x, y, z))"
   ]
  },
  {
   "cell_type": "code",
   "execution_count": 3,
   "metadata": {},
   "outputs": [
    {
     "name": "stdout",
     "output_type": "stream",
     "text": [
      "1\n",
      "4\n",
      "100\n"
     ]
    }
   ],
   "source": [
    "def s(x):\n",
    " return x*x \n",
    "for n in [1, 2, 10]: \n",
    " print(s(n))"
   ]
  },
  {
   "cell_type": "code",
   "execution_count": 4,
   "metadata": {},
   "outputs": [
    {
     "name": "stdout",
     "output_type": "stream",
     "text": [
      "32\n"
     ]
    }
   ],
   "source": [
    "def func(x):\n",
    " print(2**x)\n",
    "func(5)"
   ]
  },
  {
   "cell_type": "code",
   "execution_count": 5,
   "metadata": {},
   "outputs": [
    {
     "name": "stdout",
     "output_type": "stream",
     "text": [
      "18\n"
     ]
    }
   ],
   "source": [
    "n = 3 \n",
    "for x in [2, 5, 8]: \n",
    "  n = n + x \n",
    "print(n)"
   ]
  },
  {
   "cell_type": "code",
   "execution_count": 6,
   "metadata": {},
   "outputs": [
    {
     "name": "stdout",
     "output_type": "stream",
     "text": [
      "8\n"
     ]
    }
   ],
   "source": [
    "def func(x):\n",
    "   return x - 1\n",
    "print(func(3) * func(5))"
   ]
  },
  {
   "cell_type": "code",
   "execution_count": 7,
   "metadata": {},
   "outputs": [
    {
     "name": "stdout",
     "output_type": "stream",
     "text": [
      "[0, 1, 2, 3, 4]\n"
     ]
    }
   ],
   "source": [
    "print(list(range(5)))"
   ]
  },
  {
   "cell_type": "code",
   "execution_count": null,
   "metadata": {},
   "outputs": [],
   "source": []
  }
 ],
 "metadata": {
  "kernelspec": {
   "display_name": "Python 3",
   "language": "python",
   "name": "python3"
  },
  "language_info": {
   "codemirror_mode": {
    "name": "ipython",
    "version": 3
   },
   "file_extension": ".py",
   "mimetype": "text/x-python",
   "name": "python",
   "nbconvert_exporter": "python",
   "pygments_lexer": "ipython3",
   "version": "3.8.8"
  }
 },
 "nbformat": 4,
 "nbformat_minor": 2
}
